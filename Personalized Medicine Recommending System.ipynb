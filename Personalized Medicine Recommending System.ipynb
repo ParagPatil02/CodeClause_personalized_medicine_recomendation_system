{
 "cells": [
  {
   "cell_type": "markdown",
   "id": "3598bdfe",
   "metadata": {
    "ExecuteTime": {
     "end_time": "2021-12-15T17:28:19.086858Z",
     "start_time": "2021-12-15T17:28:16.101944Z"
    }
   },
   "source": [
    "# Personalized Medicine Recommending System"
   ]
  },
  {
   "cell_type": "markdown",
   "id": "8852ca08",
   "metadata": {},
   "source": [
    "## Author = Subash Palvel"
   ]
  },
  {
   "cell_type": "markdown",
   "id": "966d28c2",
   "metadata": {},
   "source": [
    "# Importing Necessary Python Libraries"
   ]
  },
  {
   "cell_type": "code",
   "execution_count": 3,
   "id": "f0f59ef6",
   "metadata": {
    "ExecuteTime": {
     "end_time": "2021-12-15T22:19:14.737499Z",
     "start_time": "2021-12-15T22:19:11.355802Z"
    }
   },
   "outputs": [],
   "source": [
    "import pandas as pd\n",
    "import numpy as np\n",
    "import matplotlib.pyplot as plt\n",
    "import re\n",
    "import random\n",
    "\n",
    "from nltk.stem import WordNetLemmatizer\n",
    "from nltk.stem.porter import PorterStemmer\n",
    "\n",
    "# Words to Vectors Library\n",
    "from sklearn.feature_extraction.text import CountVectorizer\n",
    "\n",
    "# Similarity and Distance Metrics Library\n",
    "from sklearn.metrics.pairwise import cosine_similarity\n",
    "from sklearn.metrics import jaccard_score\n",
    "from scipy.stats import pearsonr\n",
    "from scipy.spatial import distance\n",
    "from Levenshtein import distance as levenshtein_distance"
   ]
  },
  {
   "cell_type": "code",
   "execution_count": 4,
   "id": "f53bbc42",
   "metadata": {},
   "outputs": [],
   "source": [
    "import wordnet"
   ]
  },
  {
   "cell_type": "markdown",
   "id": "a05b4f63",
   "metadata": {
    "ExecuteTime": {
     "end_time": "2021-12-15T17:28:36.334559Z",
     "start_time": "2021-12-15T17:28:19.088862Z"
    }
   },
   "source": [
    "# Data Extraction and Exploratory Analysis"
   ]
  },
  {
   "cell_type": "code",
   "execution_count": 5,
   "id": "d9e57ad5",
   "metadata": {
    "ExecuteTime": {
     "end_time": "2021-12-15T22:34:55.456779Z",
     "start_time": "2021-12-15T22:34:35.372593Z"
    }
   },
   "outputs": [],
   "source": [
    "test = pd.read_csv('drugsComTest_raw.csv', na_values=['(NA)']).fillna(0)\n",
    "train = pd.read_csv('drugsComTrain_raw.csv', na_values=['(NA)']).fillna(0)"
   ]
  },
  {
   "cell_type": "code",
   "execution_count": 6,
   "id": "d1349a64",
   "metadata": {
    "ExecuteTime": {
     "end_time": "2021-12-15T22:34:57.686617Z",
     "start_time": "2021-12-15T22:34:57.625143Z"
    }
   },
   "outputs": [
    {
     "data": {
      "text/html": [
       "<div>\n",
       "<style scoped>\n",
       "    .dataframe tbody tr th:only-of-type {\n",
       "        vertical-align: middle;\n",
       "    }\n",
       "\n",
       "    .dataframe tbody tr th {\n",
       "        vertical-align: top;\n",
       "    }\n",
       "\n",
       "    .dataframe thead th {\n",
       "        text-align: right;\n",
       "    }\n",
       "</style>\n",
       "<table border=\"1\" class=\"dataframe\">\n",
       "  <thead>\n",
       "    <tr style=\"text-align: right;\">\n",
       "      <th></th>\n",
       "      <th>uniqueID</th>\n",
       "      <th>drugName</th>\n",
       "      <th>condition</th>\n",
       "      <th>review</th>\n",
       "      <th>rating</th>\n",
       "      <th>date</th>\n",
       "      <th>usefulCount</th>\n",
       "    </tr>\n",
       "  </thead>\n",
       "  <tbody>\n",
       "    <tr>\n",
       "      <th>0</th>\n",
       "      <td>163740</td>\n",
       "      <td>Mirtazapine</td>\n",
       "      <td>Depression</td>\n",
       "      <td>\"I&amp;#039;ve tried a few antidepressants over th...</td>\n",
       "      <td>10</td>\n",
       "      <td>28-Feb-12</td>\n",
       "      <td>22</td>\n",
       "    </tr>\n",
       "    <tr>\n",
       "      <th>1</th>\n",
       "      <td>206473</td>\n",
       "      <td>Mesalamine</td>\n",
       "      <td>Crohn's Disease, Maintenance</td>\n",
       "      <td>\"My son has Crohn&amp;#039;s disease and has done ...</td>\n",
       "      <td>8</td>\n",
       "      <td>17-May-09</td>\n",
       "      <td>17</td>\n",
       "    </tr>\n",
       "    <tr>\n",
       "      <th>2</th>\n",
       "      <td>159672</td>\n",
       "      <td>Bactrim</td>\n",
       "      <td>Urinary Tract Infection</td>\n",
       "      <td>\"Quick reduction of symptoms\"</td>\n",
       "      <td>9</td>\n",
       "      <td>29-Sep-17</td>\n",
       "      <td>3</td>\n",
       "    </tr>\n",
       "    <tr>\n",
       "      <th>3</th>\n",
       "      <td>39293</td>\n",
       "      <td>Contrave</td>\n",
       "      <td>Weight Loss</td>\n",
       "      <td>\"Contrave combines drugs that were used for al...</td>\n",
       "      <td>9</td>\n",
       "      <td>5-Mar-17</td>\n",
       "      <td>35</td>\n",
       "    </tr>\n",
       "    <tr>\n",
       "      <th>4</th>\n",
       "      <td>97768</td>\n",
       "      <td>Cyclafem 1 / 35</td>\n",
       "      <td>Birth Control</td>\n",
       "      <td>\"I have been on this birth control for one cyc...</td>\n",
       "      <td>9</td>\n",
       "      <td>22-Oct-15</td>\n",
       "      <td>4</td>\n",
       "    </tr>\n",
       "  </tbody>\n",
       "</table>\n",
       "</div>"
      ],
      "text/plain": [
       "   uniqueID         drugName                     condition  \\\n",
       "0    163740      Mirtazapine                    Depression   \n",
       "1    206473       Mesalamine  Crohn's Disease, Maintenance   \n",
       "2    159672          Bactrim       Urinary Tract Infection   \n",
       "3     39293         Contrave                   Weight Loss   \n",
       "4     97768  Cyclafem 1 / 35                 Birth Control   \n",
       "\n",
       "                                              review  rating       date  \\\n",
       "0  \"I&#039;ve tried a few antidepressants over th...      10  28-Feb-12   \n",
       "1  \"My son has Crohn&#039;s disease and has done ...       8  17-May-09   \n",
       "2                      \"Quick reduction of symptoms\"       9  29-Sep-17   \n",
       "3  \"Contrave combines drugs that were used for al...       9   5-Mar-17   \n",
       "4  \"I have been on this birth control for one cyc...       9  22-Oct-15   \n",
       "\n",
       "   usefulCount  \n",
       "0           22  \n",
       "1           17  \n",
       "2            3  \n",
       "3           35  \n",
       "4            4  "
      ]
     },
     "execution_count": 6,
     "metadata": {},
     "output_type": "execute_result"
    }
   ],
   "source": [
    "df = pd.concat([test, train], ignore_index=True, sort=False)\n",
    "df.head()"
   ]
  },
  {
   "cell_type": "code",
   "execution_count": 7,
   "id": "db6e8808",
   "metadata": {
    "ExecuteTime": {
     "end_time": "2021-12-15T22:35:13.799013Z",
     "start_time": "2021-12-15T22:35:13.629275Z"
    }
   },
   "outputs": [],
   "source": [
    "# Converting 'Rating' and 'UsefulCount' into float type for generating new column of 'most_reviewed' drugs\n",
    "df['rating'] = pd.to_numeric(df['rating'], errors='coerce')\n",
    "df['usefulCount'] = pd.to_numeric(df['usefulCount'], errors='coerce')\n",
    "df['most_reviewed'] = df['rating'] * df['usefulCount']"
   ]
  },
  {
   "cell_type": "code",
   "execution_count": 8,
   "id": "c1ab747f",
   "metadata": {
    "ExecuteTime": {
     "end_time": "2021-12-15T22:35:16.175593Z",
     "start_time": "2021-12-15T22:35:16.136193Z"
    }
   },
   "outputs": [
    {
     "data": {
      "text/html": [
       "<div>\n",
       "<style scoped>\n",
       "    .dataframe tbody tr th:only-of-type {\n",
       "        vertical-align: middle;\n",
       "    }\n",
       "\n",
       "    .dataframe tbody tr th {\n",
       "        vertical-align: top;\n",
       "    }\n",
       "\n",
       "    .dataframe thead th {\n",
       "        text-align: right;\n",
       "    }\n",
       "</style>\n",
       "<table border=\"1\" class=\"dataframe\">\n",
       "  <thead>\n",
       "    <tr style=\"text-align: right;\">\n",
       "      <th></th>\n",
       "      <th>uniqueID</th>\n",
       "      <th>drugName</th>\n",
       "      <th>condition</th>\n",
       "      <th>review</th>\n",
       "      <th>most_reviewed</th>\n",
       "    </tr>\n",
       "  </thead>\n",
       "  <tbody>\n",
       "    <tr>\n",
       "      <th>0</th>\n",
       "      <td>163740</td>\n",
       "      <td>Mirtazapine</td>\n",
       "      <td>Depression</td>\n",
       "      <td>\"I&amp;#039;ve tried a few antidepressants over th...</td>\n",
       "      <td>220</td>\n",
       "    </tr>\n",
       "    <tr>\n",
       "      <th>1</th>\n",
       "      <td>206473</td>\n",
       "      <td>Mesalamine</td>\n",
       "      <td>Crohn's Disease, Maintenance</td>\n",
       "      <td>\"My son has Crohn&amp;#039;s disease and has done ...</td>\n",
       "      <td>136</td>\n",
       "    </tr>\n",
       "    <tr>\n",
       "      <th>2</th>\n",
       "      <td>159672</td>\n",
       "      <td>Bactrim</td>\n",
       "      <td>Urinary Tract Infection</td>\n",
       "      <td>\"Quick reduction of symptoms\"</td>\n",
       "      <td>27</td>\n",
       "    </tr>\n",
       "    <tr>\n",
       "      <th>3</th>\n",
       "      <td>39293</td>\n",
       "      <td>Contrave</td>\n",
       "      <td>Weight Loss</td>\n",
       "      <td>\"Contrave combines drugs that were used for al...</td>\n",
       "      <td>315</td>\n",
       "    </tr>\n",
       "    <tr>\n",
       "      <th>4</th>\n",
       "      <td>97768</td>\n",
       "      <td>Cyclafem 1 / 35</td>\n",
       "      <td>Birth Control</td>\n",
       "      <td>\"I have been on this birth control for one cyc...</td>\n",
       "      <td>36</td>\n",
       "    </tr>\n",
       "  </tbody>\n",
       "</table>\n",
       "</div>"
      ],
      "text/plain": [
       "   uniqueID         drugName                     condition  \\\n",
       "0    163740      Mirtazapine                    Depression   \n",
       "1    206473       Mesalamine  Crohn's Disease, Maintenance   \n",
       "2    159672          Bactrim       Urinary Tract Infection   \n",
       "3     39293         Contrave                   Weight Loss   \n",
       "4     97768  Cyclafem 1 / 35                 Birth Control   \n",
       "\n",
       "                                              review  most_reviewed  \n",
       "0  \"I&#039;ve tried a few antidepressants over th...            220  \n",
       "1  \"My son has Crohn&#039;s disease and has done ...            136  \n",
       "2                      \"Quick reduction of symptoms\"             27  \n",
       "3  \"Contrave combines drugs that were used for al...            315  \n",
       "4  \"I have been on this birth control for one cyc...             36  "
      ]
     },
     "execution_count": 8,
     "metadata": {},
     "output_type": "execute_result"
    }
   ],
   "source": [
    "df = df[['uniqueID','drugName','condition','review','most_reviewed']]\n",
    "df.head()"
   ]
  },
  {
   "cell_type": "markdown",
   "id": "63f24612",
   "metadata": {
    "ExecuteTime": {
     "end_time": "2021-12-15T17:28:36.663063Z",
     "start_time": "2021-12-15T17:28:36.514291Z"
    }
   },
   "source": [
    "# Plotting the graph for Top 10 Most Reviewed Drugs"
   ]
  },
  {
   "cell_type": "code",
   "execution_count": 9,
   "id": "431d7a2d",
   "metadata": {
    "ExecuteTime": {
     "end_time": "2021-12-15T22:35:20.487570Z",
     "start_time": "2021-12-15T22:35:20.349613Z"
    }
   },
   "outputs": [
    {
     "data": {
      "text/html": [
       "<div>\n",
       "<style scoped>\n",
       "    .dataframe tbody tr th:only-of-type {\n",
       "        vertical-align: middle;\n",
       "    }\n",
       "\n",
       "    .dataframe tbody tr th {\n",
       "        vertical-align: top;\n",
       "    }\n",
       "\n",
       "    .dataframe thead th {\n",
       "        text-align: right;\n",
       "    }\n",
       "</style>\n",
       "<table border=\"1\" class=\"dataframe\">\n",
       "  <thead>\n",
       "    <tr style=\"text-align: right;\">\n",
       "      <th></th>\n",
       "      <th>drugName</th>\n",
       "      <th>most_reviewed</th>\n",
       "    </tr>\n",
       "  </thead>\n",
       "  <tbody>\n",
       "    <tr>\n",
       "      <th>0</th>\n",
       "      <td>Zoloft</td>\n",
       "      <td>12910</td>\n",
       "    </tr>\n",
       "    <tr>\n",
       "      <th>1</th>\n",
       "      <td>Mirena</td>\n",
       "      <td>12470</td>\n",
       "    </tr>\n",
       "    <tr>\n",
       "      <th>2</th>\n",
       "      <td>Phentermine</td>\n",
       "      <td>7960</td>\n",
       "    </tr>\n",
       "    <tr>\n",
       "      <th>3</th>\n",
       "      <td>OxyContin</td>\n",
       "      <td>6255</td>\n",
       "    </tr>\n",
       "    <tr>\n",
       "      <th>4</th>\n",
       "      <td>Citalopram</td>\n",
       "      <td>5544</td>\n",
       "    </tr>\n",
       "    <tr>\n",
       "      <th>5</th>\n",
       "      <td>BuSpar</td>\n",
       "      <td>5265</td>\n",
       "    </tr>\n",
       "    <tr>\n",
       "      <th>6</th>\n",
       "      <td>Clomiphene</td>\n",
       "      <td>4860</td>\n",
       "    </tr>\n",
       "    <tr>\n",
       "      <th>7</th>\n",
       "      <td>Topiramate</td>\n",
       "      <td>4670</td>\n",
       "    </tr>\n",
       "    <tr>\n",
       "      <th>8</th>\n",
       "      <td>Denosumab</td>\n",
       "      <td>4480</td>\n",
       "    </tr>\n",
       "    <tr>\n",
       "      <th>9</th>\n",
       "      <td>Amoxicillin</td>\n",
       "      <td>4080</td>\n",
       "    </tr>\n",
       "  </tbody>\n",
       "</table>\n",
       "</div>"
      ],
      "text/plain": [
       "      drugName  most_reviewed\n",
       "0       Zoloft          12910\n",
       "1       Mirena          12470\n",
       "2  Phentermine           7960\n",
       "3    OxyContin           6255\n",
       "4   Citalopram           5544\n",
       "5       BuSpar           5265\n",
       "6   Clomiphene           4860\n",
       "7   Topiramate           4670\n",
       "8    Denosumab           4480\n",
       "9  Amoxicillin           4080"
      ]
     },
     "execution_count": 9,
     "metadata": {},
     "output_type": "execute_result"
    }
   ],
   "source": [
    "#Sorting Top 10 Drugs in Dataset\n",
    "df = df.sort_values(by='most_reviewed', ascending=False, ignore_index=True)\n",
    "df = df.drop_duplicates(subset = ['condition'], ignore_index=True)\n",
    "df = df.drop_duplicates(subset = ['drugName'], ignore_index=True)\n",
    "df_graph = df[['drugName','most_reviewed']]\n",
    "df_graph = df_graph.head(10)\n",
    "df_graph"
   ]
  },
  {
   "cell_type": "code",
   "execution_count": 10,
   "id": "d61857a7",
   "metadata": {
    "ExecuteTime": {
     "end_time": "2021-12-15T22:35:54.868521Z",
     "start_time": "2021-12-15T22:35:54.084629Z"
    }
   },
   "outputs": [
    {
     "data": {
      "image/png": "[encoded data removed]",
      "text/plain": [
       "<Figure size 432x288 with 1 Axes>"
      ]
     },
     "metadata": {
      "needs_background": "light"
     },
     "output_type": "display_data"
    }
   ],
   "source": [
    "df_graph.plot(kind='barh', x='drugName', y='most_reviewed')\n",
    "plt.show()"
   ]
  },
  {
   "cell_type": "code",
   "execution_count": 11,
   "id": "6e5bcf90",
   "metadata": {
    "ExecuteTime": {
     "end_time": "2021-12-15T22:37:00.421141Z",
     "start_time": "2021-12-15T22:37:00.360724Z"
    }
   },
   "outputs": [
    {
     "data": {
      "text/plain": [
       "array([list(['I', 'remember', 'reading', 'peoples', 'opinions,', 'online,', 'of', 'the', 'drug', 'before', 'I', 'took', 'it', 'and', 'it', 'scared', 'me', 'away', 'from', 'it.', 'Then', 'I', 'finally', 'decided', 'to', 'give', 'it', 'a', 'try', 'and', 'it', 'has', 'been', 'the', 'best', 'choice', 'I', 'have', 'made.', 'I', 'have', 'been', 'on', 'it', 'for', 'over', '4', 'months', 'and', 'I', 'feel', 'great.', 'Im', 'on', '1mg', 'and', 'I', 'dont', 'have', 'any', 'side', 'effects.', 'When', 'I', 'first', 'started', 'I', 'did', 'notice', 'that', 'my', 'hands', 'would', 'tremble', 'but', 'then', 'it', 'subsided.', 'So', 'honestly,', 'dont', 'listen', 'to', 'all', 'the', 'negativity', 'because', 'what', 'doesnt', 'work', 'for', 'some', 'works', 'amazing', 'for', 'others.', 'So', 'go', 'based', 'on', 'youself', 'and', 'not', 'everyone', 'else.', 'It', 'may', 'be', 'a', 'blessing', 'in', 'diguise.', 'The', 'pill', 'is', 'not', 'meant', 'to', 'make', 'you', 'be', 'all', 'happy', 'go', 'lucky', 'and', 'see', 'quotbutterflies', 'and', 'rosesquot,', 'its', 'meant', 'to', 'help', 'put', 'the', 'chemicals', 'in', 'your', 'mind', 'in', 'balance', 'so', 'you', 'can', 'just', 'be', 'who', 'you', 'are', 'and', 'not', 'overly', 'depressed.', 'I', 'still', 'get', 'sad', 'some', 'times,', 'but', 'that', 'is', 'normal,', 'that', 'is', 'life,', 'and', 'its', 'up', 'to', 'people', 'to', 'take', 'control', 'to', 'make', 'a', 'change.', 'I', 'did', 'so', 'by', 'getting', 'on', 'this', 'pill.']),\n",
       "       list(['I', 'have', 'had', 'my', 'IUD', 'for', 'over', 'a', 'year', 'now', 'and', 'I', 'think', 'its', 'the', 'best', 'thing', 'ever.', 'When', 'I', 'first', 'got', 'it', 'put', 'in', 'I', 'only', 'bled', 'for', 'about', 'a', 'week', 'with', 'a', 'little', 'cramping.', 'After', 'that', 'nothing', 'at', 'all.', 'I', 'havent', 'had', 'a', 'period', 'for', 'about', '8months', 'until', 'I', 'finally', 'got', 'one,', 'and', 'its', 'not', 'bad', 'at', 'all.', 'Its', 'light,', 'no', 'cramping,', 'no', 'headache,', 'nothing.', 'I', 'havent', 'gained', 'weight,', 'my', 'acne', 'is', 'gone,', 'and', 'my', 'moods', 'are', 'fine.', 'I', 'know', 'all', 'women', 'are', 'different,', 'but', 'I', 'just', 'hear', 'all', 'these', 'horror', 'stories', 'and', 'I', 'just', 'wanted', 'to', 'tell', 'my', 'story,', 'which', 'is', 'a', 'good', 'one.', 'Hope', 'it', 'calms', 'some', 'of', 'your', 'fears.']),\n",
       "       list(['I', 'have', 'used', 'this', 'pill', 'off', 'and', 'on', 'for', 'the', 'past', 'years.', 'I', 'have', 'to', 'say', 'its', 'the', 'BEST', 'pill', 'for', 'losing', 'weight', 'and', 'the', 'ONLY', 'thing', 'that', 'has', 'ever', 'worked', 'for', 'me.', 'I', 'gain', 'at', 'least', '6-7', 'pounds', 'with', 'each', 'pregnancy,', 'so', 'each', 'time', 'I', 'have', 'a', 'child,', 'I', 'have', 'a', 'MASSIVE', 'amount', 'of', 'weight', 'to', 'lose,', 'and', 'each', 'time', 'I', 'take', 'the', 'pill,', 'I', 'go', 'right', 'back', 'down', 'to', 'my', 'size', '4', 'within', '4-5', 'months', '(', 'no', 'exercise).', 'My', 'tips,', 'after', 'taking', 'it', 'so', 'long', 'are', 'the', 'following:', 'ALWAYS', 'take', 'way', 'before', 'breakfast--take', 'the', 'first', 'thing', 'in', 'the', 'morning,', 'and', 'if', 'you', 'really', 'want', 'to', 'get', 'results,', 'dont', 'eat', 'any', 'carbs', 'for', 'breakfast.', 'NEVER', 'go', 'from', 'taking', 'one', 'a', 'day', 'to', 'stopping,', 'because', 'you', 'WILL', 'gain', 'it', 'back.', 'You', 'must', 'wean', 'yourself', 'off', 'SLOWLY', 'and', 'youll', 'be', 'fine.']),\n",
       "       list(['Ahhhh,', 'the', 'dreaded', 'drug...no', 'matter', 'what', 'you', 'call', 'it,', 'by', 'whatever', 'media-scare', 'tactic', 'out', 'there,', 'what', 'isnt', 'trumpeted', 'are', 'the', 'success', 'stories....why', 'is', 'that?', 'Does', 'something', 'have', 'to', 'be', 'quotNegativequot', 'to', 'garner', 'press?', 'And', 'if', 'so,', 'why', 'is', 'that?', 'My', 'story:', 'Two', 'brain', 'surgeries.', 'Manmouth', 'amounts', 'of', 'pain.', 'I', 'tried', 'everything', '--', 'nothing', 'lasted', 'like', 'this', 'drug.', 'It', 'has', 'allowed', 'me', 'to', 'go', 'back', 'to', 'work,', 'to', 'live', 'my', 'life,', 'to', 'be', 'a', 'father', 'to', 'my', 'children.', 'Screw', 'the', 'strange', 'looks', '@the', 'pharmacy...Im', 'alive!']),\n",
       "       list(['I', 'work', 'for', 'a', 'large', 'Fire', 'Department.', 'I', 'was', 'having', 'a', 'tough', 'time', 'with', 'some', 'bad', 'calls.', 'No', 'sleep,', 'always', 'feeling', 'like', 'Im', 'in', 'trouble,', 'like', 'Im', 'drowning', 'and', 'no', 'one', 'can', 'help', 'me.', 'My', 'doctor', 'put', 'me', 'on', 'Celexa', 'and', 'life', 'came', 'back.', 'I', 'worry', 'about', 'the', 'things', 'I', 'need', 'to', 'be', 'worried', 'about', 'and', 'dont', 'stress', 'about', 'the', 'things', 'that', 'shouldnt', 'stress', 'me.', 'I', 'feel', 'quotnormalquot', 'again.', 'I', 'believe', 'it', 'saved', 'my', 'career.']),\n",
       "       list(['Ive', 'been', 'taking', 'Buspar', 'for', 'two', 'years', 'to', 'control', 'the', 'symptoms', 'of', 'anxiety.', 'Buspar', 'has', 'worked', 'well', 'for', 'me.', 'I', 'had', 'strong', 'physical', 'sensations', 'of', 'anxiety', 'such', 'as', 'a', 'quotknot', 'in', 'my', 'stomachquot', 'and', 'hot', 'flushes', '(cant', 'be', 'menopause', 'because', 'Im', 'a', 'guy).', 'Also', 'Buspar', 'helps', 'me', 'control', 'my', 'thoughts', 'that', 'some', 'terrible', 'event', 'is', 'just', 'around', 'the', 'corner', 'and', 'Ive', 'got', 'to', 'do', 'something', 'to', 'prepare', 'for', 'this', 'unknown', 'event.', 'Ive', 'not', 'had', 'any', 'side', 'effects.']),\n",
       "       list(['I', 'was', 'diagnosed', 'with', 'polycystic', 'ovarian', 'syndrome.', 'Took', 'Clomid,', 'Pregnant', 'first', 'month', 'with', 'TWINS!', 'months', 'later,', 'pregnant', 'again', '(single', 'birth)', 'all', 'on', 'my', 'own...no', 'more', 'Clomid.', 'I', 'had', 'no', 'side', 'effects', 'with', 'Clomid.', 'All', 'are', 'perfectly', 'healthy.', 'Did', 'I', 'mention', 'the', 'twins', 'are', '28', 'now?', 'Yes.', 'For', 'everyone', 'who', 'is', 'taking', 'or', 'thinking', 'of', 'taking', 'the', 'medicine', 'knowing', 'that', 'there', 'are', '28', 'year', 'old', 'perfectly', 'healthy', 'Clomid', 'babies', 'might', 'make', 'you', 'feel', 'more', 'at', 'ease!', 'I', 'know', 'it', 'would', 'have', 'been', 'a', 'relief', 'for', 'me', 'to', 'have', 'heard', 'some', 'positive', 'news', '28', 'years', 'ago', 'while', 'pregnant!']),\n",
       "       list(['I', 'have', 'been', 'on', 'Topamax', 'for', 'a', 'little', 'less', 'than', 'a', 'month', 'and', 'already', 'lost', '16', 'pounds!', 'My', 'doctor', 'gave', 'it', 'to', 'me', 'for', 'the', 'weight', 'loss', 'effects', 'and', 'I', 'have', 'had', 'no', 'adverse', 'side', 'effects', 'that', 'I', 'know', 'of', 'so', 'far.', 'It', 'rates', 'a', '1', 'in', 'my', 'book!']),\n",
       "       list(['Ive', 'been', 'on', 'Prolia', 'for', 'just', 'over', '1', 'year.', 'Just', 'had', 'my', 'rd', 'shot.', 'It', 'is', 'so', 'much', 'easier', 'than', 'taking', 'pills', 'which', 'I', 'did', 'have', 'problems', 'with.', 'I', 'will', 'get', 'another', 'bone', 'scan', 'this', 'fall', 'and', 'will', 'find', 'out', 'how', 'I', 'am', 'doing', 'on', 'Prolia.', 'I', 'love', 'that', 'it', 'is', 'just', 'every', '6', 'months.', 'Pretty', 'much', 'painless', 'shot.', 'No', 'side', 'effects', 'at', 'all.']),\n",
       "       list(['Ive', 'suffered', 'frequent', 'UTIs', 'and', 'am', 'usually', 'prescribed', 'amoxicillin,', 'which', 'for', 'me', 'works', 'amazingly', 'well.', 'If', 'I', 'catch', 'it', 'early', 'I', 'find', 'the', 'ache', 'in', 'my', 'bladder,', 'small', 'amount', 'of', 'blood', 'in', 'the', 'urine', 'and', 'the', 'urgency', 'to', 'pee', 'goes', 'away', 'enough', 'to', 'be', 'comfortable', 'within', '6', 'hours,', 'and', 'I', 'feel', '1%', 'normal', 'again', 'in', '24-48', 'hours.', 'Does', 'the', 'trick', 'each', 'time.']),\n",
       "       list(['My', 'story', 'is', 'similar', 'to', 'those', 'who', 'have', 'posted.', 'I', 'gained', 'A', 'LOT', 'of', 'weight,', 'and', 'had', 'unwanted', 'hair', 'growth', 'due', 'to', 'the', 'polycystic', 'ovarian', 'syndrome.', 'Ive', 'been', 'on', 'metformin', 'for', 'almost', 'weeks', 'and', 'have', 'lost', '1lbs.', 'The', 'day', 'I', 'started', 'the', 'metformin,', 'I', 'also', 'started', 'a', 'low', 'carb', 'diet.', 'Prior', 'to', 'metformin,', 'I', 'couldnt', 'control', 'my', 'craving', 'for', 'salty,', 'carb', 'filled', 'food.', 'For', 'the', 'past', 'two', 'and', 'a', 'half', 'weeks', 'I', 'have', 'been', 'able', 'to', 'finally', 'control', 'the', 'cravings.', 'My', 'energy', 'levels', 'have', 'increased', 'by', '5%.', 'I', 'also', 'waxed', 'the', 'unwanted', 'hair', 'the', 'day', 'I', 'started,', 'and', 'already', 'I', 'have', 'noticed', 'that', 'less', 'is', 'growing', 'back', 'in.', 'I', 'wish', 'I', 'started', 'metformin', 'two', 'years', 'ago', 'because', 'I', 'literally', 'feel', 'like', 'PCOS', 'has', 'taken', 'two', 'years', 'of', 'my', 'life', 'away', 'from', 'me!', 'I', 'hope', 'it', 'works', 'for', 'others', 'as', 'well', 'as', 'it', 'has', 'worked', 'for', 'me.']),\n",
       "       list(['I', 'absolutely', 'love', 'this', 'Medication.', 'After', 'being', 'in', 'a', 'car', 'accident', 'I', 'suffer', 'from', 'permanant', 'back', 'and', 'neck', 'damage.', 'I', 'am', 'also', 'a', 'hair', 'dresser.', 'In', 'order', 'to', 'work', 'I', 'will', 'have', 'to', 'be', 'on', 'Pain', 'killers', 'and', 'muscle', 'relaxers', 'the', 'rest', 'of', 'my', 'life.', 'I', 'started', 'by', 'taking', 'Percocet', 'and', 'grew', 'an', 'allergy', 'to', 'all', 'opiate', 'derivatives.', 'As', 'a', 'result', 'my', 'doctor', 'perscribed', 'me', 'Robaxin.', 'My', 'family', 'has', 'a', 'high', 'tolerance', 'to', 'pain', 'medication', 'so', 'I', 'was', 'afraid', 'that', 'it', 'would', 'not', 'work.', 'I', 'was', 'pleasantly', 'surprised.', 'It', 'worked', 'wonderful', 'and', 'I', 'could', 'still', 'function', 'and', 'focus.', 'An', 'added', 'plus', 'is', 'that', 'there', 'is', 'no', 'possibility', 'of', 'dependancy.', 'I', 'love', 'it.']),\n",
       "       list(['Everyones', 'battle', 'with', 'Hashimotos', 'will', 'be', 'different', 'which', 'will', 'lead', 'to', 'different', 'treatments.', 'In', 'my', 'case,', 'Armour', 'has', 'worked', 'best.', 'About', 'a', 'year', 'ago,', 'I', 'had', 'a', 'sudden', 'increase', 'in', 'weight', 'with', 'no', 'change', 'in', 'diet', 'or', 'exercise.', 'Once', 'I', 'saw', 'this', 'change,', 'I', 'ate', 'healthier', 'than', 'ever', 'before', 'and', 'working', 'out', 'consistently', 'yet', 'my', 'weight', 'went', 'from', '115', 'to', '1', 'in', 'a', 'short', 'period', 'of', 'time.', 'I', 'felt', 'quotpuffyquot', 'and', 'bloated', 'constantly.', 'Finally', 'I', 'was', 'given', 'Synthroid', 'because', 'Hashis', 'runs', 'in', 'my', 'family', 'and', 'I', 'had', 'increase', 'of', 'antibodies.', 'I', 'was', 'on', 'it', 'for', '6', 'weeks', 'and', 'did', 'not', 'see', 'any', 'improvement.', 'I', 'am', 'now', 'on', 'my', '5th', 'week', 'of', 'Armour', 'and', 'the', 'bloating', 'is', 'gone', 'as', 'well', 'as', 'the', 'weight', 'gain.', 'Dont', 'let', 'the', 'doctors', 'tell', 'you', 'how', 'you', 'feel.', 'You', 'must', 'treat', 'the', 'symptoms.', 'I', 'hope', 'this', 'helps', 'someone.']),\n",
       "       list(['I', 'started', 'Robaxin', 'a', 'month', 'ago.', 'I', 'take', '1', 'mg', 'a', 'day', 'and', 'after', 'my', 'next', 'script', 'Im', 'cutting', 'to', '5mg', 'a', 'day,', 'then', 'quitting', 'all', 'together.', 'I', 'was', 'on', 'Loratb', '1s', 'for', 'two', 'years', 'and', 'been', 'clean', 'for', 'almost', 'a', '4', 'days', 'now.', 'I', 'was', 'trying', 'to', 'quit', 'for', 'many', 'many', 'months,', 'but', 'my', 'mind', 'and', 'selfishness', 'just', 'wouldnt', 'allow', 'it.', 'I', 'lost', 'a', 'lot', 'of', 'important', 'things', 'in', 'my', 'life', 'due', 'to', 'opiate', 'addiction', 'for', 'pain,', 'so', 'I', 'recommend', 'you', 'do', 'what', 'I', 'did', 'and', 'just', 'be', 'honest', 'with', 'the', 'people', 'closest', 'to', 'you,', 'ask', 'doctor', 'for', 'help', 'and', 'be', 'honest', 'with', 'him.', 'It', 'is', 'very', 'hard', 'to', 'do', 'and', 'will', 'be', 'very', 'emotional,', 'but', 'it', 'will', 'turn', 'your', 'life', 'around', 'I', 'promise.', 'Go', 'to', 'doctor!']),\n",
       "       list(['It', 'sounds', 'magical', '(even', 'to', 'me)', 'but', 'I', 'can', 'assure', 'you', 'its', 'real', '(in', 'my', 'case,', 'at', 'least):', 'Suboxone', 'cured', 'me', 'of', 'my', 'illegal', 'opiate', 'dependence', 'virtually', 'overnight.', 'One', 'day', 'I', 'was', 'driving', 'into', 'the', 'ghetto', 'to', 'get', 'heroin,', 'the', 'next', 'day,', 'after', 'starting', 'Suboxone', 'therapy,', 'I', 'was', 'on', 'my', 'way', 'to', 'my', 'first', 'NA', 'meeting,', 'withdrawal', 'free,', 'and', 'in', 'three', 'days', 'I', 'got', 'a', 'new', 'job.', 'It', 'literally', 'saved', 'my', 'life...and', 'gave', 'me', 'the', '*freedom*', 'to', 'live', 'the', 'life', 'I', 'wanted', 'to', 'live.']),\n",
       "       list(['Im', 'a', '5', 'year', 'old', 'male', 'and', 'I', 'had', 'no', 'idea', 'that', 'lack', 'of', 'testosterone', 'could', 'have', 'such', 'an', 'effect', 'on', 'the', 'body.', 'While', 'my', 'sex', 'drive', 'was', 'on', 'the', 'low', 'side,', 'that', 'was', 'not', 'the', 'major', 'problem.', 'I', 'had', 'been', 'put', 'on', 'various', 'antidepressants', 'over', 'many', 'years.', 'However,', 'my', 'low', 'testosterone', 'level', 'was', 'the', 'real', 'culprit.', 'I', 'would', 'advise', 'all', 'men', 'who', 'have', 'depression', 'issues', 'to', 'have', 'their', 'testosterone', 'levels', 'checked.']),\n",
       "       list(['During', 'school', 'I', 'struggled', 'with', 'learning,', 'despite', 'hard', 'work', 'I', 'barely', 'graduated.', 'By', 'the', 'time', 'I', 'reached', 'High', 'School', 'I', 'wanted', 'to', 'give', 'up.', 'As', 'an', 'adult', 'I', 'experienced', 'the', 'same', 'difficulties', 'in', 'employment.', 'I', 'became', 'depressed,', 'almost', 'gave', 'up.', 'Fortunately', 'I', 'was', 'tested', 'for', 'ADD.', 'Diagnosis', 'revealed', 'severe', 'ADD.', 'Within', 'an', 'hour', 'of', 'taking', 'first', 'dosage,', 'my', 'brain', 'seemed', 'to', 'turn', 'on', 'and', 'function', 'at', 'its', 'optimum', 'potential.', 'I', 'felt', 'truly', 'alert,', 'focused', 'and', 'clear', 'headed.', 'I', 'found', 'I', 'could', 'complete', 'tasks', 'competently.', 'With', 'out', 'Adderall', 'Im', 'useless.', 'Adderall', 'has', 'improved', 'my', 'focus', 'ability', 'and', 'competency', 'in', 'every', 'aspect', 'of', 'life.', 'Its', 'a', 'battery', 'for', 'my', 'brain.', 'I', 'am', 'dependent', 'on', 'Adderall', 'for', 'full', 'functioning', 'capacity.', 'My', 'well', 'being', 'and', 'livelihood', 'is', 'compromised', 'with', 'out', 'this', 'medicine.']),\n",
       "       list(['The', 'best', 'way', 'to', 'describe', 'how', 'well', 'Lyrica', 'works', 'for', 'me', 'is', 'to', 'say,', 'quotIm', 'young', 'again!', 'Im', 'a', '5', 'yr', 'old', 'who', 'has', 'suffered', 'with', 'fibromyalgia', 'for', 'many', 'years.', 'Every', 'morning', 'on', 'waking', 'I', 'would', 'just', 'lay', 'in', 'bed', 'dreading', 'the', 'pain', 'and', 'discomfort', 'of', 'something', 'as', 'simple', 'as', 'getting', 'up', 'and', 'out', 'of', 'bed.', 'I', 'was', 'prescribed', 'Cymbalta,', 'Celebrex', 'and', 'Tramadol', 'which', 'help', 'but', 'nothing', 'works', 'as', 'well', 'as', 'Lyrica.', 'I', 'am', 'able', 'to', 'get', 'more', 'done', 'now', 'without', 'slowing', 'down.', 'Like', 'I', 'said', 'before,', 'I', 'feel', 'years', 'younger.', 'I', 'have', 'read', 'that', 'Lyrica', 'poses', 'an', 'abuse', 'warning,', 'but', 'what', 'I', 'experience', 'isnt', 'really', 'euphoria', '(High)', 'as', 'one', 'might', 'experience', 'with', 'opiates.', 'I', 'experience', 'relief', 'of', 'pain', 'and', 'maybe', 'quotlight', 'on', 'my', 'feetquot', 'and', 'actually', 'stronger', 'muscles', '%u214', 'but', 'not', 'the', 'euphoria', 'of', 'opiates.']),\n",
       "       list(['Im', 'bipolar', 'with', 'severe', 'depression', 'amp', 'anxiety', 'attacks.', 'Ive', 'been', 'on', 'Lamictal', 'for', '2', 'yrs.', 'Since', 'then', 'my', 'anxiety', 'attacks', 'have', 'almost', 'stopped.', 'I', 'do', 'not', 'have', 'the', 'rages', 'of', 'anger', 'like', 'I', 'used', 'to.', 'Lamictal', 'has', 'hugely', 'made', 'my', 'life', 'better.']),\n",
       "       list(['I', 'was', 'just', 'put', 'on', '5', 'mg', 'of', 'amitriptyline', 'for', 'extreme', 'insomnia,', 'anxiety,', 'and', 'depression.', 'I', 'have', 'suffered', 'from', 'insomnia', 'my', 'entire', 'life', 'and', 'my', 'job', 'is', 'very', 'stressful', 'as', 'a', 'nurse', 'working', 'rotating', 'shift', 'at', 'a', 'hospital.', 'I', 'would', 'stay', 'up', 'for', 'days', 'at', 'a', 'time', 'while', 'working', 'crazy', '12', 'hour', 'back', 'to', 'back', 'shifts.', 'I', 'was', 'at', 'my', 'wits', 'end,', 'so', 'exhausted,', 'delirious,', 'and', 'beyond', 'stressed.', 'I', 'have', 'tried', 'so', 'many', 'different', 'medicines', 'to', 'help', 'with', 'sleep', 'and', 'anxiety.', 'None', 'have', 'even', 'come', 'anywhere', 'as', 'close', 'as', 'Amitriptyline', 'has,', 'to', 'giving', 'me', 'good', 'sleep.', 'I', 'had', 'lost', 'hope', 'that', 'I', 'would', 'ever', 'be', 'able', 'to', 'sleep', 'good', 'again.', 'Amitriptyline', 'has', 'SAVED', 'me.', 'I', 'can', 'fall', 'asleep', 'easily,', 'I', 'dont', 'wake', 'up', 'every', 'hour,', 'and', 'I', 'sleep', 'like', 'a', 'BABY!', 'I', 'can', 'now', 'function', 'at', 'work', 'again.', 'This', 'medicine', 'saved', 'me.']),\n",
       "       list(['My', 'doctor', 'and', 'I', 'tried', 'every', 'T4', 'medication', 'out', 'there,', 'and', 'although', 'I', 'felt', 'better', 'I', 'still', 'wasnt', 'right.', 'After', '2', 'years', 'he', 'switched', 'me', 'to', 'Cytomel', 'and', 'I', 'immediately', 'knew', 'I', 'had', 'found', 'the', 'solution.', 'All', 'the', 'hypo', 'symptoms', 'disappeared', '-', 'constipation,', 'depression,', 'weight', 'gain', 'and', 'exhaustion.', 'My', 'cholesterol', 'dropped', 'to', '14...', 'in', 'fact,', 'all', 'my', 'blood', 'work', 'is', 'excellent.', 'Its', 'very', 'discouraging', 'to', 'know', 'youre', 'doing', 'everything', 'right', '-', 'diet,', 'exercise,', 'sleep', '-', 'and', 'not', 'only', 'do', 'your', 'lab', 'numbers', 'not', 'respond,', 'but', 'doctors', 'tend', 'to', 'think', 'youre', 'not', 'telling', 'them', 'the', 'truth.', 'Finally', 'found', 'a', 'doctor', 'that', 'believed', 'me', 'finally', 'found', 'the', 'right', 'medication.', 'Life', 'is', 'good!']),\n",
       "       list(['Im', '71', 'years', 'old.', 'The', 'tearing', 'and', 'associated', 'pain', 'started', 'a', 'few', 'months', 'ago.', 'Just', 'hoped', 'it', 'would', 'go', 'away', 'but', 'it', 'did', 'not.', 'I', 'would', 'not', 'let', 'my', 'husband', 'touch', 'me.', 'Spoke', 'with', '2', 'doctors', 'I', 'know', 'and', 'they', 'said', 'its', 'normal', 'but', 'Estrace', 'would', 'help.', 'It', 'did.', 'My', 'prescription', 'is', 'dated', '/7/21.', 'Within', '1', 'days', 'the', 'tearing', 'stopped', 'and', 'all', 'was', 'healed.', 'Use', '1', 'gram', 'X', 'a', 'week.', 'Nothing', 'bad', 'has', 'happened.', 'My', 'libido', 'near', 'immediately', 'was', 'through', 'the', 'roof.', 'I', 'am', 'amazed', 'and', 'nobody', 'needs', 'to', 'try', 'and', 'take', 'this', 'medicine', 'away', 'from', 'me!', 'Im', 'loving', 'it', 'and', 'my', 'husband', 'is', 'happy', 'too.', 'Yes,', 'my', 'age', 'up', 'there', 'is', 'right.']),\n",
       "       list(['Effexor', 'has', 'changed', 'my', 'life.', 'I', 'have', 'always', 'had', 'bad', 'anxiety', 'but', 'it', 'got', 'out', 'of', 'control', 'after', 'a', 'traumatic', 'event', 'years', 'ago.', 'Finally', 'decided', 'I', 'needed', 'some', 'help', 'and', 'was', 'prescribed', 'Effexor.', 'I', 'doubted', 'it', 'would', 'help', '-', 'I', 'tried', 'Lexapro', 'a', 'few', 'years', 'before', 'and', 'had', 'awful', 'panic', 'attacks.', 'I', 'am', 'so', 'glad', 'I', 'was', 'wrong', 'and', 'gave', 'Effexor', 'a', 'chance!', 'My', 'anxiety', 'has', 'greatly', 'decreased', 'and', 'Im', 'now', 'able', 'to', 'function', 'and', 'think', 'about', 'things', 'other', 'than', 'worries.', 'I', 'had', 'some', 'unexpected', 'benefits', 'too', 'including', 'reduced', 'social', 'anxiety,', 'Im', 'more', 'motivated,', 'increased', 'confidence,', 'and', 'a', 'general', 'feeling', 'of', 'happiness', 'and', 'well-being.', 'No', 'real', 'negative', 'side', 'effects', '-', 'I', 'have', 'lost', 'about', '15', 'pounds', 'and', 'I', 'was', 'a', 'normal', 'weight.', 'I', 'feel', 'like', 'this', 'is', 'how', 'I', 'should', 'have', 'been', 'feeling', 'all', 'my', 'life.']),\n",
       "       list(['An', 'excellent', 'drug.', 'Brought', 'back', 'performance', 'of', 'year', 'old.', 'At', 'lower', 'doses', 'the', 'effect', 'can', 'vary.', 'Suggest', '2', 'mg', 'about', 'two', 'hours', 'before', 'sex,', 'but', 'will', 'work', 'well', 'for', 'long', 'duration', 'after', 'that.', 'Drink', 'one', 'to', 'two', 'glasses', 'of', 'water', 'when', 'taking', 'to', 'improve', 'absorption.', 'Exercise,', 'relax', 'and', 'enjoy.']),\n",
       "       list(['After', 'decades', 'on', 'Levothyroxine', 'I', 'was', 'starting', 'to', 'feel', 'really', 'unwell:', 'tiredness,', 'memory', 'lapses,', 'hot', 'flashes,', 'inability', 'to', 'cope', 'with', 'hot', 'weather,', 'sleeping', 'badly,', 'verbal', 'diarrhea,', 'impulsive', 'behavior,', 'mental', 'fog', 'and', 'constant', 'pressure', 'which', 'made', 'me', 'want', 'to', 'jump', 'out', 'of', 'my', 'skin.', 'Got', 'very', 'isolated', 'and', 'depressed,', 'lost', 'all', 'creativity', 'and', 'felt', 'I', 'was', 'barely', 'existing.', 'The', 'changeover', 'was', 'very', 'smooth', 'and', 'problem', 'free.', 'Two', 'days', 'after', 'I', 'started', 'my', 'eyesight', 'seemed', 'to', 'improve', 'drastically,', 'as', 'though', 'a', 'dirty', 'filter', 'had', 'been', 'removed.', 'On', 'day', '5', 'I', 'felt', 'totally', 'at', 'peace.', 'Mentally,', 'physically', 'and', 'emotionally', 'it', 'was', 'like', 'going', 'from', 'monochrome', 'to', 'full', 'spectrum', 'HD.', 'Lots', 'of', 'energy,', 'no', 'hot', 'flashes', 'or', 'mental', 'fog,', 'sleeping', 'well.', 'Ive', 'got', 'my', 'life', 'back!']),\n",
       "       list(['I', 'have', 'been', 'on', 'Losartan', 'with', 'Atenolol', 'for', '6', '1/2', 'years', 'after', 'triple', 'bypass', 'surgery.', 'With', 'proper', 'eating', 'and', 'exercise,', 'the', 'results', 'have', 'been', 'very', 'good.', 'My', 'blood', 'pressure', 'is', 'well', 'maintained', 'in', 'the', '12/1', 'over', '64/76', 'range.', 'I', 'am', '6', 'years', 'old', 'and', 'find', 'that', 'low', 'sodium', 'diet', 'and', 'limited', 'meats,', 'along', 'with', 'walking', 'exercise', 'is', 'an', 'excellent', 'combination.', 'GET', 'THE', 'WEIGHT', 'OFF', 'AND', 'START', 'WALKING', 'to', '4', 'minutes', 'and', 'cut', 'the', 'TV', 'off!']),\n",
       "       list(['I', 'had', 'abnormal', 'uterine', 'bleeding', 'and', 'I', 'didnt', 'know', 'why.', 'I', 'started', 'passing', 'clots', 'amp', 'was', 'bleeding', 'irregularly.', 'I', 'thought,', 'at', 'first,', 'that', 'I', 'was', 'having', 'a', 'miscarriage.', 'I', 'went', 'to', 'my', 'GYN.', 'She', 'prescribed', 'Provera', '1mg', 'once', 'a', 'day', 'for', '1', 'days.', 'I', 'just', 'finished', 'my', 'prescription', 'amp', 'the', 'only', 'problem', 'that', 'Im', 'having', 'now', 'is', 'sensitive', 'breast.', 'Other', 'than', 'that,', 'my', 'bleeding', 'has', 'completely', 'stopped.']),\n",
       "       list(['Have', 'been', 'on', 'Votrient', 'now', 'for', 'over', 'three', 'years', 'and', 'am', 'in', 'remission.', 'Side', 'effects', 'have', 'included', 'hand', 'and', 'foot', 'pain', '(very', 'slight', 'now)', 'and', 'have', 'experienced', 'weight', 'loss', '(from', '18', 'lbs', 'to', 'around', '1', 'lbs)', 'over', 'the', 'last', 'three', 'years.', 'As', 'of', 'this', 'year,', 'there', 'have', 'been', 'no', 'signs', 'of', 'liver', 'problems', 'but', 'have', 'had', 'minor', 'digestion', 'issues.', 'It', 'appears', 'that', 'Votrient', 'has', 'been', 'successful', '-unlike', 'my', 'experience', 'with', 'Sutent,', 'Avastin,', 'Xeloda', 'and', 'Affinitor.', 'I', 'had', 'been', 'diagnosed', 'with', 'stage', 'IV', 'renal', 'cell', 'carcinoma-sarcomatoid', 'in', '28,', 'and', 'had', 'the', 'left', 'kidney', 'removed', '(and', 'spleen', 'due', 'to', 'a', 'fall', 'in', 'the', 'hospital).', 'I', 'have', 'been', 'on', 'Votrient', 'now', 'for', 'the', 'better', 'of', 'three', 'years,', 'am', 'still', 'employed', 'and', 'fully', 'functional.']),\n",
       "       list(['Mom', 'was', 'diagnosed', 'with', 'lung', 'cancer', 'in', '2', 'and', 'went', 'through', 'treatment.', 'In', '24', 'developed', 'metastatic', 'bone', 'cancer', 'in', 'her', 'back', 'which', 'was', 'non', 'treatable', 'by', 'chemo', 'or', 'radiation.', 'Her', 'doctor', 'put', 'her', 'on', 'Tarceva', 'in', '25', 'and', 'did', 'a', 'PET', 'scan', 'base', 'line.', 'We', 'repeated', 'the', 'PET', 'scan', 'in', 'Jan', '2', 'and', 'her', 'cancer', 'has', 'not', 'progressed', 'AT', 'ALL!', 'There', 'are', 'even', 'a', 'couple', 'spots', 'in', 'her', 'back', 'that', 'showed', 'cancer', 'in', '25', 'that', 'did', 'not', 'appear', 'in', 'her', '2', 'PET', 'scan.', 'Mom', 'has', 'had', 'no', 'side', 'effects', 'from', 'this', 'medication.', 'The', 'doctors', 'in', '25', 'thought', 'Mom', 'would', 'only', 'live', '6', 'months,', 'I', 'am', 'extreamly', 'pleased', 'to', 'have', 'her', 'for', '4', 'years', 'and', 'still', 'counting.']),\n",
       "       list(['I', 'bought', 'a', 'month', 'supply', 'and', 'used', 'it', 'as', 'directed.', 'I', 'got', 'a', 'buzz', 'cut', 'before', 'I', 'started', 'applying', 'Rogaine', 'so', 'all', 'my', 'new', 'hair', 'could', 'grow', 'with', 'the', 'old', 'hair.', 'After', '6', 'months,', 'my', 'hair', 'was', 'fuller,', 'thicker,', 'and', 'my', 'bald', 'spot', 'was', 'filled', 'in', 'with', 'my', 'own,', 'NEW', 'hair.', 'I', 'felt', 'like', 'a', 'new', 'man.', 'Then,', 'I', 'stopped', 'using', 'Rogaine,', '(because', 'I', 'had', 'new', 'hair', 'growth', 'amp', 'was', 'satisfied),', 'and', 'within', 'a', 'few', 'months,', 'all', 'my', 'NEW', 'hair', '(and', 'then', 'some)', 'fell', 'out', 'in', 'the', 'shower,', 'combing', 'amp', 'brushing', 'my', 'hair,', 'and', 'regular', 'daily', 'activities.', 'Now,', 'Ive', 'decided', 'to', 'lose', 'my', 'hair', 'with', 'grace.', 'Rogaine', 'WORKS,', 'but', 'DONT', 'STOP', 'USING', 'IT', 'OR', 'YOUR', 'HAIR', 'WILL', 'FALL', 'OUT!!']),\n",
       "       list(['At', 'first', 'I', 'was', 'really', 'apprehensive', 'about', 'taking', 'Methotrexate', '(7.5mg', 'a', 'week),', 'but', 'it', 'seems', 'to', 'be', 'working', 'well.', 'Ive', 'been', 'taking', 'it', 'since', 'November', '28.', 'My', 'side', 'effects', 'are', 'minimal.', 'Once', 'a', 'week', 'I', 'get', 'nausea,', 'which', 'usually', 'occurs', 'the', 'day', 'after', 'I', 'take', 'my', 'weekly', 'dose.', 'My', 'tests', 'results', 'have', 'come', 'back', 'normal', 'too.', 'I', 'm', 'not', 'a', 'medicine', 'taker', 'and', 'the', 'idea', 'of', 'taking', 'such', 'a', 'strong', 'medication', 'still', 'scares', 'me,', 'but', 'I', 'will', 'continue', 'with', 'my', 'weekly', 'dosage', 'because', 'it', 'helps', 'with', 'my', 'rheumatoid', 'arthritis', 'a', 'lot.', 'One', 'thing', 'Im', 'consistent', 'with', 'is', 'taking', 'my', 'Folic', 'Acid', 'since', 'it', 'helps', 'prevent', 'my', 'side', 'effects.', 'I', 'dont', 'even', 'get', 'the', 'very', 'common', 'mouth', 'sores.']),\n",
       "       list(['I', 'missed', 'two', 'doses', 'of', 'Xarelto', 'and', 'had', 'a', 'Mini', 'stroke', 'which', 'doctors', 'say', 'came', 'as', 'a', 'result', 'of', 'the', 'missed', 'doses.', 'You', 'must', 'take', 'this', 'medicine', 'every', 'day.', 'It', 'does', 'not', 'build', 'up', 'in', 'your', 'system', 'over', 'time.']),\n",
       "       list(['I', 'found', 'that', 'Buspar', 'helped', 'quite', 'a', 'bit', 'in', 'allowing', 'me', 'to', 'orgasm.', 'It', 'was', 'also', 'quite', 'useful', 'in', 'partially', 'abating', 'teeth', 'grinding,', 'which', 'I', 'get', 'in', 'relation', 'to', 'SSRIs.']),\n",
       "       list(['I', 'have', 'taken', 'spironolactone', 'for', 'almost', 'years', 'now', 'and', 'have', 'been', 'extremely', 'pleased', 'with', 'its', 'effect', 'on', 'my', 'hirsutism.', 'I', 'used', 'to', 'bleach', 'my', 'facial', 'hair', 'regularly', 'and', 'had', 'dark', 'hair', 'on', 'my', 'arms.', 'Now', 'the', 'fine', 'hair', 'on', 'my', 'face', 'is', 'blonde', 'and', 'hardly', 'noticable', 'and', 'the', 'arm', 'hair', 'is', 'very', 'light', 'and', 'thinner.']),\n",
       "       list(['I', 'take', 'mg', 'of', 'time', 'released', 'effexor,', 'a', 'day', 'and', 'it', 'has', 'changed', 'my', 'life', '1%', 'It', 'has', 'helped', 'me', 'to', 'not', 'worry', 'about', 'rejection', 'if', 'things', 'dont', 'go', 'right', 'and', 'to', 'give', 'a', 'speach', 'in', 'front', 'of', 'a', 'audiance', 'had', 'always', 'been', 'frightning', 'as', 'well', 'as', 'any', 'crowds', 'with', 'others.', 'Or', 'being', 'preccupied', 'with', 'possible', 'rejection', 'every', 'minute.', 'I', 'did', 'not', 'relize', 'how', 'much', 'joy', 'of', 'life', 'i', 'was', 'misssing,']),\n",
       "       list(['Ive', 'been', 'taking', 'Femara', 'since', 'the', 'breast', 'cancer', 'was', 'discovered', 'in', 'my', 'lung', '-', 'that', 'has', 'been', '1', 'years', 'this', 'year.', 'Two', 'types', 'of', 'chemo', 'failed', 'to', 'knock', 'it', 'out', 'and', 'as', 'I', 'was', 'preparing', 'for', 'radiation,', 'I', 'started', 'taking', 'Femara.', 'Within', 'a', 'month', 'the', 'tumor', 'began', 'to', 'shrink', 'and', 'all', 'that', 'is', 'left', 'is', 'scarring', 'where', 'it', 'once', 'was.', 'I', 'am', 'so', 'grateful', 'to', 'my', 'doctor', 'for', 'recommending', 'it', 'to', 'me.', 'My', 'other', 'oncologist', 'didnt', 'even', 'mention', 'it.', 'Needless', 'to', 'say', 'Im', 'happy', 'to', 'be', 'alive', 'and', 'enjoying', 'life.']),\n",
       "       list(['My', 'mind', 'is', 'going', '1,', 'mph', 'all', 'the', 'time', '-', 'especially', 'when', 'I', 'try', 'to', 'sleep.', 'My', 'doctor', 'prescribed', '5', 'mg', 'pills', 'and', 'told', 'me', 'to', 'split', 'the', 'tablet', 'in', 'half', 'and', 'take', 'at', 'night', 'before', 'I', 'go', 'to', 'bed.', 'WOW!', 'What', 'a', 'great', 'relief!', 'I', 'CAN', 'SLEEP', 'without', 'the', 'side', 'effects', 'of', 'Ambien!(I', 'took', 'Ambien', 'for', 'a', 'short', 'time', 'and', 'never', 'remembered', 'the', 'things', 'I', 'did!).', 'I', 'recommend', 'this', 'to', 'anyone', 'who', 'wants', 'to', 'get', 'a', 'good', 'nights', 'sleep', 'and', 'not', 'feel', 'drowsy', 'when', 'you', 'wake', 'up.', 'Instead', 'of', 'only', 'getting', 'a', 'couple', 'of', 'hours', 'of', 'sleep', 'a', 'night,', 'I', 'can', 'usually', 'get', '6-7', 'now!']),\n",
       "       list(['So', 'you', 'find', 'out', 'you', 'have', 'herpes,', 'now', 'what?', 'Ive', 'read', 'so', 'many', 'stories', 'on', 'blogs', 'and', 'different', 'websites', 'about', 'how', 'people', 'disclose', 'the', 'topic', 'to', 'potential', 'partners', 'and', 'their', 'fears.', 'Heres', 'the', 'deal', 'guys,', 'if', 'you', 'use', 'Valtrex', 'and', 'a', 'condom,', 'the', 'chance', 'of', 'you', 'giving', 'the', 'infection', 'to', 'the', 'other', 'person', 'is', 'less', 'than', '2%', '(assuming', 'you', 'arent', 'having', 'an', 'active', 'outbreak).', 'If', 'a', 'girl/guy', 'has', 'an', 'issue', 'with', 'the', 'fact', 'and', 'cant', 'see', 'you', 'anymore', 'because', 'of', 'it', 'than', 'good!', 'Its', 'better', 'you', 'find', 'out', 'they', 'werent', 'that', 'into', 'you', 'this', 'way', 'than', '6', 'months', 'and', 'countless', 'dates', 'later.', 'A', 'cure', 'is', 'right', 'around', 'the', 'corner', 'if', 'you', 'follow', 'the', 'updates', 'in', 'the', 'medical', 'community', 'so', 'hang', 'tough', 'and', 'forget', 'the', 'stigma!']),\n",
       "       list(['I', 'was', 'constipated', 'for', '1', 'days', '-', 'had', 'tried', 'everything', '-', 'laxitive,', 'enema,', 'suppository', 'and', 'colon', 'cleanser', 'but', 'nothing', 'worked.', 'After', 'using', 'this', 'in', '4', 'hours', 'I', 'had', 'some', 'relief.']),\n",
       "       list(['I', 'spent', 'nearly', 'a', 'decade', 'of', 'my', 'life', 'in', 'and', 'out', 'of', 'rehabs', 'and', 'programs,', 'losing', 'jobs,', 'ending', 'up', 'in', 'hospitals,', 'basically', 'not', 'being', 'able', 'to', 'take', 'care', 'of', 'myself', 'and', 'taking', 'anyone', 'who', 'cared', 'about', 'me', 'down', 'with', 'me.', 'I', 'was', 'usually', 'sober', 'but', 'when', 'I', 'relapsed', 'I', 'would', 'do', 'so', 'much', 'damage', 'in', 'such', 'a', 'short', 'amount', 'of', 'time', 'it', 'really', 'didnt', 'matter.', 'I', 'was', 'recommended', 'Naltexone.', 'Ive', 'been', 'sober', 'for', 'almost', '2', 'years', 'now.', 'Allows', 'your', 'mind', 'to', 'think', 'rationally', 'as', 'far', 'as', 'alcohol', 'and', 'drugs', 'are', 'concerned.']),\n",
       "       list(['Mobic', '-', 'the', 'miracle', 'pill.', 'I', 'have', 'had', 'chronic', 'pain', 'in', 'my', 'right', 'knee', 'for', 'the', 'last', '6', 'months', 'or', 'so,', 'it', 'was', 'getting', 'worse', 'by', 'the', 'day.', 'I', 'have', 'now', 'been', 'taking', 'Mobic', '15mg', 'for', 'two', 'days', 'and', 'I', 'have', 'no', 'pain', 'at', 'all.', 'I', 'have', 'read', 'that', 'there', 'can', 'be', 'some', 'nasty', 'side', 'effects,', 'but', 'at', 'the', 'moment', 'I', 'really', 'dont', 'care.', 'I', 'can', 'walk', 'pain', 'free', 'again.']),\n",
       "       list(['For', 'eight', 'years', 'now,', 'Ive', 'been', 'on', '4-aminopyridine', 'ER,', 'the', 'chemical', 'name', 'for', 'dalfampridine,', 'and', 'am', 'now', 'on', 'Ampyra.', 'I', 'was', 'able', 'to', 'obtain', '4-AP', 'from', 'a', 'compounding', 'pharmacy', 'by', 'prescription.', 'I', 'have', 'been', 'astounded', 'by', 'the', 'change', 'this', 'chemical', 'has', 'made', 'in', 'me,', 'and,', 'through', 'physical', 'therapy', 'and', 'exercise,', 'by', 'what', 'I', 'have', 'been', 'able', 'to', 'gain', 'because', 'of', 'it.', 'The', 'primary', 'improvement', 'for', 'me', 'has', 'been', 'leg', 'strength,', 'but', 'Ive', 'also', 'noticed', 'some', 'improvement', 'in', 'breathing,', 'eyesight,', 'balance', 'and', 'cognition,', 'though', 'I', 'find', 'no', 'documentation', 'to', 'support', 'my', 'observations', 'on', 'these', 'latter', 'four.', 'When', 'I', 'go', 'off', 'of', 'the', 'drug,', 'these', 'improvements', 'vanish', 'until', 'I', 'start', 'up', 'again.', 'Ive', 'gone', 'from', 'power', 'chair', 'to', 'forearm', 'crutches', 'to', 'hiking', 'again!', 'Wow!!']),\n",
       "       list(['Ive', 'been', 'using', 'Retin-A', 'for', 'two', 'months.', 'I', 'was', 'concerned', 'about', 'some', 'mild', 'signs', 'of', 'photoaging', 'of', 'the', 'skin', '(surface', 'wrinkles,', 'uneven', 'texture),', 'blackheads', 'on', 'my', 'nose', 'and', 'enlarged', 'pores.', 'Retin-A', 'has', 'done', 'wonders', 'for', 'my', 'skin:', 'its', 'texture', 'is', 'more', 'even', 'and', 'although', 'the', 'blackheads', 'and', 'enlarged', 'pores', 'arent', 'completely', 'gone,', 'theyve', 'improved', 'considerably.', 'If', 'you', 'have', 'these', 'concerns,', 'I', 'definitely', 'recommend', 'using', 'this', 'product', '-', 'but', 'you', 'have', 'to', 'be', 'patient.']),\n",
       "       list(['After', 'a', 'lumpectomy', 'for', 'stage', '1', 'Breast', 'Cancer,', 'I', 'was', 'prescribed', 'two', 'other', 'aromatase', 'inhibitors', 'prior', 'to', 'Femara.', 'I', 'had', 'occasional', 'head', 'pain', 'in', 'one', 'spot', 'from', 'all', 'of', 'them.', 'I', 'also', 'had', 'trigger', 'finger', 'and', 'terrible', 'knee', 'pain', 'from', 'Arimidex.', 'My', 'doctor', 'then', 'put', 'me', 'on', 'brand', 'name', 'Femara', 'and', 'the', 'joint', 'pain,', 'head', 'pain,', 'and', 'trigger', 'finger', 'all', 'went', 'away.', 'What', 'is', 'bothering', 'me', 'now', 'is', 'the', 'hair', 'loss', '(can', 'see', 'my', 'scalp!),', 'memory', 'loss--constantly', 'groping', 'for', 'words.', 'Sometimes', 'I', 'do', 'feel', 'like', 'Im', 'quotfoggyquot', 'but', 'mostly', 'I', 'just', 'cant', 'remember', 'words.', 'I', 'feel', 'it', 'is', 'getting', 'worse', 'as', 'time', 'goes', 'on', 'and', 'I', 'do', 'not', 'understand', 'why', 'others', 'report', 'the', 'same', 'but', 'there', 'is', 'no', 'mention', 'of', 'this', 'in', 'the', 'patient', 'information', 'leaflet.']),\n",
       "       list(['Had', 'a', 'nasty', 'sinus', 'infection', '-', 'my', 'entire', 'head', 'seemed', 'locked', 'in', 'a', 'vacuum-grip', 'of', 'pressure,', 'snot,', 'and', 'general', 'awfulness.', 'I', 'felt', 'dizzy,', 'exhausted,', 'irritated,', 'and', 'I', 'think', 'it', 'even', 'began', 'to', 'affect', 'my', 'thinking.', 'I', 'thought', 'it', 'was', 'just', 'a', 'common', 'cold', 'but', 'nope,', 'the', 'real', 'deal.', 'Augmentin', '875,', '2x/day', 'for', '1', 'days', 'seems', 'to', 'have', 'cleared', 'it', 'out,', 'mostly.', 'BUT', 'HERES', 'THE', 'KEY,', 'FOLKS', '--gt', 'Take', 'a', 'good', 'probiotic', 'every', 'morning,', 'about', 'or', '4', 'hours', 'before', 'you', 'take', 'the', 'first', 'dose', 'of', 'Augmentin.', 'Then,', 'when', 'its', 'time', 'to', 'take', 'your', 'Augmentin,', 'take', 'it', 'with', 'a', 'LOT', 'of', 'food,', 'and', 'take', 'it', 'after', 'the', 'first', 'or', 'second', 'bite', 'of', 'your', 'meal.', 'Youll', 'get', 'through', 'it,', 'and', 'may', 'it', 'heal', 'you', 'as', 'it', 'seems', 'to', 'have', 'healed', 'me.', 'No', 'side', 'effects', 'for', 'me,', 'and', 'Im', 'one', 'sensitive,', 'hypochondriacal', 'mess', 'normally!']),\n",
       "       list(['This', 'medicine', 'is', 'exceptional!', 'I', 'see', 'many', 'people', 'saying', 'they', 'gained', '1-5', 'lbs,', 'I', 'took', 'it', 'faithfully,', 'three', 'times', 'a', 'day', 'and', 'would', 'you', 'believe', 'I', 'moved', 'up', 'from', 'a', '7/8', 'to', 'a', '/1', 'and', 'put', 'on', 'about', '22', 'lbs', 'within', 'only', '4', 'wks.', 'I', 'stopped', 'for', 'about', '2', 'wks,', 'lost', 'about', '6', 'lbs(mainly', 'stress)', 'but', 'Im', 'back', 'on', 'them', 'and', 'sleeping', 'a', 'little', 'more,', 'but', 'it', 'only', 'took', 'about', '2-', 'wks', 'for', 'my', 'body', 'to', 'get', 'used', 'to', 'them.', 'If', 'you', 'wish', 'to', 'gain', 'weight', 'try', 'this!', 'You', 'will', 'cry', 'tears', 'of', 'joy', 'I', 'was', 'struggling', 'with', 'weight', 'gain', 'for', 'about', '5', 'yrs!']),\n",
       "       list(['Love', 'it,', 'no', 'hot', 'flashes', 'or', 'mood', 'changes', 'and', 'feel', 'like', 'having', 'sex', 'again.', 'Breasts', 'have', 'enlarged', 'but', 'are', 'not', 'painful.', 'Taking', '1', 'mg', 'tablets,', 'hope', 'I', 'never', 'have', 'to', 'give', 'up', 'my', 'wonder', 'pill.', 'Have', 'been', 'taking', 'it', 'for', 'years', 'and', 'I', 'am', '7', 'years', 'old.']),\n",
       "       list(['Just', 'finished', 'my', '4', 'week', 'course', 'of', 'Carac', 'cream.', 'Here', 'is', 'my', 'advice.', 'MOISTURIZE,', 'MOISTURIZE,', 'MOISTURIZE!', 'I', 'went', 'to', 'Rite-Aide', 'and', 'purchased', 'a', 'large', 'bottle', 'of', 'Vitamin', 'E', 'and', 'ALOE', 'gel', 'moisturizer', '(nothing', 'with', 'alcohol,', 'which', 'will', 'burn', 'or', 'oil,', 'which', 'is', 'difficult', 'to', 'remove)', 'as', 'well', 'as', 'a', 'bottle', 'of', 'Baby', 'Wash', '(you', 'know,', 'quotno', 'more', 'tearsquot).', 'Only', 'wash', 'your', 'affected', 'area', '(mine', 'was', 'face', 'and', 'scalp)', 'with', 'the', 'baby', 'wash', '(doesnt', 'dry', 'out', 'skin)', 'and', 'once', 'the', 'Carac', 'has', 'been', 'applied,', 'wait', 'about', '1/2', 'hour', 'and', 'begin', 'applying', 'the', 'moisturizer.', 'I', 'used', 'the', 'moisturizer', 'heavily', '5', 'or', '6', 'times', 'per', 'day.', 'It', 'soaked', 'right', 'up', 'and', 'worked', 'great.', 'Felt', 'like', 'a', 'light', 'sun-burn', 'with', 'moderate', 'peeling', 'and', 'when', 'I', 'was', 'done', 'and', 'I', 'healed', 'up', 'in', 'a', 'snap.']),\n",
       "       list(['I', 'have', 'been', 'taking', 'Gabapentin', 'for', 'about', 'two', 'weeks', 'now,', 'starting', 'at', 'mg', 'at', 'night', 'which', 'knocked', 'me', 'out!', 'I', 'had', 'been', 'having', 'terrible', 'pain', 'in', 'hips', 'and', 'legs,', 'and', 'sciatic', 'pain', 'at', 'night,', 'and', 'tingling/', 'numbness', 'in', 'hands', 'in', 'the', 'morning.', 'It', 'made', 'me', 'sleepy', 'the', 'first', 'week', 'but', 'now', 'starting', 'to', 'get', 'used', 'to', 'it.', 'Still', 'a', 'little', 'clumsy', 'but', 'getting', 'better.', 'Now', 'increased', 'dose', 'to', 'mg', 'at', 'bedtime', 'and', 'mg', 'in', 'the', 'morning', 'after', 'breakfast.', 'I', 'feel', 'so', 'much', 'better', 'now.', 'Side', 'effects', 'other', 'than', 'sleepiness', 'are', 'not', 'apparent', 'so', 'I', 'am', 'much', 'encouraged.', 'Thank', 'you', 'Gabapentin!']),\n",
       "       list(['Im', 'on', 'mg', 'x', 'a', 'day.', 'Its', 'my', 'lifesaver', 'for', 'neuropathy', 'and', 'restless', 'legs.', 'It', 'allows', 'me', 'to', 'sleep', 'at', 'night.', 'I', 'find', 'the', 'only', 'side', 'effect', 'is', 'increased', 'appetite.']),\n",
       "       list(['Doctor', 'put', 'me', 'on', 'Victoza.', 'Metformin', 'alone', 'wasnt', 'cutting', 'it.', 'Started', 'a', 'little', 'over', '2', 'weeks', 'ago,', 'lost', '1', 'pounds,', 'curved', 'my', 'appetite.', 'I', 'feel', 'great', 'and', 'my', 'sugar', 'level', 'is', 'averaging', 'about', '11', 'and', 'it', 'was', 'over', '22.', 'love', 'it....']),\n",
       "       list(['I', 'struggle', 'with', 'the', 'Lethargic-type', 'Depression.', 'The', 'Symptoms:', 'lack', 'of', 'motivation,', 'laziness,', 'apathy,', 'a-sociability', '(not', 'caring', 'about', 'having', 'others', 'or', 'relationships', 'NOT', 'the', 'same', 'as', 'anti-social),', 'flat', 'effect,', 'low', 'energy,', 'excess', 'sleeping,', 'difficulty', 'processing', 'and', 'connecting-the-dots', 'like', 'when', 'reading', 'things', 'for', 'example,', 'poor', 'concentration,', 'lack', 'of', 'drive,', 'staying', 'at', 'home', 'all', 'day', 'doing', 'nothing,', 'not', 'getting', 'a', 'job,', 'lack', 'of', 'determination', 'and', 'perseverance,', 'giving', 'up', 'easily,', 'low', 'attention-span,', 'etc.', 'Ritalin', 'works', 'great', 'for', 'quotLethargic', 'Depressionquot,', 'and', 'even', 'MORE', 'so', 'when', 'combined', 'with', 'my', 'Cymbalta', '(6mg', 'once-daily).', 'I', 'take', '2mg', 'in', 'the', 'morning,', 'and', 'I', 'have', 'a', 'lot', 'more', 'energy.', 'Just', 'cleaning', 'the', 'dishes', 'doesnt', 'seem', 'like', 'an', 'exhausting', 'burden', 'anymore.', 'My', 'facial', 'expressions', 'and', 'effect', 'dont', 'seem', 'flat,', 'zombie,', 'stiff', 'and', 'mask', 'like.', 'I', 'can', 'process', 'what', 'Im', 'reading', 'more', 'clearly.', 'I', 'CARE', 'more', 'and', 'FEEL', 'more.', 'I', 'feel', 'motivated,', 'and', 'more', 'active,', 'no', 'longer', 'just', 'sitting', 'and', 'watching', 'TV', 'all', 'day,', 'letting', 'the', 'house', 'turn', 'into', 'a', 'pit.', 'Im', 'being', 'productive,', 'I', 'can', 'keep', 'many', 'things', 'at', 'the', 'front', 'of', 'my', 'head', 'without', 'forgetting.', 'Overall', 'Ive', 'gone', 'from', 'the', 'walking,', 'living', 'dead', '-to-', 'a', 'living,', 'happy,', 'productive', 'person.', 'Overall,', 'I', 'take', '-12mg', 'of', 'the', 'regular', 'Ritalin', '(methylphenidate)', 'in', 'divided', 'doses', 'throughout', 'the', 'day.']),\n",
       "       list(['I', 'have', 'two', 'bulging', 'discs', 'L4/L5', 'and', 'L/L4', 'and', 'herniated', 'L5/S1', 'and', 'pinched', 'nerves.', 'My', 'hydrocodone', 'wasnt', 'enough,', 'I', 'started', 'taking', 'Flexeril', 'twice', 'a', 'day', 'and', 'the', 'pain', 'reduced', 'to', 'almost', 'nothing', 'and', 'the', 'burning', 'down', 'my', 'legs', 'stopped', 'from', 'my', 'pinched', 'nerves.', 'It', 'doesnt', 'last', 'as', 'long', 'as', 'I', 'would', 'like', 'but', 'it', 'makes', 'the', 'day', 'go', 'by', 'a', 'lot', 'easier', 'and', 'is', 'definitely', 'worth', 'taking', 'it.']),\n",
       "       list(['This', 'medicine', 'works.', 'We', 'had', 'exhausted', 'every', 'other', 'psych', 'medicine', 'on', 'the', 'market', 'over', 'a', 'period', 'of', '6', 'years.', 'My', 'daughter', 'is', 'functioning', 'again.', 'The', 'paranoid', 'symptoms', 'have', 'disappeared.', 'It', 'is', 'worth', 'the', 'monthly', 'lab', 'work.', 'Shes', 'been', 'on', 'for', '5', 'years,', 'and', 'no', 'side', 'effects.', 'I', 'dont', 'think', 'our', 'daughter', 'would', 'be', 'alive', 'if', 'not', 'for', 'this', 'medicine.']),\n",
       "       list(['I', 'was', 'anemic', 'for', 'years,', 'and', 'thought', 'it', 'was', 'just', 'the', 'way', 'I', 'was.', 'I', 'had', 'no', 'idea', 'that', 'the', 'soda', 'I', 'was', 'drinking', 'was', 'stopping', 'my', 'body', 'from', 'absorbing', 'iron', '(and', 'calcium).', 'One', 'night,', 'my', 'heart', 'rate', 'didnt', 'slow', 'down.', 'I', 'woke', 'my', 'husband', 'and', 'we', 'went', 'to', 'the', 'hospital.', 'I', 'found', 'that', 'my', 'anemia', 'was', 'so', 'bad', 'that', 'my', 'red', 'blood', 'cells', 'couldnt', 'get', 'enough', 'oxygen', 'to', 'my', 'body,', 'and', 'my', 'heart', 'was', 'racing', 'trying', 'to', 'get', 'more', 'Oxygen', 'delivered.', 'The', 'doctors', 'said', 'my', 'heart', 'would', 'have', 'just', 'given', 'up', 'had', 'I', 'not', 'come', 'in.', 'I', 'found', 'quotnormalquot', 'iron', 'pills', 'gave', 'me', 'horrible,', 'painful', 'gas.', 'Slow', 'FE', 'was', 'the', 'only', 'iron', 'that', 'didnt.', 'Its', 'made', 'differently', 'than', 'iron', 'pills', 'and', 'your', 'body', 'is', 'able', 'to', 'break', 'it', 'down', 'without', 'the', 'difficult', 'side', 'effects,', 'but', 'it', 'can', 'cause', 'constipation.', 'I', 'eat', 'prunes', 'a', 'day.']),\n",
       "       list(['Used', 'it', 'today', 'for', 'a', 'work', 'presentation', 'and', 'it', 'worked.', 'At', 'some', 'point', 'later', 'in', 'the', 'day', 'I', 'had', 'to', 'hold', 'back', 'the', 'tears', 'thinking', 'about', 'how', 'my', 'life', 'would', 'have', 'been', 'different', 'had', 'I', 'known', 'about', 'this', 'medicine.', 'Im', '42', 'years', 'old', 'and', 'wish', 'I', 'knew', 'about', 'this', '2', 'years', 'ago.']),\n",
       "       list(['Well,', 'lets', 'just', 'say', 'that', 'I', 'had', 'a', 'wonderful', 'cruise.', 'When', 'me', 'and', 'my', 'partner', 'were', 'done', 'with', 'all', 'times', 'weve', 'done', 'it,', 'the', 'condom', 'would', 'always', 'go', 'missing.', 'Stressed', 'out,', 'and', 'having', 'to', 'wait', 'until', 'I', 'got', 'off', 'the', 'boat,', 'I', 'ran', 'to', 'the', 'nearest', 'pharmacy', 'to', 'buy', 'the', 'one', 'step', 'pill.', 'Mind', 'you,', 'I', 'did', 'take', 'it', 'within', 'the', '72', 'hours', 'as', 'intended.', 'After', 'two', 'weeks', 'of', 'patiently', 'waiting', 'for', 'my', 'period,', 'it', 'came,', 'all', 'but', 'a', 'few', 'days', 'late.', 'Im', 'writing', 'this', 'review', 'because', 'i', 'was', 'stressing', 'out', 'whether', 'the', 'pill', 'worked', 'or', 'not.', 'Just', 'letting', 'you', 'know', 'that', 'it', 'does.', 'And', 'I', 'was', 'pretty', 'close', 'to', 'the', '72', 'hour', 'deadline.']),\n",
       "       list(['I', 'have', 'been', 'taking', 'Eliquis', 'for', 'eight', 'months', 'now.', 'I', 'have', 'been', 'in', 'and', 'out', 'of', 'atrial', 'fibrillation,', 'and', 'have', 'had', 'no', 'problems', 'with', 'Eliquis.', 'None', 'of', 'the', 'side', 'effects', 'have', 'appeared', 'for', 'me.', 'It', 'is', 'easy', 'to', 'use', 'and', 'a', 'huge', 'improvement', 'over', 'warfarin.']),\n",
       "       list(['Suffered', 'for', 'three', 'years', 'with', 'muscle/large', 'and', 'small', 'bone', 'pain,', 'fatigue,', 'and', 'a', 'feeling', 'of', 'deep', 'depression', 'and', 'weakness.', 'I', 'was', 'diagnosed', 'with', 'fibromyalgia.', 'Went', 'to', 'endocrinologist', 'because', 'of', 'concern', 'over', 'glucose', 'intolerance.', 'He', 'listened', 'to', 'my', 'three', 'year', 'history', 'of', 'failed', 'attempts', 'to', 'diagnose,', 'thousands', 'of', '$$$', 'spent,', 'etc.', 'He', 'prescribed', 'the', 'then', 'two', 'month', 'old', 'Metanax.', 'I', 'was', '47', 'at', 'the', 'time', 'but', 'felt', '65', 'with', 'a', 'threat', 'of', 'forced', 'retirement.', 'Within', 'one', 'month', 'my', 'pain', 'was', 'fading.', 'I', 'have', 'Been', 'pain', 'free', 'ever', 'since', 'and', 'the', 'medicine', 'also', 'has', 'given', 'me', 'the', 'energy', 'of', 'a', 'year', 'old', 'WITH', 'no', 'side', 'effects.', 'I', 'still', 'thank', 'him', 'every', 'six', 'months', 'during', 'my', 'check', 'up!']),\n",
       "       list(['6', 'yr', 'old', 'woman,', 'early', 'onset', 'Alzheimers', 'diagnosed', 'July', '21.', 'Prescribed', 'Aricept', '5', 'mg', 'and', 'Namenda.', 'Found', 'Namenda', 'made', 'me', 'agitated', 'and', 'angry', 'so', 'quit.', '1', 'mg', 'Aricept', 'and', 'serious', 'side', 'effects.', 'While', 'waiting', 'for', 'new', 'doctor', 'to', 'take', 'over', 'past', 'neurologists', 'care,', 'have', 'adjusted', 'meds', 'myself', 'to', 'keep', 'the', 'memory', 'help', '-', 'which', 'is', 'astounding', '-', 'and', 'lessens', 'side', 'effects', 'which', 'includes', 'severe', 'muscle', 'cramps', 'in', 'legs,', 'water', 'retention,', 'ankle', 'and', 'hand', 'swelling,', 'back', 'pain,', 'increased', 'blood', 'pressure,', 'heart', 'palpitations.', 'I', 'now', 'take', '1/2', 'of', 'the', '5', 'mg', 'tablet', 'in', 'morning', 'and', 'am', 'still', 'retaining', 'benefits', 'with', 'reduced', 'side', 'effects.', 'Aricept', 'restored', 'my', 'ability', 'to', 'read', 'and', 'gave', 'me', 'energy', 'and', 'focus', 'I', 'have', 'not', 'had', 'in', 'years.', 'Lower', 'dose', 'on', 'most', 'meds', 'always', 'works', 'better', 'for', 'me.']),\n",
       "       list(['My', 'son', 'is', 'almost', '4', 'he', 'is', 'autistic', 'and', 'his', 'violent', 'rage', 'got', 'completely', 'out', 'of', 'control', 'his', 'pediatrician', 'perscribed', 'Risperidone', 'for', 'him', 'about', 'a', 'week', 'ago', 'and', 'so', 'far', 'the', 'results', 'have', 'been', 'mind', 'blowing.', 'He', 'is', 'on', '1mL', 'once', 'daily', 'he', 'has', 'had', 'minimal', 'side', 'effects', '(tremors,', 'fatigue)', 'however', 'the', 'aggression,', 'outbursts,', 'meltdowns', 'and', 'violence', 'has', 'ceased', 'completely.', 'He', 'is', 'also', 'non-verbal', 'and', 'I', 'do', 'not', 'know', 'if', 'this', 'medicine', 'is', 'a', 'contributing', 'factor', 'but', 'in', 'the', 'last', 'week', 'alone', 'my', 'son', 'has', 'started', 'repeating', 'words', 'and', 'even', 'sang', 'his', 'ABCs', 'out', 'of', 'no', 'where.', 'This', 'has', 'been', 'a', 'God', 'send', 'for', 'us!']),\n",
       "       list(['I', 'was', 'tested', 'for', 'MTHFR', 'genetic', 'mutations', 'after', 'several', 'years', 'of', 'fibromyalgia/chronic', 'fatigue', 'type', 'symptoms.', 'BINGO!', 'I', 'have', 'compound', 'heterozygous', 'mutations.', 'Which', 'can', 'cause', 'whole', 'host', 'of', 'health', 'issues,', 'many', 'I', 'have', 'been', 'experiencing', 'since', 'youth.', 'Once', 'I', 'started', '7.5mg', 'of', 'Deplin', 'with', 'Methyl', 'b12', 'my', 'aches,', 'brain', 'fog,', 'and', 'unrelenting', 'fatigue', 'started', 'to', 'diminish..this', 'is', 'a', 'life', 'changer!']),\n",
       "       list(['I', 'had', 'taken', 'almost', 'everything', 'for', 'migraines', 'and', 'came', 'up', 'with', 'a', 'combination', 'of', 'Topamax', 'and', 'Elavil.', 'I', 'work', 'in', 'intensive', 'care', 'and', 'started', 'having', 'memory', 'problems.', 'I', 'also', 'started', 'sleeping', 'almost', 'constantly.', 'I', 'scheduled', 'an', 'appointment', 'with', 'the', 'neurologist', 'at', 'my', 'hospital', 'and', 'started', 'on', 'nortriptyline.', 'This', 'is', 'the', 'first', 'time', 'Ive', 'had', 'total', 'control.', 'Im', 'not', 'sleepy', 'and', 'I', 'have', 'more', 'of', 'my', 'old', 'self', 'back.', 'It', 'feels', 'good', 'not', 'to', 'have', 'any', 'pain.']),\n",
       "       list(['Iquotm', '74', 'years', 'old,', 'old,', 'have', 'been', 'on', 'Anoro', 'weeks', 'feel', '1', 'or', '15', 'years', 'younger,', 'can', 'walk', 'a', 'long', 'time', 'without', 'getting', 'out', 'of', 'breath.', 'Take', '1', 'puff', 'of', 'Anoro', 'in', 'the', 'morning,', 'no', 'other', 'breathing', 'treatments', 'during', 'the', 'day', 'with', 'no', 'side', 'effects', 'its', 'a', 'great', 'medication.', 'Before', 'taking', 'Anoro', 'I', 'took', '4', 'to', '6', 'treatments', 'in', 'nebulizer', 'daily.', 'I', 'wish', 'I', 'could', 'stay', 'on', 'it,', 'but', 'is', 'too', 'expensive', 'for', 'me,', 'I', 'highly', 'recommend', 'it', 'for', 'those', 'that', 'can', 'afford', 'it.']),\n",
       "       list(['Took', 'Lipitor', 'for', 'about', '5', 'years.', 'It', 'kept', 'my', 'lipids', 'under', 'control', 'well,', 'but', 'developed', 'severe', 'leg', 'aching', 'and', 'muscle', 'cramps,', 'especially', 'at', 'night.', 'Went', 'off', 'it', 'and', 'within', 'a', 'week,', 'all', 'these', 'reactions', 'disappeared.']),\n",
       "       list(['My', 'experience', 'with', 'Tretinoin', 'Cream,', 'USP', '.25%,', 'has', 'been', 'awesome!', 'Im', 'a', '16', 'year', 'old', 'who', 'started,', 'from', 'breaking', 'out', 'every', 'day,', 'black', 'spots', 'on', 'my', 'face', 'everywhere,', 'extreme', 'cystic', 'acne,', 'I', 'felt', 'terrible.', 'I', 'remember', 'looking', 'in', 'the', 'mirror', 'and', 'feeling', 'that', 'I', 'was', 'beautiful', 'BUT', 'if', 'only', 'my', 'acne', 'could', 'go', 'away,', 'there', 'was', 'always', 'a', 'but.', 'In', 'fact,', 'I', 'even', 'cried', 'at', 'one', 'point', 'at', 'how', 'horrible', 'my', 'skin', 'was,', 'it', 'seemed', 'as', 'if', 'everyone', 'noticed.', 'I', 'remember', 'one', 'girl', 'even', 'referring', 'to', 'me', 'as', 'quotspotted', 'bump', 'face,quot', 'in', 'which', 'she', 'then', 'proceeded', 'to', 'laugh,', 'making', 'a', 'joke', 'off', 'of', 'my', 'insecurities.', 'NOW', 'months', 'later', 'my', 'face', 'is', 'absolutely', 'smooth,', 'I', 'rarely', 'ever', 'wear', 'make', 'up,', 'my', 'spots', 'are', 'barely', 'visible,', 'and', 'the', 'acne?', 'ITS', 'GONE!', 'Its', 'like', 'a', 'miracle.', 'I', 'recommend', 'anyone', 'to', 'stick', 'it', 'out!']),\n",
       "       list(['It', 'works', 'great,', 'yet', 'makes', 'urine', 'incredibly', 'stinky.']),\n",
       "       list(['This', 'is', 'the', 'only', 'medicine', 'that', 'helps', 'get', 'rid', 'of', 'my', 'sinus', 'infections', 'and', 'it', 'looks', 'like', 'that', 'goes', 'for', 'a', 'lot', 'of', 'other', 'people', 'too.', 'This', 'is', 'the', 'only', 'antibiotic', 'that', 'I', 'can', 'take', 'because', 'I', 'am', 'allergic', 'to', 'so', 'many', 'others.']),\n",
       "       list(['Plavix', 'has', 'done', 'wonders', 'for', 'me.', 'Ive', 'tried', 'other', 'anti-clotting', 'medicines', 'Plavix', 'has', 'provided', 'a', 'better', 'quality', 'of', 'life', 'for', 'me.']),\n",
       "       list(['I', 'did', '6', 'years', 'active', 'duty', 'with', 'the', 'army', 'as', 'an', 'infantry', 'soldier.', 'Ive', 'been', 'in', 'the', 'Iraq', 'war', 'in', '24,', 'and', 'the', 'war', 'in', 'Afghanistan', 'in', '26.', 'During', 'combat', 'Ive', 'been', 'in', '6', 'IED', 'explosions.', 'A', 'gun', 'shot', 'through', 'my', 'left', 'shin,', 'nerve', 'damage', 'to', 'my', 'whole', 'right', 'hand.', 'Compressed', 'disc,', 'and', 'shattered', '1', 'in', 'my', 'lower', 'back.', 'I', 'have', 'Traumatic', 'brain', 'injury', 'which', 'causes', 'horrible', 'migraines.', 'Ive', 'been', 'on', 'everything', 'since', '27...Oxycontin', '8mg,', 'mg', 'Roxys,', '125mg', 'fentanyl', 'patches,', 'morphine', '6mgs,', 'etc.', 'Currently', 'Im', 'on', '1/25', 'Norco', '6', 'times', 'a', 'day.', 'Ive', 'grown', 'dependent', 'and', 'tolerant', 'to', 'opiates.', 'But', 'Norco', 'is', 'by', 'far', 'the', 'best', 'medicine', 'to', 'make', 'my', 'chronic', 'pain', 'tolerable.', 'And', 'the', 'side', 'effects', 'are', 'close', 'to', 'none.', 'I', 'highly', 'recommend', 'this', 'for', 'chronic', 'pain.']),\n",
       "       list(['Ive', 'been', 'taking', 'the', 'HERB', '(not', 'a', 'drug)', 'St.', 'Johns', 'Wort', 'for', '18', 'years.', 'I', 'find', 'it', 'very', 'helpful', 'for', 'moderate', 'depression,', 'and', 'so', 'do', 'millions', 'of', 'people', 'in', 'the', 'U.S.,', 'and', 'especially', 'Europe.', 'In', 'fact,', 'in', 'most', 'countries', 'in', 'Europe,', 'it', 'is', 'recommended', '8', 'to', '1', 'over', 'Prozac.']),\n",
       "       list(['Works', 'good,', 'but', 'the', 'bug', 'has', 'to', 'bite', 'you', 'in', 'order', 'for', 'it', 'to', 'be', 'effective.', 'Administered', 'by', 'body', 'weight', 'formula.', 'Saturation', 'to', 'full', 'strength', 'within', '4', 'hours', 'after', 'ingestion.', 'Remains', 'at', 'full', 'strength', 'for', 'appx.', '18', 'hours.', 'Dissipation', 'afterwards', 'at', 'appx.', '2.5mg', 'per', 'day.', 'Estimated', 'half', 'life', 'is', '12', 'days', 'per', 'dose.', 'All', 'conditions', 'depend', 'on', 'body', 'weight.', 'Kills', 'bugs', 'wherever', 'they', 'feed,', 'including', 'those', 'in', 'the', 'skin,', 'which', 'may', 'cause', 'ulcers', 'from', 'the', 'decomposing', 'dead', 'parasite.', 'Effectiveness', 'on', 'pre-existing', 'eggs', 'is', 'questionable.', 'Work', 'closely', 'with', 'a', 'doctor', 'on', 'the', 'dosage', 'and', 'saturation', 'levels', 'or', 'overlap', 'doses.', 'Keep', 'records', 'on', 'reactions/results.']),\n",
       "       list(['I', 'didnt', 'have', 'a', 'heart', 'attack,', 'but', 'was', 'getting', 'ready', 'for', 'one', 'when', 'I', 'had', 'an', 'angiogram', 'and', 'and', 'then', 'had', 'stents', 'put', 'in', 'my', 'right', 'coronary', 'artery.', 'I', 'have', 'been', 'taking', 'Plavix', 'for', 'the', 'last', 'month', 'with', 'no', 'problems.', 'The', 'doctors', 'tell', 'me', 'I', 'will', 'be', 'on', 'Plavix', 'for', 'the', 'rest', 'of', 'my', 'life.', 'At', 'this', 'point', 'in', 'my', 'life', '(64)', 'I', 'have', 'a', 'cast', 'iron', 'stomach.', 'Because', 'of', 'the', 'aspirin', 'I', 'have', 'been', 'taking', 'for', 'years', '(perhaps', 'the', 'reason', 'I', 'didnt', 'have', 'a', 'heart', 'attack)', 'I', 'bruise', 'easily', 'and', 'bleed', 'profusely.', 'Different', 'bodies,', 'different', 'results.', 'Ill', 'try', 'to', 'check', 'back', 'in', 'a', 'year', 'and', 'update', 'my', 'experience.']),\n",
       "       list(['I', 'have', 'been', 'in', 'clinical', 'trials', 'for', '4', 'years', 'for', 'Eylea', 'and', 'have', 'had', 'no', 'side', 'effects.', 'Eylea', 'has', 'allowed', 'me', 'to', 'return', 'to', 'a', 'quality', 'of', 'life', 'that', 'I', 'had', 'given', 'up', 'with', 'sewing,', 'painting,', 'cooking,', 'driving,', 'reading', 'and', 'other', 'areas', 'pertinent', 'to', 'being', 'able', 'to', 'live', 'independently.', 'Before', 'Eylea,', 'I', 'had', 'even', 'stopped', 'watching', 'television!', 'Now', 'I', 'feel', 'confident', 'again', 'and', 'go', 'out', 'and', 'do', 'things', 'on', 'my', 'own', 'without', 'fear.', 'This', 'has', 'definitely', 'been', 'a', 'positive,', 'life', 'changing', 'experience.']),\n",
       "       list(['I', 'had', 'to', 'take', 'this', 'after', 'I', 'got', 'C-Diff', 'from', 'all', 'of', 'the', 'antibiotics', 'the', 'doctors', 'had', 'me', 'on.', 'It', 'worked', 'great.', 'I', 'am', 'a', 'nurse', 'and', 'have', 'known', 'several', 'people', 'that', 'have', 'been', 'put', 'on', 'this', 'after', 'getting', 'C-Diff', 'and', 'they', 'have', 'been', 'very', 'pleased', 'with', 'the', 'results', 'also.', 'My', 'wife', 'has', 'started', 'to', 'take', 'it', 'because', 'she', 'has', 'many', 'stomach', 'problems', 'and', 'it', 'is', 'helping', 'her.']),\n",
       "       list(['I', 'never', 'write', 'reviews', 'on', 'things,', 'but', 'since', 'there', 'are', 'so', 'many', 'negative', 'reviews', 'about', 'this', 'birth', 'control', 'and', 'Ive', 'actually', 'had', 'a', 'great', 'experience', 'with', 'it,', 'I', 'thought', 'Id', 'make', 'an', 'exception.', 'Loestrin', '24Fe', 'is', 'the', '5th', 'birth', 'control', 'Ive', 'tried', 'in', 'the', 'past', '4', 'years,', 'and', 'as', 'I', 'was', 'going', 'on', 'this', 'I', 'vowed', 'that', 'if', 'it', 'didnt', 'work', 'Id', 'have', 'none', 'of', 'it', 'and', 'just', 'give', 'up', 'on', 'the', 'pill.', 'Lucky', 'for', 'me,', 'it', 'seems', 'like', 'the', '5th', 'times', 'the', 'charm.', 'My', 'skin', 'is', 'the', 'clearest', 'its', 'ever', 'been,', 'the', 'horrible', 'cramps', 'that', 'would', 'leave', 'me', 'practically', 'crippled', 'are', 'so', 'mild', 'that', 'I', 'can', 'actually', 'walk', 'around', 'without', 'pain,', 'my', 'horrible', 'headaches', 'are', 'gone,', 'and', 'my', 'sex', 'drive', 'is', 'far', 'from', 'lessened.', 'I', 'genuinely', 'give', 'this', 'pill', 'two', 'thumbs', 'up,', 'and', 'want', 'to', 'remind', 'you', 'that', 'everyones', 'body', 'is', 'different.']),\n",
       "       list(['Be', 'patient', 'it', 'does', 'take', 'a', 'few', 'days', 'for', 'the', 'symptoms', 'to', 'clear', 'but', 'after', 'about', '4', 'days', 'you', 'should', 'see', 'improvement.', 'There', 'is', 'a', 'topical', 'cream', 'your', 'Dr', 'can', 'provide', 'that', 'helps', 'with', 'burning', 'and', 'itching.', 'To', 'ease', 'pain', 'soak', 'in', 'cool', 'water', 'frequently...', 'But', 'it', 'may', 'take', 'up', 'to', '7', 'days', 'to', 'clear.']),\n",
       "       list(['I', 'am', 'a', 'woman', 'taking', 'flomax', 'for', 'severe', 'urinary', 'retention.', 'Flomax', 'works', 'wonderfully,', 'although', 'it', 'did', 'not', 'start', 'to', 'work', 'for', 'me', 'until', 'I', 'had', 'taken', 'it', 'for', 'about', 'weeks.', 'Initially', 'there', 'was', 'some', 'mild', 'drowsiness', 'and', 'dizziness,', 'which', 'has', 'mostly', 'subsided.', 'Make', 'sure', 'you', 'talk', 'to', 'your', 'doctor', 'about', 'getting', 'on', 'a', 'bathroom', 'schedule', 'so', 'you', 'can', 'eventually', 'stop', 'taking', 'this.', 'I', 'was', 'going', '15', 'to', '2', 'x/day', 'and', 'not', 'able', 'to', 'empty', 'below', '2', 'ccs.', 'This', 'combination', 'has', 'gotten', 'me', 'down', 'to', 'going', 'only', '6', 'or', '7', 'x/day,', 'and', 'completely', 'empty.']),\n",
       "       list(['Prescribed', 'for', 'urinary', 'incontinence,', 'notably', 'stress', 'incontinence.', 'I', 'started', 'with', '5mg', '(eventually', 'began1', 'mg.)', 'of', 'Vesicare', 'and', 'it', 'worked', 'overnight.', 'When', 'I', 'am', 'running', 'low', 'on', 'tablets', 'and', 'payday', 'is', 'off', 'in', 'the', 'future,', 'I', 'have', 'good', 'success', 'with', 'taking', '1mg.', 'every', 'other', 'night.', 'Side', 'effects:', '1.', 'Very', 'dry', 'mouth,', 'but', 'good', 'excuse', 'to', 'drink', 'more', 'water', 'keep', 'TicTacs', 'handy', 'over', 'time', 'it', 'has', 'greatly', 'diminished.', '2.', 'Drowsiness:', 'I', 'started', 'taking', 'it', 'at', 'night.', ')', 'Constipation:', 'drank', 'more', 'water', 'and', 'took', 'a', 'daily', 'stool', 'softener', 'until', 'my', 'body', 'readjusted.']),\n",
       "       list(['This', 'drug', 'gave', 'me', 'back', 'my', 'life.', 'I', 'suffered', 'with', 'chronic', 'cyclical', 'arthritis', 'that', 'felt', 'like', 'it', 'was', 'in', 'every', 'joint.', 'The', 'fatigue', 'was', 'devastating.', 'Even', 'if', 'I', 'slept', 'for', 'hours', 'I', 'still', 'woke', 'up', 'feeling', 'no', 'better.', 'I', 'was', 'scared', 'to', 'take', 'this', 'drug', 'but', 'eventually', 'I', 'had', 'to', 'do', 'something.', 'Thankfully,', 'I', 'have', 'no', 'side', 'effects.', 'I', 'only', 'have', 'very', 'occasional', 'arthritis', 'and', 'am', 'no', 'longer', 'tired.', 'It', 'has', 'given', 'me', 'back', 'my', 'life.', 'I', 'do', 'have', 'my', 'eyes', 'checked', '2x/yr.']),\n",
       "       list(['My', '25', 'year', 'old', 'son', 'was', 'prescribed', 'this', 'medication', 'for', 'his', 'aggressive', 'behavior', 'and', 'inablity', 'to', 'concentrate.', 'As', 'a', 'child', 'he', 'was', 'diagnosed', 'with', 'ADHD', 'with', 'aggressive', 'behavior.', 'His', 'behavior', 'only', 'worsened', 'as', 'he', 'got', 'older', 'and', 'was', 'not', 'on', 'any', 'medication.', 'He', 'was', 'unable', 'to', 'keep', 'a', 'job', 'and', 'was', 'always', 'in', 'trouble', 'with', 'the', 'police', 'for', 'fighting', 'and', 'just', 'unable', 'make', 'good', 'decisions.', 'After', 'starting', 'Abilify', 'he', 'has', 'had', 'a', 'steady', 'job', 'for', '6', 'months', 'and', 'his', 'agressive', 'behavior', 'is', 'gone.', 'I', 'have', 'my', 'son', 'back.']),\n",
       "       list(['I', 'have', 'had', 'diarrhea', 'every', 'morning', 'with', 'pain.', 'After', 'reading', 'about', 'gall', 'bladder', 'removal', 'I', 'found', 'that', 'some', 'try', 'Welchol', 'to', 'help', 'because', 'it', 'is', 'a', 'bile', 'sequestor.', 'It', 'works', 'great', 'for', 'me.', 'I', 'went', 'to', 'a', 'gastroenterologist', 'and', 'told', 'him', 'about', 'my', 'findings', 'and', 'he', 'said', 'quotCongratulationsquot', 'you', 'diagnosed', 'yourself.', 'He', 'gave', 'me', 'a', 'years', 'prescription', 'for', 'Welchol.', 'I', 'take', 'three', 'in', 'the', 'morning', 'and', 'am', 'doing', 'quite', 'well.', 'Wish', 'I', 'had', 'known', 'about', 'this', 'several', 'years', 'ago.', 'Before', 'Welchol', 'I', 'could', 'barely', 'leave', 'my', 'home', 'before', 'noon.', 'Now', 'I', 'can', 'travel', 'again.', 'So', 'far,', 'no', 'side', 'effects.', 'Thank', 'Goodness.']),\n",
       "       list(['This', 'drug', 'was', 'prescribed', 'for', 'me', 'by', 'a', 'Doctor', 'in', '18', 'for', 'vertigo.', 'It', 'worked', 'beautifully', 'and', 'I', 'occasionally', 'take', 'it', 'when', 'needed', 'yet', 'today.']),\n",
       "       list(['A', 'serious', 'bout', 'of', 'autoimmune', 'hyperthyroidism', 'had', 'me', 'very', 'sick', 'traditional', 'docs', 'wanted', 'to', 'use', 'RAI,', 'radiation', 'to', 'kill', 'off', 'the', 'thyroid', 'fortunately', 'I', 'read', 'up', 'on', 'some', 'Japanese', 'and', 'European', 'studies', 'that', 'showed', 'tapazole/methimazole', 'solves', 'the', 'problem', 'without', 'killing', 'the', 'victim-thyroid.', 'I', 'fired', 'the', 'docs,', 'got', 'new', 'ones', 'at', 'a', 'major', 'medical', 'center,', 'and', 'started', 'tapazole', 'therapy.', 'It', 'took', 'a', 'closely', 'monitored,', 'gradually', 'reduced', 'dosing', 'over', '1', 'months,', 'but', 'I', 'got', 'well', 'thanks', 'to', 'this', 'miracle', 'medicine.']),\n",
       "       list(['Before', 'Plaquenil,', 'I', 'would', 'be', 'in', 'bed', 'for', 'days', 'at', 'a', 'time,', 'unable', 'to', 'move,', 'excessive', 'pain,', 'ice', 'cold,', 'migraines,', 'the', 'whole', 'gamut.', 'My', 'body', 'felt', 'ancient.', 'At', 'first', 'the', 'rheumatologist', 'thought', 'I', 'had', 'leukemia,', 'then', 'Lupus', 'and', 'rheumatoid', 'athritis', 'and', 'finally', 'biopsies', 'started', 'giving', 'us', 'a', 'more', 'refined', 'treatment', 'plan.', 'With', 'this', 'medicine,', 'I', 'am', 'in', 'much', 'less', 'pain.', 'I', 'can', 'walk', 'for', 'an', 'hour', 'at', 'a', 'time.', 'I', 'can', 'shop', 'for', 'groceries', 'again.', 'I', 'feel', 'like', 'I', 'have', 'a', 'life', 'again.', 'I', 'have', 'had', 'brief', 'periods,', 'never', 'more', 'than', 'a', 'month', 'without', 'it,', 'and', 'I', 'know', 'that', 'life', 'without', 'the', 'benefit', 'of', 'Plaquenil', 'is', 'no', 'life', 'at', 'all.', 'Yes,', 'I', 'have', 'to', 'see', 'the', 'retina', 'specialist', 'but', 'in', 'all', 'this', 'time,', 'my', 'eyes', 'are', 'fine.', 'Dont', 'hesitate', 'to', 'try', 'it', 'even', 'though', 'new', 'treatments', 'can', 'be', 'scary!']),\n",
       "       list(['I', 'am', 'on', 'day', 'of', 'my', 'cycle', 'and', 'of', 'taking', 'Lysteda.', 'I', 'take', '2', 'pills', 'xs', 'a', 'day.', 'This', 'is', 'my', 'first', 'months', 'use', 'and', 'I', 'can', 'say', 'without', 'doubt', 'I', 'will', 'take', 'Lysteda', 'as', 'long', 'as', 'my', 'doctor', 'will', 'allow!', 'I', 'am', 'usually', 'homebound', 'the', 'first', 'days', 'of', 'my', 'period', 'as', 'I', 'have', 'to', 'have', 'access', 'to', 'a', 'bathroom', 'every', '15', 'minutes.', 'Not', 'to', 'mention', 'the', 'horrendous', 'pain', 'from', 'cramps.', 'Lysteda', 'started', 'working', 'within', 'a', 'half', 'hour', 'of', 'taking', 'first', 'dose.', 'My', 'flow', 'was', 'reduced', 'by', 'at', 'least', '6%.', 'A', 'couple', 'of', 'ibuprofen', 'for', 'light', 'cramps', 'and', 'life', 'was', 'business', 'as', 'usual.', 'I', 'was', 'able', 'to', 'go', 'out', 'and', 'not', 'worry', 'about', 'excessive', 'bleeding.', 'After', 'more', 'than', 'years', 'of', 'being', 'imprisoned', 'by', 'my', 'cycle', 'I', 'finally', 'can', 'live', 'life', 'again!', 'I', 'am', 'so', 'happy', 'I', 'just', 'want', 'to', 'shout', 'it', 'from', 'the', 'top', 'of', 'the', 'world!']),\n",
       "       list(['I', 'have', 'had', 'IBS', 'for', 'about', '18', 'years.', 'Symptoms', 'of', 'bloating,', 'swollen', 'stomach,', 'looking', 'like', 'Im', '6', 'mos', 'pregnant,', 'severe', 'cramps,', 'very', 'loose', 'bowels.', 'Symptoms', 'lasting', 'weeks', 'making', 'me', 'home', 'bound', 'and', 'in', 'bed.', 'Eating', 'crackers', 'and', 'drinking', 'juice.', 'I', 'have', 'went', 'to', 'a', 'number', 'of', 'doctors.', 'Finally', 'my', 'gastrollgist', 'prescribing', 'Bentyl.', 'I', 'was', 'taking', 'it', 'times', 'daily', 'then', '2', 'times', 'daily.', 'Because', 'of', 'making', 'me', 'tired,', 'I', 'now', 'only', 'take', 'it', 'when', 'I', 'have', 'flare', 'ups.', 'I', 'try', 'to', 'take', 'it', 'at', 'night', 'when', 'possible.', 'This', 'medicine', 'has', 'really', 'helped', 'me.', 'I', 'highly', 'suggest', 'it.']),\n",
       "       list(['Why', 'does', 'the', 'medical', 'community', 'not', 'widely', 'suggest', 'this', 'medicine', 'to', 'women', 'who', 'are', 'suffering', 'from', 'disabling', 'hot', 'flashes', 'amp', 'not', 'sleeping?', 'I', 'went', 'to', 'my', 'gyn', 'and', 'I', 'was', 'told', 'that', 'my', 'options', 'were', 'hormones,', 'antidepressants', 'or', 'gabapentin.', 'None', 'of', 'these', 'were', 'acceptable', 'for', 'me', 'for', 'various', 'reasons.', 'I', 'went', 'to', 'my', 'general', 'dr', 'who', 'saw', 'how', 'serious', 'my', 'symptoms', 'were', 'and', 'he', 'prescribed', 'this.', 'I', 'take', '.5', 'in', 'the', 'he', 'morning', 'and', '.5', 'before', 'bed.', 'The', 'first', 'night', 'I', 'took', 'it', 'I', 'slept', 'like', 'a', 'baby', '(something', 'I', 'have', 'not', 'done', 'for', 'nearly', 'a', 'year)', 'and', 'I', 'didnt', 'have', 'one', 'single', 'flash', 'all', 'night!', 'I', 'got', 'past', 'the', 'dry', 'mouth', 'and', 'drowsiness', 'and', 'now', 'I', 'have', 'no', 'side', 'effects', 'and', 'Im', 'my', 'old', 'self', 'again.', 'This', 'saved', 'my', 'sanity', 'and', 'gave', 'me', 'my', 'life', 'back!']),\n",
       "       list(['I', 'have', 'found', 'this', 'medication', 'at', 'only', '1mg', 'to', 'be', 'highly', 'effective', 'in', 'totally', 'eliminating', 'recurrent', 'episodes', 'of', 'afibrillation', 'even', 'after', 'an', 'ablation', 'procedure.', 'It', 'is', 'used', 'by', 'my', 'doctor', 'in', 'conjunction', 'with', 'metoprolol', '(toprol', 'XL', '25', 'mg)to', 'help', 'regulate', 'my', 'heartbeat', 'and', 'keep', 'it', 'regular.', 'The', 'dose', 'has', 'already', 'been', 'reduced', 'once', 'from', '2mg', 'and', 'my', 'cardiologist', 'hopes', 'to', 'be', 'able', 'to', 'reduce', 'it', 'even', 'further', 'to', '5mg.', 'No', 'side', 'effects', 'that', 'I', 'have', 'noticed.']),\n",
       "       list(['I', 'have', 'been', 'on', 'and', 'off', 'different', 'SSRIs', 'and', 'none', 'of', 'them', 'have', 'helped', 'e.g.', 'slept', 'my', 'life', 'away,', 'foggy', 'mind,', 'couldnt', 'concentrate,', 'no', 'feelings,', 'constant', 'ringing', 'in', 'my', 'ears,', 'low', 'libido.', 'I', 'started', 'on', 'Wellbutrin', 'XL', '15mg', 'for', '1', 'month', 'and', 'my', 'doc', 'upped', 'my', 'dose', 'to', 'mg.', 'My', 'experience', 'has', 'been', 'super', 'wonderful,', 'from', 'sleeping', 'too', 'much', 'I', 'am', 'now', 'going', 'to', 'bed', 'later', 'at', 'night', 'and', 'getting', 'up', 'earlier', 'amp', 'feel', 'refreshed.', 'I', 'cry', 'when', 'I', 'need', 'to', 'which', 'to', 'me', 'is', 'a', 'good', 'release.', 'I', 'am', 'always', 'busy.', 'I', 'have', 'redone', 'my', 'whole', 'home', 'amp', 'garden,', 'I', 'go', 'out', 'more', '(use', 'to', 'be', 'a', 'total', 'recluse).', 'I', 'sit', 'amp', 'have', 'my', 'coffee', 'out', 'on', 'the', 'patio', 'amp', 'watch', 'the', 'bird', 'life', 'and', 'find', 'so', 'much', 'joy', 'in', 'every', 'day', 'life.', 'I', 'have', 'found', 'an', 'inner', 'peace', 'with', 'Wellbutrin', 'XL', 'that', 'I', 'have', 'never', 'felt', 'before.', 'Big', 'thumbs', 'up', ':)']),\n",
       "       list(['Hideous', 'fungus', 'under', 'all', '1', 'toenails', 'since', 'age', '12,', 'Im', '52', 'now.', 'My', 'life', 'is', 'changed,', 'since', 'in', 'adolescence', 'and', 'even', 'until', 'today,', 'I', 'have', 'hidden', 'my', 'toes', 'and', 'suffered', 'ridicule', 'and', 'embarrassing', 'questions.', 'Been', 'taking', 'the', 'drug', 'for', '4', 'mths', 'as', 'I', 'write', 'this.', 'Its', 'a', 'miracle.', 'Big', 'toenails', 'have', 'cleared', 'beautifully', 'to', '5%', 'and', 'all', 'other', '8', 'nails', 'are', 'at', '%', 'or', 'better.', 'Taste', 'impacted', 'minimally(temporary).', 'Liver', 'function', 'normal.', 'Just', 'do', 'it.']),\n",
       "       list(['I', 'have', 'a', 'genetic', 'condition', 'called', 'Venous', 'Insufficiency,', 'which', 'doesnt', 'allow', 'the', 'blood', 'amp', 'fluid', 'to', 'be', 'returned', 'from', 'my', 'lower', 'legs', 'amp', 'feet,', 'so', 'they', 'swell', 'and', 'the', 'skin', 'can', 'start', 'to', 'break', 'down,', 'which', 'opens', 'up', 'the', 'opportunity', 'for', 'infection.', 'Have', 'been', 'taking', 'Furosemide', '4mg', '1x', 'day', 'for', 'over', 'a', 'year', 'now', '-', 'it', 'is', 'the', 'only', 'thing', 'that', 'keeps', 'me', 'from', 'being', 'in', 'the', 'hospital', 'all', 'the', 'time', 'with', 'infections', 'that', 'require', 'IV', 'antibiotics.', 'The', 'only', 'side', 'effects', 'Ive', 'noticed', 'are', 'the', 'very', 'frequent', 'urination', '(not', 'really', 'a', 'side', 'effect,', 'its', 'what', 'the', 'drug', 'is', '*supposed*', 'to', 'do,', 'as', 'it', 'flushes', 'fluids', 'out', 'of', 'the', 'body),', 'and', 'aching', 'in', 'my', 'legs', 'and', 'feet', 'as', 'the', 'fluid', 'leaves', '-', 'I', 'can', 'only', 'assume', 'that', 'is', 'caused', 'by', 'my', 'body', 'trying', 'to', 'push', 'the', 'fluid', 'out.']),\n",
       "       list(['After', 'years', 'of', 'chronic', 'pain', 'and', 'depression', 'that', 'responded', 'to', 'nothing', 'I', 'finally', 'asked', 'for', 'a', 'Vitamin', 'D', 'blood', 'test.', 'BINGO.', 'Low', 'normal', 'is', '4', '-', 'I', 'was', 'a', '4.', 'After', '8', 'weeks', 'of', 'once', 'a', 'week', 'doses', 'of', '5,', 'units,', 'and', 'a', 'daily', 'dose', 'of', '2', 'units,', 'I', 'am', 'feeling', 'better', 'than', 'I', 'have', 'in', 'years!', 'I', 'live', 'in', 'AZ', '-', 'low', 'D', 'can', 'happen', 'anywhere!']),\n",
       "       list(['Just', 'started', 'last', 'week.', 'So', 'far', 'I', 'love', 'it.', 'I', 'have', 'been', 'going', 'for', 'colonics', 'every', '1', 'days', 'just', 'to', 'empty', 'because', 'I', 'could', 'no', 'longer', 'do', 'it', 'myself.', 'My', 'doctor', 'even', 'suggested', 'removing', 'my', 'large', 'intestine', 'due', 'to', 'nerve', 'damage', 'and', 'lack', 'of', 'motility.', 'I', 'am', 'so', 'glad', 'I', 'tried', 'this', 'drug', 'first.', 'I', 'take', 'it', 'at', 'bedtime', 'and', 'I', 'do', 'get', 'up', 'a', 'few', 'hours', 'later', 'and', 'have', 'watery', 'stools', 'but', 'I', 'will', 'take', 'that', 'over', 'getting', 'up', 'all', 'night', 'and', 'pushing', 'myself', 'inside', 'out', 'with', 'no', 'results.', 'A', 'lot', 'of', 'people', 'writing', 'about', 'how', 'it', 'interferes', 'with', 'their', 'mornings', 'so', 'maybe', 'they', 'should', 'take', 'it', 'at', 'a', 'different', 'time', 'and', 'that', 'may', 'help.', 'I', 'never', 'knew', 'that', 'so', 'many', 'people', 'had', 'the', 'same', 'exact', 'problems', 'with', 'constipation', 'like', 'me.', 'Thank', 'you', 'to', 'everybody', 'who', 'took', 'time', 'to', 'post.', 'I', 'dont', 'feel', 'so', 'alone', 'now.']),\n",
       "       list(['I', 'have', 'had', 'allergies', 'and', 'severe', 'chronic', 'nasal', 'congestion', 'on', 'and', 'off', 'for', 'over', 'a', 'decade', 'now.', 'To', 'the', 'point', 'that', 'all', 'over', 'the', 'counter', 'meds', 'dont', 'work.', 'Even', 'paired', 'with', 'a', 'nasal', 'spray', 'I', 'got', 'no', 'relief.', 'About', 'a', 'week', 'ago,', 'what', 'my', 'doctor', 'suggested', 'was', 'to', 'continue', 'using', 'Claritin-D,', 'along', 'with', 'Flonase,', 'and', 'prescribed', 'Singulair', 'as', 'a', 'supplemental.', 'For', 'the', 'first', 'time', 'in', 'a', 'very', 'very', 'long', 'time', 'I', 'slept', 'through', 'the', 'night', 'without', 'waking', 'up', 'gasping', 'because', 'I', 'couldnt', 'breathe', 'due', 'to', 'the', 'congestion', 'and', 'pressure.', 'Also,', 'I', 'am', 'able', 'to', 'work', 'without', 'disturbing', 'my', 'coworkers', 'due', 'to', 'the', 'constant', 'nose', 'blowing,', 'sneezing', 'and', 'coughing.']),\n",
       "       list(['My', 'father,', 'a', 'brain', 'tumor', 'patient,', 'had', 'oral', 'thrush,', 'which', 'is', 'very', 'common', 'for', 'those', 'taking', 'long-term', 'Dilantin.', 'This', 'swish-and-swallow', 'medication', 'worked', 'wonders', 'for', 'him,', 'within', 'about', 'days.', 'Be', 'sure', 'to', 'take', 'it', 'for', 'the', 'full', 'prescription', 'period,', 'usually', '14', 'days.', 'Also,', 'the', 'longer', 'you', 'can', 'hold', 'the', 'gargle,', 'the', 'longer', 'the', 'contact', 'between', 'drug', 'and', 'organisms.', 'Thrush', 'can', 'also', 'move', 'from', 'the', 'mouth', 'into', 'the', 'throat,', 'and', 'it', 'can', 'recur', 'quickly,', 'so', 'out', 'of', 'sight', 'doesnt', 'necessarily', 'mean', 'anything.', 'Again,', 'take', 'it', 'for', 'the', 'full', 'period', 'recommended', 'by', 'the', 'doctor.']),\n",
       "       list(['Cant', 'live', 'without', 'having', 'this', 'in', 'by', 'medicine', 'cabinet.', 'At', 'the', 'onset', 'of', 'a', 'suspected', 'boil', 'I', 'take', 'this', 'and', 'problem', 'solved!', 'I', 'have', 'been', 'taking', 'this', 'for', 'many', 'years.', 'Before', 'Bactrim', 'I', 'had', 'boil', 'after', 'boil,', 'scars,', 'and', 'embarrassment.', 'Miracle', 'drug', 'for', 'boils,', 'who', 'cares', 'about', 'minor', 'side', 'effects!!!']),\n",
       "       list(['I', 'am', 'currently', 'using', 'Efudex', 'for', 'the', 'second', 'time.', 'My', 'first', 'experience', 'was', '11', 'years', 'ago.', 'The', 'issues', 'were', 'exactly', 'as', 'shared', 'by', 'many', 'others.', 'I', 'was', 'a', 'mess!', 'It', 'is', 'very', 'mentally', 'challenging', 'to', 'go', 'through', 'this,', 'but', 'I', 'can', 'assure', 'you', 'it', 'is', 'very', 'much', 'worth', 'making', 'the', 'commitment', 'to', 'complete', 'a', 'full', 'course', 'of', 'therapy.', 'It', 'was', 'absolutely', 'amazing', 'how', 'clear,', 'smooth,', 'and', 'clean', 'my', 'face', 'looked', 'about', 'a', 'month', 'after', 'stopping', 'treatment', '(I', 'used', 'a', 'topical', 'steriod', 'afterwards).', 'People', 'actually', 'thought', 'I', 'had', 'some', 'plastic', 'surgery', '(face', 'lift?).', 'I', 'am', 'at', 'it', 'again,', 'just', 'having', 'completed', 'my', 'first', 'week.', 'While', 'I', 'remain', 'self-conscious', 'about', 'how', 'bad', 'I', 'look,', 'it', 'bothers', 'me', 'much', 'less', 'because', 'I', 'know', 'the', 'outcome', 'will', 'be', 'well', 'worth', 'it.', 'Hang', 'in', 'there!']),\n",
       "       list(['I', 'love', 'the', 'drug', 'but', 'I', 'am', 'experiencing', 'EXCESSIVE', 'Weight', 'Gain.', 'I', 'began', 'the', 'medication', 'in', 'November', '27.', 'To', 'date,', 'I', 'have', 'gained', 'lbs.', 'Some', 'of', 'my', 'now', 'FAT', 'clothes', 'have', 'gotten', 'too', 'tight.:(', 'Has', 'anyone', 'else', 'experienced', 'this', 'problem??']),\n",
       "       list(['I', 'have', 'had', 'great', 'difficulty', 'sleeping', '(staying', 'asleep)', 'for', 'years', 'and', 'years', 'and', 'the', 'only', 'thing', 'that', 'really', 'works', 'to', 'help', 'me', 'get', 'a', 'good', 'night', 'sleep', 'and', 'also', 'help', 'with', 'my', 'fibromyalgia', 'is', 'Flexeril.', 'I', 'take', '5', 'mg', 'most', 'nights', 'and', 'on', 'occasion', 'possibly', '8', 'mg', '(breaking', 'the', '1', 'mg)', 'and', 'sleep', 'like', 'a', 'baby', 'with', 'no', 'painful', 'muscle', 'cramps', 'in', 'legs', 'and', 'come', 'completely', 'awake', 'in', 'the', 'mornings', 'with', 'a', 'cup', 'of', 'coffee.', 'The', 'wonderful', 'thing', 'about', 'Flexeril', 'is', 'that', 'it', 'also', 'relaxes', 'the', 'MIND', 'which', 'can', 'keep', 'a', 'person', 'awake', 'for', 'hours', 'thinking', 'and', 'rethinking', 'quotto-doquot', 'lists', 'as', 'well', 'as', 'other', 'anxious', 'thoughts.', 'I', 'have', 'taken', 'it', 'for', 'a', 'long', 'time', 'and', 'have', 'no', 'adverse', 'side', 'effects.']),\n",
       "       list(['After', 'years', 'of', 'suffering', 'with', 'GERD,', 'I', 'developed', 'Barretts', 'esophagus.', 'Tums,', 'Nexium,', 'Prilosec', '-', 'nothing', 'worked', 'for', 'me.', 'Since', 'I', 'began', 'taking', 'Dexilant,', 'I', 'have', 'had', 'zero', 'heartburn', 'and', 'zero', 'reflux.', 'Best', 'of', 'all,', 'my', 'recent', 'endoscopy', 'shows', 'incredible', 'healing', 'of', 'the', 'damage', 'to', 'my', 'esophagus.', 'Dexilant', 'has', 'proven', 'to', 'be', 'a', 'miracle', 'for', 'me.']),\n",
       "       list(['This', 'has', 'made', 'such', 'a', 'difference', 'to', 'my', 'life.', 'It', 'is', 'like', 'the', 'quotvoicequot', 'that', 'continues', 'to', 'tell', 'me', 'I', 'am', 'too', 'fat', 'and', 'that', 'all', 'the', 'quotbadquot', 'things', 'in', 'life', 'would', 'be', 'better', 'if', 'only', 'I', 'were', 'thinner,', 'has', 'weakened.', 'It', 'is', 'still', 'there', 'but', 'I', 'dont', 'have', 'to', 'listen,', 'if', 'fact', 'I', 'can', 'even', 'ignore', 'it.', 'What', 'a', 'relief.', 'It', 'has', 'made', 'me', 'realize', 'just', 'how', 'much', 'time', 'I', 'was', 'spending', 'listening', 'to', 'all', 'the', 'negative', 'thoughts,', 'planning', 'the', 'food,', 'covering', 'up', 'the', 'vomiting.', 'I', 'finally', 'feel', 'quotnormalquot', 'what', 'a', 'relief.']),\n",
       "       list(['I', 'had', 'been', 'suffering', 'from', 'severe', 'constipation', 'that', 'couldnt', 'be', 'cured', 'even', 'with', 'laxatives', 'for', '2', 'weeks', 'until', 'my', 'doctor', 'recommended', 'Miralax.', 'I', 'took', 'it', 'with', 'no', 'real', 'progress', 'for', 'days,', 'but', 'on', 'the', '4th', 'day', 'I', 'finally', 'started', 'having', 'normal', 'bowel', 'movements!', 'I', 'did', 'not', 'experience', 'any', 'side', 'effects', 'whatsoever', 'as', 'you', 'do', 'with', 'laxatives.', '(No', 'diarrhea,', 'gas,', 'bloating,', 'sudden', 'urgency,', 'etc.).', 'I', 'finally', 'had', 'complete', 'relief!', 'Also,', 'I', 'mixed', 'Miralax', 'with', 'cranberry', 'juice.', 'It', 'had', 'virtually', 'no', 'taste', 'and', 'dissolves', 'completely.', 'I', 'highly', 'recommend', 'this', 'to', 'anyone', 'suffering', 'from', 'constipation.']),\n",
       "       list(['I', 'have', 'found', 'that', 'as', 'a', '8', 'year', 'drug', 'addict', 'to', 'painkillers', 'I', 'was', 'able', 'to', 'focus', 'on', 'staying', 'off', 'my', 'drug', 'of', 'choice', 'by', 'taking', 'Adderall.', 'I', 'believe', 'it', 'has', 'helped', 'me', 'stay', 'clean', 'and', 'off', 'all', 'painkillers', 'for', '1', 'year', 'now.']),\n",
       "       list(['I', 'was', 'put', 'on', 'this', 'medication', 'along', 'with', 'a', 'very', 'low', 'dose', 'ACE', 'inhibitor', 'that', 'controls', 'my', 'blood', 'pressure.', 'The', 'Imdur', 'ER', 'is', 'being', 'used', 'to', 'alleviate', 'my', 'chest', 'pain', 'and', 'it', 'has', 'done', 'so', 'completely.', 'I', 'have', 'not', 'have', 'one', 'single', 'flair', 'up', 'at', 'all', 'since', 'starting', 'it!', 'The', 'only', 'down', 'fall', 'is', 'the', 'headache', 'that', 'I', 'have', 'had.', 'I', 'am', 'going', 'to', 'call', 'my', 'cardiologist', 'today', 'to', 'see', 'if', 'I', 'can', 'take', 'anything', 'for', 'that.', 'I', 'still', 'give', 'it', 'a', '1', 'even', 'with', 'the', 'headache', 'because', 'the', 'chest', 'pain', 'was', 'worse', 'than', 'the', 'headache!']),\n",
       "       list(['Ive', 'used', 'Lovaza', 'for', 'about', '8', 'months', 'and', 'triglycerides', 'are', 'now', ',', 'before', 'it', 'was', '.', 'My', 'family,', 'sister', 'and', 'father', 'have', 'very', 'high', 'triglycerides.', 'This', 'is', 'the', 'only', 'drug', 'that', 'has', 'ever', 'worked', 'for', 'me', 'and', 'Ive', 'used', 'them', 'all.', 'I', 'got', 'my', 'sister', 'to', 'tell', 'her', 'Doctor', 'about', 'it', 'and', 'he', 'put', 'her', 'on', 'Omacor,', 'hers', 'went', 'from', '1', 'to', '25', 'in', 'months.', 'I', 'just', 'wonder', 'how', 'common', 'this', 'illness', 'is.']),\n",
       "       list(['I', 'have', 'been', 'receiving', 'Lupron', 'or', 'Eligard', 'every', '6', 'months', 'for', 'ten', 'years', 'to', 'help', 'reduce', 'the', 'growth', 'of', 'prostate', 'cancer.', 'Early', 'research', 'reports', 'indicated', 'that', 'one', 'side', 'effect', 'might', 'be', 'peripheral', 'neuropathy.', 'That', 'started', 'to', 'develop', 'in', 'my', 'feet', 'shortly', 'after', 'I', 'was', 'put', 'on', 'Lupron.', 'Loss', 'of', 'bone', 'mass', 'has', 'also', 'been', 'associated', 'with', 'Lupron.', 'I', 'have', 'begun', 'taking', '12', 'units', 'of', 'calcium', 'VitaminD', 'each', 'day.', 'My', 'PSA', 'scores', 'have', 'all', 'continued', 'to', 'be', 'below', '.1.', 'I', 'have', 'no', 'major', 'complaints,', 'and', 'have', 'learned', 'to', 'live', 'with', 'the', 'side', 'effects.']),\n",
       "       list(['My', 'COPD', 'was', 'not', 'getting', 'any', 'easier', 'to', 'live', 'with.', 'I', 'stopped', 'taking', 'one', 'medicine', 'because', 'it', 'seemed', 'to', 'just', 'make', 'things', 'worse.', 'The', 'Dr', 'was', 'not', 'very', 'helpful.', 'But', 'she', 'did', 'say', 'well', 'you', 'can', 'try', 'Spiriva.', 'I', 'waited', 'almost', 'a', 'week', 'to', 'try', 'it.', 'But', 'when', 'I', 'had', 'some', 'time', 'off', 'from', 'work,', 'I', 'decided', 'it', 'was', 'time', 'to', 'give', 'it', 'a', 'shot.', 'I', 'felt', 'better', 'quickly,', 'but', 'only', 'for', 'a', 'few', 'hours.', 'I', 'continued', 'using', 'it,', 'and', 'I', 'must', 'say', 'that', 'after', 'weeks,', 'I', 'am', 'feeling', 'much', 'better.', 'I', 'got', 'up', 'this', 'morning', 'and', 'did', 'not', 'even', 'reach', 'for', 'the', 'Albuterol.', 'I', 'am', 'hopeful', 'now', 'and', 'I', 'do', 'recommend', 'this', 'medication.', 'Side', 'effects', 'have', 'been', 'minor.', 'Dry', 'mouth', 'is', 'the', 'only', 'thing', 'I', 'can', 'link', 'to', 'the', 'medicine.', 'I', 'have', 'started', 'taking', 'Potassium', 'supplements', 'again', 'to', 'overcome', 'the', 'leg', 'cramps', 'which', 'may', 'be', 'a', 'side', 'effect.']),\n",
       "       list(['I', 'had', 'a', '4.8', 'mm', 'stone', 'that', 'had', 'been', 'plaguing', 'me', 'for', 'weeks.', 'I', 'had', 'been', 'taking', 'pain', 'medicines', 'off', 'and', 'on', 'as', 'needed', 'and', 'drinking', 'plenty', 'of', 'water', 'but', 'I', 'could', 'tell', '(plenty', 'of', 'experience)', 'that', 'the', 'stone', 'was', 'hung', 'up', 'just', 'before', 'entering', 'the', 'bladder', 'in', 'the', 'narrowest', 'part', 'of', 'the', 'ureter.', 'I', 'called', 'the', 'urologist', 'to', 'ask', 'for', 'a', 'prescription', 'for', 'Flomax.', 'They', 'were', 'hesitant', '-', 'didnt', 'think', 'I', 'could', 'pass', 'it.', 'Long', 'story', 'short,', 'they', 'prescribed,', 'I', 'took', 'it,', 'stone', 'passed', 'less', 'than', '24', 'hours', 'later.', 'Flomax', 'pain', 'medicines', 'plenty', 'of', 'water', '=', 'passing', 'kidney', 'stone', 'quickly', 'and', 'inexpensively.']),\n",
       "       list(['It', 'helps', 'me', 'a', 'lot', 'and', 'I', 'dont', 'know', 'what', 'Id', 'do', 'without', 'it.', 'It', 'has', 'changed', 'my', 'life.', 'Thank', 'you', 'to', 'whoever', 'made', 'this', 'drug.']),\n",
       "       list(['I', 'am', 'in', 'the', 'medical', 'field', 'and', 'this', 'is', 'by', 'far', 'the', 'best', 'antibiotic', 'you', 'can', 'get', 'outside', 'of', 'the', 'hospital.', 'If', 'you', 'have', 'a', 'bacterial', 'infection', 'in', 'your', 'lungs', 'and', 'you', 'want', 'it', 'to', 'clear', 'up', 'right', 'away', 'then', 'this', 'is', 'the', 'medicine', 'for', 'you.', 'On', 'the', 'downside', 'it', 'is', 'a', 'very', 'expensive', 'but', 'at', 'some', 'point', 'you', 'get', 'tired', 'of', 'being', 'sick', 'and', 'realize', 'it', 'is', 'worth', 'every', 'single', 'penny.', 'You', 'will', 'be', 'well', 'in', 'no', 'time!']),\n",
       "       list(['I', 'had', 'a', 'terrible', 'case', 'of', 'Chronic', 'Prostatitis', 'caused', 'by', 'enterococcus.', 'All', 'antibiotics', 'that', 'this', 'bacteria', 'was', 'sensitive', 'to', 'would', 'not', 'enter', 'the', 'protaste', 'gland', 'properly.', 'My', 'doctor', 'prescribed', '6', 'others', 'antibiotics', 'before', 'Avelox.', 'Thank', 'God', 'Avelox', 'killed', 'this', 'nasty', 'infection.', 'I', 'had', 'to', 'take', 'it', 'for', '6', 'weeks.', 'After', 'the', 'second', 'week', 'I', 'was', 'feeling', 'normal', 'again', '(after', '1', 'months', 'of', 'fighting).', 'Magic', 'little', 'red', 'pills.']),\n",
       "       list(['Deplin', 'has', 'given', 'me', 'my', 'life', 'back.', 'It', 'has', 'enabled', 'me', 'to', 'gain', 'control', 'of', 'my', 'emotional', 'roller', 'coaster,', 'my', 'anger', 'outbursts', 'and', 'become', 'a', 'more', 'down', 'to', 'earth', 'person', 'who', 'is', 'now', 'approachable', '-', 'when', 'before', 'I', 'wasnt.', 'I', 'was', 'lucky,', 'my', 'therapist', 'recommended', 'me', 'to', 'be', 'tested', 'for', 'MTHFR', 'because', 'I', 'also', 'have', 'Factor', 'V', 'Leiden', 'and', 'MTHFR', 'is', 'found', 'higher', 'in', 'those', 'with', 'Factor', 'V', '(both', 'are', 'genetic', 'disorders).', 'After', 'my', 'results,', 'she', 'gave', 'me', 'Deplin', 'and', 'the', 'next', 'day', 'I', 'woke', 'up', 'a', 'new', 'person.', 'My', 'husband', 'and', 'family', 'are', 'amazed', 'and', 'Im', 'now', 'capable', 'of', 'being', 'the', 'wife', 'and', 'mother', 'that', 'I', 'want', 'to', 'be.', 'I', 'am', 'so', 'happy', '-', 'and', 'so', 'amazed.', 'And', 'I', 'feel', 'WHOLE', 'again.']),\n",
       "       list(['I', 'started', 'taking', 'Lexapro', 'about', '2', '1/2', 'years', 'ago.', 'I', 'had', 'gone', 'to', 'my', 'doctor', 'because', 'I', 'was', 'having', 'perimenopausal', 'symptoms,', 'the', 'worst', 'of', 'which', 'was', 'not', 'sleeping.', 'I', 'would', 'have', 'several', 'days', 'in', 'a', 'row', 'where', 'I', 'couldnt', 'sleep.', 'I', 'was', 'also', 'having', 'trouble', 'controlling', 'my', 'anger.', 'The', 'out', 'of', 'control', 'rage', 'was', 'so', 'unlike', 'me.', 'Lexapro', 'has', 'been', 'wonderful', 'for', 'me.', 'I', 'take', '1', 'mg', 'once', 'a', 'day.', 'I', 'take', 'it', 'in', 'the', 'morning.', 'I', 'am', 'not', 'tired', 'during', 'the', 'day,', 'but', 'now', 'I', 'sleep', 'great', 'at', 'night.', 'I', 'also', 'have', 'much', 'better', 'anger-control.', 'No', 'more', 'rages.']),\n",
       "       list(['I', 'started', 'using', 'this', 'in', 'combination', 'with', 'propranolol', 'for', 'my', 'tremor.', 'I', 'take', '8', 'mg', 'of', 'the', 'propranolol', 'in', 'the', 'morning', 'and', '5mg', 'of', 'Primidone', 'before', 'bed.', 'I', 'had', 'been', 'taking', 'the', 'propranolol', 'for', '6-7', 'years', 'already', 'and', 'it', 'cuts', 'the', 'intensity', 'of', 'my', 'tremors', 'by', '5-7%.', 'By', 'adding', 'Primidone', 'as', 'a', 'combination', 'therapy', 'I', 'would', 'say', 'that', 'its', '8-5%', 'reduced.', 'If', 'you', 'have', 'a', 'hereditary', 'tremor', 'like', 'this', 'you', 'should', 'ask', 'your', 'doctor', 'about', 'these', 'medicines.', 'Good', 'Luck!']),\n",
       "       list(['This', 'medication', 'has', 'been', 'very', 'very', 'effective.', 'I', 'was', 'almost', 'debilitated', 'with', 'gout', 'attacks', 'and', 'continued', 'use', 'of', 'indomethecin.', 'It', 'only', 'has', 'one', 'bad', 'side', 'effect', 'for', 'me', 'and', 'that', 'is', 'excessive', 'sweating.', 'Sometimes', 'I', 'will', 'have', 'hot', 'coffee', 'for', 'breakfast', 'and', 'have', 'to', 'change', 'my', 'shirt', 'afterwards.', 'At', 'times', 'in', 'public', 'it', 'is', 'embarrassing.', 'But', 'its', 'a', 'lot', 'better', 'than', 'having', 'a', 'gout', 'attack.']),\n",
       "       list(['I', 'had', 'been', 'prescribed', 'this', 'for', 'pain', 'but', 'had', 'caught', 'a', 'cold.', 'I', 'read', 'that', 'hydrocodone', 'is', 'used', 'for', 'cough,', 'so', 'I', 'tried', 'it.', 'I', 'had', 'one', 'of', 'those', 'coughs', 'that', 'just', 'doesnt', 'let', 'up', 'and', 'makes', 'you', 'nuts', 'because', 'you', 'cant', 'sleep,', 'eat,', 'talk,', 'etc.', 'Within', 'a', 'half', 'hour', 'of', 'taking', 'a', 'Vicodin', '1,', 'I', 'finally', 'stopped', 'coughing', 'uncontrollably.', 'It', 'worked', 'better', 'than', 'the', 'codeine', 'I', 'had', 'taken', 'years', 'ago', 'for', 'cough.', 'I', 'only', 'needed', 'it', 'for', '2', 'days', 'for', 'the', 'cough', 'and', 'it', 'was', 'a', 'lifesaver.']),\n",
       "       list(['I', 'have', 'Extreme', 'Acid', 'Reflux', 'for', 'about', '2', 'years', 'now,', 'I', 'wake', 'up', 'in', 'the', 'early', 'mornings', 'feeling', 'extremely', 'nauseous', 'like', 'Im', 'one', 'second', 'from', 'throwing', 'up,', 'every', 'single', 'day.', 'I', 'also', 'go', 'to', 'bed', 'every', 'night', 'with', 'burning', 'acid', 'coming', 'up', 'into', 'the', 'back', 'of', 'my', 'throat,', 'making', 'my', 'throat', 'sore,', 'like', 'I', 'swallowed', 'glass', 'every', 'day.', 'I', 'get', 'this', 'feeling', 'constantly,', 'sour', 'stomach', 'amp', 'nauseous', '24/7.', 'Its', 'horrible', 'amp', 'made', 'me', 'miserable!', 'I', 'would', 'eat', 'quotTums', '1quot', 'by', 'the', 'bulk', 'bottles,', 'they', 'worked', 'in', 'the', 'beginning', 'but', 'then', 'stopped', 'working.', 'I', 'was', 'in', 'Meijers', 'one', 'day', 'looking', 'for', 'something', 'else', 'for', 'my', 'sour', 'nauseous', 'stomach', 'amp', 'they', 'had', 'quotZantac', '15quot', '65', 'count', 'bottle', 'on', 'sale', 'for', '$..', 'So', 'I', 'reluctantly', 'bought', 'them', 'and', 'to', 'my', 'amaze', 'they', 'actually', 'did', 'work.', 'Completely', 'took', 'it', 'away!']),\n",
       "       list(['Ive', 'been', 'using', 'Carac', 'off', 'and', 'on', 'for', 'over', 'a', 'year.', 'I', 'did', 'my', 'face', 'for', 'three', 'weeks,', 'then', 'my', 'chest,', 'then', 'my', 'back.', 'I', 'am', 'now', 'going', 'back', 'over', 'specific', 'areas', 'of', 'my', 'face.', 'This', 'cream', 'is', 'amazing.', 'It', 'is', 'somewhat', 'painful', 'and', 'quite', 'unattractive', 'visually', 'as', 'you', 'are', 'going', 'through', 'the', 'treatment,', 'but', 'the', 'results', 'are', 'worth', 'it.', 'My', 'skin', 'doesnt', 'have', 'rough', 'red', 'patches', 'of', 'scaly', 'skin', 'anymore', 'and', 'no', 'more', 'discoloration.', 'I', 'would', 'definitely', 'recommend', 'it!']),\n",
       "       list(['Since', 'I', 'was', 'on', 'the', 'trials', 'I', 'put', '6+', 'months', 'but', 'I', 'have', 'been', 'back', 'on', 'Afrezza', 'for', 'about', '2', 'weeks.', 'Afrezza', 'is', 'nothing', 'short', 'of', 'a', 'miracle.', 'I', 'am', 'a', 'type', '1', 'diabetic', 'and', 'my', 'blood', 'sugar', 'average', 'in', 'the', 'past', '1', 'days', 'has', 'been', '11.', 'I', 'have', 'a', 'CGM', 'so', 'I', 'have', 'had', '288', 'readings', 'in', 'the', 'past', '1', 'days.', 'A', '11', 'average', 'equals', 'to', 'an', 'A1C', 'of', '5.45.', 'This', 'is', 'possible', 'because', 'Afrezza', 'mimics', 'the', 'speed', 'of', 'a', 'healthy', 'pancreas.', 'Afrezza', 'starts', 'working', 'in', 'only', '12-15', 'minutes', 'and', 'works', 'out', 'of', 'my', 'system', 'very', 'quickly.', 'This', 'allows', 'me', 'to', 'manage', 'my', 'glucose', 'in', 'real', 'time', 'without', 'babysitting', 'diabetes', 'all', 'day.', 'Even', 'if', 'I', 'do', 'have', 'a', 'high', 'I', 'can', 'knock', 'my', 'sugars', 'back', 'to', '1', 'in', 'a', 'matter', 'of', 'minutes.']),\n",
       "       list(['I', 'began', 'suffering', 'from', 'Chronic', 'Fatigue', 'Syndrome', 'about', 'a', 'year', 'ago.', 'Didnt', 'know', 'I', 'had', 'it,', 'just', 'knew', 'I', 'was', 'sleeping', 'more', 'than', 'I', 'was', 'awake.', 'Just', 'diagnosed', 'in', 'January', 'and', 'have', 'been', 'taking', 'Nuvigil', 'since', 'then.', 'Started', 'at', '15', 'mg', 'a', 'day,', 'but', 'it', 'wore', 'off', 'by', 'mid', 'afternoon.', 'Have', 'since', 'increased', 'the', 'dosage', 'to', 'two', 'pills', 'a', 'day.', 'I', 'take', 'the', 'second', 'pill', 'in', 'the', 'afternoon', 'and', 'it', 'keeps', 'me', 'going', 'for', 'another', '6', 'hours', 'or', 'so.', 'I', 'havent', 'had', 'to', 'take', 'a', 'nap', 'since', 'I', 'started', 'taking', 'the', 'medication', 'and', 'I', 'am', 'able', 'to', 'concentrate', 'more.', 'I', 'feel', 'more', 'alert', 'and', 'can', 'get', 'much', 'more', 'accomplished', 'during', 'the', 'day.', 'I', 'dont', 'have', 'trouble', 'sleeping', 'or', 'staying', 'asleep.', 'This', 'medication', 'has', 'been', 'a', 'miracle', 'that', 'has', 'given', 'me', 'back', 'my', 'life.']),\n",
       "       list(['I', 'was', 'feeling', 'extremely', 'tired', 'and', 'unmotivated', 'after', 'a', 'short', 'time', 'since', 'beginning', 'night', 'shift', '(emergency', 'worker)', 'duty.', 'My', 'doctor', 'prescribed', 'Provigil.', 'I', 'had', 'never', 'even', 'heard', 'of', 'it', 'before.', 'This', 'is', 'what', 'I', 'need.', 'I', 'am', 'wide', 'awake', 'when', 'I', 'need', 'to', 'be,', 'either', 'day', 'or', 'night', 'and', 'I', 'can', 'still', 'catch', 'a', 'cat', 'nap', 'on', 'duty,', 'and', 'I', 'dont', 'have', 'trouble', 'sleeping', 'in', 'the', 'daytime', 'anymore.', 'I', 'know', 'many', 'people', 'on', 'provigil', 'in', 'emergency', 'services.', 'Almost', 'all', 'of', 'us', 'work', 'nights', 'or', 'rotating', 'shifts.', 'I', 'cant', 'say', 'I', 'have', 'heard', 'of', 'any', 'ill', 'side', 'effects', 'other', 'than', 'dehydration', 'and', 'headache.', 'Drank', 'more', 'water', 'and', 'it', 'all', 'went', 'away.']),\n",
       "       list(['I', 'began', 'using', 'fresh', 'Turmeric', 'root', 'for', 'the', 'first', 'time', 'directly', 'after', 'a', 'traumatic', 'injury', 'to', 'my', 'elbow', 'and', 'shoulder.', 'The', 'pain', 'was', 'excruciating.', 'I', 'made', 'a', 'cup', 'of', 'tea', 'consisting', 'of', 'a', 'teaspoon', 'of', 'fresh', 'ground', 'Turmeric', 'root,', 'and', 'a', 'teaspoon', 'of', 'fresh', 'ground', 'Ginger', 'root,', 'sweetened', 'to', 'taste.', 'The', 'pain', 'was', 'gone', 'within', '15', 'minutes.', 'I', 'decided', 'to', 'incorporate', 'the', 'root', 'into', 'my', 'diet,', 'once', 'a', 'day', 'for', 'arthritic', 'pain', 'management.', 'Some', 'days,', 'if', 'I', 'dont', 'feel', 'like', 'having', 'tea,', 'so', 'I', 'just', 'incorporate', 'turmeric', 'powder', 'into', 'food', 'that', 'I', 'cook', 'at', 'the', 'end', 'of', 'the', 'cooking', 'cycle.', 'I', 'am', 'pain', 'free,', 'healthy', 'and', 'now', 'sleep', 'soundly.', 'I', 'am', 'convinced', 'that', 'the', 'roots', 'immune', 'system', 'boosting', 'properties', 'is', 'the', 'secret.']),\n",
       "       list(['I', 'have', 'been', 'taking', 'Soma', 'for', '14', 'years', 'and', 'Drs', 'have', 'tried', 'giving', 'me', 'other', 'muscle', 'relaxants', 'that', 'do', 'not', 'work.', 'When', 'I', 'first', 'started', 'taking', 'them', 'I', 'felt', 'relief', 'very', 'fast.', 'My', 'script', 'is', 'for', '4', 'a', 'day.', 'I', 'usually', 'take', '2', 'at', 'bedtime', 'and', 'they', 'give', 'me', 'the', 'rest', 'I', 'need.', 'They', 'are', 'great', 'for', 'leg', 'cramps', 'and', 'any', 'other', 'muscle', 'problems', 'you', 'may', 'have.', 'They', 'have', 'never', 'made', 'me', 'feel', 'weird', 'or', 'out', 'of', 'it.', 'They', 'dont', 'make', 'me', 'feel', 'drowsy', 'the', 'next', 'day.', 'If', 'I', 'am', 'having', 'a', 'really', 'bad', 'day', 'I', 'will', 'take', 'one', 'mid', 'morning', 'and', 'then', 'in', 'the', 'late', 'afternoon.', 'These', 'work', 'the', 'best', 'and', 'I', 'am', 'not', 'addicted', 'to', 'them.']),\n",
       "       list(['I', 'have', 'severe', 'plaque', 'psoriasis', 'and', 'in', 'just', 'months', 'it', 'is', 'like', 'night', 'and', 'day', 'with', 'just', 'a', 'trace', 'of', 'it', 'left.', 'it', 'is', 'not', 'a', 'shot', 'just', '2', 'pills', 'a', 'day.', 'I', 'fell', 'better', 'at', 'this', 'time.', 'Much', 'clearer', 'then', 'I', 'was', 'with', 'Embrel.', 'I', 'gave', 'it', 'a', 'only', 'because', 'there', 'is', 'always', 'something', 'they', 'will', 'improve', 'on', 'but', 'I', 'am', 'very', 'happy', 'with', 'it.']),\n",
       "       list(['I', 'have', 'been', 'on', 'Diamox', 'for', 'many', 'years.', 'Started', 'out', 'with', 'tunnel', 'vision', 'and', 'then', 'found', 'to', 'have', 'pseudotumor', 'cerebri', '(which', 'my', 'mom', 'has', 'too).', 'I', 'have', 'even', 'had', 'lumbar', 'punctures', 'to', 'drain', 'the', 'fluid', 'off', 'my', 'brain', 'as', 'well', 'in', 'the', 'beginning.', 'This', 'medication', 'has', 'worked', 'wonders.', 'I', 'did', 'have', 'tingling', 'and', 'numbness', 'in', 'my', 'feet,', 'finger,', 'nose,', 'lips', 'but', 'that', 'eased', 'off', 'by', 'taking', 'Vitamin', 'C', 'or', 'eating', 'oranges,', '(this', 'was', 'recommended', 'by', 'my', 'doctor', 'and', 'it', 'works).', 'Now', 'the', 'tingling', 'and', 'numbness', 'are', 'gone.', 'I', 'dont', 'know', 'what', 'I', 'would', 'have', 'done', 'without', 'this', 'medication.', 'Now', 'all', 'I', 'do', 'is', 'take', 'the', 'medicine', 'once', 'a', 'day', 'and', 'move', 'on', 'with', 'my', 'life.', 'Please', 'hang', 'in', 'there', 'and', 'dont', 'get', 'discouraged.']),\n",
       "       list(['Atarax', 'is', 'the', 'best', 'for', 'relieving', 'nausea,', 'especially', 'while', 'taking', 'pain', 'killers.', 'I', 'have', 'a', 'broken', 'tailbone', 'and', 'am', 'taking', 'Vicodin,', 'which', 'makes', 'me', 'so', 'sick.', 'I', 'take', '5', 'mg', 'of', 'Atarax', 'and', 'the', 'nausea', 'is', 'gone', 'within', '2', 'minutes.', 'It', 'is', 'GREAT.', 'Also', 'helps', 'with', 'anxiety', 'and', 'hives.']),\n",
       "       list(['Id', 'never', 'been', 'regular,', 'my', 'whole', 'life,', 'it', 'was', 'always', 'a', 'problem', 'that', 'I', 'was', 'lucky', 'if', 'it', 'resolved', 'itself', 'every', 'or', '4', 'days,', 'but', 'then', 'once', 'I', 'aged', 'and', 'my', 'rheumatoid', 'arthritis', 'advanced', 'to', 'a', 'debilitating', 'degree,', 'I', 'had', 'to', 'go', 'on', 'opiates...oh', 'dear.', '7-8', 'days', 'or', 'even', 'more', 'of', 'being', 'bound', 'up', 'became', 'the', 'norm.', 'It', 'was', 'REALLY', 'painful!', 'The', 'only', 'way', 'I', 'could', 'help', 'myself', 'was', 'to', 'stop', 'taking', 'my', 'pain', 'meds', 'and', 'overdose', 'on', 'laxatives', 'and', 'enemas', 'every', 'few', 'days.', 'That', 'usually', 'worked', 'within', '24', 'hrs,', 'but', 'it', 'really', 'isnt', 'good', 'for', 'you.', 'I', 'finally', 'confessed', 'to', 'my', 'gastroenterologist', 'that', 'this', 'was', 'going', 'on', 'and', 'he', 'prescribed', 'me', 'Amitiza.', 'It', 'took', 'a', 'week', 'to', 'work', 'for', 'me,', 'but', 'now', 'I', 'have', 'the', 'exact', 'opposite', 'problem.', 'Im', 'on', '24', 'mcg', '2x', 'daily.', 'I', 'think', 'maybe', 'it', 'needs', 'to', 'be', 'just', 'once!']),\n",
       "       list(['Works', 'as', 'promised', 'with', 'no', 'side', 'effects.', 'BM', 'starts', 'right', 'away.', 'Acts', 'fast.']),\n",
       "       list(['Just', 'finished', 'my', 'fourth', 'week', 'of', 'harvoni.', 'No', 'side', 'effects', 'worth', 'mentioning.', 'Nice', 'surprises,', 'eye', 'whites', 'became', 'WHITE', 'the', 'second', 'week,', 'urine', 'pale', 'yellow,', 'my', 'limbs', 'and', 'joints', 'feel', 'lighter,', 'I', 'have', 'great', 'energy,', 'anxiety', 'which', 'was', 'ever', 'present', 'melted', 'away,', 'I', 'sleep', 'better', 'and', 'wake', 'rested,', 'I', 'have', 'a', 'real', 'appetite', '(not', 'because', 'of', 'or', 'to', 'quench', 'nausea', '-', 'which', 'is', 'gone', 'too).', 'I', 'feel', 'like', 'I', 'am', 'brand', 'new.', 'Mental', 'sharpness,', 'clarity', 'and', 'concentration', 'much', 'better', 'too.', 'Had', 'the', 'darn', 'disease', 'so', 'long', 'I', 'forgot', 'what', 'feeling', 'good', 'really', 'meant.', '1st', 'blood', 'test', 'tomorrow,', 'I', 'started', 'at', '1', 'million....', 'Ill', 'be', 'a', 'monkeys', 'uncle', 'if', 'its', 'not', 'working.', 'I', 'feel', 'fantastic!', 'Thank', 'you', 'Gilead,', 'my', 'hero.']),\n",
       "       list(['My', 'mom', 'just', 'celebrated', 'her', '1', 'year', 'anniversary', 'on', 'Sinemet', 'so', 'I', 'wanted', 'to', 'share', 'an', 'update', 'to', 'give', 'anyone', 'newly', 'diagnosed', 'hope.', 'Her', 'dose', 'is', 'now', '4', 'tablets', 'a', 'day', '(25/1),', 'which', 'she', 'takes', 'at', ':am,', '1:pm,', '5:pm', 'and', ':pm.', 'We', 'increased', 'from', 'tablets', 'a', 'day', 'probably', 'around', 'month', 'six,', 'and', 'shes', 'been', 'really', 'doing', 'well', 'since', 'then.', 'No', 'tremors,', 'no', 'obvious', 'rigidity', '(or', 'any', 'Parkinsons', 'symptoms', 'at', 'all),', 'good', 'appetite.', 'Zero', 'side', 'effects', 'from', 'the', 'Sinemet,', 'which', 'is', 'why', 'I', 'say', 'quotcelebrated.quot', 'This', 'is', 'a', 'remarkably', 'effective', 'and', 'very', 'affordable', 'medication.', 'Mom', 'will', 'turn', '88', 'in', 'May.', 'Wishing', 'everyone', 'the', 'success', 'that', 'we', 'have', 'had.', 'God', 'bless.']),\n",
       "       list(['I', 'started', 'by', 'getting', 'sick', 'after', 'eating,', 'then', 'nightmares,', 'sleeplessness,', 'panic', 'attacks,', 'agoraphobia,', 'high', 'anxiety,', 'and', 'being', 'diagnosed', 'with', 'post', 'traumatic', 'stress', 'disorder.', 'I', 'was', 'put', 'on', 'different', 'medicines', 'by', 'different', 'doctors', 'and', 'nothing', 'worked.', 'The', 'different', 'meds', 'made', 'me', 'gain', '4lbs,', 'gave', 'me', 'diabetes,', 'dyskinesia,', 'and', 'SSRIs', 'have', 'horrible', 'withdrawal', 'symptoms', 'when', 'you', 'run', 'out', 'of', 'medicines.', 'A', 'new', 'VA', 'doctor', 'recently', 'prescribed', 'Prazosin.', 'After', 'three', 'days,', 'I', 'no', 'longer', 'felt', 'like', 'I', 'was', 'constantly', 'shaking', 'inside', 'me.', 'I', 'dont', 'feel', 'like', 'a', 'speaker', 'reverberating', 'through', 'me', 'when', 'I', 'hear', 'a', 'loud', 'or', 'sudden', 'noise.', 'I', 'went', 'from', 'sleeping', '4-5', 'hours', 'per', 'night', 'to', 'double', 'that.', 'I', 'dont', 'have', 'nightmares', 'anymore,', 'and', 'I', 'stopped', 'getting', 'sick', 'from', 'anxiety.', 'Prazosin', 'is', 'a', 'miracle', 'to', 'me.']),\n",
       "       list(['Pills', 'are', 'very', 'small', 'and', 'easy', 'to', 'swallow.', 'I', 'have', 'no', 'side', 'effects', 'from', 'this', 'medication.', 'I', 'use', 'it', 'to', 'prevent', 'serious', 'urinary', 'tract', 'and', 'bladder', 'infections.', 'I', 'take', 'it', 'after', 'sexual', 'intercourse', 'and', 'it', 'does', 'prevent', 'UTIs', 'for', 'me.', 'I', 'wouldnt', 'want', 'to', 'live', 'without', 'this', 'medication.']),\n",
       "       list(['I', 'just', 'want', 'to', 'say', 'that', 'Drysol', 'really', 'works', 'for', 'me,', 'its', 'been', '2', 'weeks', 'now', 'and', 'Ive', 'used', 'it', 'like', '-4', 'times', 'and', 'havent', 'seen', 'a', 'drop', 'from', 'my', 'armpits', 'yet.', 'Let', 'me', 'tell', 'you', 'how', 'good', 'Drysol', 'is', '-', 'I', 'put', 'it', 'on', 'Thursday,', 'the', 'day', 'I', 'got', 'it,', 'and', 'my', 'armpits', 'were', 'dry', 'that', 'whole', 'weekend.', 'All', 'I', 'did', 'is', 'took', 'a', 'shower', 'for', 'everyday', 'I', 'went', 'out,', 'Friday,', 'Saturday', 'and', 'on', 'Sunday', 'I', 'was', 'at', 'the', 'game.', 'I', 'didnt', 'have', 'time', 'to', 'put', 'it', 'on', 'more', 'than', 'once', 'that', 'whole', 'weekend', 'and', 'my', 'armpits', 'were', 'dried.', 'Nothing', 'works', 'like', 'Drysol.', 'Im', 'writing', 'this', 'because', 'I', 'hope', 'this', 'post', 'helps', 'someone', 'else.', 'I', 'did', 'a', 'lot', 'of', 'research', 'but', 'Im', 'done.', 'This', 'is', 'my', 'last', 'stop.', 'I', 'just', 'wanted', 'to', 'leave', 'feedback', 'and', 'big', 'thanks', 'to', 'people', 'who', 'made', 'it.']),\n",
       "       list(['Im', 'a', '22', 'year', 'old', 'Female.', '(115/51)', 'Long', 'story', 'short,', 'I', 'found', 'out', 'I', 'had', 'Tachycardia', 'and', 'experienced', 'palpitations', 'as', 'well.', 'I', 'had', 'extreme', 'anxiety', 'because', 'of', 'it', 'which', 'made', 'it', 'worse.', 'I', 'got', 'prescribed', 'Metoprolol', 'Tartrate', 'twice', 'a', 'day', 'at', 'first', 'and', 'it', 'was', 'a', 'nightmare.', 'It', 'actually', 'had', 'like', 'a', 'reverse', 'reaction', 'on', 'me', 'and', 'gave', 'me', 'constant', 'flutters', 'for', 'a', 'whole', 'day.', 'The', 'doctor', 'told', 'me', 'to', 'take', 'Magnesium', 'twice', 'a', 'day', 'with', 'it', 'and', 'it', 'would', 'help', 'and', 'it', 'definitely', 'did.', 'I', 'eventually', 'switched', 'to', 'the', 'extended', 'release,', 'once', 'a', 'day,', 'along', 'with', 'Magnesium', 'and', 'I', 'couldnt', 'be', 'happier.', 'I', 'feel', 'a', 'lot', 'more', 'relaxed', 'and', 'normal.', 'Had', 'few', 'palps', 'still', 'with', 'Tartrate', 'but', 'not', 'with', 'Succinate', '(yet).', 'I', 'wanted', 'to', 'wait', 'to', 'write', 'a', 'review', 'because', 'I', 'know', 'I', 'relied', 'on', 'reviews.', 'Hope', 'this', 'helps!']),\n",
       "       list(['Im', 'yrs', 'young', '14', 'lbs', 'I', 'have', 'severe', 'acid', 'reflux', '.', 'I', 'was', 'having', 'a', 'hard', 'time', 'eating', 'everything', '.', 'I', 'started', 'taking', 'Zantac', '15mg', ',', 'one', 'tablet', 'a', 'day', '.', 'Only', 'thing', 'I', 'regret', 'is', 'not', 'taking', 'it', 'sooner', '.', 'Now', ',', 'I', 'can', 'eat', 'more', 'than', 'one', 'small', 'meal', 'a', 'day', 'without', 'being', 'in', 'pain', '.']),\n",
       "       list(['Within', 'days', 'of', 'a', '5', 'mg', 'dose', 'my', 'husband', 'was', 'a', 'different', 'person', 'with', 'a', 'zest', 'for', 'life', 'and', 'stopping', 'his', 'shuffle', 'walk', 'to', 'a', 'brisk', 'walking', 'pace.', 'His', 'mind', 'is', 'clear', 'to', 'tackle', 'his', 'Income', 'Tax', 'Return', 'though', 'his', 'short', 'term', 'memory', 'is', 'still', 'impaired', 'but', 'we', 'can', 'live', 'with', 'that.']),\n",
       "       list(['I', 'work', 'at', 'farmers', 'markets', '6', 'days', 'a', 'week', 'and', 'have', 'for', 'many', 'years', 'been', 'a', 'sufferer', 'of', 'rheumatoid', 'arthritis.', 'More', 'recently', 'I', 'have', 'had', 'major', 'attacks', 'of', 'gouty', 'arthritis.', 'The', 'pain', 'from', 'these', 'attacks', 'can', 'be', 'excruciating.', 'I', 'tried', 'all', 'the', 'painkillers', 'under', 'the', 'sun.', 'Being', 'on', 'Coumadin', 'as', 'a', 'blood', 'thinner', 'I', 'have', 'to', 'be', 'careful', 'what', 'medicines', 'I', 'take.', 'I', 'had', 'a', 'major', 'attack', 'this', 'week', 'and', 'tried', 'the', 'usual', 'NSAIDs', 'off', 'the', 'shelf', 'with', 'no', 'relief.', 'I', 'rang', 'my', 'doctor', 'and', 'he', 'prescribed', 'Prednisone', '(he', 'has', 'consulted', 'me', 'in', 'the', 'practice', 'in', 'the', 'last', 'week).', 'The', 'results', 'have', 'been', 'amazing.', 'I', 'took', 'my', 'first', 'days', 'dose', '(4', 'tablets)', 'and', 'the', 'pain', 'subsided', 'within', 'less', 'than', 'two', 'hours', 'to', 'the', 'level', 'that', 'I', 'could', 'actually', 'walk!', 'My', 'joints', 'are', 'now', 'less', 'swollen', 'and', 'painful', 'and', 'I', 'am', 'so', 'thankful', 'for', 'Prednisone.']),\n",
       "       list(['At', 'the', 'tender', 'age', 'of', '25,', 'I', 'noticed', 'that', 'my', 'hair', 'was', 'beginning', 'to', 'thin.', 'Not', 'wanting', 'to', 'look', 'like', 'my', 'dad', 'or', 'brother,', 'I', 'got', 'a', 'prescription', 'for', 'Propecia.', 'So', 'far,', 'its', 'been', 'working.', 'In', 'fact,', 'if', 'I', 'miss', 'a', 'dosage,', 'Ill', 'notice', 'little', 'bits', 'of', 'my', 'hair', 'fall', 'into', 'my', 'keyboard', 'or', 'the', 'pages', 'of', 'a', 'book', 'Im', 'reading!', 'Yes,', 'this', 'medication', 'is', 'expensive.', 'My', 'insurance', 'wont', 'cover', 'it', 'at', 'all.', '(Funny', 'that', 'they', 'cover', 'Viagra,', 'though).', 'The', 'only', 'side', 'effect', 'is', 'that', 'I', 'do', 'notice', 'a', 'slight', 'decrease', 'in', 'my', 'sex', 'drive', '-', 'but', 'honestly', 'thats', 'probably', 'good.', 'Keeps', 'me', 'out', 'of', 'trouble.']),\n",
       "       list(['My', 'name', 'is', 'Serena.', 'I', 'have', 'had', 'chrons', 'disease', 'for', 'six', 'years.', 'I', 'had', 'surgery', 'a', 'year', 'ago.', 'I', 'had', 'a', 'flare', 'up', 'a', 'few', 'weeks', 'after', 'surgery.', 'My', 'GI', 'put', 'me', 'on', 'humira', 'and', 'it', 'has', 'been', 'a', 'miracle', 'drug', 'for', 'me!', 'NO', 'pain', 'or', 'flare', 'ups.', 'I', 'get', 'to', 'lead', 'a', 'normal', 'life', ':)']),\n",
       "       list(['Great', 'medication!', 'Works', 'fast', 'too.', 'Ive', 'had', 'no', 'side', 'effects.', 'I', 'use', 'it', 'everyday', 'after', 'meals.', 'I', 'do', 'pass', 'gas', 'after', 'taking', 'this', 'but', 'it', 'relieves', 'gas', 'pain.']),\n",
       "       list(['Had', 'tried', 'Advair', 'and', 'one', 'other', 'inhaler', 'and', 'didnt', 'do', 'anything.', 'Was', 'using', 'albuterol', 'when', 'needed', '(2-', 'times', 'a', 'day).', 'Doctor', 'put', 'me', 'on', 'Symbicort', 'and', 'had', 'immediate', 'relief.', 'Only', 'take', '2', 'puffs', 'in', 'the', 'morning', 'and', 'set', 'for', 'the', 'day.', 'No', 'side', 'effects', 'yet', '(6', 'weeks', 'now).', 'Hopefully', 'it', 'will', 'continue', 'to', 'work', 'on', 'my', 'COPD.', 'Also,', 'Im', 'a', 'smoker', '(of', 'course', 'trying', 'to', 'quit)', 'and', 'even', 'with', 'smoking,', 'Symbicort', 'has', 'worked', 'great.']),\n",
       "       list(['I', 'have', 'MS', 'and', 'experienced', 'a', 'severe', 'relapse', 'and', 'spent', 'a', 'week', 'in', 'the', 'hospital', 'with', 'chronic', 'face', 'pain.', 'After', 'determining', 'it', 'was', 'Trigeminal', 'neuralgia,', 'my', 'neurologist', 'and', 'I', 'spent', 'several', 'weeks', 'trying', 'numerous', 'treatments.', 'Trileptal', 'was', 'the', 'only', 'one', 'that', 'gave', 'me', 'not', 'only', 'immediate', 'relief,', 'but', 'I', 'havent', 'had', 'any', 'face', 'pain', 'for', 'months', 'now!']),\n",
       "       list(['Ive', 'been', 'on', 'Remicaid', 'for', '4', 'years', 'for', 'UC.', 'I', 'am', 'in', 'complete', 'remission...its', 'unfortunate', 'that', 'its', 'an', 'IV', 'infusion,', 'but', 'I', 'will', 'gladly', 'deal', 'with', 'this', 'versus', 'the', 'effects', 'of', 'Ulcerative', 'Colitis.']),\n",
       "       list(['As', 'a', 'physician', 'and', 'a', 'sufferer', 'of', 'gout', 'I', 'can', 'say', 'without', 'doubt', 'that', 'Naproxen', 'works', 'just', 'as', 'well', 'as', 'Indomethacin.']),\n",
       "       list(['Got', 'a', 'cold', 'sore', 'at', 'the', 'worst', 'possible', 'time..', 'Met', 'a', 'chick..', 'Cute', 'chick..', 'Everything', 'was', 'perfect...really', 'like', 'her..', '(who', 'knows', 'I', 'might', 'marry', 'her).', 'Anyway,', 'after', 'our', 'first', 'date', 'I', 'started', 'getting', 'a', 'fever', 'blister.', 'She', 'wanted', 'me', 'to', 'come', 'to', 'her', 'place', 'the', 'next', 'day....Of', 'course', 'I', 'couldnt', 'do', 'so...Checked', 'into', 'how', 'to', 'remove', 'the', 'blisters,', 'found', 'some', 'Abreva', 'and', 'paid', '$2..', 'reluctantly', 'for', 'a', 'small', 'tube.', 'Used', 'it', 'for', '2', 'days..', 'using', 'it', 'almost', 'every', '2', 'hours.', 'On', 'the', 'rd', 'day', 'its', 'totally', 'gone.', 'No', 'Blister', 'at', 'all.', 'Could', 'have', 'lost', 'the', 'lady', 'of', 'my', 'dreams.', 'Woohoo', 'Thanks', 'Abreva.']),\n",
       "       list(['This', 'is', 'going', 'to', 'be', 'kind', 'of', 'long', 'and', 'full', 'of', 'detail.', 'Ive', 'been', 'using', 'Haldol', 'for', 'about', 'years', 'now.', 'It', 'basically', 'started', 'when', 'hearing', 'voices', 'got', 'really', 'bad.', 'The', 'combination', 'of', 'Geodon', 'and', 'Abilify', 'DID', 'NOT', 'work.', 'I', 'admitted', 'myself', 'inpatient', 'and', 'got', 'my', 'Haldol.', 'I', 'started', 'on', '1mg.', 'It', 'took', 'all', 'the', 'nasty', 'symptoms', 'away.', 'And', 'still', 'does', 'to', 'this', 'day.', 'This', 'is', 'a', 'one', 'amazing', 'medicine.', 'Im', 'at', 'the', 'point', 'with', 'it', 'now,', 'that', 'I', 'can', 'barely', 'take', '2.5', 'mg,', '(5mg', 'cut', 'in', 'half)', 'without', 'feeling', 'drugged', 'up', 'though.', 'My', 'body', 'became', 'very', 'sensitive', 'from', 'it.', 'You', 'may', 'gain', 'some', 'weight', 'on', 'this', 'medicine.', 'It', 'does', 'give', 'you', 'the', 'munchies.', 'However,', 'I', 'did', 'weight', 'watchers', 'on', 'this', 'medicine', 'and', 'was', 'able', 'to', 'take', 'off', 'some', 'weight.', 'Again,', 'this', 'medicine', 'is', 'down', 'right', 'amazing.']),\n",
       "       list(['I', 'have', 'been', 'on', 'Humira', 'for', 'over', '1', 'year.', 'I', 'was', 'originally', 'on', 'Entocort', 'and', 'Pentasa', 'and', 'it', 'wasnt', 'helping.', 'My', 'doctor', 'suggested', 'moving', 'to', 'Humira', 'rather', 'than', 'more', 'pills.', 'I', 'started', 'feeling', 'better', 'just', 'a', 'few', 'days', 'after', 'the', 'initial', 'dose.', 'The', 'injections', 'do', 'hurt,', 'but', 'for', 'only', 'about', '1', 'seconds.', 'Way', 'better', 'then', 'being', 'in', 'constant', 'pain!', 'I', 'was', 'a', 'little', 'concerned', 'about', 'all', 'the', 'warnings,', 'but', 'I', 'figure', 'I', 'am', 'going', 'to', 'die', 'someday', 'so', 'I', 'might', 'as', 'well', 'feel', 'good.', 'I', 'have', 'not', 'had', 'any', 'side', 'effects.', 'I', 'am', 'so', 'grateful', 'for', 'Humira!']),\n",
       "       list(['This', 'is', 'a', 'miracle', 'drug.', 'I', 'have', 'diabetes', 'and', 'have', 'had', 'troubles', 'keeping', 'an', 'erection', 'for', 'a', 'number', 'of', 'years.', 'I', 'started', 'taking', 'Viagra', 'about', 'a', 'year', 'ago', 'and', 'the', 'results', 'are', 'fabulous.', 'I', 'started', 'with', 'a', '5', 'mg', 'pill,', 'but', 'me', 'just', 'being', 'me', 'wanted', 'more.', 'So', 'now', 'I', 'take', 'the', '1mg', 'tablet', 'and', 'the', 'results', 'are', 'GREAT!', 'I', 'have', 'multiple', 'orgasms', 'and', 'so', 'does', 'my', 'lover.', 'Our', 'relationship', 'has', 'inproved', '5%', 'and', 'would', 'not', 'trade', 'it', 'for', 'anything', 'in', 'the', 'world.', 'Thank', 'you', 'Mr', 'Viagra.', 'You', 'are', 'a', 'genius!']),\n",
       "       list(['I', 'had', 'several', 'ulcers', 'the', 'pain', 'was', 'tremendous.', 'After', 'a', 'week', 'in', 'the', 'hospital', 'I', 'was', 'given', 'this', 'medication', 'and', 'others.', 'This', 'medication', 'worked', 'miracles.', 'I', 'wasnt', 'told', 'that', 'if', 'I', 'stopped', 'taking', 'it', 'my', 'ulcer', 'would', 'come', 'back', '(my', 'ulcers', 'are', 'not', 'from', 'bacteria).', 'They', 'came', 'back', 'and', 'I', 'began', 'the', 'medication', 'again', 'and', 'I', 'am', 'fine', 'now.', 'You', 'must', 'take', 'the', 'medication', 'all', 'the', 'time.']),\n",
       "       list(['I', 'had', 'recurring', 'boils', 'in', 'one', 'area.', 'They', 'would', 'show', 'up', 'randomly', 'so', 'the', 'dr.', 'was', 'never', 'able', 'to', 'take', 'a', 'culture', 'since', 'they', 'would', 'come', 'to', 'a', 'head', 'and', 'then', 'pop', 'whenever.', 'He', 'put', 'me', 'on', 'a', '2', 'day', 'regimen', 'of', 'Keflex', '(5)', 'and', 'another', 'ointment', 'antibiotic', 'that', 'he', 'told', 'me', 'to', 'dab', 'into', 'my', 'nose.', 'He', 'said', 'for', 'some', 'odd', 'reason,', 'boils', 'seem', 'to', 'start', 'in', 'the', 'nose.', 'I', 'followed', 'the', 'instructions', 'and', 'had', 'a', 'minor', 'recurrence', 'several', 'months', 'later.', 'I', 'went', 'immediately', 'to', 'see', 'him', 'so', 'he', 'put', 'me', 'back', 'on', 'Keflex.', 'These', 'boils', 'were', 'clustered', 'and', 'leaving', 'scars', 'in', 'the', 'area.', 'They', 'havent', 'recurred', 'and', 'the', 'scars', 'are', 'gone.', 'Since', 'I', 'caught', 'them', 'starting', 'the', '2nd', 'time,', 'they', 'never', 'had', 'a', 'chance', 'to', 'come', 'to', 'a', 'head', 'because', 'I', 'stayed', 'on', 'top', 'of', 'it.', 'I', 'highly', 'recommend', 'it', 'for', 'a', 'skin', 'bacterial', 'infection.']),\n",
       "       list(['Xolair', 'is', 'life-changing.', 'I', 'was', 'diagnosed', 'with', 'severe', 'allergic', 'asthma', '5', 'years', 'ago.', 'While', 'I', 'still', 'take', 'regular', 'maintenance', 'medicines', 'in', 'addition', 'to', 'a', 'steroid', 'inhaler,', 'Xolair', 'had', 'allowed', 'me', 'to', 'give', 'up', 'my', 'nebulizer', 'and', 'has', 'turned', 'of', 'the', 'allergic', 'rhinitis', 'faucet', 'in', 'my', 'head.', 'At', 'the', 'time', 'of', 'my', 'last', 'injection', 'I', 'was', 'wheezing', 'slightly', '(residual', 'symptoms', 'from', 'a', 'three', 'week', 'battle', 'with', 'bronchitis).', 'Within', '15', 'minutes', 'of', 'the', 'injection', 'the', 'wheezing', 'had', 'stopped', 'and', 'I', 'was', 'breathing', 'easier.', 'Ive', 'taken', 'Xolair', 'since', '25', 'without', 'any', 'adverse', 'reaction.', 'My', 'symptoms', 'are', 'better', 'controlled', 'with', 'Xolair', 'than', 'at', 'any', 'time', 'in', 'my', 'life.', 'Truly', 'a', 'miracle.']),\n",
       "       list(['NatureThroid', 'seriously', 'changed', 'my', 'life!', 'I', 'did', 'so', 'terrible', 'on', 'Synthroid', 'I', 'was', 'gaining', 'weight', 'despite', 'the', 'fact', 'that', 'I', 'was', 'working', 'out', 'and', 'eating', 'well,', 'loosing', 'my', 'hair,', 'major', 'brain', 'fog', 'and', 'headaches', 'with', 'aura', 'and', 'joint', 'pain.', 'I', 'feel', 'awesome', 'on', 'NatureThroid', 'and', 'am', 'loosing', 'weight', 'even.']),\n",
       "       list(['I', 'was', 'extremely', 'hesitant', 'to', 'use', 'this', 'medicine', 'because', 'of', 'the', 'price', 'and', 'because', 'I', 'had', 'read', 'horror', 'stories', 'about', 'it', 'online.', 'But', 'I', 'was', 'desperate', 'because', 'of', 'unsightly', 'warts,', 'so', 'I', 'took', 'the', 'plunge.', 'I', 'made', 'sure', 'to', 'apply', 'with', 'a', 'magnification', 'mirror', 'and', 'a', 'q-tip.', 'I', 'cant', 'stress', 'enough', 'how', 'important', 'it', 'was', 'to', 'ONLY', 'apply', 'it', 'exactly', 'where', 'the', 'warts', 'were.', 'My', 'side', 'effects', 'included', 'swelling', 'and', 'itching', 'around', 'the', 'affected', 'area', 'and', 'some', 'fatigue/aches.', 'After', 'using', 'it', '4', 'times,', 'my', 'warts', 'were', 'gone.', 'Worth', 'it', 'worth', 'it', 'worth', 'it.', 'Just', 'be', 'careful', 'not', 'to', 'put', 'it', 'on', 'any', 'healthy', 'skin.']),\n",
       "       list(['Carafate', 'Suspension', 'was', 'prescribed', 'by', 'my', 'doctor', 'because', 'of', 'stomach', 'problems', 'caused', 'by', 'taking', 'pain', 'killers', 'and', 'anti-inflamatory', 'drugs', 'for', 'knee', 'injury.', 'Already', 'taking', 'Omeprozole', 'but', 'it', 'was', 'not', 'doing', 'the', 'trick.', 'The', 'carafate', 'worked', 'great.', 'Realy', 'calmed', 'down', 'the', 'acid', 'reflux.']),\n",
       "       list(['I', 'take', 'Valtrex', 'for', 'cold', 'sores.', 'Just', 'taking', '2,', 'twice', 'a', 'day', 'for', 'one', 'day,', 'and', 'the', 'next', 'day', 'it', 'is', 'gone.', 'It', 'is', 'really', 'a', 'life', 'saver.', 'Anyone', 'who', 'has', 'ever', 'had', 'a', 'cold', 'sore', 'should', 'really', 'talk', 'to', 'your', 'doctor', 'about', 'keeping', 'Valtrex', 'on', 'hand.']),\n",
       "       list(['Many', 'people', 'dont', 'seem', 'to', 'like', 'Metrogel,', 'but', 'for', 'me', 'its', 'really', 'made', 'a', 'difference', 'in', 'my', 'Rosacea.', 'One', 'thing', 'rosacea', 'sufferers', 'have', 'to', 'realize', 'is', 'that', 'this', 'treatment', 'takes', 'time.', 'I', 'would', 'have', 'to', 'say', 'that', 'it', 'took', 'a', 'good', '2.5', 'months', 'to', 'start', 'seeing', 'noticeable', 'improvement', 'with', 'continued', 'improvement', 'the', 'longer', 'I', 'use', 'it.', 'On', 'a', 'side', 'note', 'I', 'would', 'like', 'to', 'add', 'that', 'my', 'ears', 'would', 'flush', 'when', 'triggered', 'by', 'heat', 'or', 'stress', 'and', 'so', 'I', 'started', 'to', 'use', 'Metrogel', 'on', 'them', 'and', 'it', 'has', 'helped', 'reduce', 'the', 'flushing.', 'Overall', 'pretty', 'happy', 'with', 'results', 'only', 'negative', 'aspect', 'is', 'the', 'amount', 'of', 'time', 'it', 'takes', 'for', 'it', 'to', 'work.']),\n",
       "       list(['For', 'nearly', 'three', 'years,', 'starting', 'at', 'age', '18,', 'I', 'would', 'get', 'uncontrollable', 'nausea', 'and', 'stomach', 'pain', 'for', 'months', 'at', 'a', 'time.', 'I', 'was', 'told', 'by', 'four', 'doctors', 'that', 'it', 'was', 'acid', 'reflux', 'and', 'to', 'learn', 'to', 'live', 'with', 'it.', 'I', 'was', 'taking', '4', 'mg', 'of', 'Nexium', 'every', 'day,', 'but', 'it', 'got', 'to', 'a', 'point', 'where', 'I', 'never', 'felt', 'well', 'anymore,', 'I', 'was', 'constantly', 'fatigued,', 'I', 'had', 'no', 'appetite,', 'and', 'I', 'was', 'becoming', 'increasingly', 'depressed.', 'I', 'was', 'diagnosed', 'with', 'gastroparesis', 'by', 'my', 'fifth', 'doctor', 'and', 'she', 'put', 'me', 'on', 'Reglan.', 'Within', 'an', 'hour', 'of', 'taking', 'the', 'first', 'dose,', 'I', 'felt', 'better', 'than', 'I', 'had', 'in', 'years.', 'I', 'cant', 'put', 'into', 'words', 'how', 'positively', 'Reglan', 'has', 'changed', 'my', 'life.', 'Ive', 'now', 'been', 'on', 'it', 'for', 'a', 'year', 'and', 'a', 'half.', 'Ive', 'never', 'had', 'any', 'negative', 'side', 'effects', 'nor', 'has', 'the', 'effectiveness', 'ever', 'waned.', 'Reglan', 'is', 'a', 'blessing.']),\n",
       "       list(['I', 'took', 'Flagyl', 'several', 'times', 'before', 'I', 'had', 'surgery', 'to', 'remove', 'part', 'of', 'my', 'colon.', 'It', 'was', 'quickly', 'effective', 'every', 'time', 'I', 'took', 'it.', 'I', 'had', 'no', 'negative', 'side', 'effects.', 'The', 'worst', 'was', 'a', 'bad', 'taste', 'in', 'my', 'mouth.', 'Would', 'take', 'again', 'if', 'needed.']),\n",
       "       list(['I', 'have', 'taken', '.', 'Premarin', '(natural', 'estrogen)', 'for', '2', 'years', '(after', 'my', 'uterus', 'was', 'removed', 'at', '4', 'and', 'symptoms', 'developed),', 'and', 'I', 'am', 'just', 'fine', '(unless', 'I', 'dont', 'take', 'it).', 'Any', 'attempt', 'to', 'use', 'any', 'oral', 'artificial', 'estrogen', 'made', 'me', 'very', 'sick', 'and', 'the', 'patches', 'left', 'red', 'welts', 'that', 'lasted', 'for', 'months.', 'So', 'I', 'have', 'stayed', 'with', 'oral', 'Premarin,', 'and', 'although', 'I', 'dont', 'appreciate', 'the', 'way', 'horses', 'are', 'treated', 'in', 'order', 'to', 'produce', 'it,', 'I', 'am', 'very', 'grateful', 'that', 'it', 'stops', 'the', 'severe', 'sweating,', 'hot', 'flashes,', 'shakiness', 'and', 'weakness', 'that', 'comes', 'if', 'I', 'miss', 'it', 'for', 'a', 'day', 'or', 'two.', 'It', 'did', 'not', 'prevent', 'osteoporosis.', 'I', 'do', 'look', '15', 'years', 'younger', 'than', 'I', 'should', '-', 'possible', 'good', 'side', 'effect.', '2', 'years', 'and', 'no', 'problems.']),\n",
       "       list(['I', 'was', 'hit', 'by', 'an', 'uninsured', 'drunk', 'driver', 'in', '.', 'He', 'passed', 'out', 'and', 'his', 'truck', 'crossed', 'the', 'highway', 'centerline', 'to', 'hit', 'my', 'truck', 'head-on.', 'I', 'broke', 'C-1', 'plus', 'got', 'a', 'TBI', 'which', 'resulted', 'in', 'severe', 'spasms', 'of', 'my', 'right', 'paralyzed', 'leg', 'caused', 'by', '1', 'or', 'both', 'of', 'these', 'traumas.', 'I', 'have', 'taken', '1', 'mg', 'of', 'Dantrium', 'for', '18', 'years', 'with', 'wonderful', 'results.', 'At', 'first', 'I', 'started', 'at', '4x', 'a', 'day', 'but', 'as', 'time', 'went', 'on', 'and', 'since', 'I', 'had', 'to', 'pay', 'for', 'this', 'medicine', 'myself,', '(the', 'drunk', 'never', 'paid', 'one', 'penny)I', 'weaned', 'myself', 'to', '1/day.', 'Several', 'times', 'Ive', 'tried', 'to', 'quit', 'them', 'completely', 'to', 'just', 'have', 'the', 'spasms', 'start', 'again.', 'When', 'I', 'awoke', 'to', 'find', 'my', 'bed', 'sheets', 'shredded', 'in', 'my', 'sleep', 'from', 'spasms,', 'I', 'went', 'back', 'on', 'them', 'again', 'to', 'have', 'blessed', 'relief.', 'I', 'would', 'strongly', 'encourage', 'its', 'use.']),\n",
       "       list(['Im', '48,', 'and', 'found', 'that', 'this', 'nicely', 'balanced', 'the', 'issues', 'Im', 'having', 'with', 'estrogen', 'dominance.', 'Ive', 'had', 'no', 'side', 'effects', 'that', 'I', 'can', 'tell,', 'but', 'a', 'real', 'clearing', 'up', 'of', 'the', 'fuzzy', 'brain,', 'night', 'sweats,', 'and', 'trouble', 'sleeping.', 'I', 'love', 'it!']),\n",
       "       list(['I', 'had', 'severe', 'rectal', 'itching', 'for', 'years', 'and', 'was', 'prescribed', 'many', 'useless', 'or', 'harmful', 'medicines', 'and', 'treatments', 'for', 'the', 'condition.', 'Clobetasol', 'stopped', 'the', 'itching', 'within', 'days', 'and', 'it', 'has', 'been', 'a', 'year', 'and', 'the', 'itching', 'has', 'not', 'returned.']),\n",
       "       list(['This', 'medication', 'is', 'a', 'life', 'saver', 'for', 'me.', 'I', 'have', 'suffered', 'with', 'Menieres', 'Disease', 'for', '22', 'years', 'which', 'causes', 'episodes', 'of', 'loss', 'of', 'equilibrium', 'which', 'can', 'totally', 'knock', 'you', 'flat', 'or', 'just', 'make', 'your', 'life', 'hell', 'for', 'days', 'at', 'a', 'time.', 'The', 'episodes', 'are', 'usually', 'not', 'predictable', 'but', 'seem', 'to', 'come', 'to', 'life', 'every', 'year', 'or', 'so.', 'Short', 'time', 'use', 'of', 'valium', 'is', 'the', 'only', 'thing', 'that', 'helps', 'so', 'I', 'can', 'continue', 'my', 'normal', 'activities', 'until', 'my', 'ear', 'settles', 'down', 'again.']),\n",
       "       list(['As', 'an', 'industrial', 'insulation', 'specialist', 'I', 'have', 'spent', 'the', 'last', '6', 'years', 'of', 'my', 'life', 'suffering', 'from', 'chronic', 'sinusitis,', 'constant', 'fatigue,', 'pressure', 'in', 'sinuses', 'and', 'behind', 'my', 'eyes,', 'ear', 'infections,', 'sinus', 'infections,', 'colds', 'in', 'all', 'seasons.', 'After', 'extensive', 'doctor', 'visits', 'and', 'lots', 'and', 'lots', 'of', 'medical', 'bills', 'I', 'finally', 'ran', 'into', 'an', 'amazing', 'doctor', 'in', 'the', 'E.R.', 'My', 'sinuses', 'had', 'taken', 'me', 'on', 'a', 'turn', 'for', 'the', 'worst,', 'constant', 'blurry', 'vision,', 'headaches,', 'sinus', 'pressure', 'and', 'pain,', 'pain', 'in', 'ears,', 'dry', 'throat,', 'disorientation,', 'pain', 'at', 'the', 'base', 'of', 'my', 'skull,', 'and', 'constant', 'fatigue.', 'This', 'doctor', 'turned', 'me', 'on', 'to', 'Claritin', 'D.', 'I', 'have', 'felt', 'like', 'a', 'brand', 'new', 'person', 'ever', 'since.', 'I', 'am', 'loving', 'life', 'again,', 'and', 'living', 'to', 'the', 'fullest.', 'Thank', 'you', 'so', 'much', 'for', 'changing', 'my', 'life', 'Claritin', 'D.']),\n",
       "       list(['I', 'used', 'Tri', 'Luma', 'for', 'about', '4', 'months', 'and', 'it', 'works', 'great!', 'The', 'first', 'week', 'I', 'used', 'it', 'every', 'night', 'and', 'my', 'skin', 'became', 'dry,', 'so', 'I', 'cut', 'back', 'to', '4', 'days', 'a', 'week', 'and', 'that', 'did', 'the', 'trick.', 'My', 'skin', 'discoloration', 'smoothed', 'out', 'and', 'the', 'fine', 'lines', 'around', 'my', 'eyes', 'and', 'mouth', 'became', 'less', 'noticable.', 'I', 'highly', 'recommend', 'this', 'product.']),\n",
       "       list(['I', 'started', 'out', 'weighing', '8kgs', 'in', 'May', '214,', 'I', 'have', 'an', 'underactive', 'thyroid,', 'and', 'Polycystic', 'Ovarian', 'Syndrome,', 'with', 'Irritable', 'bowl,', 'so', 'I', 'eat', 'a', 'Gluten', 'Free', 'Diet.', 'my', 'exercise', 'levels', 'are', 'high,', 'I', 'swim', '2-', 'miles', 'a', 'week,', 'work', 'out', '-4', 'mornings', 'a', 'week', '(power', 'hooping,', 'kettle', 'bells', 'and', 'situps', 'to', 'name', 'a', 'few)', 'and', 'I', 'work', 'in', 'an', 'active', 'environment', 'with', 'Special', 'Needs', 'Children.', 'Because', 'of', 'how', 'active', 'I', 'am', 'and', 'I', 'could', 'not', 'lose', 'weight', 'the', 'doctor', 'put', 'me', 'on', 'Orlistat.', 'I', 'have', 'now', 'lost', 'over', '8Kgs', 'and', 'my', 'next', 'weigh', 'in', 'is', 'the', 'end', 'of', 'this', 'month', '(August).', 'I', 'find', 'it', 'easy', 'to', 'do,', 'I', 'eat', 'a', 'low', 'fat', 'diet', 'anyway', 'so', 'that', 'hasnt', 'been', 'too', 'hard', 'but', 'I', 'do', 'find', 'myself', 'being', 'careful', 'of', 'my', 'lower', 'body', 'functions.', 'Ive', 'been', 'caught', 'out', 'a', 'couple', 'of', 'times', 'which', 'can', 'be', 'unpleasant', 'but', 'Im', 'happy', 'with', 'the', 'loss', 'so', 'far.']),\n",
       "       list(['I', 'started', 'taking', 'Wellbutrin', 'because', 'of', 'a', 'Vitamin', 'D', 'deficiency', 'and', 'Seasonal', 'Affective', 'Disorder.', 'It', 'was', 'like', 'night', 'and', 'day.', 'It', 'took', 'about', '2-', 'weeks', 'but', 'I', 'was', 'no', 'longer', 'having', 'crying', 'sessions', 'or', 'getting', 'angry', 'over', 'nothing.', 'A', 'Vitamin', 'D', 'supplement', 'had', 'side', 'effects', 'so', 'I', 'had', 'to', 'quit', 'taking', 'it.', 'I', 'now', 'take', 'a', 'multiple', 'vitamin.']),\n",
       "       list(['After', 'first', 'round', 'of', 'chemo', 'with', 'Rituxan...my', 'lymphoma', 'lump', 'was', 'completely', 'gone', 'to', 'the', 'touch.', 'Yes...I', 'did', 'have', 'a', 'mild', 'reaction', 'the', 'first', 'time', 'Rituxan', 'was', 'administered,', 'but', 'it', 'was', 'easily', 'resolved', 'with', 'a', 'little', 'Benadryl', 'and', 'a', 'slow', 'down', 'of', 'the', 'Rituxan', 'drip.', 'I', 'did', 'not', 'have', 'any', 'allergic', 'reaction', 'of', 'the', 'subsequent', 'two', 'rounds', 'of', 'chemo.', 'After', 'only', 'three', 'rounds', 'of', 'chemo,', 'I', 'had', 'another', 'PET/CT', 'scan...and', 'was', 'deemed', 'in', 'total', 'remission.', 'Almost', 'a', 'year', 'later....and', 'still', 'no', 'return', 'of', 'the', 'lymphoma', 'and', 'I', 'feel', 'great.', 'It', 'is', 'amazing', 'what', 'medical', 'science', 'can', 'do', 'today', 'to', 'treat', 'and', 'cure', 'people', 'of', 'cancer.']),\n",
       "       list(['I', 'was', 'prescribed', 'the', 'metronidazole', 'vaginal', 'gel', 'for', 'bacterial', 'vaginitis.', 'They', 'have', 'me', 'using', 'the', 'gel', 'before', 'bed', 'for', '5', 'days.', 'Tonight', 'will', 'be', 'my', '4th', 'night', 'of', 'use.', 'So', 'far', 'the', 'only', 'side', 'effects', 'I', 'have', 'noticed', 'are', 'a', 'very', 'think,', 'white', 'discharge', 'and', 'menstrual', 'like', 'cramps', 'and', 'discomfort', 'in', 'my', 'pelvic', 'area.', 'I', 'also', 'have', 'had', 'a', 'slight', 'decrease', 'in', 'my', 'appetite.']),\n",
       "       list(['This', 'works', 'great.', 'I', 'take', 'it', 'for', 'back', 'spasm', 'but', 'also', 'for', 'cluster', 'headaches.', 'I', 'had', 'a', 'stroke', 'several', 'years', 'ago', 'at', 'age', '28', 'years,', 'so', 'I', 'am', 'limited', 'in', 'what', 'medicines', 'I', 'can', 'take', 'due', 'to', 'my', 'medical', 'history.', 'My', 'doctor', 'has', 'me', 'take', 'more', 'than', 'I', 'need', 'for', 'back', 'spasm/pain.', 'I', 'was', 'warned', 'it', 'would', 'make', 'me', 'sleepy', 'and', 'usually', 'does,', 'but', 'in', 'that', 'time', 'my', 'headache/pain', 'goes', 'away', 'almost', 'completely.', 'It', 'is', 'wonderful,', 'especially', 'since', 'it', 'is', 'not', 'a', 'controlled', 'substance.', 'Id', 'rather', 'take', 'this', 'for', 'both', 'conditions', 'than', 'the', '1mg', 'Demerol', 'every', '4', 'hours', 'I', 'was', 'on', 'for', 'several', 'years.', 'Not', 'only', 'dont', 'I', 'miss', 'the', 'injections,', 'but', 'since', 'it', 'does', 'not', 'have', 'the', 'side', 'effects', 'and', 'addiction', 'I', 'can', 'do', 'more', 'since', 'I', 'can', 'think', 'more', 'clearly', 'and', 'function', 'more.']),\n",
       "       list(['I', 'read', 'reviews', 'prior', 'to', 'my', 'first', 'ever', 'colon', 'cleanse.', 'I', 'chose', 'Suprep', 'over', 'another', 'brand', 'because', 'there', 'is', 'less', 'to', 'drink.', 'I', 'paid', 'more', 'out', 'of', 'pocket,', 'but', 'it', 'was', 'worth', 'it', 'to', 'me.', 'I', 'absolutely', 'had', 'no', 'problem', 'at', 'all.', 'The', 'taste', 'is', 'very', 'tolerable.', 'Some', 'of', 'the', 'negative', 'comments', 'had', 'me', 'worried,', 'but', 'I', 'hope', 'that', 'my', 'positive', 'experience', 'will', 'relieve', 'fears', 'of', 'someone', 'in', 'the', 'future.', 'It', 'is', 'not', 'bad', 'at', 'all.']),\n",
       "       list(['I', 'have', 'peripheral', 'artery', 'disease.', 'Pain/numbness', 'in', 'legs/buttocks.', 'Difficulty', 'walking', 'standing.', 'Within', 'ONE', 'HOUR', 'of', 'beginning', 'treatment', 'with', 'Pletal', 'I', 'began', 'feeling', 'relief.', 'More', 'than', 'two', 'weeks', 'now', 'with', 'almost', 'TOTAL', 'relief', 'from', 'discomfort/pain/weakness', 'and', 'no', 'side', 'effects.', 'Absolutely', 'amazing', 'medicine.']),\n",
       "       list(['I', 'have', 'chronic', 'urinary', 'tract', 'infections.', 'Every', 'time', 'I', 'know', 'one', 'is', 'coming', 'on,', 'I', 'go', 'to', 'my', 'doctor', 'and', 'this', 'is', 'what', 'is', 'prescribed.', 'This', 'last', 'urinary', 'tract', 'infection', 'I', 'couldnt', 'get', 'treated', 'because', 'I', 'have', 'no', 'insurance', 'and', 'didnt', 'have', 'the', 'money', 'for', 'the', 'office', 'visit.', 'so', 'I', 'tried', 'to', 'wait', 'it', 'out', 'or', 'flush', 'it', 'with', 'water.', 'It', 'eventually', 'turned', 'to', 'a', 'Kidney', 'Infection', 'and', 'I', 'was', 'put', 'on', 'this', 'medication.', 'It', 'does', 'the', 'trick', 'within', 'a', 'day', 'every', 'time.']),\n",
       "       list(['I', 'started', 'using', 'acetylcysteine', 'last', 'May.', 'For', 'the', 'first', 'time', 'in', '2', 'years', 'my', 'lungs', 'were', 'clear.', 'My', 'bronchitis', 'disappeared.', 'My', 'FEV1', 'increased', '25', 'per', 'cent.', 'My', 'sinus', 'condition', 'cleared', 'up', 'and', 'the', 'headaches', 'were', 'gone.', 'I', 'do', 'not', 'understand', 'why', 'this', 'medicine', 'is', 'not', 'used', 'routinely', 'for', 'COPD', 'and', 'other', 'respiratory', 'ailments.']),\n",
       "       list(['Ive', 'been', 'using', 'Elavil', 'for', 'almost', '4', 'years', 'now', 'and', 'cant', 'live', 'without', 'it!', 'If', 'I', 'run', 'out', 'before', 'I', 'can', 'get', 'to', 'the', 'pharmacy', 'my', 'symptoms', 'return', 'with', 'a', 'vengeance', 'and', 'I', 'feel', 'awful', 'again!', 'I', 'would', 'recommend', 'this', 'medicine', 'to', 'ANYONE', 'dealing', 'with', 'pain,', 'insomnia', 'or', 'depression', 'to', 'consider', 'this', 'medicine!', 'I', 'started', 'off', 'on', 'a', 'low', 'does', '(25mgs)', 'per', 'night', 'now', 'only', 'on', '5mgs', 'and', 'I', 'have', 'NEVER', 'done', 'so', 'well', 'in', 'my', 'life', 'emotionally', 'or', 'physically!', 'One', 'of', 'the', 'negatives', 'for', 'me', 'has', 'been', 'weight', 'gain', 'and', 'now', 'b=high', 'blood', 'pressure', 'because', 'of', 'the', 'weight', 'BUT', 'I', 'tell', 'everyone', 'Id', 'rather', 'be', 'fat', 'and', 'happy', 'then', 'skinny', 'and', 'miserable!']),\n",
       "       list(['Excellent.', 'Worked', 'from', 'day', 'one', 'for', 'my', 'anxiety!', 'I', 'tried', 'SSRIs', 'and', 'Wellbutrin.', 'Neither', 'worked', 'for', 'my', 'anxiety.', '1mg', 'of', 'the', 'propranolol', 'and', 'I', 'am', 'so', 'happy', 'and', 'waaaaay', 'less', 'anxious.']),\n",
       "       list(['I', 'went', 'on', 'a', '4', 'day,', 'night', 'cruise', 'with', 'my', 'identical', 'twin.', 'Both', 'of', 'us', 'had', 'previously', 'taken', 'Dramamine', 'but', 'neither', 'of', 'us', 'liked', 'it', 'due', 'to', 'the', 'sleepiness.', 'She', 'bought', 'some', 'Bonine', 'while', 'I', 'had', 'my', 'doctor', 'write', 'me', 'a', 'prescription', 'for', 'the', 'back-ear', 'sticker.', 'Both', 'of', 'us', 'took', 'our', 'medicines', '12', 'hours', 'before', 'getting', 'on', 'our', 'plane.', 'I', 'got', 'tired', 'while', 'she', 'enjoyed', 'poking', 'me', 'and', 'making', 'fun.', 'The', 'back', 'ear', 'patch', 'didnt', 'work,', 'because', 'I', 'got', 'sick', 'with', 'in', 'minutes', 'of', 'being', 'on', 'the', 'ship.', 'My', 'sister', 'forced', 'me', 'to', 'take', 'the', 'patch', 'off', 'and', 'made', 'me', 'take', 'the', 'Bonine.', 'We', 'had', 'a', 'great', 'trip.', 'We', 'swear', 'by', 'Bonine', 'and', 'our', 'family', 'and', 'friends', 'love', 'it', 'too.']),\n",
       "       list(['Vyvanse', 'has', 'had', 'such', 'a', 'positive', 'effect', 'for', 'me', 'in', 'regards', 'to', 'binge', 'eating.', 'My', 'binge', 'eating', 'started', 'over', '28', 'years', 'ago.', 'In', 'recent', 'years', 'I', 'was', 'bingeing', 'almost', 'every', 'day.', 'Since', 'starting', 'Vyvanse', '5', 'weeks', 'ago', 'I', 'have', 'not', 'binged', 'one', 'single', 'time!', 'I', 'admit', 'there', 'were', 'a', 'few', 'times', 'that', 'I', 'over', 'ate', 'but', 'I', 'have', 'not', 'binged.', 'It', 'is', 'such', 'a', 'relief', 'to', 'not', 'have', 'to', 'battle', 'with', 'food', 'thoughts,', 'cravings', 'and', 'compulsions!', 'Food', 'is', 'no', 'longer', 'the', 'first', 'thing', 'on', 'my', 'mind', 'in', 'the', 'morning', 'nor', 'the', 'last', 'thing', 'on', 'my', 'mind', 'before', 'I', 'go', 'to', 'bed.', 'I', 'leave', 'food', 'on', 'my', 'plate.', 'I', 'eat', 'a', 'quarter', 'to', 'a', 'third', 'of', 'what', 'I', 'ate', 'before.', 'When', 'I', 'grocery', 'shop', 'the', 'foods', 'that', 'used', 'to', 'call', 'my', 'name', 'almost', 'make', 'me', 'gaggy', 'now.', 'Theres', 'such', 'freedom', 'in', 'not', 'being', 'in', 'bondage', 'to', 'food.', 'Continued', 'in', 'next', 'post...']),\n",
       "       list(['If', 'youre', 'reading', 'this', 'right', 'now,', 'its', 'probably', 'because', 'youre', 'worried', 'about', 'whether', 'this', 'antibiotic', 'will', 'work', 'for', 'you', 'or', 'not.', 'I', 'was', 'diagnosed', 'with', 'chlamydia', 'about', 'a', 'month', 'ago', 'and', 'was', 'in', 'tears', 'day', 'in', 'and', 'day', 'out', 'because', 'I', 'was', 'so', 'worried', 'that', 'the', 'chlamydia', 'might', 'have', 'spread,', 'considering', 'I', 'had', 'no', 'idea', 'my', 'cheating', 'ex', 'had', 'given', 'it', 'to', 'me', 'a', 'year', 'prior.', '(Pathetic,', 'I', 'know)', 'Well', 'anyways,', 'I', 'was', 'prescribed', '4', 'pills,', 'I', 'took', '2', 'pills', 'at', 'the', 'same', 'time', 'for', '2', 'days', 'consecutively', '(1g', 'or', '1mg', 'in', 'total', 'to', 'be', 'exact)', 'I', 'had', 'no', 'side', 'effects.', 'The', 'burning', 'sensation', 'while', 'I', 'urinated', 'went', 'away', 'in', 'two', 'days.', 'This', 'antibiotic', 'honestly', 'was', 'heaven', 'sent.', 'P.S,', 'I', 'went', 'to', 'the', 'doctor', 'today', 'for', 'my', 'Test', 'of', 'Cure', 'and', 'I', 'am', 'completely', 'infection', 'free!', 'USE', 'THIS!']),\n",
       "       list(['I', 'have', 'been', 'using', 'Aggrenox', 'for', 'more', 'then', 'a', 'year', 'now.', 'I', 'have', 'had', 'five', 'TIA', 'strokes', 'prior', 'to', 'using', 'Aggrenox.', 'I', 'think', 'it', 'has', 'reduce', 'my', 'chances', 'of', 'having', 'another', 'stroke.', 'I', 'have', 'had', 'no', 'strokes', 'while', 'using', 'this', 'medication.', 'No', 'side', 'effects', 'either.']),\n",
       "       list(['I', 'had', 'little', 'to', 'no', 'side', 'effects.', 'It', 'elimanated', 'one', 'tumor', 'and', 'slowed', 'the', 'grouth', 'of', 'the', 'other.']),\n",
       "       list(['This', 'medicine', 'is', 'the', 'best', '-', 'fast', 'acting', 'and', 'relieves', 'pain,', 'spasms', 'associated', 'with', 'urinary', 'tract', 'infections.', 'Highly', 'recommend', 'it.']),\n",
       "       list(['This', 'medicine', 'has', 'saved', 'my', 'life', 'after', 'months', 'of', 'having', 'chest', 'pains', 'everyday.', 'I', 'became', 'weak', 'and', 'felt', 'like', 'I', 'had', 'nothing', 'to', 'live', 'for.', 'The', 'doctors', 'ruled', 'out', 'my', 'heart', 'and', 'ruled', 'I', 'had', 'esophageal', 'spasms.', 'They', 'had', 'tried', 'other', 'medications', 'that', 'did', 'not', 'work.', 'My', 'gastroenterologist', 'gave', 'me', 'the', 'time', 'released', 'IMDUR.', 'IT', 'HAS', 'GIVEN', 'ME', 'MY', 'LIFE', 'BACK', 'IN', 'JUST', 'OVER', 'A', 'WEEK.', 'I', 'HAVE', 'MY', 'ENERGY', 'BACK', 'AND', 'I', 'AM', 'HAPPY', 'TO', 'SAY', 'NO', 'CHEST', 'PAIN.', 'THE', 'ONLY', 'SIDE', 'EFFECT', 'IS', 'A', 'HEADACHE', 'BUT', 'I', 'CAN', 'HANDLE', 'THAT', 'WITH', 'TYLENOL.', 'I', 'HAVE', 'MY', 'LIFE', 'BACK.', 'THANK', 'YOU', 'SO', 'MUCH.']),\n",
       "       list(['Conduced', 'first', 'exploratory', 'use', 'in', 'June,', '21', 'indication', 'cutaneous', 'melanoma,', 'Breslow/mm.', 'Tilmanocept', 'was', 'well', 'received', 'by', 'the', 'patient', 'with', 'no', 'local.', 'Clearance', 'delay', 'provision', 'lt2', 'min.', 'SLN', 'discovery', 'total', 'lt4', 'min/2', 'SLN/Path.']),\n",
       "       list(['Protopic', 'helped', 'my', 'wife', 'in', 'vitiligo', 'treatment.', 'She', 'has', 'been', 'using', '.%', 'for', 'face,', 'and', ',1%', 'for', 'body,', 'and', 'it', 'reduced', 'vitiligo', 'almost', 'completely', 'within', 'several', 'months,', 'without', 'any', 'side', 'effects.']),\n",
       "       list(['My', 'daughter', 'is', '8', 'years', 'old', 'now.', 'She', 'has', 'suffered', 'from', 'bed', 'wetting', 'for', 'the', 'past', '2', 'years.', 'We', 'have', 'tried', 'everything', 'under', 'the', 'sun', 'to', 'help', 'with', 'the', 'problem.', 'She', 'was', 'so', 'embarrassed', 'when', 'she', 'would', 'go', 'to', 'sleep-overs', 'and', 'had', 'to', 'wear', 'a', 'quotpull-upquot.', 'I', 'felt', 'awful', 'for', 'her.', 'I', 'took', 'her', 'to', 'the', 'doctor', 'and', 'he', 'referred', 'her', 'to', 'a', 'urologist', 'soon', 'after.', 'Her', 'urologist', 'put', 'her', 'on', 'DDAVP', 'almost', 'weeks', 'ago.', 'She', 'takes', '.2', 'DDAVP', 'every', 'night', 'about', 'an', 'hour', 'before', 'she', 'goes', 'to', 'bed.', 'We', 'have', 'been', 'dry', 'every', 'since,', 'except', 'the', 'first', 'night', 'of', 'taking', 'the', 'DDAVP.', 'I', 'believe', 'this', 'medicine', 'is', 'a', 'God', 'send.', 'My', 'daughter', 'is', 'so', 'happy,', 'she', 'is', 'no', 'longer', 'embarrassed', 'about', 'wetting.', 'We', 'went', 'yesterday', 'for', 'a', 'follow', 'up', 'with', 'the', 'Doctor,', 'and', 'everything', 'is', 'going', 'great.']),\n",
       "       list(['Had', 'hot', 'flashes', 'for', 'the', 'first', 'few', 'months', 'about', 'an', 'hour', 'after', 'I', 'took', 'it,', 'I', 'take', 'it', 'at', 'night', 'with', 'my', 'other', 'medications.', 'I', 'found', 'that', 'I', 'can', 'not', 'drink', 'alcohol.', 'I', 'become', 'very', 'nauseated', 'and', 'throw', 'up.', 'Otherwise', 'I', 'have', 'taken', 'it', 'for', 'almost', 'years', 'without', 'any', 'real', 'problem.']),\n",
       "       list(['I', 'have', 'been', 'using', 'Restasis', 'for', 'months', 'combined', 'with', 'Azasite.', 'I', 'have', 'been', 'very', 'pleased', 'with', 'the', 'relief', 'it', 'has', 'given', 'my', 'eyes', 'after', 'decades', 'of', 'dealing', 'with', 'painfully', 'dry', 'eyes.', 'I', 'am', 'lucky', 'to', 'have', 'great', 'insurance.', 'The', 'drops', 'are', 'extremely', 'expensive', 'without', 'insurance', 'or', 'good', 'coverage.']),\n",
       "       list(['I', 'have', 'been', 'on', 'Depo', 'now', 'for', 'over', '2', 'years', '-', 'I', 'should', 'be', 'paid', 'to', 'be', 'their', 'poster', 'child.', 'It', 'was', 'the', 'miracle', 'medicine', 'for', 'me', 'and', 'my', 'body.', 'After', '1', 'horrific', 'years', 'of', 'monthly', 'hell,', 'I', 'started', 'Depo.', 'Immediately,', 'the', 'periods', 'went', 'away,', 'my', 'hormones', 'balanced', 'and', 'I', 'literally', 'regained', 'my', 'life.', 'I', 'have', 'had', 'no', 'long', 'term', 'effects,', 'no', 'weight', 'gain,', 'no', 'side', 'effects', 'at', 'all.', 'For', 'the', 'right', 'person,', 'this', 'works', 'amazingly', 'well.', 'For', 'others,', 'it', 'does', 'not.', 'But', 'it', 'IS', 'worth', 'a', 'try!']),\n",
       "       list(['Ive', 'been', 'taking', 'four', 'Ursodiol', 'tablets', 'a', 'day', 'for', 'many', 'years.', 'My', 'liver', 'enzymes', 'have', 'stayed', 'normal.', 'Biopsy', 'showed', 'Stage', '1.']),\n",
       "       list(['Ive', 'only', 'been', 'taking', 'Ranexa', 'for', 'about', 'a', 'week,', 'but', 'I', 'have', 'not', 'had', 'any', 'angina', 'since', 'I', 'started', 'taking', 'it.', 'I', 'have', 'lived', 'with', 'angina', 'on', 'a', 'daily', 'basis', 'for', 'about', 'two', 'years.']),\n",
       "       list(['I', 'am', 'doing', 'great', 'with', 'this', 'medicine.', 'I', 'have', 'never', 'had', 'any', 'side', 'effects', 'during', 'the', '7', 'months', 'I', 'have', 'been', 'taking', 'this', 'medication.', 'My', 'viral', 'load', 'went', 'from', '248,,', 'to', 'only', '16.', 'My', 'ALT', 'levels', 'are', 'normal,', 'and', 'hopefully', 'with', 'enough', 'time,', 'Tenofovir', 'can', 'get', 'rid', 'of', 'the', 'virus.', 'However,', 'I', 'am', 'not', 'sure', 'if', 'there', 'is', 'something', 'else', 'going', 'on,', 'such', 'as', 'calcium', 'loss', 'or', 'any', 'unnoticeable', 'side', 'effect.', 'In', 'conclusion,', 'Viread', 'is', 'a', 'very', 'effective', 'treatment', 'for', 'Chronic', 'HBV', 'with', 'almost', 'no', 'side', 'effects.']),\n",
       "       list(['46', 'yr', 'old', 'male.', 'Over', 'month', 'period', 'experienced', 'auras', 'and', 'finally', 'the', 'first', 'seizure', 'in', 'January', '1.', 'Prescribed', 'Keppra', 'by', 'neurologist.', '5mg', 'x2', 'daily.', 'Not', 'a', 'hint', 'of', 'seizure', 'activity', 'since', 'being', 'placed', 'on', 'this', 'medicine.', 'However,', 'I', 'do', 'experience', 'some', 'tiredness', '(mild).', 'Otherwise', 'leading', 'a', 'very', 'normal', 'life', 'style.']),\n",
       "       list(['I', 'was', 'diagnosed', 'with', 'Diabetes', 'in', 'February', '21', 'after', 'I', 'passed', 'out', 'in', 'my', 'office', 'and', 'my', 'blood', 'sugar', 'taken', 'at', 'the', 'time', 'was', '58.', 'My', 'doctor', 'initially', 'out', 'me', 'on', 'Metformin', 'but', 'it', 'was', 'not', 'controlling', 'my', 'blood', 'sugar.', 'He', 'switched', 'me', 'to', 'Janumet', 'and', 'now', 'my', 'reading', 'are', 'consistently', 'in', 'the', 's', 'and', 'I', 'have', 'suffered', 'no', 'side', 'effects.', 'I', 'started', 'working', 'out', 'and', 'eating', 'nutritiously', 'right', 'after', 'being', 'diagnosed', 'and', 'I', 'have', 'dropped', '1', 'lbs.']),\n",
       "       list(['I', 'have', 'a', 'heel', 'spur', 'and', 'was', 'given', 'Voltaren', 'for', 'inflammation', 'to', 'possibly', 'control', 'plantar', 'fascitis.', 'This', 'along', 'with', 'a', '1', 'day', 'use', 'of', 'AFO', 'brace', 'on', 'my', 'foot', 'just', 'may', 'help', 'prevent', 'surgery.', 'I', 'believe', 'Voltaren', 'definitely', 'is', 'doing', 'the', 'job', 'in', 'reducing', 'inflammation', 'and', 'controlling', 'the', 'pain.']),\n",
       "       list(['I', 'had', 'congestive', 'heart', 'failure', '6', 'years', 'ago.', 'In', 'my', 'opinion', 'Coreg', 'has', 'saved', 'my', 'life.', 'I', 'thank', 'God,', 'my', 'cardiologist', 'informed', 'me', 'of', 'this', 'drug.']),\n",
       "       list(['This', 'medication', 'was', 'like', 'a', 'miracle', 'for', 'me.', 'Im', 'on', '2', 'other', 'narcotics', 'but', 'they', 'hardly', 'touch', 'the', 'pain.', 'With', 'this', 'I', 'feel', 'as', 'good', 'as', 'I', 'did', '1', 'years', 'ago', 'before', 'I', 'became', 'disabled.', 'Use', 'responsibly', 'as', 'your', 'doctor', 'prescribes.', 'This', 'is', 'by', 'far', 'the', 'most', 'relief', 'Ive', 'ever', 'had.']),\n",
       "       list(['This', 'stuff', 'works', 'great.', 'I', 'have', 'recommended', 'this', 'medication', 'to', 'many', 'ohters', 'who', 'have', 'similar', 'symptoms', 'regarding', 'bi-polar', 'and', 'hyprer-mania.', 'I', 'am', 'very', 'fortunate', 'to', 'have', 'been', 'diagnosed', 'correctly', 'and', 'to', 'have', 'been', 'treated', 'correctly', 'with', 'Depakote.', 'I', 'have', 'noticed', 'the', 'changes', 'myself', 'and', 'so', 'have', 'many', 'others.']),\n",
       "       list(['I', 'took', 'Provera', 'about', 'two', 'years', 'ago', 'for', '1', 'days', 'and', 'it', 'worked', 'great', 'for', 'me.', 'I', 'also', 'had', 'to', 'take', 'Clomid', 'on', 'day', '5-', 'of', 'my', 'cycle', 'and', 'got', 'pregnant', 'on', 'my', 'third', 'cycle.', 'They', 'both', 'worked', 'amazingly.', 'I', 'am', 'now', 'going', 'to', 'try', 'again', 'hoping', 'to', 'have', 'the', 'same', 'luck.']),\n",
       "       list(['Works', 'exactly', 'as', 'you', 'describe.', 'Great', 'nasal', 'and', 'cough', 'mucas', 'relief.', 'No', 'side', 'effects', 'when', 'used', 'as', 'one', 'tablet', 'per', '12', 'hours.']),\n",
       "       list(['I', 'was', 'first', 'given', 'this', 'product', 'while', 'traveling', 'in', 'the', 'Philippines.', 'The', 'pharmacist', 'recommended', 'Bactroban', 'to', 'treat', 'a', 'mild', 'skin', 'infection', 'on', 'my', 'foot', 'which', 'I', 'got', 'from', 'wearing', 'flip', 'flops', 'too', 'long', 'in', 'wet,', 'sandy', 'conditions.', 'The', 'area', 'cleared', 'up', 'in', 'less', 'than', 'two', 'days.', 'It', 'has', 'been', 'in', 'my', 'medicine', 'cabinet', 'ever', 'since.']),\n",
       "       list(['Zyprexa', 'got', 'rid', 'of', 'all', 'my', 'symptoms-', 'paranoia,', 'hallucinations,', 'delusions,', 'depression,', 'mania,', 'catatonia.', 'It', 'worked', 'so', 'well', 'I', 'have', 'gone', 'off', 'all', 'my', 'other', 'medicines', 'and', 'I', 'got', 'off', 'disability,', 'finished', 'school,', 'and', 'got', 'a', 'full', 'time', 'job.', 'I', 'have', 'very', 'few', 'side', 'effects-', 'mostly', 'I', 'sleep', 'a', 'lot:', '1-12', 'hours.', 'But', 'that', 'is', 'totally', 'worth', 'it', 'to', 'get', 'rid', 'of', 'my', 'symptoms!', 'And', 'I', 'even', 'lost', 'weight!']),\n",
       "       list(['It', 'really', 'helped', 'me', 'stop', 'itching', 'from', 'the', 'atopic', 'dermatitis.', 'I', 'had', 'not', 'slept', 'for', 'days.', 'It', 'does', 'make', 'you', 'very', 'sleepy', 'at', 'first,', 'but', 'then', 'seems', 'to', 'make', 'you', 'less', 'sleepy', 'after', 'awhile.']),\n",
       "       list(['I', 'had', 'hives', 'for', 'weeks', 'and', 'I', 'was', 'completely', 'miserable!', 'I', 'was', 'put', 'on', 'steroids', 'for', 'days', 'and', 'they', 'came', 'back', 'as', 'soon', 'as', 'I', 'quit', 'them.', 'I', 'was', 'taking', 'Benadryl', 'everyday', 'and', 'was', 'still', 'so', 'itchy.', 'About', 'ready', 'to', 'go', 'nuts', 'I', 'researched', 'and', 'researched', 'things', 'to', 'try.', 'Into', 'week', 'with', 'the', 'hives', 'I', 'started', 'taking', 'Vitamin', 'C,', 'Vitamin', 'D', 'and', 'Vitamin', 'B12', 'and', 'drinking', 'green', 'tea', 'everyday.', 'Took', 'a', 'Zyrtec', 'one', 'morning', 'and', 'my', 'hives', 'were', 'cleared', 'by', 'evening.', 'I', 'have', 'been', 'taking', '1', 'a', 'day', 'for', 'days', 'now', 'and', 'Im', 'hive', 'free..feeling', 'great.']),\n",
       "       list(['After', 'trying', 'just', 'about', 'all', 'the', 'drops', 'out', 'there,', 'this', 'was', 'the', 'one', 'that', 'really', 'worked', 'in', 'lowering', 'the', 'pressure', 'in', 'my', 'eye', 'without', 'any', 'bad', 'side', 'effects.']),\n",
       "       list(['Thought', 'I', 'would', 'be', 'the', 'first', 'to', 'post', 'as', 'I', 'was', 'looking', 'around', 'for', 'reviews', 'before', 'starting', 'this', 'medicine.', 'Basically,', 'I', 'switched', 'from', 'Atripla', 'to', 'Triumeq.', 'After', '2', 'years', 'of', 'being', 'on', 'Atripla,', 'I', 'was', 'having', 'some', 'depression', 'symptoms', 'and', 'was', 'also', 'worried', 'about', 'long', 'term', 'bone', 'and', 'kidney', 'impacts.', 'Ive', 'been', 'on', 'triumeq', 'for', '2', 'months', 'now', 'and', 'its', 'been', 'great.', 'Viral', 'Load', 'is', 'still', 'undetectable', 'and', 'depression', 'is', 'gone.', 'I', 'honestly', 'love', 'this', 'medicine', 'so', 'far', 'and', 'would', 'recommend', 'it', 'for', 'anyone', 'thinking', 'of', 'switching.', 'The', 'only', 'possible', 'side', 'effect', 'Ive', 'experienced', 'is', 'difficulty', 'getting', 'a', 'deep', 'sleep', 'the', 'first', 'nights', 'after', 'starting', 'but', 'honestly', 'this', 'couldve', 'been', 'me', 'worrying', 'a', 'bit', 'about', 'the', 'medication', 'swap.', 'All', 'in', 'all,', 'this', 'medicine', 'has', 'been', 'great', 'so', 'far', 'and', 'I', 'would', 'definitely', 'recommend.']),\n",
       "       list(['I', 'had', 'good', 'results', 'after', 'one', 'year', 'on', 'Reclast', 'from', '.5', 'down', 'to', '2.']),\n",
       "       list(['I', 'have', 'chronic', 'autoimmune', 'hepatitis', 'and', 'have', 'been', 'taking', 'Imuran', 'for', 'four', 'years.', 'It', 'has', 'prevented', 'further', 'flare', 'ups', '(which', 'I', 'have', 'taken', 'as', 'much', 'as', 'a', 'year', 'to', 'recover', 'from)', 'it', 'enables', 'me', 'to', 'live', 'my', 'life', 'feeling', 'well', 'with', 'mild', 'side', 'effects', '(some', 'nausea).']),\n",
       "       list(['My', 'son,', 'age', ',', 'was', 'recently', 'diagnosed', 'with', 'Central', 'Auditory', 'Processing', 'Disorder.', 'CAPD', 'has', 'a', 'lot', 'of', 'the', 'same', 'symptoms', 'as', 'Inattentive', 'ADHD.', 'After', 'struggling', 'with', 'the', 'best', 'way', 'to', 'help', 'my', 'son', 'and', 'meeting', 'with', 'his', 'pediatrician,', 'we', 'decided', 'to', 'give', 'Focalin', 'XR', 'a', 'try.', 'We', 'have', 'seen', 'amazing,', 'wonderful', 'progress.', 'My', 'son', 'feels/is', 'successful', 'at', 'school,', 'hes', 'able', 'to', 'focus,', 'gets', 'his', 'work', 'done,', 'etc,', 'all', 'with', 'very', 'minimal', 'side', 'effects.', 'We', 'couldnt', 'be', 'happier!', 'I', 'realize', 'medicines', 'are', 'not', 'for', 'everyone', 'and', 'many,', 'like', 'me,', 'are', 'hesitant', 'to', 'even', 'try', 'them.', 'But', 'I', 'am', 'here', 'to', 'tell', 'you', 'that', 'it', 'has', 'made', 'a', 'very', 'big', 'difference', 'for', 'my', 'son.']),\n",
       "       list(['25', 'year', 'old', 'female.', 'I', 'Love', 'IT.', 'I', 'take', '15', 'SR', 'ONCE', 'a', 'day.', 'I', 'did', 'TONS', 'of', 'research', 'that', 'completely', 'contradicted', 'the', 'information', 'that', 'ONLY', 'quotMGquot', 'and', 'higher', 'MGs', 'treat', 'depression.', 'Drs', 'all', 'over', 'the', 'country', 'disagree,', 'so', 'if', 'your', 'having', 'negative', 'side', 'effects', 'from', 'high', 'dose', 'than', 'simply', 'try', 'a', 'lower', 'dose.', 'If', 'your', 'body', 'responds', 'well', 'to', 'higher', 'MG', 'then', 'stay', 'on', 'it.', 'Another', 'thing,', 'I', 'have', 'read', 'countless', 'reviews', 'that', 'the', 'first', 'week', 'or', 'so', 'is', 'always', 'the', 'hardest,', 'press', 'through', 'it', '(unless', 'you', 'are', 'suicidal', 'of', 'course).', 'I', 'experienced', 'BAD', 'symptoms', 'my', '1st', 'two', 'weeks', 'and', 'then', 'poof', 'they', 'subsided', 'and', 'I', 'feel', 'GREAT!', 'Energy,', 'positivity,', 'increased', 'libido,', 'mental', 'focus,', 'NO', 'weight', 'gain', 'and', 'NO', 'increased', 'blood', 'pressure.', '15mg', 'SR', 'ONCE', 'a', 'day', 'ROCKS.']),\n",
       "       list(['My', 'dad', 'had', 'MLS', 'and', 'then', 'evolved', 'into', 'Leukemia', '(AML).', 'He', 'had', 'traditional', 'chemotherapy', 'but', 'had', 'severe', 'complications.', 'He', 'is', 'going', 'into', 'his', '4th', 'cycle', 'of', 'Vidaza', 'and', 'he', 'is', 'doing', 'great.', 'His', 'blood', 'cells', 'counts', 'are', 'lower', 'some', 'days', 'of', 'the', 'month', 'but', 'they', 'recover', 'almost', 'to', 'normal.', 'He', 'had', 'trouble', 'with', 'platelets.', 'At', 'the', 'start', 'he', 'had', 'a', 'lot', 'of', 'transfusions', '(by', 'now', 'he', 'has', 'almost', 'had', '2)', 'but', 'in', 'the', 'last', 'months', 'had', 'been', 'fewer,', 'a', 'lot', 'fewer.', 'And', 'the', 'doctor', 'considers', 'that', 'Vidaza', 'starts', 'working', 'after', '6th', 'cycle', 'so', 'his', 'platelet', 'count', 'will', 'increase.', 'The', 'doctor', 'considered', 'bone', 'marrow', 'transplant', 'but', 'he', 'decided', 'that', 'since', 'he', 'is', 'in', 'total', 'remission', 'and', 'doing', 'well', 'with', 'Vidaza', 'they', 'will', 'wait', 'until', 'th', 'cycle', 'and', 'decide', 'then.', 'He', 'has', 'no', 'side', 'effects', 'but', 'a', 'little', 'fatigue.']),\n",
       "       list(['Getting', 'double', 'the', 'dosage', 'and', 'NO', 'side', 'effects', 'AT', 'ALL.', 'Very', 'effective', 'on', 'cancer.', 'Having', 'very', 'good', 'quality', 'of', 'life.', 'I', 'get', 'it', 'once', 'every', 'other', 'week.', 'Hope', 'it', 'keeps', 'me', 'alive', 'until', 'they', 'find', 'a', 'cure.']),\n",
       "       list(['Getting', 'double', 'the', 'dosage', 'and', 'NO', 'side', 'effects', 'AT', 'ALL.', 'Very', 'effective', 'on', 'cancer.', 'Having', 'very', 'good', 'quality', 'of', 'life.', 'I', 'get', 'it', 'once', 'every', 'other', 'week.', 'Hope', 'it', 'keeps', 'me', 'alive', 'until', 'they', 'find', 'a', 'cure.']),\n",
       "       list(['I', 'was', 'diagnosed', 'with', 'Cervical', 'Dystonia', 'after', 'months', 'of', 'pain', 'and', 'a', 'few', 'years', 'of', 'wondering', 'what', 'was', 'happening', 'to', 'me.', 'It', 'came', 'to', 'the', 'point', 'where', 'I', 'was', 'depressed', 'and', 'exhausted', 'all', 'of', 'the', 'time', 'and', 'felt', 'things', 'would', 'never', 'ever', 'get', 'better', 'for', 'me.', 'After', 'different', 'medicines,', 'physical', 'therapy', 'and', 'acupuncture', 'I', 'finally', 'was', 'sent', 'to', 'a', 'Neurologist', 'who', 'confirmed', 'my', 'Dystonia', 'and', 'started', 'Botox', 'injections.', 'The', 'first', 'treatment', 'had', 'no', 'effect', 'as', 'they', 'had', 'to', 'start', 'with', 'a', 'small', 'dose', 'so', 'one', 'vile.', 'I', 'had', 'to', 'wait', '2.5', 'months', 'before', 'I', 'could', 'receive', 'another', 'treatment', 'and', 'at', 'that', 'point', 'was', 'given', 'viles.', 'I', 'finally', 'found', 'relief', 'and', 'got', 'my', 'life', 'back.', 'My', 'Dystonia', 'will', 'probably', 'forever', 'affect', 'me', 'but', 'with', 'the', 'Botox', 'I', 'can', 'barely', 'notice', 'it.', 'It', 'is', 'truly', 'a', 'medical', 'miracle', 'that', 'this', 'works.']),\n",
       "       list(['I', 'went', 'in', 'for', 'a', 'colonoscopy', 'today', 'and', 'was', 'put', 'under', 'with', 'propofol.', 'It', 'took', 'affect', 'right', 'away', '...after', 'maybe', 'four', 'deep', 'breaths.', 'I', 'was', 'groggy', 'for', 'Maybe', '15', 'minutes', 'after', 'waking', 'up', 'in', 'recovery.', 'However,', 'I', 'have', 'been', 'suffering', 'from', 'major', 'allergy', 'like', 'symptoms', 'all', 'afternoon', 'and', 'evening...sneezing,', 'watery', 'eyes,', 'congestion,', 'then', 'nose', 'running.', 'Feel', 'fairly', 'miserable...not', 'from', 'procedure', 'but', 'from', 'sneezing.']),\n",
       "       list(['For', 'years', 'I', 'suffered', 'with', 'gum', 'bleed', 'and', 'bad', 'breath...', 'But', 'after', 'using', 'Peridex', 'all', 'the', 'problems', 'have', 'gone', 'away', 'and', 'it', 'helped', 'me', 'with', 'self', 'esteem', 'because', 'I', 'dont', 'have', 'stinky', 'breath', 'anymore.']),\n",
       "       list(['I', 'spent', 'years', 'having', 'horrible', 'reactions', 'to', 'that', 'times', 'crop', 'of', 'popular', 'medicines.', 'I', 'am', 'not', 'bipolar', 'and', 'have', 'never', 'had', 'mania.', 'As', 'a', 'last', 'resort', 'because', 'nothing', 'else', 'worked', 'on', 'my', 'chronic', 'depression,', 'I', 'was', 'given', 'a', 'prescription', 'of', 'lithium', 'carbonate.', 'That', 'was', '2', 'years', 'ago.', 'My', 'side', 'effects', 'are', 'that', 'I', 'drink', 'a', 'lot', 'and', 'pee', 'a', 'lot,', 'and', 'thinning', 'hair', '(bummer).', 'Lithium', 'is', 'my', 'passport', 'to', 'sanity', 'and', 'normal', 'life.']),\n",
       "       list(['I', 'was', 'diagnosed', 'with', 'CLL', '1/25.', 'I', 'began', 'Rituxan', '5/212', 'once', 'the', 'lymph', 'nodes', 'began', 'to', 'enlarge', 'and', 'my', 'counts', 'were', 'doubling.', 'Initially', 'I', 'was', 'infused', 'once', 'per', 'week', 'for', 'a', 'month', 'I', 'have', 'continued', 'with', 'this', 'infusion', 'but', 'moved', 'to', 'a', 'monthly', 'visit.', 'It', 'is', 'now', 'July/21', 'and', 'my', 'numbers', 'have', 'dropped', 'significantly', 'and', 'my', 'doctor', 'has', 'moved', 'to', 'a', 'maintenance', 'program....infusion', 'every', 'other', 'month.', 'I', 'have', 'never', 'had', 'any', 'side', 'effects', 'from', 'the', 'infusions', 'and', 'doctor', 'is', 'pleased', 'that', 'Ive', 'not', 'required', 'chemotherapy', 'medicines', 'added', 'to', 'get', 'same', 'results.', 'Prior', 'to', 'each', 'infusion,', 'I', 'take', 'two', '25mg', 'Benadryl', 'and', 'a', 'Tylenol.', 'Perhaps', 'these', 'medicines', 'beforehand', 'have', 'aided', 'me.', 'I', 'have', 'no', 'complaints!']),\n",
       "       list(['My', 'husband', 'normally', 'never', 'has', 'the', 'hiccups', 'but', 'on', 'the', 'night', 'of', 'day', 'after', 'having', 'bowel', 'resection', 'surgery', 'from', 'diverticulitis,', 'he', 'was', 'no', 'longer', 'passing', 'gas.', 'Instead', 'he', 'was', 'belching,', 'burping', 'and', 'hiccuping.', 'He', 'would', 'hiccup', 'for', 'hours', 'then', 'stop', 'for', 'a', 'bit', 'and', 'this', 'just', 'kept', 'going', 'on', 'and', 'on', 'increasing', 'the', 'pain', 'of', 'the', 'surgical', 'site', 'and', 'getting', 'no', 'sleep.', 'On', 'the', 'night', 'of', 'day', '6,Thorazine', 'was', 'added', 'to', 'his', 'IV', 'and', 'within', '1', 'minutes', 'the', 'hiccups', 'were', 'gone', 'and', 'he', 'was', 'finally', 'sleeping', 'comfortably.']),\n",
       "       list(['I', 'researched', 'OTC', 'medicines', 'for', 'urinary', 'tract', 'infection', 'last', 'night', 'when', 'I', 'was', 'very', 'uncomfortable', 'with', 'symptoms', 'and', 'had', 'not', 'been', 'able', 'to', 'get', 'to', 'the', 'Dr.', 'The', 'previous', 'night', 'I', 'could', 'not', 'sleep', 'due', 'to', 'excessive', 'urgency', 'after', 'already', 'emptying', 'my', 'bladder.', 'At', ':PM', 'I', 'decided', 'to', 'get', 'to', 'the', 'pharmacy', 'to', 'find', 'this', 'medication', 'or', 'something', 'similar.', 'I', 'was', 'skeptical', 'but', 'amazed', 'after', 'taking', '2', 'tabs', 'as', 'directed', 'at', '1:PM', 'I', 'was', 'able', 'to', 'sleep', 'all', 'night', 'comfortably.', 'I', 'did', 'as', 'the', 'medication', 'instructed', 'and', 'contacted', 'my', 'Dr.', 'today.', 'All', 'I', 'wanted', 'was', 'to', 'get', 'through', 'the', 'night', 'and', 'it', 'really', 'worked!', 'It', 'works', 'so', 'well', 'but', 'dont', 'be', 'fooled', 'that', 'you', 'dont', 'need', 'to', 'see', 'a', 'Doctor.', 'It', 'will', 'not', 'cure', 'the', 'infection.']),\n",
       "       list(['I', 'have', 'been', 'on', '2mg', 'of', 'Prozac', 'daily', 'for', 'a', 'month', 'now.', 'I', 'also', 'take', '.5mg', 'of', 'Xanax', 'for', 'break', 'through', 'panic/anxiety', 'attacks.', 'I', 'have', 'never', 'felt', 'better.', 'After', '2', 'plus', 'years', 'of', 'struggling', 'with', 'depression', 'I', 'have', 'finally', 'found', 'something', 'that', 'helps', 'without', 'all', 'of', 'the', 'yucky', 'side', 'effects.', 'Im', '4', 'years', 'old', 'and', 'am', 'finally', 'enjoying', 'my', 'life.', 'My', 'family', 'and', 'friends', 'have', 'also', 'noticed', 'the', 'difference', 'this', 'has', 'made.', 'I', 'love', 'it.']),\n",
       "       list(['Marinol', 'is', 'a', 'life', 'saver.', 'Nausea', 'is', 'one', 'of', 'the', 'worst', 'feelings', 'a', 'person', 'can', 'experience.', 'Marinol', 'eases', 'the', 'nausea', 'quickly', 'and', 'even', 'helps', 'create', 'an', 'appetite.']),\n",
       "       list(['I', 'am', 'trek', 'leader.', 'I', 'am', '1%', 'confident', 'to', 'use', 'Dimox', 'to', 'prevent', 'the', 'Altitude', 'illness.', 'This', 'drugs', 'makes', 'my', 'job', 'easier.', 'Thank', 'you.']),\n",
       "       list(['This', 'has', 'been', 'a', 'miracle', 'medication', 'for', 'me.', 'The', 'cost', 'is', 'a', 'bit', 'high,', 'but', 'the', 'benefits', 'out', 'way', 'the', 'cost.', 'I', 'receive', 'the', 'same', 'benefits', 'as', 'I', 'do', 'from', 'Prednisone,', 'however,', 'with', 'none', 'of', 'the', 'side', 'effects.', 'It', 'works', 'very', 'fast', 'for', 'me.', 'I', 'really', 'think', 'people', 'who', 'have', 'to', 'use', 'prednisone', 'should', 'reconsider', 'and', 'try', 'this', 'medication', 'for', 'moderate', 'flairs.', 'I', 'have', 'had', 'Crohns', 'disease', 'for', 'years,', 'this', 'is', 'the', 'only', 'medication', '(except', 'prednisone)', 'that', 'has', 'worked', 'ever', 'so', 'well.']),\n",
       "       list(['It', 'works', 'so', 'well', 'that', 'it', 'doesnt', 'seem', 'real.', 'I', 'only', 'use', 'it', 'occasionally', 'as', 'needed.', 'This', 'morning', 'I', 'woke', 'up', 'and', 'could', 'not', 'breathe', 'through', 'my', 'nose', 'at', 'all.', 'I', 'tried', 'blowing', 'my', 'nose,', 'but', 'with', 'no', 'result', '(it', 'wasnt', 'nasal', 'congestion,', 'it', 'was', 'swollen', 'nasal', 'passages).', 'I', 'used', 'Flonase', 'and', 'within', 'an', 'hour', 'I', 'could', 'breathe', 'normally', 'again.', 'I', 'know', 'it', 'doesnt', 'always', 'work', 'that', 'quickly', 'for', 'people', 'and', 'Im', 'surprised', 'that', 'it', 'did', 'for', 'me,', 'but', 'it', 'really', 'is', 'an', 'awesome', 'product.']),\n",
       "       list(['I', 'have', 'non', 'allergic', 'or', 'vasomotor', 'rhinitis', 'so', 'my', 'nose', 'constantly', 'was', 'running', 'whether', 'I', 'was', 'eating/drinking,', 'exercising,', 'cold', 'weather,', 'etc.', 'I', 'couldnt', 'go', 'anywhere', 'without', 'Kleenex.', 'This', 'nasal', 'spray', 'totally', 'cured', 'my', 'runny', 'nose.', 'Ill', 'never', 'go', 'without', 'it.', 'I', 'dont', 'have', 'to', 'carry', 'Kleenex', 'anymore.', 'I', 'use', 'the', '.', 'prescription', 'and', 'use', 'it', 'less', 'then', 'prescribed.', 'The', 'only', 'down', 'side', 'to', 'this', 'drug', 'is', 'that', 'it', 'dries', 'out', 'my', 'eyes.', 'The', 'first', 'couple', 'of', 'days', 'I', 'thought', 'it', 'dried', 'my', 'nose', 'out', 'too', 'but', 'that', 'went', 'away', 'with', 'use', 'and', 'perhaps', 'using', 'it', 'a', 'little', 'less.']),\n",
       "       list(['At', 'the', 'start', 'of', 'every', 'summer', 'for', '5', 'years', 'my', 'son', 'gets', 'the', 'worst', 'mystery', 'rash', 'on', 'his', 'back', '(Contact', 'Dermatitis)', 'they', 'call', 'it.', 'We', 'just', 'cant', 'figure', 'out', 'what', 'that', 'contact', 'is.', 'It', 'has', 'itched', 'so', 'badly', 'in', 'the', 'past', 'that', 'he', 'had', 'actually', 'scratched', 'himself', 'bloody', 'and', 'had', 'to', 'be', 'sedated', 'at', 'the', 'ER.', 'Finally', 'his', 'doctor', 'prescribed', 'Lidex', '.5%', 'and', 'almost', 'instant', 'relief.', 'Its', 'been', 'amazing.', 'No', 'side', 'affects', 'to', 'date', 'for', 'him.', 'I', 'dont', 'know', 'who', 'created', 'it', 'but', 'Thank', 'you.']),\n",
       "       list(['Ive', 'been', 'taking', '2.5mg', 'for', 'a', 'month', 'with', 'great', 'results', 'and', 'no', 'side', 'effects,', 'until', 'the', 'weather', 'got', 'colder', 'so', 'the', 'doctor', 'increased', 'dose', 'to', '5mg,', 'partly', 'because', 'he', 'wanted', 'a', 'better', 'result', 'to', 'my', 'high', 'blood', 'pressure', 'as', 'well.', 'The', 'sudden', 'increase', 'has', 'caused', 'severe', 'sleepiness', 'and', 'a', 'tight', 'chest.', 'I', 'cut', 'back', 'to', 'mg', 'for', 'now', 'to', 'ease', 'into', 'it', 'and', 'will', 'increase', 'to', '5mg', 'if/when', 'the', 'side', 'effects', 'decrease.', 'I', 'believe', 'in', 'caution', 'and', 'I', 'know', 'my', 'doctor', 'takes', 'the', 'same', 'stand.']),\n",
       "       list(['I', 'have', 'chronic', 'pancreatitis.', 'For', 'a', 'while', 'I', 'was', 'dropping', 'weight', 'very', 'fast.', 'Lost', '2', 'pounds', 'in', 'March', 'alone.', 'It', 'was', 'to', 'the', 'point', 'where', 'I', 'couldnt', 'function', 'between', 'vomiting', 'and', 'just', 'the', 'pain', 'in', 'my', 'stomach', 'area', 'I', 'wasnt', 'doing', 'well.', 'My', 'GI', 'doctor', 'put', 'me', 'on', 'Creon', 'and', 'things', 'got', 'much', 'better.', 'I', 'take', 'one', 'before', 'I', 'eat', 'and', 'after.', 'Slowly', 'I', 'was', 'able', 'to', 'add', 'to', 'my', 'menu', 'more', 'of', 'foods', 'I', 'can', 'tolerate.', 'Off', 'the', 'list', 'before', 'was', 'any', 'meat', 'except', 'for', 'fish,', 'lettuce', 'and', 'anything', 'to', 'sweet.', 'If', 'I', 'forget', 'to', 'take', 'it', 'when', 'I', 'eat', 'and', 'I', 'do', 'suffer', 'the', 'consequences', 'later.', 'Im', 'very', 'happy', 'with', 'this', 'medicine.']),\n",
       "       list(['I', 'suffered', 'a', 'bilateral', 'subarachnoid', 'brain', 'hemorrhage', 'and', 'am', 'happy', 'to', 'be', 'alive.', 'However,', 'one', 'of', 'many', 'hurtles', 'left', 'behind', 'for', 'me', 'to', 'deal', 'with', 'was', 'laughing', 'at', 'inappropriate', 'times', 'and', 'crying', 'at', 'the', 'drop', 'of', 'a', 'hat.', 'My', 'brilliant', 'Doctor,', 'prescribed', 'Nuedexta.', 'I', 'have', 'not', 'had', 'an', 'outburst', 'since', 'taking', 'the', 'medicine', 'and', 'no', 'side', 'effects', 'at', 'all.']),\n",
       "       list(['Started', 'taking', 'the', 'product', 'for', 'health', 'maintenance', 'and', 'it', 'was', 'also', 'recommended', 'by', 'my', 'internist', 'after', 'a', 'colonoscopy', 'and', 'early', 'signs', 'of', 'diverticulitis.', 'Also', 'my', 'wife', 'who', 'is', 'a', 'RN', 'nursing', 'supervisor', 'has', 'used', 'the', 'product', 'for', 'years', 'and', 'rightfully', 'claims', 'it', 'reduces', 'bathroom', 'quotpaperworkquot.', 'I', 'think', 'the', 'product', 'is', 'gentle', 'acting', 'and', 'good', 'when', 'used', 'regularly.', 'and', 'over', 'times', 'does', 'what', 'it', 'is', 'supposed', 'to.', 'I', 'like', 'the', 'powdered', 'version', 'and', 'think', 'the', 'taste', 'is', 'good.', 'This', 'product', 'is', 'a', 'startng', 'place', 'to', 'clean', 'up', 'inside', 'out', 'and', 'get', 'the', 'benefits', 'of', 'more', 'energy,', 'better', 'health.', 'I', 'also', 'think', 'some', 'folks', 'would', 'benefit', 'from', 'stronger', 'more', 'quotkick', 'buttquot', 'once', 'a', 'year', 'type', 'colon,', 'liver', 'and', 'kidney', 'body', 'clenzing', 'from', 'Dr', 'Schultz', 'or', 'others,', 'for', 'major', 'healing', 'and', 'slowing', 'the', 'aging', 'process.']),\n",
       "       list(['Initial', 'symptoms', 'included', 'brain', 'fog,', 'disorientation,', 'and', 'confusion.', 'I', 'took', 'the', 'lactulose', 'for', 'one', 'week...', 'all', 'symptoms', 'disappeared.', 'However,', 'I', 'must', 'advise', 'you', 'to', 'stay', 'close', 'to', 'the', 'bathroom.', 'Also,', 'I', 'should', 'note', 'that', 'my', 'physician', 'said', 'that', 'I', 'may', 'be', 'taking', 'this', 'medication', 'for', 'the', 'rest', 'of', 'my', 'life', 'and', 'Im', 'only', '47', 'years', 'old.']),\n",
       "       list(['I', 'am', 'male,', '62', 'year', 'old.', 'Got', 'a', 'blood', 'clot', 'the', 'entire', 'length', 'of', 'my', 'saphenous', 'vein.', 'I', 'was', 'put', 'on', 'generic', 'warfarin', 'first', 'at', '2.5mg/day.', 'I', 'got', 'sweaty,', 'headachy,', 'and', 'felt', 'depressed.', 'This', 'went', 'on', 'for', 'two', 'weeks', 'until', 'I', 'read', 'reviews', 'about', 'Coumadin', 'on', 'this', 'site.', 'Switched', 'to', 'Coumadin.', 'INR', 'stabilized,', 'sweats', 'went', 'away,', 'and', 'headaches', 'went', 'away', 'in', 'about', '1', 'days.', 'I', 'know', 'that', 'Coumadin', 'and', 'Warfarin', 'are', 'supposed', 'to', 'be', 'chemically', 'the', 'same', 'molecule.', 'I', 'propose', 'that', 'the', 'objective', 'differences', 'between', 'these', 'two', 'drugs', 'most', 'likely', 'can', 'be', 'accounted', 'for', 'by', 'considering', 'that', 'one', 'may', 'have', 'more', 'pure', 'isomers', 'than', 'the', 'other.']),\n",
       "       list(['Ive', 'used', 'Dostinex', 'for', 'years', 'now,', 'to', 'treat', 'high', 'prolactin', 'hormone', 'levels.', 'When', 'I', 'was', 'younger', 'they', 'had', 'me', 'take', 'Propranolol', 'which', 'made', 'me', 'so', 'sick', 'to', 'my', 'stomach!', 'Dostinex', 'has', 'really', 'no', 'side', 'effects', 'that', 'Ive', 'experienced', 'and', 'I', 'only', 'have', 'to', 'take', 'it', 'twice', 'a', 'week!']),\n",
       "       list(['Much', 'better', 'than', 'Preparation', 'H', 'or', 'any', 'other', 'type', 'of', 'Hemorrhoid', 'Cream']),\n",
       "       list(['I', 'used', 'this', 'on', 'the', 'advise', 'of', 'a', 'podiatrist', 'on', 'my', 'cracked', 'and', 'calloused', 'heels.', 'I', 'noticed', 'the', 'improvement', 'in', 'a', 'week.', 'I', 'highly', 'recommend', 'this', 'for', 'your', 'hard,', 'rough', 'dry', 'feet.', 'After', 'it', 'has', 'worked', 'its', 'magic,', 'you', 'should', 'just', 'follow', 'up', 'with', 'regular', 'moisturizer', 'everyday', 'and', 'use', 'the', 'Carmol', '4%', 'once', 'a', 'week', 'there', 'after.']),\n",
       "       list(['I', 'was', 'prescribed', 'Victoza', 'after', 'developing', 'insulin', 'resistance', 'after', 'having', 'my', 'son.', 'I', 'consistently', 'gained', '1', 'pounds', 'per', 'year,', 'despite', 'increased', 'activity', 'levels.', 'I', 'was', '57quot,', 'and', '246', 'pounds.', 'I', 'want', 'to', 'lose', '6', 'pounds.', 'When', 'I', 'first', 'began', 'Victoza,', 'it', 'made', 'me', 'incredibly', 'sick.', 'I', 'had', 'to', 'dial', 'my', 'dose', 'back', 'to', '.1,', 'and', 'increase', 'by', 'one', 'point', 'every', 'week.', 'Even', 'at', 'that', 'low', 'dose,', 'I', 'experienced', 'decreased', 'appetite,', 'and', 'weight', 'loss.', 'I', 'have', 'also', 'noticed', 'that', 'my', 'constant', 'cravings', 'have', 'mostly', 'disappeared.', 'After', '6', 'months,', 'I', 'down', '45', 'pounds,', 'and', 'feeling', 'great.', 'My', 'blood', 'sugars', 'are', 'in', 'the', 'normal', 'range,', 'for', 'the', 'first', 'time', 'in', 'FOUR', 'years.', 'This', 'medicine', 'has', 'changed', 'my', 'life.']),\n",
       "       list(['Worked', 'right', 'away', '-', 'overnight', 'took', 'away', 'all', 'redness', 'and', 'stopped', 'ALL', 'the', 'itching...', 'what', 'a', 'huge', 'relief....', 'GREAT', 'PRODUCT']),\n",
       "       list(['I', 'was', 'in', 'the', 'hospital', 'for', 'intense', 'vomiting', 'and', 'stomach', 'pain.', 'They', 'gave', 'me', 'this', 'drug', 'and', 'I', 'felt', 'better', 'within', '2', 'minutes.']),\n",
       "       list(['Gallbladder', 'removal', 'in', '2', 'years', 'ago,', 'Dumping', 'Syndrome', 'started', 'immediately,', '2', 'years', 'of', 'living', 'in', 'fear/prison,', 'couldnt', 'go', 'anywhere', 'where', 'there', 'was', 'no', 'bathroom,', 'no', 'canoeing,', 'hiking,', 'skiing,', 'anything', 'that', 'I', 'could', 'be', 'stranded', 'without', 'a', 'bathroom.', 'I', 'tried', 'everything,', 'fiber,', 'Metamucil,', 'fiber', 'pills,', 'phsyllium', 'husk,', 'etc.', 'Nothing', 'worked.', 'Searched', 'for', 'my', 'issue', 'every', 'couple', 'of', 'years', 'to', 'see', 'if', 'anyone', 'else', 'had', 'any', 'ideas', 'and', 'ran', 'across', 'Cholestyramine.', 'Talked', 'to', 'my', 'Dr.', 'took', 'one', 'packet', 'a', 'day,', 'first', 'thing', 'in', 'the', 'morning,', 'worked', 'like', 'a', 'charm,', 'no', 'more', 'running!', 'I', 'was', 'free!', 'I', 'could', 'go', 'for', 'walks,', 'bike', 'rides,', 'hiking,', 'graduations!', 'To', 'a', 'restaurant.', 'I', 'agree,', 'for', 'me,', 'this', 'was', 'a', 'Godsend!', 'No', 'side', 'effects', 'for', 'me.']),\n",
       "       list(['Diagnosed', 'with', 'C', 'Diff', 'and', 'prescribed', 'Flagyl.', 'Worst', 'week', 'of', 'my', 'life.', 'Terrible', 'side', 'effects', 'including', 'dizziness,', 'insomnia,', 'weepiness,', 'irritable,', 'nightmares,', 'tingling', 'and', 'numbness', 'in', 'feet', 'and', 'legs.', 'I', 'even', 'felt', 'as', 'if', 'my', 'personality', 'changed!', 'My', 'doctor', '(who', 'I', 'will', 'no', 'longer', 'see)', 'refused', 'to', 'change', 'my', 'medicine', 'to', 'vancomycin,', 'but', 'told', 'me', 'to', 'quottough', 'it', 'outquot.', 'I', 'painstakingly', 'took', '6', 'days', 'of', 'Flagyl', 'but', 'couldnt', 'take', 'any', 'more.', 'I', 'went', 'to', 'a', 'different', 'doctor', 'and', 'she', 'immediately', 'prescribed', 'Vancomycin.', 'My', 'C', 'Diff', 'symptoms', 'disappeared', 'almost', 'immediately,', 'no', 'side', 'effects', 'but', 'maybe', 'occasional', 'headache.', 'I', 'cant', 'say', 'how', 'happy', 'I', 'am', 'with', 'this', 'medicine.', 'I', 'can', 'take', 'the', 'full', 'course', 'of', '1', 'days', 'with', 'no', 'problems,', 'and', 'C', 'Diff', 'symptoms', 'have', 'not', 'returned', 'yet.', 'Cant', 'believe', 'the', 'difference.']),\n",
       "       list(['While', 'my', 'oncologist', 'could', 'not', 'conclude', 'that', 'GEMZAR', 'was', 'effective', 'in', 'my', 'case,', 'I', 'have', 'survived', 'late-stage', 'metastatic', 'pancreatic', 'cancer', 'for', 'more', 'than', '6', 'years', 'since', 'beginning', 'my', 'first', '(of', '2)', 'treatment', 'regimen.', 'Absent', 'any', 'other', 'explanation,', 'I', 'must', 'consider', 'the', 'possibility', 'that', 'GEMZAR', 'was', 'instrumental', 'in', 'my', 'survival.', 'Ive', 'been', 'told', 'I', 'have', 'exceptional', 'tolerance', 'for', 'GEMZAR,', 'and', 'I', 'ultimately', 'had', '54', 'infusions', 'over', '2-and-a-half', 'years,', 'with', 'a', 'one-year', 'gap.', 'The', 'side', 'effects', 'were', 'minimal', 'in', 'my', 'case', '(most', 'frequent:', 'flu-like', 'symptoms,', 'mild', 'infections),', 'and', 'I', 'was', 'able', 'to', 'conduct', 'relatively', 'normal', 'work', 'amp', 'life', 'routines,', 'although', 'I', 'frequently', 'had', 'to', 'battle', 'a', 'high', 'level', 'of', 'fatigue.']),\n",
       "       list(['Ovide', 'is', 'the', 'best', 'thing', 'ever!', '4', 'years', 'ago', 'and', 'after', 'a', 'crash', 'course', 'in', 'head', 'lice', 'the', 'Dr', 'prescribed', 'RID.', 'After', '4', 'months,', 'countless', 'hours', 'combing,', 'washing', 'clothes', 'and', '$5', 'later', 'to', 'treat', '4', 'children', 'and', 'the', 'sprays', 'for', 'furniture,', 'every', 'week', 'these', 'roaches', 'kept', 'coming', 'back', '(this', 'amount', 'dont', 'include', 'the', 'extra', 'expense', 'that', 'we', 'incurred', 'replacing', 'clothes', 'that', 'finished', 'in', 'the', 'garbage', 'can', 'after', 'being', 'washed', 'in', 'hot', 'water).', 'Finally', 'I', 'went', 'back', 'to', 'see', 'my', 'childrens', 'Dr.', 'and', 'she', 'prescribed', 'Ovide.', 'After', 'the', 'first', 'treatment,', 'no', 'more', 'head', 'lice!', 'months', 'ago', 'my', 'son', 'got', 'them', 'again', 'and', 'off', 'course', 'my', 'choice', 'was', 'Ovide', 'hands', 'down!', 'Dont', 'waste', 'money', 'on', 'other', 'products.']),\n",
       "       list(['For', '1/2', 'years', 'I', 'have', 'been', 'getting', 'Aranesp', 'injections', 'for', 'my', 'CML', 'and', 'it', 'has', 'really', 'helped', 'keep', 'my', 'red', 'blood', 'count', 'since', 'I', 'have', 'chronic', 'anemia.']),\n",
       "       list(['Ive', 'been', 'on', 'Addyi', 'now', 'for', '4', 'weeks', 'and', 'it', 'is', 'working', 'for', 'me!', 'Ive', 'went', 'from', 'that', 'dread', 'every', 'time', 'my', 'husband', 'wantedv', 'sex', 'to', 'a', 'great', 'desire', 'for', 'him.', 'Im', 'finding', 'when', 'I', 'think', 'of', 'sex', 'which', 'I', 'often', 'do', 'now', 'Im', 'on', 'Addyi,', 'I', 'get', 'a', 'tingling', 'feeling', 'in', 'my', 'libido.', 'We', 'went', 'from', 'sex', 'twice', 'a', 'year', 'to', 'a', 'few', 'times', 'a', 'week', 'and', 'getting', 'better.', 'It', 'has', 'also', 'helped', 'with', 'my', 'depression.', 'The', 'plus', 'is', 'better', 'lubrication', 'and', 'multiple', 'big', 'Os.', 'I', 'only', 'had', 'nausea', 'the', '1st', 'day.', 'I', 'normally', 'have', 'high', 'blood', 'pressure', 'but', 'Addyi', 'brought', 'my', 'blood', 'pressure', 'down', 'to', 'normal', 'so', 'I', 'dont', 'have', 'to', 'take', 'blood', 'pressure', 'medication', 'now.', 'Good', 'luck', 'ladies', 'and', 'dont', 'get', 'discouraged', 'because', 'of', 'the', 'media', 'because', 'they', 'dont', 'know', 'what', 'the', 'outcome', 'is', 'because', 'its', 'new.']),\n",
       "       list(['I', 'am', 'greatly', 'disappointed', 'that', 'they', 'are', 'going', 'to', 'take', 'Midodrine', 'off', 'the', 'market.', 'I', 'have', 'taken', 'it', 'for', 'about', '8', 'years', 'with', 'fantastic', 'results.', 'Without', 'it', 'I', 'have', 'syncope', 'often,', 'I', 'am', 'really', 'researching', 'what', 'to', 'do', 'because', 'I', 'rely', 'on', 'this', 'medicine', 'for', 'help', 'with', 'my', 'hypotension.', 'Tried', 'to', 'go', 'off', 'of', 'it', 'once,', 'passed', 'out', 'in', 'my', 'bosses', 'arms', '-', 'that', 'was', 'embarrassing', '-', 'got', 'back', 'on', 'it', 'and', 'not', 'a', 'problem', 'since.', 'Even', 'on', 'medication', 'my', 'blood', 'pressure', 'runs', '1/7....but', 'off', 'of', 'Midodrine', 'I', 'have', 'to', 'work', 'to', 'keep', 'at', '88/6,', 'sometimes', 'I', 'am', 'less', 'than', 'that', 'and', 'syncope', 'is', 'definite.', 'I', 'WISH', 'they', 'would', 'reconsider', 'taking', 'it', 'off', 'the', 'market.']),\n",
       "       list(['I', 'stated', 'that', 'I', 'would', 'come', 'back', 'to', 'this', 'site', 'with', 'the', 'results', 'of', 'my', 'endoscopy', 'after', 'taking', 'Pylera', 'and', 'the', 'bacteria', 'has', 'been', 'eradicated.', 'Pylera', 'worked', 'for', 'me!!', 'I', 'am', 'a', 'very', 'satisfied', 'customer.', 'I', 'hope', 'this', 'review', 'will', 'be', 'helpful', 'to', 'others.', 'Hang', 'in', 'there', 'if', 'you', 'are', 'taking', 'it', 'and', 'having', 'a', 'rough', 'time.']),\n",
       "       list(['Worked', 'very', 'well.', 'I', 'had', 'very', 'mild', 'side', 'effects.']),\n",
       "       list(['My', 'experience', 'is', 'a', 'little', 'more', 'indirect.', 'My', 'boyfriend', 'began', 'taking', 'this', 'medication', 'about', 'weeks', 'ago', 'and', 'it', 'has', 'drastically', 'changed', 'our', 'lives.', 'Within', 'the', 'first', 'week', 'his', 'mood', 'became', 'much', 'much', 'better', 'and', 'his', 'anxiety', 'took', 'a', 'huge', 'dive!', 'I', 'cant', 'even', 'put', 'into', 'words', 'how', 'this', 'medicine', 'has', 'changed', 'our', 'lives.', 'Hes', 'always', 'been', 'a', 'good', 'man', 'but', 'I', 'could', 'tell', 'that', 'he', 'was', 'lost', 'in', 'a', 'cloud', 'of', 'depression', 'from', 'almost', 'the', 'minute', 'I', 'met', 'him.', 'His', 'depression', 'wasnt', 'what', 'you', 'would', 'typically', 'think', 'of', 'but', 'I', 'could', 'tell', 'something', 'was', 'off', 'inside', 'of', 'him', 'but', 'this', 'medicine', 'has', 'given', 'him', 'a', 'revived', 'passion', 'for', 'all', 'things', 'and', 'he', 'is', 'absolutely', 'pleasant', 'and', 'wonderful', 'to', 'be', 'around.', 'He', 'did', 'have', 'some', 'insomnia', 'in', 'the', 'beginning', 'and', 'gets', 'sick', 'if', 'he', 'takes', 'too', 'much', '(more', 'than', '2mg).']),\n",
       "       list(['Used', 'on', 'cracked', 'hill', 'on', 'my', 'feet.', 'Applied', 'times', 'a', 'day', 'for', 'two', 'weeks.', 'Wonderful.', 'My', 'feet', 'are', 'like', 'a', 'baby', 'skin.']),\n",
       "       list(['I', 'have', 'been', 'using', 'Nexavar', 'for', 'Hepatocellular', 'Carcinoma', 'for', 'nearly', 'a', 'year,', 'I', 'did', 'develop', 'a', 'skin', 'rash', 'but', 'nothing', 'too', 'distressing.', 'I', 'had', 'slight', 'hair', 'loss', 'and', 'thinning', 'but', 'its', 'starting', 'to', 'grow', 'back.', 'I', 'also', 'developed', 'mild', 'colitis', 'but', 'have', 'found', 'Omeprazole', 'helps', 'really', 'well.', 'I', 'also', 'have', 'insomnia', 'but', 'my', 'doctor', 'prescribed', 'sleeping', 'tablets', 'which', 'I', 'use', 'occasionally.', 'Apart', 'from', 'occasional', 'tumor', 'pain', 'I', 'feel', 'great,', 'and', 'I', 'am', 'on', 'the', 'maximum', 'dose.', 'The', 'tumor', 'has', 'shrunk', 'considerably', 'and', 'is', 'now', 'stable,', 'my', 'blood', 'tests', 'are', 'normal.']),\n",
       "       list(['Clindamycin', 'was', 'the', 'only', 'antibiotic', 'that', 'worked', 'for', 'severe', 'jaw', 'bone', 'infection.']),\n",
       "       list(['I', 'have', 'Myasthenia', 'Gravis', 'and', 'I', 'have', 'been', 'taking', 'Cellcept', 'for', 'two', 'years.', 'It', 'saved', 'my', 'life.']),\n",
       "       list(['I', 'have', 'been', 'taking', 'Megace,', 'in', 'conjunction', 'with', 'Xeloda', 'for', 'the', 'past', 'year', 'to', 'help', 'treat', 'my', 'Stage', 'Ovarian', 'Cancer.', 'Since', 'my', 'tumor', 'is', 'estrogen', 'feeding,', 'this', 'medication', 'takes', 'the', 'estrogen', 'out', 'of', 'my', 'system.', 'Tumors', 'have', 'CONSIDERABLY', 'shrunk', 'since', 'Ive', 'been', 'on', 'this', 'medication.']),\n",
       "       list(['This', 'medication', 'started', 'working', 'immediately.', 'Within', 'three', 'days--more', 'moisture.', 'Within', 'the', 'next', 'week,', 'my', 'interest', 'in', 'sex', 'returned', 'and', 'I', 'felt', 'a', 'major', 'decrease', 'in', 'pain.', 'I', 'have', 'been', 'using', 'this', 'medication', 'for', '5', 'months', 'now.', 'Am', 'I', 'completely', 'discomfort', 'free?', 'No.', 'However,', 'with', 'use', 'of', 'a', 'lubricant', 'like', 'coconut', 'oil', '(best', 'Ive', 'used)', 'or', 'olive', 'oil', '(second', 'best),', 'both', 'of', 'which', 'are', 'the', 'most', 'like', 'the', 'bodys', 'natural', 'moisture', 'and', 'some', 'modifications', 'in', 'position', 'or', 'speed,', 'this', 'medicine', 'has', 'been', 'a', 'miracle', 'for', 'us.', 'Unlike', 'when', 'we', 'were', 'young,', 'it', 'takes', 'more', 'preparation', 'to', 'be', 'physically', 'ready', 'for', 'intercourse,', 'but', 'weve', 'adapted', 'to', 'those', 'changes.', 'I', 'was/am', 'frightened', 'by', 'the', 'potential', 'side', 'effects.', 'The', 'only', 'drawback', 'for', 'me', 'at', 'this', 'point', 'is', 'an', 'increase', 'night', 'sweats']),\n",
       "       list(['I', 'have', 'taken', 'chromium', 'picolinate', 'three', 'times', 'in', 'my', 'life', 'and', 'each', 'time', 'Ive', 'miraculous', 'results.', 'The', 'last', 'time', 'I', 'lost', 'plenty', 'of', 'weight', 'and', 'since', 'no', 'longer', 'needed', 'medication', 'for', 'hypertension.']),\n",
       "       list(['So', 'Ive', 'been', 'reading', 'other', 'reviews', 'for', 'this,', 'and', 'I', 'really', 'think', 'that', 'people', 'should', 'wait', 'until', 'after', 'the', 'first', 'month', 'to', 'decide', 'if', 'this', 'is', 'a', 'horrible', 'birth', 'control', 'because', 'OF', 'COURSE', 'were', 'going', 'to', 'have', 'the', 'bad', 'side', 'effects', 'the', 'first', 'few', 'weeks!', 'Our', 'bodies', 'are', 'adapting', 'to', 'a', 'new', 'drug', 'so', 'just', 'be', 'patient!', 'The', 'first', 'three', 'weeks', 'I', 'had', 'nausea,', 'mild', 'mood', 'swings,', 'loss', 'of', 'appetite,', 'and', 'EXTREMELY', 'sore', 'and', 'swollen', 'breasts.', 'Since', 'then', 'Ive', 'been', 'side', 'effect', 'free.', 'Ive', 'been', 'on', 'it', 'for', 'three', 'months', 'now', 'and', 'I', 'have', 'to', 'say', 'its', 'amazing!', 'I', 'take', 'it', 'for', 'PCOS', 'and', 'because', 'of', 'my', 'PCOS', 'I', 'would', 'be', 'having', 'periods', 'every', '6', 'months', 'and', 'they', 'would', 'be', 'KILLER!', 'I', 'would', 'literally', 'be', 'in', 'bed', 'for', 'days,', 'but', 'with', 'this', 'birth', 'control', 'I', 'have', 'mild', 'short', 'periods.', 'Its', 'fantastic.', 'I', 'definitely', 'recommend', 'it.']),\n",
       "       list(['After', 'having', 'surgery', 'to', 'remove', 'my', 'gastrointestinal', 'stromal', 'tumor', 'one', 'year', 'ago,', 'and', 'having', 'a', 'CT', 'scan', 'every', 'months,', 'I', 'am', 'NED', '(no', 'evidence', 'of', 'disease),', 'due', 'to', 'taking', 'Gleevec.', 'I', 'only', 'have', 'one', 'noticeable', 'side', 'of', 'effect,', 'occasional', 'nausea.']),\n",
       "       list(['I', 'have', 'taken', 'Lipitor', 'for', 'over', 'two', 'years.', 'HDL', 'are', '76', 'total', 'cholesterol', 'is', '147.', 'Appears', 'to', 'be', 'working', 'properly.', 'Have', 'full', 'blood', 'tests', 'every', 'six', 'months.']),\n",
       "       list(['Esophageal', 'ulcer:', 'Had', 'problems', 'off', 'and', 'on', 'with', 'horrible', 'heartburn', 'throughout', 'my', 'teens', 'years', 'until', 'I', 'ended', 'up', 'with', 'an', 'ulcer', 'due', 'to', 'undiagnosed', 'acid', 'reflux', 'and', 'other', 'problems.', 'Was', 'prescribed', 'Protonix', 'and', 'it', 'was', 'the', 'only', 'thing', 'that', 'worked.', 'Since', 'then', 'I', 'have', 'been', 'able', 'to', 'use', 'Tagamet', '(cimetidine)', 'for', 'every', 'day', 'use,', 'along', 'with', 'watching', 'what', 'I', 'eat,', 'but', 'the', 'Protonix', 'is', 'awesome.']),\n",
       "       list(['I', 'started', 'reading', 'about', 'the', 'benefits', 'of', 'B-12.', 'I', 'thought', 'it', 'be', 'something', 'to', 'try.', 'Ive', 'noticed', 'that', 'Im', 'much', 'more', 'alert', 'for', 'a', 'greater', 'portion', 'of', 'the', 'day.', 'Im', 'not', 'suffering', 'the', 'afternoon', 'slump.']),\n",
       "       list(['Since', 'beginning', 'Letairis', 'months', 'ago,', 'my', 'blood', 'pressure', 'has', 'reduced', 'and', 'my', 'exercise', 'capabilities', 'are', 'better.', 'I', 'still', 'have', 'shortness', 'of', 'breath,', 'but', 'not', 'nearly', 'as', 'quickly', 'as', 'I', 'did', 'before', 'the', 'medication.', 'The', '6', 'minute', 'walk', 'was', 'better', 'with', 'walking', 'further', 'and', 'faster.', 'Side', 'effects', 'are', 'minimal', 'so', 'far.']),\n",
       "       list(['I', 'am', 'still', 'alive', 'because', 'of', 'this', 'drug', 'and', 'I', 'am', 'not', 'an', 'advocate', 'of', 'the', 'medical', 'profession.']),\n",
       "       list(['This', 'medication', 'gave', 'me', 'back', 'my', 'life.', 'I', 'was', 'passing', 'out', 'everywhere.', 'People', 'in', 'Target', 'hated', 'to', 'see', 'me', 'coming.', 'I', 'passed', 'out', 'in', 'a', 'parking', 'lot', 'and', 'prayed', 'I', 'wouldnt', 'be', 'run', 'over.', 'I', 'had', 'hypotension', 'and', 'vaso-vagal', 'syncope', 'upon', 'movement.', 'This', 'didnt', 'quotcurequot', 'it,', 'but', 'helped', 'me', 'so', 'much.']),\n",
       "       list(['Worked', 'so', 'fast.', 'Relieved', 'extremely', 'labored', 'breathing', 'in', '1/2', 'hour', 'of', 'first', 'dose.', 'The', 'heaviness', 'and', 'being', 'unable', 'to', 'take', 'even', 'a', '1/4', 'breath', 'improved', 'to', 'about', '75%', 'lung', 'capacity.', 'Much', 'relief', 'fast.']),\n",
       "       list(['I', 'rarely', 'get', 'sick', 'but', 'by', 'the', 'time', 'I', 'left', 'work', 'on', 'Thursday', 'I', 'had', 'the', 'chills', 'and', 'a', 'fever', 'of', '12.', 'Went', 'to', 'Patient', 'First', 'Walk', 'in', 'clinic', 'on', 'Friday', 'morning', 'because', 'I', 'couldnt', 'get', 'in', 'to', 'see', 'my', 'doctor.', 'They', 'confirmed', 'I', 'had', 'the', 'flu.', 'Prescribed', 'Tamiflu', 'and', 'after', 'the', '2nd', 'dose', 'my', 'fever', 'is', 'gone', 'and', 'I', 'feel', 'close', 'to', 'normal.', 'The', 'key', 'is', 'catching', 'it', 'in', 'the', 'first', '24-48', 'hours.']),\n",
       "       list(['I', 'take', 'two', 'Lialda', 'pills', 'every', 'morning..(1.2gm),', 'Lialda', 'helped', 'my', 'stomach', 'pains', 'and', 'bleeding', 'tremendously!', 'I', 'recommend', 'to', 'everyone!', 'It', 'took', 'a', 'good', '2', 'months', 'to', 'really', 'show', 'a', 'big', 'difference', 'but', 'I', 'am', 'so', 'happy', 'I', 'finally', 'found', 'something', 'that', 'helps.', 'It', 'has', 'taken', 'me', 'years', 'to', 'finally', 'find', 'something.', 'Also,', 'Contact', 'your', 'doctor', 'or', 'Lialda', 'because', 'it%u21s', 'really', 'expensive', 'but', 'you', 'can', 'get', 'their', 'coupon', 'card', 'and', 'only', 'pay', '$1', 'a', 'month.']),\n",
       "       list(['Nasal', 'polyps', 'were', 'better', 'after', '1', 'month', 'of', 'use.']),\n",
       "       list(['My', 'son', 'was', 'diagnosed', 'with', 'Tourettes', 'syndrome', 'at', 'an', 'early', 'age.', 'He', 'was', 'put', 'on', 'clonidine.', 'Made', 'him', 'sleepy', 'so', 'we', 'gave', '1/4', 'th', 'his', 'dose', 'and', 'it', 'suppressed', 'his', 'tics.', 'Very', 'beneficial', 'to', 'his', 'quality', 'of', 'life', 'in', 'my', 'eyes.', 'Did', 'cause', 'mild', 'dry', 'mouth.']),\n",
       "       list(['I', 'take', 'Vesicare', 'for', 'an', 'overactive', 'bladder.', 'It', 'helps', 'a', 'lot,', 'but', 'the', 'side', 'effect', 'is', 'extreme', 'dry', 'mouth!!', 'I', 'tried', 'Bioteen', 'and', 'didnt', 'like', 'the', 'taste.', 'I', 'then', 'tried', 'TheraBreath', 'lozengers', 'which', 'seemed', 'to', 'help,', 'but', 'I', 'didnt', 'like', 'waking', 'up', 'in', 'the', 'night', 'and', 'needing', 'to', 'suck', 'on', 'a', 'strong', 'mint', 'flavored', 'lozenger.', 'When', 'I', 'tried', 'Mouthkote', 'spray', 'I', 'had', 'instant', 'relief', 'and', 'it', 'left', 'no', 'real', 'bad', 'taste', 'in', 'my', 'mouth.', 'The', 'bottle', 'is', 'next', 'to', 'me', 'at', 'night,', 'so', 'when', 'I', 'wake', 'up', 'with', 'a', 'Sahara', 'desert', 'in', 'my', 'mouth,', 'I', 'simply', 'spray', 'a', 'couple', 'times', 'into', 'my', 'mouth,', 'swish', 'it', 'around', 'for', '1', 'seconds,', 'and', 'fall', 'right', 'back', 'to', 'sleep.']),\n",
       "       list(['Very', 'Happy.', 'Vimovo', 'worked', 'just', 'as', 'the', 'Doctor', 'ordered.', 'Best', 'of', 'all,', 'NO', 'STOMACH', 'ACHES', 'AFTER.']),\n",
       "       list(['I', 'have', 'been', 'using', 'Welchol', 'for', 'several', 'years', 'since', 'I', 'cannot', 'take', 'statins.', 'I', 'have', 'had', 'no', 'problem', 'with', 'memory', 'loss.', 'The', 'ONLY', 'side', 'effect', 'I', 'have', 'suffered', 'is', 'occasional', 'constipation', 'that', 'is', 'easily', 'relieved', 'with', 'adequate', 'fluid', 'intake', 'and', 'fiber', 'supplements.', 'It,', 'in', 'conjunction', 'with', 'my', 'dietary', 'changes,', 'is', 'keeping', 'my', 'cholesterol', 'down', 'adequately', '.']),\n",
       "       list(['It', 'works', 'really', 'well', 'however', 'you', 'have', 'to', 'know', 'that', 'you', 'are', 'substituing', 'one', 'benzodiazepine', 'for', 'another.', 'Please', 'take', 'your', 'time', 'with', 'this', 'medication.', 'Taper', 'off', 'the', 'medication', 'as', 'prescribed', 'by', 'your', 'doctor.', 'You', 'do', 'not', 'want', 'to', 'become', 'dependent', 'on', 'another', 'benzodiazepine.', 'Good', 'luck!']),\n",
       "       list(['It', 'helped', 'me', 'a', 'lot', 'with', 'akathisia.']),\n",
       "       list(['I', 'am', 'a', 'healthy', '25', 'year', 'old', 'male,', 'I', 'cannot', 'remember', 'my', 'toenails', 'NOT', 'having', 'fungus.', 'I', 'lived', 'through', 'the', 'embarassment', 'seemingly', 'my', 'whole', 'life,', 'but', 'once', 'my', 'thumbnail', 'became', 'infected', 'to', 'the', 'point', 'where', 'it', 'was', 'practically', 'gone,', 'I', 'had', 'to', 'do', 'anything', 'to', 'treat', 'it.', 'Doctor', 'suggested', 'I', 'take', 'Lamisil,', 'I', 'think', 'he', 'said', 'it', 'has', 'like', 'a', '5%', 'chance', 'of', 'working.', 'I', 'was', 'very', 'nervous', 'after', 'reading', 'reviews,', 'but', 'it', 'also', 'helps', 'that', 'I', 'never', 'drink', 'alcohol.', 'Took', 'it', 'Dec.11', 'until', 'March', '12,', 'had', 'one', 'liver', 'panel', 'done', '(normal', 'result).', 'I', 'believe', 'by', 'April', 'my', 'thumbnail', 'was', '1%', 'healthy', 'and', 'now', '(/12)', 'my', 'toenails', 'are', '%', 'healthy,', 'thank', 'you.', 'Only', 'side', 'effect', 'I', 'noticed', 'wasnt', 'bad,', 'just', 'my', 'farts/stool', 'smelled', 'metallic.', 'I', 'say', 'give', 'it', 'a', 'shot,', 'you', 'can', 'always', 'stop', 'taking', 'it.']),\n",
       "       list(['My', 'platelet', 'count', 'was', 'dangerously', 'low.', 'After', 'taking', '5mg', 'Promacta', 'daily,', 'my', 'count', 'was', '275', 'after', 'one', 'month.', 'I', 'have', 'not', 'had', 'any', 'side', 'effects', 'whatsoever.', 'However,', 'I', 'am', 'curious', 'as', 'to', 'why', 'dairy', 'is', 'prohibited', 'for', 'four', 'hours', 'before', 'and', 'after', 'taking', 'medication.', 'The', 'only', 'other', 'negative', 'is', 'the', 'cost.', 'Thank', 'God', 'for', 'insurance', 'help.']),\n",
       "       list(['I', 'have', 'used', 'this', 'medicine', 'in', 'cream', 'form', 'and', 'have', 'excellent', 'results.']),\n",
       "       list(['I', 'had', 'a', 'burn', 'on', 'a', 'finger', 'about', '1', 'years', 'ago', 'and', 'a', 'doctor', 'prescribed', 'this.', 'I', 'have', 'used', 'this', 'since', 'on', 'almost', 'any', 'kind', 'of', 'injured', 'skin', 'or', 'rash.', 'It', 'increases', 'the', 'healing', 'process', 'in', 'my', 'experience', 'and', 'works', 'exceptionally', 'well.', 'It', 'of', 'course', 'is', 'not', 'good', 'to', 'use', 'if', 'you', 'have', 'sulfa', 'allergies.', 'This', 'is', 'my', 'favorite', 'medication', 'and', 'feel', 'strongly', 'that', 'it', 'should', 'move', 'to', 'an', 'over', 'the', 'counter', 'status.']),\n",
       "       list(['Amlactin', 'was', 'a', 'life', 'saver', 'for', 'me.', 'I', 'had', 'tried', 'everything', 'under', 'the', 'sun.', 'Couldnt', 'stand', 'to', 'take', 'a', 'bath,', 'couldnt', 'stand', 'not', 'to.', 'When', 'I', 'took', 'off', 'my', 'clothes,', 'skin', 'flew', 'everywhere.', 'Big', 'scales,', 'cracked,', 'red', 'skin.', 'Anyway,', 'I', 'use', 'it', 'all', 'over', 'my', 'whole', 'body,', 'and', 'it', 'works.', 'It', 'stinks,', 'but', 'it', 'works.', 'It', 'is', 'too', 'strong', 'for', 'my', 'face.', 'I', 'havent', 'found', 'a', 'product', 'for', 'a', 'face', 'regimen.', 'I', 'am', 'trying', 'some', 'stuff', 'on', 'my', 'scalp.', 'I', 'have', 'quotcradle', 'capquot.', 'My', 'head', 'always', 'smells', 'funky,', 'and', 'lately', 'I', 'have', 'lost', 'lots', 'of', 'hair.', 'So,', 'no', 'solution', 'yet', 'for', 'face', 'or', 'scalp.']),\n",
       "       list(['Im', 'doing', 'just', 'fine,', 'but', 'then', 'again', 'I', 'have', 'a', 'high', 'tolerance', 'for', 'most', 'things.', 'Also,', 'would', 'much', 'rather', 'have', 'a', 'little', 'burning', 'than', 'blindness.']),\n",
       "       list(['Caused', 'steady', 'increase', 'in', 'creatinine', 'level', 'over', 'month', 'period', 'and', 'my', 'PCP', 'thought', 'I', 'was', 'getting', 'kidney', 'disease.', 'Very', 'scary.', 'I', 'was', 'the', 'one', 'to', 'suggest', 'stopping', 'it', 'rather', 'than', 'go', 'to', 'a', 'nephrologist', 'which', 'is', 'what', 'my', 'Dr', 'advised.', 'My', 'creatinine', 'levels', 'went', 'back', 'to', 'normal', 'after', 'stopping', 'it.']),\n",
       "       list(['I', 'am', 'on', 'opiate', 'pain', 'medication', 'for', 'a', 'back', 'injury', 'from', 'a', 'car', 'accident,', 'and', 'the', 'opiates', 'make', 'me', 'nauseated', 'and', 'vomit.', 'Pain', 'doc', 'put', 'me', 'on', '25mg', 'Promethazine', 'X', 'a', 'day', 'and', 'it', 'works', 'wonders!', 'It', 'will', 'make', 'you', 'a', 'little', 'sleepy,', 'but', 'once', 'you', 'get', 'used', 'to', 'it', 'then', 'that', 'feeling', 'goes', 'away.', 'And', 'Ive', 'tried', 'Tigan', '(Trimethobenzamide)', 'which', 'made', 'nausea', 'worse.', 'Tried', 'Zolfran', '(Ondansetron)', 'which', 'I', 'hated', 'because', 'it', 'taste', 'nasty', 'and', 'that', 'doesnt', 'help', 'when', 'you', 'are', 'nauseated.', 'I', 'would', 'HIGHLY', 'recommend', 'Promethazine', 'for', 'ANYONE', 'who', 'SUFFERS', 'with', 'nausea', 'from', 'opiates', 'or', 'has', 'chronic', 'nausea!']),\n",
       "       list(['I', 'have', 'used', 'Cialis', 'for', '5', 'yrs', 'with', 'great', 'success', 'since', 'age', '57.', 'I', 'cut', '2', 'mg', 'into', '6', 'doses', 'that', 'last', 'about', '24', 'hrs', 'each.', 'Enables', 'me', 'to', 'keep', 'a', 'strong', 'erection', 'for', '45-6', 'minutes.']),\n",
       "       list(['I', 'had', 'Taxol', 'and', 'Cisplatin', 'for', 'Stage', 'ovarian', 'cancer.', 'After', '6', 'treatments,', 'each', 'weeks', 'apart,', 'a', 'second', 'surgery', 'to', 'check', 'for', 'residual', 'cancer', 'cells,', 'I', 'was', 'declared', 'cancer', 'free.', 'The', 'Taxol', 'severely', 'damaged', 'my', 'nerves', 'in', 'fingers', 'and', 'feet,', 'but', 'now', 'after', '16', 'yrs,', 'I', 'have', 'no', 'residual', 'damage.', 'I', 'am', 'proud', 'to', 'say', 'I', 'am', 'a', '16', 'year', 'cancer', 'survivor.']),\n",
       "       list(['Ive', 'had', 'tinea', 'versicolor', 'for', 'about', '6', 'years', 'now.', 'There', 'have', 'been', 'times', 'when', 'the', 'spots', 'blend', 'into', 'my', 'skin', 'a', 'little', 'more,', 'but', 'eventually', 'it', 'would', 'always', 'come', 'back.', 'I', 'recently', 'started', 'some', 'research', 'online', 'and', 'found', 'all', 'these', 'amazing', 'reviews', 'for', 'Selsun', 'Blue.', 'Ive', 'only', 'been', 'using', 'for', 'about', 'a', 'week', 'now,', 'but', 'the', 'spots', 'have', 'significantly', 'faded', 'already!', 'The', 'ONLY', 'thing', 'I', 'will', 'recommend', 'is', 'to', 'make', 'sure', 'you', 'moisturize', 'at', 'least', 'once', 'a', 'day', 'while', 'using.', 'The', 'shampoo', 'really', 'dried', 'my', 'skin', 'out,', 'to', 'the', 'point', 'where', 'I', 'could', 'see', 'cracks', 'from', 'dryness.', 'However,', 'as', 'soon', 'as', 'I', 'moisturize,', 'it', 'goes', 'away', 'and', 'does', 'not', 'itch.', 'Selsun', 'is', 'unquestionably', 'an', 'amazing', 'product.', 'Ive', 'been', 'seeing', 'a', 'lot', 'of', 'reviews', 'for', 'using', 'Lamisil', 'as', 'well', 'which', 'I', 'will', 'soon', 'be', 'trying', 'as', 'well.']),\n",
       "       list(['I', 'keep', 'Ativan', 'in', 'a', 'small', 'container', 'in', 'my', 'pocket', 'at', 'all', 'times!', 'When', 'I', 'feel', 'a', 'generalized', 'tonic', 'clonic', '(grand', 'mal)', 'seizure', 'coming', 'on,', 'I', 'put', 'one', 'in', 'my', 'mouth,', 'chew', 'it', 'up,', 'swallow', 'it,', 'and', 'prevents', 'or', 'stops', 'the', 'seizure', 'immediately.', 'I', 'am', 'no', 'longer', 'afraid', 'of', 'status', 'epilepticus', 'because', 'Ativan', 'protects', 'me.', 'Im', 'thankful', 'they', 'exist.']),\n",
       "       list(['WOW', 'is', 'all', 'can', 'say.', 'This', 'allergy', 'medication', 'works', 'great.', 'Its', 'for', '24', 'hour', 'relief', 'and', 'I', 'dont', 'sneeze', 'anymore.', 'I', 'have', 'bad', 'allergies', 'to', 'cats', 'but', 'I', 'love', 'them', 'so', 'much,', 'except', 'they', 'almost', 'caused', 'an', 'asthma', 'attack', 'because', 'of', 'my', 'allergies,', 'once', 'I', 'was', 'prescribed', 'Xyzal', 'ALL', 'the', 'symptoms', 'went', 'away.', 'This', 'is', 'like', 'the', 'miracle', 'for', 'allergy', 'relief,', 'it', 'doesnt', 'make', 'me', 'drowsy', 'at', 'all', 'but', 'its', 'different', 'for', 'each', 'individual', 'I', 'guess.', 'It', 'stops', 'your', 'eye', 'itching,', 'nose', 'dripping,', 'sneezing', 'and', 'wheezing.']),\n",
       "       list(['I', 'lacked', 'the', 'intrinsic', 'factor', 'to', 'absorb', 'Vitamin', 'B12', 'from', 'food', 'since', 'I', 'was', 'in', 'my', 's.', 'I', 'was', 'diagnosed', 'with', 'breast', 'cancer', '2x', 'and', 'now', 'am', 'age', '55', 'I', 'increasingly', 'find', 'that', 'I', 'am', 'dependent', 'on', 'the', 'b12', 'for', 'energy,', 'mood', 'and', 'weight', 'maintenance.', 'I', 'can', 'tell', 'when', 'my', 'levels', 'are', 'low', 'without', 'a', 'calendar', 'as', 'this', 'usually', 'occurs', 'about', '-5', 'days', 'before', 'the', 'end', 'of', 'the', 'month', 'when', 'I', 'am', 'do', 'for', 'my', 'shot.']),\n",
       "       list(['I', 'have', 'had', 'high', 'blood', 'pressure', 'for', 'about', '11', 'years', 'now,', 'and', 'have', 'been', 'on', 'so', 'many', 'different', 'medicines.', 'Doctor', 'tried', 'me', 'on', 'different', 'medicines', 'and', 'the', 'rd', 'one', '(EXFORGE', '1/16)', 'worked', 'like', 'a', 'charm.', 'My', 'blood', 'pressure', 'would', 'usually', 'get', 'as', 'high', 'as', '18/.', 'I', 'have', 'had', 'some', 'swelling', 'in', 'my', 'feet', 'and', 'ankles', 'but', 'hasnt', 'been', 'that', 'bad.', 'EXFORGE', 'has', 'lowered', 'my', 'blood', 'pressure', 'to', '125/6.']),\n",
       "       list(['First', 'my', 'Dr', 'had', 'me', 'on', 'Restasis,', 'and', 'after', '2', 'months,', 'it', 'really', 'did', 'nothing', 'for', 'me!', 'Now,', 'the', 'doc', 'prescribed', 'Xiidra!', 'Ive', 'been', 'using', 'it', 'for', 'about', '6', 'weeks,', 'and', 'it', 'does', 'seem', 'to', 'be', 'working!', 'I', 'do', 'have', 'a', 'huge', 'problem,', 'though!', 'Im', 'assuming', 'it', 'is', 'mostly', 'older', 'people', 'using', 'your', 'drops?', 'Why', 'have', 'the', 'medication,', 'in', 'such', 'a', 'hard', 'plastic', 'container,', 'that', 'a', 'senior', 'citizen', 'with', 'Arthritic', 'Hands,', 'cannot', 'open', 'your', 'packaging,', 'or', 'squeeze', 'the', 'eye', 'drop', 'dispenser,', 'easily?', 'Hopefully,', 'someone', 'at', 'Shine,', 'will', 'take', 'the', 'time', 'to', 'read', 'this,', 'and', 'answer', 'me?', 'Thank', 'you!']),\n",
       "       list(['This', 'is', 'the', 'one', 'medication', 'I', 'can', 'rely', 'on', 'to', 'clear', 'up', 'my', 'conjunctivitis.', 'It', 'is', 'fast', 'and', 'effective.']),\n",
       "       list(['In', 'April', '214', 'my', 'knees', 'just', 'simply', 'gave', 'out.', 'No', 'cartilidge', 'the', 'doc', 'said.', 'Tried', 'cortisone,it', 'did', 'absolutely', 'nothing.', 'Started', 'Euflexxa', 'Jul', '14.', 'Got', '1', 'shot', 'a', 'week,', 'weeks', 'straight.', 'Felt', 'better,', 'still', 'limped,', 'could', 'not', 'put', 'weight', 'on', 'it,', 'but', 'it', 'was', 'better.', 'Jan', '215', 'took', '2nd', 'series', 'of', 'shots.', 'It', 'got', 'better', 'again...limp', 'reduced,', 'could', 'put', 'more', 'weight', 'on', 'it.', 'Just', 'got', 'my', 'rd', 'series', 'over', 'past', 'weeks.', 'Instantly', 'with', 'the', 'first', 'shot', 'my', 'knee', 'felt', 'better...vast', 'improvement.', 'Second', 'shot,', 'even', 'better.', 'About', '5', 'days', 'after', 'the', 'second', 'shot', 'it', 'has', 'been', '2', 'days', 'and', 'all', 'of', 'a', 'sudden', 'I', 'realized,', 'wow', 'I', 'havent', 'had', 'any', 'knee', 'pain', 'in', '2', 'straight', 'days!', 'So', 'much,', 'so', 'I', 'FORGOT', 'about', 'my', 'knees!', 'Take', 'time', 'but', 'it', 'works!!']),\n",
       "       list(['I', 'have', 'never', 'felt', 'as', 'well', 'on', 'any', 'other', 'medicine', 'or', 'been', 'able', 'to', 'keep', 'my', 'sugar', 'level', 'as', 'consistent', 'as', 'it', 'is', 'now', 'through', 'out', 'the', 'day.']),\n",
       "       list(['I', 'have', 'spasticity', '(stiffness)', 'in', 'my', 'lower', 'back', 'and', 'right', 'leg', 'due', 'to', 'multiple', 'sclerosis.', 'I', 'had', 'used', 'marijuana', 'for', 'quite', 'a', 'while', 'and', 'it', 'helped', 'my', 'spasticity', 'but', 'was', 'not', 'good', 'for', 'my', 'cognitive', 'thinking.', 'I', 'stopped', 'the', 'marijuana', 'and', 'began', 'taking', 'baclofen', '2', 'mg', 'x', '/day.', 'I', 'walk', 'and', 'feel', 'so', 'much', 'better.', 'I', 'might', 'not', 'be', 'as', 'aware', 'of', 'how', 'much', 'better', 'I', 'am', 'until', 'I', 'miss', 'or', 'delay', 'taking', 'it.', 'I', 'have', 'experienced', 'no', 'side', 'effects.']),\n",
       "       list(['Good', 'for', 'stomach', 'pains,', 'indigestion', 'and', 'extreme', 'gaseous', 'pains', 'and', 'conditions.']),\n",
       "       list(['Great', 'medication.', 'Works', 'fast', 'and', 'lasts', 'all', 'day', 'long', 'as', 'long', 'as', 'you', 'drink', 'cranberry', 'juice', 'or', 'water.', 'Much', 'better', 'than', 'AZO.']),\n",
       "       list(['Humatrope', 'first', 'started', 'being', 'used', 'in', '187', 'I', 'have', 'read.', 'I', 'started', 'taking', 'daily', 'shots', 'in', '188.', 'At', 'the', 'time', 'I', 'was', '14', 'years', 'old,', '54quot,', '17lbs,', 'and', 'had', 'ZERO', 'growth', 'hormone', 'in', 'my', 'body.', 'As', 'it', 'stood', 'without', 'treatment', 'it', 'appeared', 'that', 'I', 'would', 'never', 'hit', 'puberty.', 'I', 'began', 'taking', 'daily', 'shots', 'every', 'day', 'for', 'two', 'years.', 'During', 'that', 'time', 'I', 'only', 'missed', 'two', 'days.', 'I', 'grew', 'from', '54quot', 'to', '6', 'by', '16', 'years', 'of', 'age', 'and', 'weighed', 'the', 'same', 'weight', 'that', 'I', 'had', 'before', 'I', 'began', 'the', 'shots.', 'My', 'body', 'developed', 'normally', 'and', 'I', 'noticed', 'no', 'side', 'effects.', 'Even', 'after', 'I', 'stopped', 'taking', 'the', 'shots', 'I', 'still', 'continued', 'to', 'grow', 'an', 'additional', 'inch.', 'My', 'farther', 'is', '51quot,', 'my', 'older', 'brother', 'is', '511quot', 'and', 'I', 'am', '61quot.', 'It', 'worked', 'PERFECTLY', 'for', 'me.']),\n",
       "       list(['Ive', 'been', 'down', 'surgeries', 'in', '11', 'months.', 'Lost', '6lbs', 'and', 'could', 'not', 'eat.', 'I', 'have', 'been', 'on', 'Megace', 'for', '1', 'days', 'and', 'I', 'have', 'gained', '17', 'lbs.', 'UNREAL!', 'I', 'have', 'eaten', '$2', 'in', 'groceries', 'and', 'have', 'no', 'plans', 'to', 'stop.', 'MEGACE', 'has', 'beyond', 'a', 'doubt', 'saved', 'my', 'life.', 'Side', 'effects', 'are', 'little', 'to', 'none.', 'Dry', 'mouth/more', 'frequent', 'urination/quotIncredible', 'appetitequot!', 'I', 'am', 'in', 'it', 'for', 'the', 'weight', 'gain.', 'Today', 'I', 'feel', 'so', 'good', 'and', 'strong,', 'I', 'caught', 'myself', 'running', 'home', 'from', 'the', 'store.']),\n",
       "       list(['I', 'had', 'a', 'severe', 'dental', 'infection', 'that', 'had', 'me', 'in', 'intense', 'pain', 'and', 'it', 'was', 'one', 'of', 'the', 'worst', 'painful', 'experiences', 'of', 'my', 'life.', 'I', 'didnt', 'have', 'the', 'money', 'to', 'get', 'the', 'tooth', 'pulled', 'or', 'worked', 'on.', 'After', 'hours', 'on', 'this', 'medication,', 'my', 'pain', 'had', 'subsided.', 'I', 'have', 'now', 'been', 'off', 'the', 'medicine', 'for', '2', 'days', 'and', 'no', 'crazy', 'side', 'effects.', 'I', 'also', 'tried', 'to', 'take', 'some', 'probiotics', 'between', 'doses', 'to', 'ward', 'off', 'any', 'bad', 'bacteria', 'build', 'up.', 'This', 'medicine', 'is', 'a', 'GOD', 'SEND.', 'Very', 'strong', 'antibiotic.', 'Must', 'take', 'each', 'dose', 'with', 'at', 'least', '1oz', 'of', 'water.', 'Please', 'dont', 'let', 'bad', 'reviews', 'steer', 'you', 'away', 'from', 'this', 'medicine.']),\n",
       "       list(['I', 'am', '1', 'and', 'have', 'congestive', 'heart', 'failure.', '(I', 'also', 'fell', 'and', 'broke', 'the', 'femur', 'articulation', 'with', 'my', 'hip', 'in', 'late', 'March).', 'My', 'doctor', 'gave', 'me', 'this', 'medicine,', 'Coreg,', 'and', 'it', 'took', 'away', 'the', 'swelling', 'in', 'my', 'feet,', 'ankles,', 'legs', 'and', 'knees.', 'I', 'was', 'having', 'such', 'pain', 'in', 'my', 'knees', 'and', 'the', 'drug', 'along', 'with', 'other', 'medicines', 'I', 'take,', 'that', 'it', 'has', 'gotten', 'the', 'fluid', 'out', 'of', 'my', 'system', 'and', 'my', 'knees', 'no', 'longer', 'ache.', 'This', 'medicine', 'has', 'really', 'improved', 'my', 'life.']),\n",
       "       list(['I', 'use', 'this', 'to', 'prevent', 'muscle', 'cramps', 'so', 'severe', 'that', 'I', 'have', 'thought', 'I', 'would', 'tear', 'muscles', 'lose.', 'I', 'take', '2', 'tablets', 'each', 'day', 'along', 'with', 'x', '6mg', 'calcium', 'citrate', 'with', 'Vitamin', 'D', 'caplets.', 'Sometimes', 'I', 'have', 'to', 'take', 'an', 'additional', 'Klor-con', '2', 'if', 'I', 'am', 'passing', 'a', 'lot', 'of', 'urine.', 'I', 'take', 'Lasix', '4', 'mg', 'a', 'day,', 'I', 'was', 'taking', '8', 'mg', 'and', 'I', 'would', 'get', 'cramps', 'within', '6', 'hours', 'of', 'taking', 'it.', 'I', 'had', 'been', 'using', 'Quinine', 'previously,', 'but', 'it', 'was', 'taken', 'off', 'the', 'market.']),\n",
       "       list(['My', 'Dr', 'told', 'me', 'to', 'drink', 'it', 'down', 'with', 'water', 'and', 'then', 'eat', 'yogurt', 'or', 'probiotic', 'an', 'hour', 'after', 'each', 'dose', 'and', 'I', 'never', 'got', 'sick', 'and', 'she', 'said', 'if', 'you', 'dont', 'drink', 'enough', 'water', 'you', 'will', 'get', 'the', 'runs', ',', 'so', 'I', 'drank', 'tons', 'and', 'never', 'got', 'it', ',', 'I', 'am', 'too', 'happy', '.I', 'had', 'been', 'suffering', 'for', 'two', 'months.']),\n",
       "       list(['This', 'medicine', 'has', 'been', 'great', 'for', 'me.', 'I', 'was', 'first', 'prescribed', 'a', 'beta-blocker', 'when', 'diagnosed.', 'However,', 'it', 'made', 'me', 'so', 'sick', 'and', 'sluggish', 'that', 'my', 'doctor', 'switched', 'me', 'to', 'Flecainide.', 'He', 'warned', 'me', 'not', 'to', 'read', 'about', 'it', 'on', 'the', 'internet', 'because', 'of', 'all', 'the', 'warnings,', 'but', 'I', 'knew', 'I', 'had', 'to', 'do', 'something.', 'I', 'have', 'been', 'on', 'this', 'medicine', 'for', '8', 'years', 'with', 'no', 'problems', '(5', 'mg', '2x', 'day).', 'It', 'has', 'made', 'a', 'big', 'positive', 'difference', 'for', 'me.', 'I', 'had', 'a', 'headache', 'for', 'about', 'days', 'when', 'I', 'first', 'started,', 'but', 'not', 'since.', 'No', 'other', 'side', 'effects', 'at', 'this', 'dosage.']),\n",
       "       list(['Valium', 'helped', 'relieve', 'tension', 'and', 'anxiety', 'prior', 'to', 'a', 'endoscopic', 'procedure', 'and', 'a', 'colonoscopy.', 'It', 'caused', 'no', 'side-effects', 'other', 'then', 'a', 'slight', 'amount', 'of', 'drowsiness.']),\n",
       "       list(['I', 'was', 'diagnosed', 'in', '18', 'via', 'papular', 'biopsy', 'by', 'a', 'US', 'Air', 'Force', 'MD.', 'I', 'am', 'so', 'glad', 'he', 'knew', 'right', 'that', 'minute', 'what', 'medication', 'I', 'needed.', 'I', 'had', 'been', 'treated', 'for', 'everything', 'from', 'scabies', 'to', 'exzema', 'and', 'beyond', 'with', 'everything', 'but', 'the', 'right', 'thing!', 'It', 'had', 'been', 'going', 'on', 'for', 'about', '4', 'years', 'and', 'I', 'was', 'going', 'insane', 'with', 'the', 'itching,', 'oozing,', 'infected', 'elbows,', 'knees,', 'and', 'groin', 'area!', 'These', 'areas', 'were', 'also', 'painful', 'at', 'the', 'same', 'time.', 'It', 'is', 'a', 'quotmiraclequot', 'drug', 'for', 'me!!!!']),\n",
       "       list(['Cancer', 'returned', '(metastasized)', 'in', 'abdomen', 'Sept', '211.', 'I', 'ended', 'up', 'in', 'hospital,', 'first', 'parenthesis', 'withdrew', '1', 'liters', 'of', 'abdominal', 'fluid.', 'Given', '5', 'months', 'maximum', 'to', 'live.', 'It', 'is', 'now', 'April', '212.', 'Zelboraf', 'has', 'extended', 'and', 'saved', 'my', 'life.', 'Ive', 'been', 'told', 'by', 'specialist', 'in', 'Denver', '(university', 'of', 'Colorado', 'hospital)', 'that', 'in', 'Europe', '42', 'month', 'life', 'extension', 'has', 'been', 'documented', 'at', 'present', 'time.', 'By', 'dosing', 'with', '2', 'x', '24mg', 'pills', 'twice', 'a', 'day!', 'Id', 'be', 'dead', 'if', 'not', 'for', 'Zelboraf!']),\n",
       "       list(['Used', 'this', 'after', 'an', 'aortic', 'dissection,', 'this', 'is', 'a', 'very', 'serious', 'medicine.', 'I', 'use', 'it', 'for', 'blood', 'pressure', 'of', '16', 'and', 'over,', 'it', 'is', 'very', 'effective', 'within', '15', 'min..', 'will', 'drop', 'the', 'blood', 'pressure', 'by', '2-4', 'points.']),\n",
       "       list(['My', 'white', 'count', 'was', '1.', 'and', 'the', 'Neulasta', 'injection', 'raised', 'it', 'in', 'one', 'week', 'to', '1.', 'Range', 'is', '.5-11.', 'It', 'didnt', 'seem', 'to', 'affect', 'my', 'other', 'counts.', 'I', 'feel', 'bloated.', 'Not', 'sure', 'if', 'it', 'is', 'a', 'side', 'affect.', 'I', 'have', 'a', 'myeloid', 'leukemia', 'called', 'APL.', 'I', 'still', 'dont', 'have', 'any', 'energy.']),\n",
       "       list(['I', 'started', 'horse', 'chestnut', 'extract', '(Venastat)', 'when', 'I', 'was', 'about', '27', 'years', 'old', 'after', 'experiencing', 'pain,', 'throbbing,', 'and', 'tired,', 'heavy', 'legs.', 'Varicose', 'veins', 'run', 'in', 'my', 'family.', 'I', 'couldnt', 'believe', 'I', 'had', 'symptoms', 'so', 'young', 'because', 'I', 'was', 'thin,', 'healthy,', 'exercising', 'and', 'most', 'of', 'all,', 'young.', 'After', 'about', '1', 'month', 'the', 'throbbing', 'and', 'pain', 'was', 'gone.', 'Over', 'the', 'years', 'I', 'was', 'in', 'denial', 'about', 'how', 'much', 'Venastat', 'helped', 'me', 'and', 'wasnt', 'crazy', 'about', 'spending', 'the', '$1', 'or', 'so', 'per', 'box.', 'Id', 'quit', 'taking', 'it', 'and', 'the', 'pain,', 'throbbing', 'and', 'tiredness', 'would', 'come', 'back', 'worse', 'than', 'before.', 'At', 'one', 'point', 'I', 'couldnt', 'sleep', 'because', 'I', 'had', 'such', 'a', 'terrible', 'throbbing', 'in', 'my', 'upper', 'thigh/groin.', 'Im', '4', 'yrs', 'old', 'and', 'if', 'I', 'miss', 'a', 'dose', 'the', 'symptoms', 'come', 'back.', 'Try', 'it!!', 'Its', 'not', 'a', 'cure', 'but', 'it', 'really,', 'really', 'helps!!']),\n",
       "       list(['About', 'ten', 'days', 'or', 'two', 'weeks', 'after', 'starting', 'Estratest', 'HS,', 'I', 'felt', 'like', 'myself', 'again.', 'Hot', 'flashes', 'are', 'now', 'gone', 'completely', '(after', 'two', 'months', 'on', 'it),', 'my', 'skin', 'looks', 'like', 'it', 'used', 'to', 'look,', 'and', 'I', 'have', 'my', 'old', 'desire', 'back', '(hubby', 'is', 'thrilled', 'too).', 'I', 'feel', 'more', 'energy', 'and', 'stronger', 'over', 'all.', 'I', 'can', 'do', 'more', 'at', 'the', 'gym.', 'The', 'only', 'drawback', 'was', 'weight', 'gain,', 'but', 'all', 'the', 'other', 'good', 'results', 'more', 'than', 'make', 'up', 'for', 'it.']),\n",
       "       list(['I', 'have', 'numerous', 'health', 'problems,', 'and', 'I', 'normally', 'cant', 'say', 'many', 'good', 'things', 'about', 'medications.', 'But,', 'Dulera', 'has', 'seriously', 'changed', 'my', 'life.', 'It', 'has', 'worked', 'better', 'than', 'any', 'other', 'medication,', 'or', 'combination', 'of', 'medications', 'I', 'have', 'taken.', 'I', 'was', 'and', 'still', 'am', 'completely', 'shocked', 'on', 'how', 'well', 'it', 'has', 'worked', 'for', 'me.', 'I', 'am', 'no', 'longer', 'short', 'of', 'breath,', 'tight', 'in', 'the', 'chest,', 'and', 'can', 'actually', 'laugh', 'without', 'getting', 'light', 'headed', 'or', 'short', 'of', 'breath.']),\n",
       "       list(['ive', 'gone', 'thru', 'about', '15', 'different', 'types', 'of', 'bcps', 'all', 'with', 'neg', 'results', 'from', 'being', 'a', 'bitch', '24/7,', 'being', 'depressed,', 'sore', 'breasts,', 'skin', 'discolor,', 'weight', 'gain,', 'utis,', 'u', 'name', 'it', 'its', 'happened.', 'this', 'is', 'the', 'only', 'one', 'ive', 'taken', 'that', 'has', 'not', 'had', 'any', 'effect', 'on', 'me', 'physically,', 'emotionally,', 'or', 'even', 'persona', 'wise.', 'i', 'love', 'it', 'and', 'have', 'been', 'on', 'it', 'for', '2yrs', 'with', 'no', 'problem.', 'i', 'would', 'recommend', 'it', 'to', 'someone', 'whos', 'had', 'as', 'picky', 'as', 'a', 'body', 'as', 'i', 'do.']),\n",
       "       list(['I', 'have', 'a', 'hiatal', 'hernia', 'which', 'can', 'cause', 'bad', 'reflux,', 'etc.', 'Ive', 'been', 'taking', 'Prilosec', 'at', 'least', 'ten', 'years', '(probably', 'closer', 'to', 'fifteen)', 'and', 'Ive', 'never', 'had', 'ANY', 'negative', 'side', 'effects.', 'It', 'has', 'been', 'invaluable', 'for', 'relieving', 'the', 'inflammation', 'and', 'irritation', 'associated', 'with', 'reflux,', 'gastritis,', 'GERD,', 'etc.', 'Awesome', 'medicine,', 'never', 'had', 'any', 'interaction', 'issues,', 'and', 'Im', 'on', 'a', 'number', 'of', 'serious', 'medicines', '(heart,', 'blood', 'pressure,', 'anti-', 'anxiolytics,', 'and', 'pain', 'meds).', 'Im', '58,', 'and', 'will', 'probably', 'be', 'taking', 'it', 'as', 'long', 'as', 'Im', 'around.', 'Great', 'medicine.']),\n",
       "       list(['My', 'doctor', 'is', 'having', 'me', 'take', 'this', 'medication', 'because', 'I', 'have', 'excessive', 'bleeding.', 'So', 'far', 'the', 'bleeding', 'has', 'stopped', 'but', 'Im', 'on', 'day', '1', 'and', 'the', 'side', 'effects', 'are', 'kicking', 'in.', 'I', 'have', 'breast', 'tenderness,', 'stomach', 'cramps', 'and', 'I', 'makes', 'me', 'very', 'tired.', 'Overall', 'so', 'far', 'it', 'has', 'done', 'what', 'it', 'needs', 'to', 'do.', 'I', 'go', 'off', 'of', 'it', 'in', '2', 'days', 'Im', 'hoping', 'that', 'my', 'body', 'will', 'regulate.']),\n",
       "       list(['I', 'have', 'been', 'on', 'Asacol', 'for', 'about', '5', 'years', 'and', 'it', 'has', 'changed', 'my', 'life.', 'I', 'had', 'diarrhea', 'for', 'about', '5', 'years', 'previously', 'and', 'my', 'doctor', 'and', '2', 'specialists', 'couldnt', 'found', 'anything', 'specific', 'to', 'help', 'it.', 'We', 'moved', 'to', 'another', 'state', 'where', 'the', 'gastric', 'specialist', 'did', 'uncover', 'the', 'problem', 'and', 'I', 'was', 'started', 'on', '6', 'Asacol', 'daily', '(2', 'tablets,', 'X', 'a', 'day).', 'It', 'took', 'about', '2', 'months,', 'and', 'one', 'day', 'my', 'diarrhea', 'completely', 'vanished.', 'Gone.', 'After', 'about', '8', 'months', 'I', 'began', 'lowering', 'the', 'pills', 'daily,', 'kept', 'on', 'with', '4', 'a', 'day', 'and', 'am', 'now', 'taking', 'Asacol', 'daily', 'for', 'maintenance.', 'For', 'the', 'past', '8', 'years', 'have', 'been', 'swimming', '4', 'X', 'weekly', 'at', 'a', 'wellness', 'center.', 'Couldnt', 'do', 'that', 'with', 'bowel', 'problems.', 'I', 'had', 'a', 'colonscopy', 'in', 'December', '28,', '5', 'days', 'ago,', 'and', 'all', 'is', 'normal.', 'Im', '72', 'years.']),\n",
       "       list(['Has', 'done', 'a', 'very', 'effective', 'job', 'with', 'my', 'bipolar.', 'Got', 'off', 'Xanax', 'and', 'Cymbalta.', 'The', 'best', 'thing', 'is', 'no', 'side', 'effects', 'and', 'has', 'helped', 'my', 'social', 'anxiety.', 'Only', 'need', '.5', 'mg.', 'highly', 'recommend.', 'Never', 'posted', 'on', 'meds', 'before', 'but', 'feel', 'strongly', 'about', 'this', 'one.']),\n",
       "       list(['Very', 'helpful.', 'I', 'am', 'mostly', 'allergic', 'to', 'tree', 'pollen', '(oak,', 'birch).', 'Stings', 'a', 'bit', 'and', 'causes', 'lots', 'of', 'tears', 'after', 'application', 'but', 'it', 'goes', 'away', 'within', 'minutes.', 'Took', 'a', 'day', 'or', 'so', 'to', 'become', 'really', 'effective', '-', 'I', 'started', 'at', 'the', 'peak', 'of', 'the', 'allergy', 'season.', 'I', 'feel', 'like', 'a', 'new', 'person!']),\n",
       "       list(['Have', 'been', 'using', 'this', 'for', 'many', 'years', 'to', 'regulate', 'my', 'heart', 'beat', 'as', 'I', 'have', 'mitral', 'prolapse', 'and', 'atrial', 'tachycardia', 'and', 'have', 'found', 'it', 'the', 'best', 'out', 'of', 'others.']),\n",
       "       list(['This', 'medicine', 'saved', 'my', 'life.', 'After', 'many', 'years,', 'I', 'have', 'the', 'confidence', 'to', 'go', 'on', 'a', 'date', 'now.']),\n",
       "       list(['There', 'no', 'material', 'in', 'side', 'effects', 'list', 'that', 'you', 'may', 'have', 'a', 'hard', 'time', 'with', 'Novocaine.', 'My', 'dentist', 'spent', 'hours', 'trying', 'to', 'figure', 'out', 'why', 'he', 'could', 'not', 'get', 'me', 'numb', 'before', 'he', 'made', 'the', 'connection.', 'Be', 'forewarned', 'that', 'this', 'is', 'a', 'potential', 'problem.', 'This', 'drug', 'all', 'in', 'all', 'has', 'improved', 'the', 'quality', 'of', 'my', 'life', 'drastically.', '7', 'years', 'and', 'topped', 'at', 'mg.', 'I', 'hit', 'tolerance', 'a', 'long', 'time', 'ago,', 'but', 'it', 'still', 'does', 'what', 'it', 'was', 'designed', 'to', 'do.', 'I', 'am', 'not', 'looking', 'for', 'a', 'high,', 'I', 'am', 'looking', 'for', 'a', 'life', 'with', 'alertness', 'and', 'this', 'medicine', 'has', 'given', 'me', 'that.', 'I', 'personally', 'trust', 'this', 'older', 'proven', 'medication.']),\n",
       "       list(['Where', 'has', 'this', 'drug', 'been', 'my', 'entire', 'life?', 'I', 'had', 'rectal', 'surgery', 'and', 'used', 'Toradol', 'for', 'the', 'post-op', 'pain.', 'Wonderful!!', 'Got', 'rid', 'of', 'the', 'pain', 'and', 'no', 'narcotic', 'effect.', 'Was', 'clear-headed', 'and', 'could', 'function.', 'No', 'side-effects', 'for', 'me.']),\n",
       "       list(['My', 'left', 'eye', 'pressure', 'was', '24', 'using', 'timolol', 'maleate', 'drops.', 'After', '2', 'weeks', 'my', 'left', 'eye', 'pressure', 'is', 'now', '11.', 'The', 'eye', 'doctor', 'told', 'me', 'to', 'keep', 'using', 'my', 'supply', 'of', 'timolol', 'in', 'the', 'right', 'eye', 'as', 'its', 'working', 'on', 'that', 'eye.', 'This', 'is', 'a', 'great', 'product.']),\n",
       "       list(['I', 'drank', 'Readi-Cat', '(barium', 'sulfate)', 'for', 'an', 'abdominal', 'CT', 'scan.', 'I', 'gave', 'it', 'a', 'nine', 'only', 'because', 'of', 'the', 'taste.', 'It', 'was', 'thick,', 'and', 'had', 'the', 'consistency', 'of', 'vegetable', 'oil', 'with', 'a', 'citrus', 'flavor.', 'I', 'experienced', 'some', 'very', 'mild', 'heartburn', 'and', 'nausea', 'while', 'drinking', 'it,', 'but', 'that', 'went', 'away', 'very', 'quickly.', 'The', 'following', 'morning,', 'I', 'had', 'one', 'bout', 'of', 'diarrhea,', 'which', 'was', 'listed', 'as', 'a', 'side', 'effect.', 'Other', 'than', 'that,', 'I', 'didnt', 'experience', 'any', 'of', 'the', 'listed', 'possible', 'side', 'effects.', 'Overall', 'a', 'much', 'better', 'experience', 'than', 'I', 'was', 'anticipating!']),\n",
       "       list(['The', 'therapeutic', 'effect', 'is', 'not', 'as', 'immediate', 'or', 'apparent', 'as', 'Serostim', '(which', 'I', 'took', 'for', 'weight', 'loss', 'due', 'to', 'AIDS-related', 'wasting).', 'However,', 'its', 'effect,', 'although', 'more', 'subtle,', 'is', 'nevertheless', 'quite', 'extraordinary!', 'The', 'fat', 'is', 'slowly', 'subsiding,', 'even', 'in', 'the', 'back', 'around', 'the', 'waistline', '(which', 'is', 'SUPER', 'DIFFICULT', 'to', 'get', 'rid', 'of!).', 'The', 'most', 'obvious', 'effect,', 'although', 'secondary', 'to', 'the', 'therapeutic', 'aim', 'of', 'reducing', 'abdominal', 'fatty', 'tissue,', 'is', 'the', 'absolutely', 'fabulous', 'change', 'in', 'my', 'skin', 'texture,', 'color,', 'and', 'overall', 'health.', 'My', 'skin', 'heals', 'at', '5%', 'its', 'normal', 'speed.', 'Even', 'fine', 'line', 'wrinkles', 'are', 'lessening', 'in', 'the', 'cheeks', 'and', 'eyes.']),\n",
       "       list(['I', 'had', 'a', 'paranoid', 'stint', 'and', 'was', 'getting', 'no', 'sleep.', 'My', 'Doctor', 'gave', 'me', 'Zyprexa', 'and', 'it', 'pulled', 'me', 'out', 'of', 'that', 'state', 'very', 'quickly.', 'I', 'like', 'to', 'refer', 'to', 'it', 'as', 'pulling', 'out', 'the', 'big', 'guns.', 'It', 'had', 'no', 'side', 'effects', 'for', 'me', 'and', 'I', 'was', 'on', 'it', 'a', 'short', 'while.']),\n",
       "       list(['Love', 'that', 'fact', 'that', 'this', 'is', 'heart', 'healthy,', 'didnt', 'get', 'the', 'nervous', 'feeling', 'from', 'other', 'medications', 'that', 'boasted', 'that', 'same', 'thing,', 'took', 'at', '7:', 'pm', 'and', 'had', 'good', 'night', 'sleep.', 'Would', 'recommend', 'this', 'to', 'everyone']),\n",
       "       list(['After', 'a', 'long', 'chronic', 'stress', 'my', 'adrenals', 'were', 'quotburnoutquot', 'this', 'medicine', 'until', 'now', 'has', 'worked', 'great.', 'The', 'progression', 'has', 'been', 'very', 'slow', 'but', 'with', 'satisfaction.', 'The', 'only', 'side', 'effect', 'was', 'upset', 'stomach(have', 'gone)', 'and', 'frequent', 'urination', '(have', 'been', 'reduced).']),\n",
       "       list(['I', 'had', 'what', 'was', 'called', 'depersonalization', 'and', 'derealization', 'from', 'my', 'severe', 'anxiety.', 'I', 'tried', 'every', 'natural', 'thing', 'i', 'could', 'think', 'of.', 'Exercise,', 'eat', 'right,', 'distraction', 'etc...', 'but', 'i', 'lost', 'hope', 'because', 'i', 'couldnt', 'push', 'past', 'this', 'feeling.', 'So', 'i', 'tried', 'zoloft', 'as', 'my', 'last', 'hope', 'and', 'started', 'with', '25mg', 'and', 'i', 'had', 'some', 'side', 'effects', 'but', 'not', 'bad.', 'I', 'will', 'say', 'it', 'was', 'worth', 'it.', 'My', 'dr', 'upped', 'it', 'to', '5mg', 'which', 'gave', 'me', 'the', 'most', 'benefit.', 'It', 'was', 'a', 'lifesaver!', 'Im', 'so', 'glad', 'i', 'tried', 'it.', 'I', 'took', 'it', 'for', '6', 'months', 'and', 'weaned', 'from', 'it', '6', 'months', 'and', 'it', 'was', 'perfect.', 'However', 'years', 'later', 'i', 'have', 'bad', 'anxiety', 'again', 'due', 'to', 'stressors', 'in', 'my', 'life', 'so', 'im', 'willing', 'to', 'try', 'it', 'again', 'but', 'as', 'far', 'as', 'dissasociating', 'still', 'very', 'minimal.', 'Hope', 'this', 'helps.']),\n",
       "       list(['Great', 'medication', 'as', 'a', 'precursor', 'to', 'surgery..', 'Takes', 'the', 'edge', 'off,', 'and', 'puts', 'the', 'patient', 'in', 'a', 'great', 'place.']),\n",
       "       list(['Works', 'like', 'a', 'charm', 'and', 'I', 'have', 'zero', 'side', 'effects.', 'I', 'feel', 'much', 'better.']),\n",
       "       list(['We', 'used', 'Malarone', 'during', 'our', 'trip', 'in', 'Tanzania.', 'To', 'tell', 'the', 'truth,', 'we', 'were', 'afraid', 'of', 'some', 'bad', 'comments', 'about', 'this', 'drug.', 'In', 'fact,', 'nothing', 'happened', 'to', 'us.', 'We', 'were', 'taking', 'Malarone', 'every', 'day', 'after', 'our', 'breakfast,', 'so', 'as', 'to', 'avoid', 'an', 'upset', 'stomach.', 'I', 'think', 'that,', 'for', 'malaria,', 'Malarone', 'is', 'a', 'very', 'safe', 'and', 'without', 'serious', 'side', 'effects.']),\n",
       "       list(['I', 'have', 'used', 'Crestor', 'for', 'over', 'one', 'year', 'and', 'find', 'it', 'to', 'be', 'an', 'excellent', 'drug', 'for', 'my', 'condition.', 'I', 'was', 'using', 'Lipitor', 'which,', 'gave', 'me', 'muscle', 'pain', 'as', 'a', 'side', 'effect.']),\n",
       "       list(['I', 'had', 'a', 'severe', 'case', 'of', 'erosive', 'Lichen', 'Planus', 'on', 'the', 'inside', 'of', 'my', 'cheek', 'and', 'gum', 'surfaces,', 'painful', 'and', 'increasing', 'in', 'area', 'affected', 'by', 'the', 'day.', 'This', 'was', 'the', 'second', 'steroid', 'prescribed,', 'the', 'first', 'was', 'an', 'oral', 'rinse', 'used', '4-6', 'times', 'per', 'day.', 'When', 'no', 'result', 'was', 'seen', 'my', 'oral', 'surgeon', 'prescribed', 'fluocinonide', 'get', 'used', '-4', 'times', 'daily.', 'The', 'lesions', 'responded', 'almost', 'immediately', 'to', 'the', 'treatment', 'and', 'after', 'two', 'weeks', 'my', 'mouth', 'is', 'healed', 'and', 'pain', 'fee.', 'I', 'am', 'using', 'the', 'gel', 'once', 'per', 'day', 'as', 'a', 'maintenance', 'and', 'go', 'back', 'to', 'the', 'doctor', 'next', 'week.']),\n",
       "       list(['This', 'works', 'well.', 'It', 'takes', 'time,', 'but', 'if', 'you', 'follow', 'the', 'instructions', 'precisely', 'the', 'warts', 'get', 'smaller', 'and', 'smaller', 'until', 'theyre', 'gone.', 'No', 'scar,', 'no', 'freezing', 'or', 'drying,', 'no', 'acid.', 'The', 'warts', 'just', 'shrink', 'until', 'theyre', 'gone.', 'Less', 'side', 'effects', 'than', 'Condylox.', 'It', 'does', 'not', 'affect', 'healthy', 'skin', 'like', 'Condylox', 'does.']),\n",
       "       list(['I', 'was', 'prescribed', 'for', 'acute', 'COPD.', 'Since', 'Ive', 'been', 'using', 'the', 'inhaler', 'I', 'have', 'had', 'less', 'flare-ups.', 'I', 'am', 'able', 'to', 'breathe', 'a', 'lot', 'better.']),\n",
       "       list(['I', 'received', 'Valcade', 'for', 'multi-myeloma', 'for', 'four', 'and', 'a', 'half', 'months.', 'I', 'was', 'scheduled', 'for', 'another', '4', 'months', 'but', 'reached', 'a', 'level', 'of', 'remission', 'that', 'did', 'not', 'require', 'any', 'more', 'chemo.', 'Pleased', 'with', 'the', 'results.', 'I', 'add', 'that', 'I', 'made', 'major', 'adjustments', 'to', 'my', 'diet', 'per', 'recommendations', 'of', 'natural', 'cancer', 'care', 'books', 'and', 'articles.', 'The', 'treatments', 'worked', 'well', 'together.']),\n",
       "       list(['I', 'am', 'starting', 'on', 'my', 'second', 'week', 'of', 'a', '28', 'day', 'regimen', 'of', 'Zyvox.', 'I', 'have', 'had', 'a', 'Staph', 'infection', 'for', 'over', 'a', 'year', 'that', 'will', 'go', 'away', 'after', 'being', 'lanced,', 'and', 'then', 'come', 'right', 'back', 'in', 'a', 'different', 'place.', 'So', 'far,', 'the', 'infection', 'is', 'gone,', 'and', 'am', 'praying', 'that', 'it', 'doesnt', 'come', 'back.', 'There', 'has', 'been', 'some', 'nausea,', 'stomach', 'aches,', 'and', 'being', 'more', 'tired', 'than', 'normal.', 'Would', 'take', 'that', 'any', 'day', 'over', 'the', 'pain', 'of', 'a', 'severe', 'Staph', 'infection.']),\n",
       "       list(['I', 'have', 'MS', 'and', 'NAMENDA', 'has', 'improved', 'my', 'cognitive', 'problems', 'significantly', 'in', 'just', '2', 'weeks.']),\n",
       "       list(['Im', 'probably', 'the', 'only', 'one', 'I', 'know', 'taking', 'this', 'for', 'inflammation', 'from', 'a', 'frozen', 'shoulder', 'as', 'I', 'have', 'had', 'serious', 'side', 'effects', 'from', 'steriod', 'shots,', 'so', 'its', 'a', 'viable', 'alternative.', 'Its', 'not', 'bad,', 'it', 'is', 'working', 'slowly', 'but', 'definitely', 'have', 'to', 'take', 'it', 'with', 'food.', 'Im', 'taking', '75', 'twice', 'a', 'day', 'but', 'started', 'breaking', 'them', 'in', 'half', 'which', 'is', 'not', 'easy', 'but', 'overall', 'not', 'a', 'bad', 'drug,', 'for', 'what', 'it', 'is', 'intended', 'for', 'Ive', 'heard', 'great', 'things,', 'not', 'just', 'from', 'this', 'site.']),\n",
       "       list(['This', 'medicine', 'has', 'saved', 'my', 'life.', 'Just', 'praying', 'that', 'my', 'liver', 'enzymes', 'are', 'staying', 'normal,', 'dont', 'know', 'what', 'would', 'happen', 'if', 'I', 'have', 'to', 'stop', 'taking', 'it.']),\n",
       "       list(['I', 'love', 'the', 'Juvederm', 'Ultra', 'Plus.', 'A', 'doctor', 'recommended', 'the', 'ultra', 'plus', 'for', 'my', 'smile', 'lines', 'because', 'of', 'its', 'thicker', 'consistency.', 'It', 'has', 'been', 'seven', 'months', 'and', 'can', 'still', 'visibly', 'notice', 'the', 'results.']),\n",
       "       list(['This', 'is', 'INCREDIBLE.', 'I', 'get', 'a', 'lot', 'of', 'mouth', 'ulcers', 'due', 'to', 'the', 'medication', 'Im', 'on', 'and', 'Kenalog', 'clears', 'them', 'up', 'instantly', '(well,', 'overnight).', 'My', 'mouth', 'will', 'go', 'from', 'being', 'in', 'so', 'much', 'pain', 'I', 'can', 'barely', 'talk,', 'to', 'completely', 'fine', 'in', 'the', 'space', 'of', 'hours.']),\n",
       "       list(['It', 'was', 'an', 'easy', 'IV', 'for', '15', 'minutes.', 'Felt', 'wonderful', 'all', 'day', 'long.', 'Hadnt', 'felt', 'that', 'good', 'in', 'a', 'very', 'long', 'time!', 'Next', 'day', 'so', 'sick.', 'Went', 'right', 'back', 'to', 'bed', 'and', 'was', 'completely', 'out', 'all', 'day', 'long.', 'Got', 'up', 'later', 'that', 'afternoon', 'and', 'felt', 'fine', 'from', 'then', 'on.', 'Was', 'given', '4', 'ibuprophens', 'before', 'IV.']),\n",
       "       list(['Ruconest', 'works', 'perfect', 'for', 'me!', 'I', 'can', 'self-administer', 'and', 'it', 'works', 'much', 'quicker', 'than', 'Berinert', 'and', 'Firazyr.', 'Also', 'no', 'issues', 'with', 'side', 'effects', 'so', 'far.', 'Thank', 'you', 'so', 'much', 'Ruconest!', '(And', 'also', 'my', 'insurance', ').']),\n",
       "       list(['Thank', 'GOD', 'for', 'this', 'drug.', 'Busted', 'my', 'leg', 'and', 'ankle,', 'diagnosed', 'PAGETS,', 'tried', 'myacalcin', 'and', 'FOSAMAX.', 'Leg', 'pain', 'minimal', 'now.', 'I', 'do', 'take', 'mg', 'daily!', 'It', 'has', 'been', 'over', '12', 'months', 'of', 'treatment', 'now.', 'I', 'ran', 'out', 'once', 'for', '5', 'days', 'and', 'pain', 'was', 'intolerable...resumed', 'ACTONEL', 'and', 'pain', 'gone', 'in', '2', 'days.']),\n",
       "       list(['I', 'have', 'suffered', 'with', 'fatigue', 'and', 'joint', 'and', 'muscle', 'pain', 'and', 'restless', 'leg', 'syndrome', 'for', 'ten', 'years.', 'Used', 'Ibuprofen', 'which', 'only', 'helped', 'a', 'small', 'bit,', 'I', 'finally', 'said', 'enough', 'is', 'enough', 'and', 'went', 'the', 'doctor', 'and', 'told', 'them', 'to', 'give', 'me', 'something', 'for', 'the', 'pain.', 'I', 'felt', 'like', 'I', 'was', 'losing', 'my', 'mind', 'and', 'I', 'just', 'said', 'I', 'know', 'I', 'have', 'fibromyalgia', 'and', 'I', 'cant', 'take', 'it', 'anymore.', 'She', 'gave', 'me', 'antidepressants', 'and', 'a', 'muscle', 'relaxer', 'and', 'Tramadol.', 'I', 'only', 'felt', 'doped', 'up', 'with', 'the', 'antidepressant', 'and', 'the', 'muscle', 'relaxer', 'but', 'the', 'Tramadol', 'was', 'awesome.', 'I', 'am', 'now', 'able', 'to', 'work', 'pain', 'free', 'and', 'exercise,', 'I', 'have', 'lost', '4', 'lbs', 'since', 'I', 'started', 'taking', 'it', 'and', 'I', 'feel', 'more', 'normal.', 'I', 'dont', 'think', 'I', 'can', 'deal', 'with', 'the', 'pain', 'again.', 'I', 'take', 'the', '5mg', 'tab', '1', 'every', '5', 'to', '6', 'hours.']),\n",
       "       list(['Nothing', 'boosts', 'my', 'energy', 'faster', 'or', 'better', 'than', 'taking', 'the', 'recommended', 'dose', 'of', 'SSS', 'Tonic.', 'Im', 'anemic', 'with', 'sickle', 'cell', 'trait', 'and', 'struggle', 'with', 'low', 'iron,', 'fatigue,', 'weight', 'loss,', 'and', 'just', 'really', 'feeling', 'drained', 'most', 'of', 'the', 'time.', 'SSS', 'Tonic', 'always', 'gets', 'me', 'back', 'on', 'tract.']),\n",
       "       list(['Diovan', '(valsartan)', 'for', 'High', 'Blood', 'Pressure:', '1', '%', 'effective', 'for', 'me!!!']),\n",
       "       list(['Works', 'great', 'to', 'reduce', 'fever.', 'For', 'pains', 'caused', 'by', 'fever', 'I', 'recommend', 'taking', '4mg', 'of', 'Ibuprofen', '(Advil)', 'with', '1mg', 'of', 'Acetaminophen', '(Tylenol.)', 'The', 'two', 'work', 'well', 'with', 'each', 'other', 'and', 'are', 'safe', 'to', 'use', 'together.']),\n",
       "       list(['I', 'think', 'this', 'medicine', 'is', 'awesome!', 'Ive', 'personally', 'struggled', 'with', 'hearing', 'voices', 'since', 'age', '17', 'and', 'visions', 'since', 'age', '2.', 'I', 'have', 'been', 'on', 'psychotropic', 'medications', 'since', 'age', '14,', 'all', 'different', 'types.', 'From', 'age', '1', 'I', 'have', 'been', 'taking', 'the', 'Risperdal', 'Consta', 'injection', 'until', '2', 'months', 'ago', 'when', 'I', 'started', 'the', 'Invega', 'Sustena', 'injection.', 'The', 'voices', 'and', 'visions', 'are', 'completely', 'gone.', 'And,', 'Im', 'alot', 'more', 'alert', 'than', 'I', 'was', 'on', 'Risperdal', 'Consta', 'injection.']),\n",
       "       list(['Remeron', 'got', 'rid', 'of', 'my', 'depression,', 'and', 'my', 'anxiety', 'was', 'a', 'lot', 'better.', 'I', 'also', 'was', 'able', 'to', 'get', 'to', 'sleep', 'a', 'lot', 'easier.', 'I', 'did', 'notice', 'some', 'weight', 'gain', 'though,', 'but', 'not', 'a', 'lot.']),\n",
       "       list(['This', 'medicine', 'has', 'been', 'a', 'life', 'saver', 'for', 'me,', 'nothing', 'else', 'worked.', 'In', 'a', 'couple', 'of', 'days', 'I', 'felt', 'improvement', '-', 'no', 'uncontrollable', 'diarrhea.']),\n",
       "       list(['My', 'husband', 'has', 'been', 'on', 'Herceptin', 'for', 'his', 'salivary', 'gland', 'cancer', 'for', '2', 'years.', 'The', 'fight', 'to', 'keep', 'him', 'on', 'it', 'has', 'been', 'harrowing', 'as', 'it', 'is', 'only', 'formally', 'approved', 'for', 'breast', 'cancer.', 'I', 'truly', 'believe', 'it', 'saved', 'his', 'life.', 'He', 'tested', 'HER-2/neu', 'positive', '()', 'which', 'is', 'normally', 'located', 'in', 'the', 'breast.', 'Dr.', 'Posner', '(Dana', 'Farber', 'in', 'Boston)', 'recommended', 'a', 'course', 'of', 'treatment', 'that', 'included', 'Herceptin.', 'His', 'Petscans', 'have', 'now', 'been', 'clear', 'and', 'treatment', 'can', 'stop', 'at', 'the', 'end', 'of', 'August.', 'More', 'needs', 'to', 'be', 'done', 'to', 'allow', 'life', 'saving', 'treatment.']),\n",
       "       list(['Best', 'medication', 'out', 'there', 'for', 'stopping', 'a', 'panic', 'attack', 'in', 'progress', 'by', 'far.', 'Xanax', 'will', 'probably', 'put', 'you', 'to', 'sleep.', '1', 'rating', 'is', 'for', 'its', 'ability', 'to', 'stop', 'an', 'attack.']),\n",
       "       list(['Seroquel', 'stopped', 'my', 'explosive', 'disorder', 'like', 'a', 'light', 'switch', 'being', 'turned', 'off.', 'Excellent', 'medicine']),\n",
       "       list(['I', 'have', 'fatty', 'liver', 'and', 'was', '16st', '7lbs.', 'Been', 'on', 'Orlistat', 'for', 'almost', '2', 'months', 'and', 'have', 'lost', '1st', '7lbs.', 'Totally', 'cut', 'out', 'all', 'the', 'crap', 'and', 'eating', 'healthy', 'now.', 'So', 'used', 'correctly', 'Orlistat', 'really', 'DOES', 'work.']),\n",
       "       list(['fatigue,', 'headaches,', 'muscle', 'aches']),\n",
       "       list(['My', 'father-in-law', 'was', 'diagnosed', 'with', 'metastic', 'squamous', 'cell', 'head', 'and', 'neck', 'cancer.', 'Had', '6', 'weeks', 'radiation', 'but', 'cancer', 'had', 'spread.', 'Conventional', 'chemo', 'did', 'nothing.', 'Had', 'large', 'tumors,', 'one', 'breaking', 'through', 'the', 'chest', 'wall.', 'Could', 'not', 'do', 'daily', 'tasks.', 'He', 'started', 'on', 'Erbitux', 'infusions', 'and', 'within', 'four', 'weeks', 'two', 'of', 'the', 'tumors', 'had', 'disappeared', 'and', 'the', 'larger', 'ones', 'had', 'shrunk.', 'Didnt', 'need', 'pain', 'medicines', 'any', 'more.', 'Side', 'effects', 'he', 'experienced:', 'blood', 'infections', 'from', 'the', 'PICC', 'line,', 'electrolyte', 'imbalance,', 'rash', 'on', 'his', 'body.', 'He', 'is', 'happy', 'with', 'drug.', 'He', 'has', 'lived', 'several', 'months', 'longer', 'then', 'anticipated', 'but', 'he', 'must', 'stay', 'on', 'Erbitux', 'or', 'the', 'cancer', 'will', 'come', 'back.']),\n",
       "       list(['It', 'has', 'saved', 'my', 'life', 'times', 'in', 'the', 'ER.', 'If', 'it', 'would', 'have', 'not', 'been', 'for', 'this', 'medicine', 'I', 'would', 'have', 'died', 'a', 'junky', 'and', 'would', 'not', 'of', 'had', 'the', 'chance', 'to', 'change', 'my', 'life', 'for', 'the', 'better.', 'Thank', 'you', 'for', 'this', 'medicine.']),\n",
       "       list(['Had', 'used', 'it', 'to', 'induce', 'unwanted', 'pregnancy', 'and', 'it', 'worked', 'immediately.', 'At', 'first', 'I', 'got', 'scared', 'as', 'I', 'was', 'clotting', 'nonstop', 'but', 'suddenly', 'I', 'did.']),\n",
       "       list(['I', 'have', 'had', 'chronic', 'migraines', 'for', '16', 'years.', 'Because', 'of', 'my', 'hyper-sensitivity', 'to', 'many', 'medications', '(antidepressants,', 'Topamax,', 'Depakote,', 'and', 'the', 'list', 'keeps', 'going),', 'I', 'had', 'a', 'great', 'deal', 'of', 'trouble', 'finding', 'a', 'preventative', 'medicine', 'that', 'my', 'body', 'could', 'tolerate', 'at', 'a', 'therapeutic', 'dose.', 'Keppra', 'keeps', 'my', 'migraines', 'to', 'a', 'minimum', '(about', '8', 'per', 'year,', 'which', 'is', 'so', 'much', 'better', 'than', 'the', 'every-other-day', 'I', 'was', 'experiencing).', 'I', 'do', 'have', 'some', 'fatigue', 'and', 'depression', 'as', 'side', 'effects,', 'but', 'they', 'are', 'worth', 'the', 'trade', 'off.']),\n",
       "       list(['This', 'is', 'an', 'awesome', 'medicine.', 'I', 'am', 'so', 'happy', 'to', 'have', 'been', 'able', 'to', 'use', 'in', 'pregnancy.', 'I', 'was', 'on', 'it', 'from', '2', 'weeks', 'to', '6..they', 'say', '12', 'days', 'after', 'you', 'stop', 'the', 'shot', 'you', 'go', 'into', 'labor,', 'that', 'was', 'true', 'for', 'me', 'as', 'well.', 'This', 'is', 'the', 'only', 'medication', 'that', 'helped', 'me', 'complete', 'a', 'pregnancy.', 'Its', 'awesome!', 'Yes', 'the', 'shot', 'in', 'the', 'butt', 'hurts', 'and', 'you', 'stay', 'sore', 'about', '4', 'days.', 'But', 'it', 'was', 'totally', 'worth', 'it.']),\n",
       "       list(['Hi', 'guys', 'Im', '2', 'years', 'old', 'and', 'have', 'previously', 'written', 'about', 'contrave', '.', 'Ive', 'been', 'on', 'it', 'since', 'May', 'and', 'have', 'lost', '15', 'pounds', '.', 'Unfortunately', 'I', 'have', 'to', 'stop', 'taking', 'it', 'for', 'days', 'because', 'of', 'a', 'rhinoplasty', '.', 'Just', 'so', 'everyone', 'knows,', 'my', 'doc', 'swore', 'that', 'I', 'would', 'have', 'w/d', 'symptoms', 'from', 'stopping', 'cold', 'turkey', ',', 'because', 'of', 'the', 'burprion', 'in', 'it', '.', 'He', 'was', 'completely', 'wrong', '.', 'Its', 'been', 'four', 'days', 'since', 'Ive', 'stopped', 'the', 'med', 'and', 'I', 'feel', 'amazing', '.', 'Contrave', 'doesnt', 'act', 'solely', 'as', 'an', 'antidepressant', 'as', 'Wellbutrin', 'does', 'there', 'for', 'it', 'doesnt', 'cause', 'the', 'withdrawal', 'symptoms', 'of', 'Wellbutrin', 'aka', 'burprion', '.', 'The', 'problem', 'is', 'that', 'many', 'doctors', 'dont', 'even', 'know', 'what', 'contrave', 'is.', 'This', 'drug', 'is', 'amazing', 'and', 'I', 'can', 'honestly', 'say', 'it', 'stops', 'opiate,', 'alcohol,', 'and', 'food', 'cravings', 'even', 'after', 'stopping', 'it']),\n",
       "       list(['Im', '1', 'and', 'have', 'developed', 'severe', 'allergies', 'over', 'the', 'past', 'couple', 'of', 'years.', 'My', 'eyes', 'are', 'horrible,', 'itchy,', 'watery,', 'burning', 'at', 'times.', 'I', 'finally', 'broke', 'down', 'and', 'went', 'to', 'an', 'allergist.', 'I', 'am', 'allergis', 'to', 'cats', 'and', 'dog,', 'plus', 'Dust', 'Mites.', 'Yay!', 'I', 'have', '2', 'cats.', 'She', 'gave', 'me', 'a', 'sample', 'of', 'Pataday,', 'with', 'a', 'prescription.', 'I', 'have', 'been', 'using', 'them', 'everyday', 'for', '5', 'days,', 'one', 'drop', 'in', 'each', 'eye', 'in', 'the', 'morning.', 'A', 'M', 'A', 'Z', 'I', 'N', 'G!!!', 'My', 'eyes', 'are', 'so', 'clear,', 'they', 'dont', 'itch,', 'they', 'dont', 'water', 'but', 'a', 'little', 'in', 'the', 'morning', 'and', 'then', 'Im', 'good', 'the', 'rest', 'of', 'the', 'day.', 'I', 'havent', 'rubbed', 'them', 'in', 'five', 'days,', 'they', 'are', 'finally', 'starting', 'to', 'heal.', 'I', 'have', 'rubbed', 'them', 'raw', 'with', 'all', 'the', 'itching.', 'I', 'love', 'these', 'drops', 'and', 'cant', 'wait', 'to', 'fill', 'the', 'prescription!', 'My', 'miracle', 'eye', 'drops.', 'Thank', 'you!']),\n",
       "       list(['Works', 'very', 'well.', 'I', 'find', 'that', 'chewing', 'gum', 'while', 'using', 'this', 'helps', 'out', 'a', 'lot.', 'Chewing', 'gum', 'opens', 'up', 'your', 'ear', 'canal.', 'I', 'use', 'it', 'once', 'every', 'other', 'week.']),\n",
       "       list(['I', 'cant', 'believe', 'there', 'arent', 'Pre-Exposure', 'Prophylaxis', 'reviews', 'here', 'yet!', 'Ive', 'been', 'on', 'PrEP', 'treatment', 'for', 'a', 'little', 'over', '6', 'months', 'and', 'its', 'been', 'uneventful.', 'Nothing,', 'nada,', 'zilch', 'has', 'happened.', 'Except,', 'despite', 'a', 'huge', 'increase', 'in', 'sex.', 'I', 'had', 'a', 'bad', 'hypomanic', 'episode', 'last', 'year', 'that', 'translated', 'into', 'poor', 'choices),', 'I', 'dont', 'have', 'HIV.', 'So,', 'I', 'suppose', 'its', 'worked!', 'No', 'noticeable', 'side', 'effects', 'for', 'me.', 'All', 'blood', 'work', '(kidneys/etc)', 'are', 'in', 'the', 'normal', 'range.']),\n",
       "       list(['This', 'was', 'the', '1st', 'night', 'in', 'months', 'I', 'actually', 'slept', '8-', 'hours.', 'Took', 'this', 'little', 'pill', 'at', 'midnight.', 'Actually,', 'woke', 'up', 'at', '5', 'am', 'due', 'to', 'pain', 'in', 'left', 'knee', 'area', 'due', 'to', 'previous', 'medial/lateral', 'meniscus', 'tear.', 'Had', 'arthroscopic', 'surgery', 'approximately', '2', 'months', 'ago', 'but', 'still', 'painful', 'especially', 'at', 'night.', 'Doctor', 'claims', 'pain', 'is', 'due', 'to', 'arthritis', 'so', 'I', 'sleep', 'with', 'a', 'moist', 'heating', 'pad', 'wrapped', 'around', 'the', 'knee', 'to', 'ease', 'the', 'pain.', 'After', 'waking', 'at', 'approx', '5', 'am,', 're-wrapped', 'the', 'heating', 'pad', 'around', 'knee', 'and', 'fell', 'back', 'to', 'sleep', 'within', 'minutes.', 'Ive', 'never', 'been', 'able', 'to', 'return', 'to', 'sleep', 'in', 'the', 'past.', 'I', 'used', 'to', 'walk', 'the', 'floors', 'after', 'sleeping', '-4', 'hrs.', 'Slept', 'until', ':', 'this', 'morning.']),\n",
       "       list(['Using', 'FreshKote', 'is', 'helping', 'drastically.', 'Especially', 'At', 'night.', 'I', 'would', 'randomly', 'wake', 'up', 'in', 'the', 'middle', 'of', 'the', 'night', 'feeling', 'like', 'somebody', 'tore', 'the', 'skin', 'off', 'my', 'cornea', 'because', 'my', 'eyelids', 'would', 'stick', 'to', 'my', 'eyes', 'and', 'FreshKote', 'coat', 'has', 'prevented', 'that.', 'I', 'am', 'also', 'using', 'a', 'humidifier', 'at', 'night', 'and', 'throughout', 'the', 'day', 'in', 'the', 'house', 'to', 'keep', 'my', 'eyes', 'feeling', 'comfortable.']),\n",
       "       list(['No', 'longer', 'have', 'muscle', 'cramps.']),\n",
       "       list(['My', 'daughter', 'had', 'a', 'liver', 'transplant', 'almost', '15', 'years', 'ago.', 'After', '6', 'months', 'Prograf', 'was', 'the', 'only', 'mediicine', 'she', 'was', 'taking.', 'Has', 'had', 'NO', 'set', 'backs,', 'no', 'problems.', 'She', 'has', 'given', 'birth', 'to', 'beautiful,', 'smart', 'children', 'with', 'no', 'problems', 'or', 'side', 'effects.', 'Thank', 'God', 'for', 'Prograf.', 'She', 'is', 'on', '2mg', 'twice', 'a', 'day.']),\n",
       "       list(['Im', 'still', 'here,', 'so', 'I', 'guess', 'it', 'worked', '-', 'but', 'it', 'was', 'a', 'rough,', 'horribly', 'rough', 'months', '-', 'it', 'helped', 'that', 'I', 'was', 'already', 'on', 'medical', 'leave', '(and', 'that', 'the', 'hospital', 'took', 'responsibility', 'for', 'the', 'exposure)', '-', 'Isoniazid', 'is', 'literally', 'a', 'sort', 'of', '(failed)', 'anti-depressant', 'that', 'works', 'against', 'TB,', 'but', 'is', 'also', 'pretty', 'harsh', 'on', 'the', 'liver,', 'so', 'I', 'had', 'to', 'take', 'Vitamin', 'B6', 'for', 'months', 'too.', 'I', 'was', 'pretty', 'moody,', 'crazy,', 'aggressive', '-', 'not', 'my', 'normal', 'self...', 'it', 'was', 'a', 'long', 'months.', 'I', 'cant', 'understate', 'how', 'mood', 'altering', 'this', 'medicine', 'was', '-', 'not', 'in', 'a', 'good', 'way.', 'I', 'was', 'embarrassed', 'to', 'talk', 'about', 'it,', 'which', 'made', 'my', 'behavior', 'all', 'the', 'more', 'odd', 'to', 'my', 'friends', 'and', 'co-workers,', 'but', 'once', 'I', 'explained', 'it,', 'I', 'got', 'some', 'support', '-', 'anyhow,', 'I', 'wish', 'I', 'had', 'done', 'that', 'from', 'the', 'start.', 'On', 'the', 'plus', 'side,', 'Im', 'still', 'here!']),\n",
       "       list(['I', 'was', 'in', 'so', 'much', 'pain', 'and', 'the', 'other', 'options,', 'like', 'Lyrica', 'and', 'Cymbalta,', 'gave', 'me', 'serious', 'allergic', 'reactions.', 'The', 'only', 'problem', 'I', 'had', 'was', 'that', 'no', 'doctor', 'besides', 'Dr', 'Karen', 'Herbst', 'in', 'AZ', '(a', 'specialist', 'in', 'Dercums', 'Disease),', 'understood', 'the', 'extreme', 'pain', 'of', 'this', 'disease.', 'At', 'least,', 'not', 'in', 'my', 'HMO,', 'Kaiser', 'Permanente', 'here', 'in', 'Northern', 'California.', 'I', 'had', 'a', 'months', 'worth', 'of', '25mcg', 'fentanyl', 'patches', 'and', 'for', 'the', 'last', 'three', 'weeks', 'I', 'have', 'been', 'on', 'them,', 'I', 'have', 'been', 'able', 'to', 'be', 'a', 'quotMomquot', 'again', 'and', 'participate', 'with', 'the', 'family,', 'take', 'care', 'of', 'them', 'and', 'join', 'in', 'actually', 'living', 'my', 'life', 'again.', 'I', 'am', 'at', 'a', 'loss', 'on', 'how', 'to', 'convince', 'the', 'pain', 'doctors', 'at', 'my', 'Kaiser', 'that', 'this', 'quotchronic', 'painquot', 'patients', 'quality', 'of', 'life', 'is', 'greatly', 'improved', 'by', 'the', 'use', 'of', 'opoids,', 'in', 'this', 'case', 'the', 'Fentanyl', 'patch']),\n",
       "       list(['Has', 'helped', 'me.']),\n",
       "       list(['This', 'has', 'been', 'the', 'best', 'medicine', 'for', 'Lennox-Gastaut', 'Syndrome', 'in', 'our', 'sons', '11', 'years.', 'It', 'was', 'tough', 'going', 'for', 'about', '6', 'months', 'of', 'severe', 'highs', 'and', 'lows', 'of', 'crying', 'to', 'laughing', 'hysterically.', 'But', 'getting', 'through', 'that', 'has', 'been', 'amazing.', 'Hes', 'more', 'vocal,', 'his', 'pupils', 'are', 'not', 'staying', 'dilated', 'and', 'he', 'seems', 'to', 'understand', 'more.', 'I', 'would', 'tell', 'any', 'parent', 'looking', 'for', 'help', 'to', 'please', 'give', 'this', 'medicine', 'a', 'try.']),\n",
       "       list(['I', 'am', '2', 'years', 'old', 'and', 'I', 'have', 'to', 'take', 'Zoladex', 'for', 'years', 'with', 'the', 'medicine', 'Tamoxifen', 'for', '5', 'years.', 'I', 'have', 'been', 'on', 'Zoladex', 'for', 'about', 'a', 'year', 'now.', 'Some', 'of', 'my', 'side', 'effects', 'include', 'severe', 'mood', 'swings,', 'hot', 'flashes,', 'loss', 'of', 'menstrual', 'cycle,', 'weight', 'gain', '(28', 'pounds', 'so', 'far),', 'loss', 'of', 'energy,', 'swelling', 'of', 'hands,', 'forgetfulness.']),\n",
       "       list(['Im', '7', 'and', 'seemingly', 'in', 'EXCELLENT', 'health.', 'NO', 'pains', 'or', 'problems', 'with', 'ANYTHING.', 'I', 'work', 'on', 'my', 'estate', 'daily', 'and', 'have', 'better', 'energy', 'than', 'my', 'younger', 'by', 'far', 'workers.', 'Before', 'I', 'started', 'taking', 'human', 'growth', 'hormone', '(HGH),', 'I', 'found', 'that', 'my', 'skin', 'was', 'growing', 'very', 'thin', 'and', 'becoming', 'a', 'slight', 'pinkish', 'blue.', 'Now', 'this', 'is', 'completly', 'resolved.', 'I', 'go', 'to', 'a', 'life', 'extension', 'doctor', 'that', 'after', 'testing', 'found', 'that', 'my', 'hormones', 'like', 'all', 'older', 'persons', 'were', 'low', 'so', 'Im', 'now', 'supplementing', 'with', 'HGH,', 'Pregnalone,', 'DHEA,', 'and', 'Testosterone', '(transdermal.', 'I', 'highly', 'recommend', 'it', 'to', 'my', 'friends', 'and', 'acquaintances', 'and', 'to', 'you', 'to', 'have', 'your', 'blood', 'tested.']),\n",
       "       list(['Best', 'opthalmic', 'steroid', 'Ive', 'used', 'for', 'my', 'condition.']),\n",
       "       list(['I', 'have', 'been', 'taken', 'Famvir', 'for', 'a', 'year.', 'I', 'had', 'multiple', 'outbreaks', 'in', 'the', 'past,', 'but', 'I', 'take', 'Famvir', 'daily', 'and', 'I', 'have', 'only', 'had', '2', 'mild', 'outbreaks', 'within', 'a', 'year.', 'It', 'really', 'helps', 'not', 'having', 'the', 'pain', 'and', 'depression', 'with', 'outbreaks.', 'It', 'is', 'a', 'great', 'medication', 'and', 'made', 'my', 'life', 'better.']),\n",
       "       list(['I', 'was', 'on', 'this', 'medicine', 'for', 'DVT', 'prophylaxis.', 'It', 'kept', 'me', 'anti-coagulated', 'like', 'no', 'other', 'medicine.']),\n",
       "       list(['Havent', 'been', 'hospitalized', 'since', 'I', 'started', 'taking', 'it.', 'But', 'I', 'did', 'gain', 'a', 'little', 'weight.']),\n",
       "       list(['Im', '54', 'yo,', 'and', 'have', 'had', 'Graves', 'Disease', 'since', 'I', 'was', '21,', 'after', 'the', 'birth', 'of', 'my', 'first', 'child.', 'At', 'that', 'time', '/1', 'of', 'my', 'thyroid', 'was', 'removed', 'due', 'to', 'a', 'nodular', 'goiter.', 'For', 'about', '2', 'years,', 'I', 'was', 'fine', 'without', 'any', 'medication.', 'About', '15', 'years', 'ago,', 'I', 'began', 'Synthroid', 'at', '25', 'mcg', 'and', 'am', 'now', 'up', 'to', '75mcg.', 'I', 'feel', 'well.', 'However,', 'I', 'am', 'extremely', 'careful', 'about', 'my', 'health', 'in', 'general', '-', 'take', 'many', 'supplements,', 'and', 'no', 'other', 'drugs,', 'and', 'eat', 'a', 'very', 'healthy', 'diet.', 'I', 'did', 'HRT', 'for', 'about', '1', 'years,', 'and', 'stopped', 'this', 'year.', 'Still,', 'feeling', 'fine.', 'Im', 'sure', 'my', 'diet', 'and', 'lifestyle', 'have', 'a', 'lot', 'to', 'do', 'with', 'that.', 'I', 'think', 'you', 'should', 'get', 'second', 'and', 'third', 'opinions', 'from', 'endocrinologists', 'if', 'your', 'concerns', 'arent', 'being', 'taken', 'seriously', 'by', 'your', 'GP.']),\n",
       "       list(['I', 'had', 'experienced', 'the', 'horrible', 'symptoms', 'of', 'inflammatory', 'bowel', 'syndrome', 'for', 'about', 'six', 'months', '--', 'the', 'urgent', 'needs', 'to', 'find', 'a', 'restroom', '(occasionally', 'without', 'success', 'in', 'time),', 'loss', 'of', 'weight,', 'a', 'hesitation', 'to', 'eat', 'since', 'I', 'knew', 'what', 'would', 'ensue,', 'etc.', 'I', 'was', 'referred', 'to', 'a', 'gastroenterologist', 'who,', 'after', 'several', 'unsuccessful', 'prescriptions,', 'performed', 'a', 'colonoscopy', 'and', 'found', 'the', 'IBS/colitis.', 'He', 'prescribed', '1', 'mg.', 'dicyclomine', 'and', 'two', 'Pepto-Bismol', 'three', 'times', 'a', 'day.', 'The', 'relief', 'was', 'almost', 'immediate', 'I', 'did', 'learn', 'they', 'were', 'more', 'effective', 'if', 'I', 'took', 'them', '15-', 'minutes', 'before', 'eating.', 'Perhaps', 'because', 'of', 'the', 'lower', 'dosage', 'that', 'those', 'mentioned', 'in', 'some', 'of', 'these', 'other', 'reviews,', 'I', 'havent', 'experienced', 'the', 'sleepiness', 'or', 'lack', 'of', 'energy.', 'I', 'love', 'this', 'medication!']),\n",
       "       list(['Durezol', 'was', 'prescribed', 'by', 'my', 'doctor', 'following', 'cataract', 'surgery', 'in', 'both', 'eyes.', 'I', 'had', 'no', 'problems', 'following', 'surgery,', 'so', 'I', 'assume', 'that', 'Durezol', 'was', 'effective', 'and', 'it', 'had', 'no', 'side', 'effects', 'that', 'I', 'am', 'aware', 'of', 'at', 'this', 'time.']),\n",
       "       list(['Do', 'NOT', 'take', 'unless', 'without', 'at', 'least', 'TWO', 'litres', 'of', 'water', 'with', 'and', 'after', 'taking', 'or', 'youll', 'be', 'in', 'agony', 'with', 'cramps', 'and', 'nausea.', 'I', 'take', 'two', 'around', 'pm', 'and', 'drink', 'as', 'much', 'water', 'as', 'I', 'can', 'afterwards', 'until', 'I', 'go', 'to', 'bed.', 'They', 'usually', 'kick', 'in', 'around', '2am', 'where', 'I', 'will', 'wake', 'up', 'and', 'know', 'I', 'need', 'to', 'go.', 'No', 'messing', 'on', 'the', 'toilet,', 'once', 'there', 'Im', 'done', 'within', '1-15', 'of', 'non', 'stop', 'runs.', 'No', 'pain', 'or', 'cramps', 'which', 'is', 'because', 'of', 'the', 'water', 'Ive', 'had', 'with', 'them.', 'Made', 'the', 'mistake', 'of', 'taking', 'two', 'with', 'just', 'a', 'little', 'bit', 'of', 'water', 'once', 'and', 'was', 'in', 'the', 'worse', 'pain', 'Ive', 'ever', 'felt', 'before.', 'Pain', 'was', 'worse', 'than', 'labour', 'and', 'even', 'made', 'me', 'cry', 'for', 'it', 'to', 'stop', '(no', 'joke).', 'Thats', 'why', 'its', 'imperative', 'that', 'a', 'LOT', 'of', 'water', 'is', 'drank', 'with', 'and', 'after', 'taking', 'these', 'laxatives.']),\n",
       "       list(['I', 'have', 'Multiple', 'Sclerosis', 'and', 'have', 'a', 'problem', 'with', 'my', 'bladder', 'fully', 'emptying.', 'Any', 'amount', 'of', 'urine', 'that', 'Is', 'left', 'in', 'my', 'bladder,', 'makes', 'it', 'seem', 'like', 'I', 'havent', 'even', 'gone', 'to', 'the', 'bathroom.', 'Bethanechol', 'makes', 'it', 'so', 'my', 'bladder', 'fully', 'empties', 'and', 'I', 'dont', 'have', 'those', 'feelings.']),\n",
       "       list(['Was', 'neutropenic', 'and', 'after', 'several', '()', 'injections', 'of', 'Neupogen,', 'my', 'white', 'cell', 'count', 'was', 'greatly', 'increased.', 'I', 'had', 'one', 'injection', 'in', 'the', 'arm', 'and', 'two', 'in', 'the', 'stomach.', 'Achy', 'and', 'tired', 'for', 'several', 'days', 'after', 'injections,', 'but', 'feeling', 'much', 'better', 'less', 'than', 'a', 'week', 'later.']),\n",
       "       list(['I', 'had', 'Athletes', 'foot,', 'which', 'I', 'caught', 'from', 'the', 'gym', 'and', 'it', 'kept', 'coming', 'back', 'with', 'all', 'medicines', 'I', 'used.', 'It', 'was', 'blistery,', 'itchy', 'and', 'weepy', 'type', 'of', 'athletes', 'foot.', 'The', 'foot', 'doctor', 'gave', 'me', 'Spectazole', 'cream', 'and', 'almost', 'within', 'days', 'it', 'was', 'better.', 'Within', 'two', 'weeks', 'it', 'dried', 'up', 'nicely.', 'I', 'recommend', 'it', 'to', 'all', 'who', 'have', 'resistant', 'athletes', 'foot.', 'Its', 'great.']),\n",
       "       list(['If', 'I', 'eat', 'meat,', 'spicy', 'foods,', 'or', 'dairy', 'products,', 'especially', 'if', 'it', 'is', 'later', 'in', 'the', 'day,', 'I', 'sometimes', 'get', 'acute', 'diarrhea', 'at', 'night.', 'This', 'is', 'sometimes', 'accompanied', 'by', 'pain', 'that', 'is', 'bad', 'enough', 'to', 'double', 'me', 'over.', 'Imodium', 'has', 'always', 'stopped', 'the', 'diarrhea,', 'and', 'the', 'pain', 'that', 'I', 'get', 'with', 'it,', 'and', 'almost', 'always', 'within', 'two', 'doses.', 'As', 'the', 'bottle', 'suggests,', 'I', 'take', 'two', 'pills', 'after', 'the', 'first', 'loose', 'stool,', 'and', 'one', 'after', 'any', 'subsequent', 'loose', 'stool.', 'Although', 'other', 'medicines', '(such', 'as', 'Pepto-Bismal', '/', 'Kaopectate)', 'can', 'also', 'be', 'helpful,', 'whenever', 'I', 'sense', 'that', 'these', 'symptoms', 'are', 'starting,', 'I', 'think', 'of', 'Imodium', 'right', 'away,', 'because', 'I', 'know', 'there', 'is', 'a', 'very', 'high', 'probability', 'that', 'it', 'will', 'make', 'the', 'period', 'of', 'discomfort', 'be', 'as', 'short', 'as', 'possible.']),\n",
       "       list(['It', 'helps', 'so', 'much.', 'Before', 'this,', 'my', 'life', 'was', 'miserable', 'with', 'the', 'morning', 'nausea', 'then', 'vomiting', 'tons', 'of', 'acid', 'straight', 'from', 'the', 'stomach.', 'It', 'is', 'not', 'a', 'way', 'to', 'live.', 'We', 'need', 'to', 'be', 'grateful', 'we', 'have', 'resources', 'such', 'as', 'Nexium', 'and', 'other', 'options', 'to', 'help', 'and', 'to', 'treat', 'these', 'conditions.', 'I', 'know', 'for', 'sure', 'in', 'my', 'case!']),\n",
       "       list(['Its', 'very', 'effective', 'overall,', 'one', 'pill', 'prevents', 'symptoms', 'from', 'regular', 'moderately', 'lactose', 'containing', 'products,', 'like', 'cheese', 'or', 'yoghurt,', 'but', '2', 'pills', 'are', 'needed', 'for', 'regular', 'milk', 'or', 'ice', 'cream', 'or', 'even', 'a', 'cappuccino.', 'It', 'has', 'honestly', 'truly', 'changed', 'my', 'life!!']),\n",
       "       list(['My', 'job', 'has', 'these', 'little', 'pills', 'and', 'I', 'took', 'a', 'couple', 'because', 'of', 'cramping.', 'It', 'helped', 'a', 'lot', 'and', 'with', 'the', 'swelling', 'in', 'my', 'feet.', 'What', 'a', 'great', 'pill.']),\n",
       "       list(['About', 'little', 'more', 'than', 'six', 'months', 'ago', 'I', 'had', 'perfectly', 'healthy', 'eyes,', 'then', 'I', 'had', 'an', 'eye', 'burn.', 'Both', 'of', 'my', 'eyes', 'were', 'inflamed', 'and', 'severly', 'dry', 'and', 'painful', 'after', 'that', 'burn,', 'later', 'causing', 'an', 'eye', 'ulcer', 'on', 'my', 'left', 'eye.', 'I', 'was', 'completely', 'devastated,', 'could', 'not', 'even', 'believe', 'that', 'happened', 'to', 'me!', 'But,', 'then', 'my', 'second', 'ophthalmologist', 'prescribed', 'me', 'Restasis,', 'I', 'started', 'using', 'them', 'but', 'every', 'time', 'wanted', 'to', 'stop,', 'because', 'there', 'were', 'no', 'results', 'whatsoever!', 'But,', 'I', 'continued', 'using', 'them', 'hoping', 'that', 'they', 'would', 'help', 'because', 'my', 'eyes', 'were', 'extremely', 'inflamed', 'and', 'dry', 'and', 'painful!', 'After', 'only', '4whole', 'months', 'I', 'finally', 'started', 'seeing', 'some', 'results!', 'My', 'eyes', 'started', 'healing', 'slowly,', 'but', 'at', 'least', 'they', 'started', 'improving!', 'This', 'is', 'my', 'fifth', 'month,', 'and', 'I', 'really', 'do', 'think', 'they', 'are', 'helping']),\n",
       "       list(['I', 'had', 'been', 'seeing', 'G.I.', 'specialist', 'for', 'months', 'for', 'intermittent', 'nausea', 'and', 'vomiting', 'that', 'led', 'to', 'horrible', 'stomach', 'and', 'chest', 'pain.', 'My', 'G.I.', 'tried', 'everything,', 'nothing', 'seemed', 'to', 'worked,', 'I', 'even', 'threw', 'up', 'on', 'Zofran', 'twice(strongest', 'anti-nausea', 'medicine', 'you', 'can', 'get).', 'I', 'wind', 'up', 'in', 'the', 'ER', 'about', 'monthly', 'for', 'complications', 'with', 'dehydration', 'and', 'anemia,', 'and', 'at', 'the', 'ER', 'I', 'was', 'put', 'on', 'Donnatal.', 'Donnatal', 'was', 'a', 'miracle!', 'I', 'can', 'now', 'function,', 'leave', 'my', 'house', 'most', 'days,', 'and', 'no', 'longer', 'spend', 'every', 'day', 'wishing', 'I', 'would', 'just', 'die', 'because', 'of', 'the', 'pain.', 'It', 'doesnt', 'fix', 'everything', 'but', 'without', 'it', 'I', 'am', 'really', 'bad.']),\n",
       "       list(['Great', 'and', 'cheaper', 'than', 'other', 'medicine']),\n",
       "       list(['This', 'has', 'been', 'effective', 'in', 'controlling', 'my', 'high', 'blood', 'pressure.', 'I', 'take', 'it', 'at', 'night', 'to', 'minimize', 'the', 'queasiness.']),\n",
       "       list(['My', 'son,', 'husband', 'and', 'I', 'all', 'took', 'this', 'and', 'it', 'certainly', 'works!', 'Yuck!', 'We', 'knew', 'we', 'had', 'them,', 'but', 'we', 'were', 'even', 'blowing', 'them', 'out', 'of', 'our', 'noses,', 'eeeuuu,', 'so', 'gross!', 'Side', 'effects', 'have', 'been', 'all', 'had', 'a', 'rash,', '2', 'had/have', 'headaches,', '2', 'GI', 'upset', 'with', 'diarrhea,', 'amp', 'all', 'spent', 'more', 'time', 'in', 'the', 'bathroom', 'then', 'we', 'want', 'to', 'admit', 'even', 'here.', 'Is', 'it', 'worth', 'it?', 'YES,', 'yes', 'it', 'is,', 'especially', 'if', 'you', 'consider', 'the', 'thoroughly', 'disgusting', 'alternative.']),\n",
       "       list(['I', 'have', 'always', 'had', 'horrible', 'morning', 'sickness.', 'This', 'time', 'around', 'I', 'am', 'pregnant', 'with', 'twins', 'and', 'it', 'was', 'much', 'worse.', 'I', 'started', 'the', 'medication', 'and', 'it', 'stopped', 'the', 'ache', 'of', 'nausea', 'all', 'the', 'time!', 'The', 'bad', 'is', 'it', 'did', 'stop', 'the', 'nausea', 'but', 'I', 'had', 'no', 'signs', 'when', 'I', 'was', 'going', 'to', 'throw', 'up.', 'So', 'you', 'randomly', 'throw', 'up', 'without', 'knowing', 'your', 'stomach', 'is', 'upset..not', 'fun', 'at', 'All.', 'The', 'bad', 'thing', 'is', 'with', 'the', 'co-pay', 'with', 'my', 'insurance', 'was', '$16,', 'so', 'very', 'pricy', 'but', 'worth', 'it.']),\n",
       "       list(['This', 'is', 'my', 'first', 'day', 'of', 'use...2nd', 'application.', 'I', 'already', 'have', 'some', 'relief', 'where', 'I', 'got', 'none', 'from', 'lidocaine', 'and', 'diltiazem.']),\n",
       "       list(['Chaparral', 'is', 'a', '1.', 'My', 'boyfriend', 'was', 'diagnosed', 'with', 'colon', 'cancer.', 'He', 'was', 'unable', 'to', 'have', 'a', 'bowel', 'motion', 'due', 'to', 'the', 'size', 'of', 'the', 'growth', 'was', 'blocking', 'the', 'colon.', 'In', 'the', 'time', 'between', 'the', 'announcement', 'that', 'surgery', 'was', 'the', 'only', 'option', 'and', 'the', 'day', 'of', 'the', 'surgery,', 'the', 'tumor', 'shrank', 'enough', 'to', 'have', 'normal', 'bowel', 'motion', 'by', 'the', 'day', 'of', 'the', 'surgery', '(2', 'weeks!).', 'He', 'had', 'the', 'surgery', 'and', 'continues', 'to', 'use', 'Chaparral', 'to', 'keep', 'cancer', 'cell', 'growth', 'at', 'bay.', 'I', 'began', 'taking', 'it', 'as', 'a', 'preventive', 'measure.']),\n",
       "       list(['Oligoastrocytoma', 'WHO', 'll:', 'It', 'stopped', 'the', 'growth', 'of', 'the', 'brain', 'tumor', 'that', 'Ive', 'been', 'fighting', 'for', 'ten', 'years.', 'Im', 'one', 'of', 'the', 'lucky', 'ones.', 'Keep', 'fighting.']),\n",
       "       list(['It', 'is', 'good.']),\n",
       "       list(['Ive', 'been', 'taking', 'this', 'pill', 'for', 'almost', 'my', 'entire', 'life', 'to', 'help', 'keep', 'off', 'bad', 'infections', 'and', 'its', 'been', 'a', 'miracle', 'worker', 'for', 'me', '(I', 'dont', 'have', 'any', 'natural', 'immunity,', 'was', 'born', 'that', 'way)', 'so', 'this', 'pill', 'helps', 'me', 'avoid', 'any', 'bad', 'infections', 'and', 'thus', 'far', 'has', 'worked', 'great.', 'Ive', 'never', 'experienced', 'any', 'side', 'effects', 'from', 'it.']),\n",
       "       list(['Opcon-A', 'relieves', 'my', 'eye', 'soreness', 'and', 'eliminates', 'redness', 'better', 'than', 'any', 'other', 'over-the-counter', 'product', '(such', 'as', 'Visine)', 'and', 'Pataday', '(Rx', 'and', 'a', 'bank', 'loan', 'are', 'required,', 'but', 'it', 'causes', 'eye', 'twitching', 'after', 'a', 'few', 'days', 'of', 'use', 'as', 'Pataday', 'instructs).', 'I', 'use', 'Opcon-A', 'once', 'or', 'twice', 'per', 'day', 'only', 'on', 'days', 'that', 'my', 'eyes', 'become', 'tired', 'due', 'to', 'combination', 'of', 'chronic', 'dry', 'eye,', 'possible', 'eye', 'allergy,', 'and', 'lack', 'of', 'sleep.', '(My', 'eyes', 'are', 'red', 'even', 'on', 'good', 'days', 'except', 'for', 'a', 'while', 'after', 'using', 'Opcon-A.)', 'At', 'age', '58', 'now,', 'no', 'side', 'effects', 'have', 'been', 'observed', 'despite', 'occasional', 'use', 'for', 'many', 'years.']),\n",
       "       list(['I', 'have', 'had', 'variceal', 'bleeding.', 'Feel', 'much', 'better', 'when', 'taking', 'the', 'nadolol.', 'I', 'didnt', 'take', 'it', 'at', 'first,', 'I', 'took', 'propananlol', 'for', 'a', 'while', 'but', 'quit', 'because', 'I', 'couldnt', 'afford', 'it.', 'At', 'this', 'point', 'the', 'only', 'side', 'effect', 'I', 'can', 'recall', 'is', 'feeling', 'a', 'little', 'tired', 'and', 'dizzy', 'when', 'I', 'first', 'began', 'taking', 'it,', 'and', 'running', 'out', 'and', 'not', 'being', 'on', 'it', 'for', 'about', '5', 'days', 'I', 'didnt', 'feel', 'good.', 'I', 'believe', 'this', 'drug', 'is', 'very', 'beneficial', 'for', 'bleeding', 'related', 'to', 'the', 'liver.']),\n",
       "       list(['This', 'is', 'the', 'third', 'Rx', 'Ive', 'had', 'over', '1', 'years', 'to', 'treat', 'polycythemia', 'rubes', 'very.', 'Started', 'for', 'drug', 'trial', 'for', '87', 'weeks.', 'Now', 'on', 'an', 'Rx.', 'Ive', 'had', 'Phlebotomy', 'since', 'on', 'Jakafi.', 'Itching', 'is', 'nearly', 'nonexistent.', 'I', 'can', 'sleep', 'well.', 'Mood', 'has', 'improved.', 'Generally,', 'Jakafi', 'has', 'given', 'me', 'a', 'life', 'back!']),\n",
       "       list(['I', 'have', 'been', 'on', 'Forteo', 'months', 'now,', 'I', 'started', 'taking', 'it', 'after', 'a', 'thyroid', 'surgery', 'left', 'my', 'parathyroids', 'damaged.', 'This', 'has', 'kept', 'me', 'out', 'of', 'the', 'hospital', 'and', 'living', 'a', 'happy', 'healthy', 'lifestyle.']),\n",
       "       list(['Ive', 'been', 'taking', 'Xyrem', 'for', 'about', '6', 'yrs', 'at', '4.5gms', '2', 'x', 'a', 'night.', 'My', 'doctor', 'said', 'I', 'had', 'the', 'worst', 'case', 'of', 'Cataplexy', 'hed', 'seen', 'in', 'his', 'career!', 'Xyrem', 'with', '4mgs', 'of', 'Desoxyn', 'and', '15mgs', 'of', 'Effexor', 'during', 'the', 'day', 'I', 'have', 'a', 'life', 'again!', 'I', 'still', 'have', 'to', 'nap', 'about', 'midday', 'and', 'I', 'still', 'wont', 'chance', 'a', 'comedy', 'club', '(the', 'Cataplexy', 'still', 'sneaks', 'in', 'once', 'in', 'a', 'while)', 'but', 'I', 'hope', 'to', 'some', 'day.', 'I', 'found', 'out', 'the', 'hard', 'way', 'to', 'make', 'sure', 'you', 'dont', 'drink', 'anything', 'before', 'taking', 'because', 'you', 'will', 'NOT', 'wake', 'up', 'to', 'pee', 'until', 'the', 'dose', 'wears', 'off!', 'A', 'small', 'price', 'to', 'pay', 'when', 'I', 'consider', 'what', 'it', 'was', 'like', 'before', 'Xyrem.']),\n",
       "       list(['Post', 'bariatric', 'surgery,', 'I', 'was', 'in', 'the', 'hospital', 'for', 'almost', '2', 'weeks', 'with', 'horrible', 'nausea', 'and', 'vomiting.', 'They', 'added', 'Reglan', 'to', 'my', 'medicines', 'and', 'after', 'the', 'first', 'dose,', 'I', 'stopped', 'feeling', 'sick', 'and', 'was', 'able', 'to', 'come', 'home.', 'This', 'is', 'the', 'third', 'week', 'post-op', 'and', 'I', 'am', 'taking', 'it', 'about', '1', 'times', 'per', 'day', 'in', 'the', 'syrup', 'form', '(Tastes', 'awful!).', 'It', 'was', 'my', 'reflux', 'that', 'was', 'causing', 'the', 'problem,', 'and', 'every', 'other', 'reflux', 'medicine', 'did', 'nothing', 'to', 'touch', 'it.', 'I', 'am', 'so', 'thankful', 'to', 'have', 'this', 'medication', 'available.']),\n",
       "       list(['I', 'have', 'been', 'taking', 'ActosPlus', 'Met', '15/85', 'for', 'Type', '2', 'Diabetes', 'for', 'approximately', 'years.', 'My', 'HbA1C', 'has', 'been', 'steady', 'between', '6.', 'and', '6..', 'If', 'Im', 'having', 'side-effects,', 'they', 'are', 'not', 'noticeable.', 'The', 'price,', 'however,', 'must', 'put', 'a', 'smile', 'on', 'the', 'pharmaceutical', 'company', 'CEOs', 'face.', 'It', 'would', 'be', 'nice', 'to', 'see', 'it', 'go', 'generic!']),\n",
       "       list(['I', 'have', 'had', 'two', 'heart', 'attacks', '(one', 'never', 'knew', 'Id', 'had).', 'The', 'second', 'one', 'did', 'know', 'about', 'it', 'and', 'taking', '1mg', 'Ramipril', 'as', 'well', 'as', 'other', 'drugs', 'as', 'preventative', 'measure', 'to', 'further', 'cardiac', 'events.', 'I', 'never', 'had', 'high', 'BP,', 'but', 'now', 'its', 'too', 'low', 'according', 'to', 'some', 'professionals,', 'and', 'normal', 'to', 'others', '11/6.', 'Downside:', 'I', 'have', 'to', 'be', 'careful', 'when', 'standing', 'too', 'quickly,', 'if', 'I', 'look', 'up', 'I', 'can', 'lose', 'my', 'balance,', 'I', 'sweat', 'more,', 'I', 'have', 'constant', 'dry', 'mouth,', 'and', 'need', 'to', 'hydrate', 'more.', 'I', 'cant', 'seem', 'to', 'get', 'a', 'good', 'nights', 'sleep', 'am', 'constantly', 'waking', 'and', 'fidgeting,', 'I', 'have', 'developed', 'tinnitus,', 'biggest', 'down', 'side', 'through', 'lack', 'of', 'sleep', 'I', 'cant', 'wake', 'up', 'and', 'feel', 'drugged', 'when', 'I', 'do.', 'Upside:', 'Most', 'of', 'these', 'side', 'effects', 'are', 'documented', 'so', 'I', 'put', 'up', 'with', 'them', 'as', 'the', 'opposite', 'is', 'unthinkable.']),\n",
       "       list(['I', 'have', 'used', 'this', 'for', 'about', '2', 'years', 'and', 'it', 'sure', 'beats', 'any', 'of', 'the', 'others', 'that', 'I', 'have', 'used.']),\n",
       "       list(['I', 'like', 'this', 'pill', 'a', 'lot.', 'Before', 'this', 'I', 'tried', 'the', 'shot', 'and', 'it', 'was', 'terrible.', 'My', 'face', 'is', 'clear,', 'my', 'boobs', 'have', 'grown', 'and', 'for', 'some', 'reason', 'my', 'tummy', 'is', 'flatter.', 'I', 'will', 'continue', 'to', 'take', 'it.']),\n",
       "       list(['Ive', 'had', 'horrible', 'periods', 'since', 'high', 'school.', 'I', 'remember', 'in', 'high', 'school', 'when', 'the', 'bell', 'rang', 'I', 'just', 'sat', 'there', 'until', 'the', 'entire', 'class', 'left', 'then', 'walked', 'to', 'the', 'office', 'to', 'get', 'a', 'ride', 'home.', 'When', 'I', 'got', 'up,', 'it', 'was', 'a', 'puddle', 'of', 'blood.', 'Literally', 'a', 'puddle.', 'Im', '5', 'and', 'would', 'sleep', 'with', 'a', 'towel', 'under', 'me', 'plus', 'an', 'overnight', 'pad', 'because', 'I', 'would', 'always', 'overflow.', 'Ive', 'started', 'getting', 'really', 'bad', 'clots', 'and', 'I', 'am', 'unable', 'to', 'take', 'birth', 'control', 'pills.', 'Bad', 'bruises,', 'weak,', 'anemic..', 'You', 'know', 'the', 'drill.', 'So', 'doctor', 'suggested', 'this...', 'Im', 'on', 'day', 'and', 'it', 'is', 'a', 'total', 'game', 'changer.', 'I', 'did', 'a', 'spin', 'class', 'this', 'morning', '(usually', 'day', '2', 'of', 'HEAVY', 'flow)', 'with', 'a', 'tampon', 'and', 'panty', 'liner.', 'I', 'never', 'ever', 'thought', 'this', 'was', 'possible.', 'Small', 'headache,', 'totally', 'worth', 'it.']),\n",
       "       list(['Great.', 'A', 'quotmust', 'usequot', 'if', 'you', 'have', 'tried', 'every', 'acne', 'medication', 'and', 'they', 'do', 'not', 'work.']),\n",
       "       list(['I', 'began', 'Tambocor', 'nearly', '1', 'years', 'ago', 'when', 'frequency', 'of', 'episodes', 'increased', 'to', 'weekly.', 'I', 'have', 'had', 'no', 'bouts', 'of', 'tachycardia', 'since.']),\n",
       "       list(['I', 'have', 'taken', 'Moviprep', 'before,', 'the', 'first', 'time', 'for', 'a', 'laparoscopic', 'exam,', 'and', 'I', 'am', 'now', 'taking', 'it', 'again', 'for', 'another', 'laparoscopy', 'to', 'remove', 'endometriosis.', 'The', 'first', 'time,', 'I', 'took', 'Moviprep', 'at', 'the', 'instructed', 'times,', 'first', 'litre', 'at', '5pm', 'and', 'second', 'litre', 'at', '8-pm.', 'It', 'was', 'awful!', 'I', 'had', 'to', 'be', 'at', 'the', 'hospital', 'for', '6am,', 'and', 'I', 'literally', 'hadnt', 'slept', 'because', 'I', 'was', 'still', 'going', 'the', 'toilet.', 'Thankfully', 'I', 'was', 'still', 'able', 'to', 'have', 'the', 'procedure.', 'This', 'time', 'I', 'took', 'the', 'first', 'litre', 'at', 'pm', 'and', 'the', 'second', 'litre', 'at', 'about', '6pm,', 'it', 'is', 'nearly', '11pm', 'and', 'it', 'hasnt', 'stopped', 'yet,', 'but', 'hopefully', 'I', 'will', 'get', 'more', 'rest', 'than', 'last', 'time.', 'I', 'think', 'it', 'definitely', 'does', 'what', 'it', 'is', 'intended', 'for', 'but', 'the', 'taste', 'is', 'disgusting,', 'it', 'tastes', 'like', 'really', 'salty', 'lemons,', 'much', 'better', 'if', 'you', 'use', 'a', 'straw!']),\n",
       "       list(['I', 'was', 'put', 'on', 'hydrochlorothiazide', 'by', 'my', 'urologist', 'for', 'the', 'prevention', 'of', 'kidney', 'stones.', 'I', 'was', 'a', 'regular', 'producer', 'of', 'a', 'stone', 'every', '12-18', 'months', 'prior', 'to', 'starting', 'hydrochlorothiazide.', 'It', 'has', 'been', '5', 'years', 'and', 'counting', 'without', 'a', 'kidney', 'stone.', 'Thats', 'the', 'up', 'side.', 'The', 'down', 'side', 'is', 'after', 'about', '6', 'months', 'on', 'this', 'medication', 'I', 'had', 'my', 'first', 'bout', 'with', 'gout.', 'Ever', 'since', 'then', 'I', 'regularly', 'have', 'to', 'deal', 'with', 'gout', 'about', 'every', 'other', 'month.', 'I', 'feel', 'like', 'I', 'traded', 'one', 'type', 'of', 'severe,', 'less', 'often', 'pain', 'for', 'a', 'lower,', 'more', 'recurring', 'pain.']),\n",
       "       list(['Treatment', 'for', 'Conversion', 'Disorder', '-', 'I', 'used', 'to', 'fall', 'down', 'on', 'a', 'daily', 'basis', 'and', 'now', 'I', 'can', 'go', 'without', 'months', 'of', 'falling', 'down.', 'Also', 'excellent', 'as', 'a', 'migraine', 'preventer.']),\n",
       "       list(['have', 'used', 'this', 'drug', 'as', 'maintenance', 'over', '1', 'cycles', '-', '5day', 'cycles.', '1/2', 'normal', 'dose', 'slightly', 'longer', 'interval', '(28', 'day', 'usual', 'cycle).', 'Some', 'side', 'effects', 'but', 'recover.', 'Worth', 'the', 'side', 'effects', '-', '1years', 'since', 'surgery', 'and', 'radiotherapy']),\n",
       "       list(['I', 'started', 'on', 'Hizentra', 'months', 'ago', 'and', 'I', 'am', 'quite', 'pleased', 'with', 'the', 'differance', 'it', 'has', 'made.', 'I', 'was', 'always', 'feeling', 'run', 'down', 'and', 'so', 'so', 'tired', 'all', 'the', 'time', 'and', 'I', 'would', 'have', 'one', 'Sinus', 'infection', 'after', 'an', 'other.', 'I', 'was', 'so', 'sick', 'of', 'taking', 'antibiotics.', 'They', 'say', 'at', 'about', 'four', 'months', 'I', 'will', 'be', 'close', 'to', 'my', 'plateau,', 'I', 'dont', 'know', 'about', 'that', 'as', 'I', 'was', 'quite', 'run', 'down.', 'Each', 'week', 'has', 'had', 'its', 'ups', 'and', 'downs,', 'You', 'know', 'i', 'step', 'forward', 'and', '2', 'back,', 'lately', 'however', 'I', 'have', 'been', 'noticing', 'a', 'more', 'level', 'and', 'steady', 'state.', 'I', 'dont', 'care', 'to', 'much', 'for', 'inserting', 'the', '4', 'needles', 'every', 'week', 'and', 'the', 'injection', 'site', 'pain', 'but', 'it', 'is', 'only', 'there', 'for', 'a', 'couple', 'of', 'days', 'then', 'I', 'have', '5', 'days', 'to', 'enjoy', 'life.', 'Good', 'luck', 'to', 'you!', 'Mike']),\n",
       "       list(['It', 'cured', 'my', 'MRSA.']),\n",
       "       list(['I', 'had', 'some', 'unusual', 'herpes-like', 'symptoms', 'that', 'came', 'with', 'my', 'mononucleosis,', 'and', 'they', 'prescribed', 'this', 'to', 'me', 'thinking', 'that', 'even', 'if', 'it', 'did', 'not', 'help,', 'it', 'would', 'not', 'hurt', 'me.', 'I', 'had', 'found', 'astonishing', 'results', 'and', 'it', 'made', 'all', 'my', 'symptoms', 'less', 'drastic', 'and', 'made', 'me', 'get', 'over', 'it', 'much', 'faster.']),\n",
       "       list(['I', 'had', 'a', 'liver', 'and', 'kidney', 'transplant', 'and', 'have', 'been', 'on', 'Myfortic', 'for', 'at', 'least', '4', 'years', 'after', 'being', 'switched', 'from', 'regular', 'mycophenalate.', 'Both', 'medicines', 'have', 'worked', 'well', 'for', 'me', 'for', 'years.', 'The', 'only', 'negative', 'Ive', 'had', 'is', 'periods', 'of', 'severe', 'diarrhea', 'with', 'very', 'little', 'ability', 'to', 'control', 'it.', 'Once', 'the', 'dose', 'was', 'lowered', 'this', 'symptom', 'is', 'now', 'tolerable.']),\n",
       "       list(['I', 'was', 'on', 'the', 'gel', 'for', 'years,', 'but', 'now', 'evidently', 'my', 'insurance', 'no', 'longer', 'pays', 'or', 'it', 'is', 'off', 'the', 'market.', 'I', 'tried', 'the', 'patch', 'and', 'really', 'liked', 'it,but', 'now', 'I', 'find', 'it', 'is', 'off', 'the', 'market.', 'WHY', 'WHEN', 'WE', 'WOMEN', 'FIND', 'SOMETHING', 'THAT', 'WORKS', 'DO', 'THE', 'COMPANIES', 'TAKE', 'IT', 'OFF', 'THE', 'MARKET.', 'Frustrated', 'consumer.']),\n",
       "       list(['I', 'had', 'a', 'liver', 'and', 'kidney', 'transplant', 'and', 'have', 'been', 'on', 'Myfortic', 'for', 'at', 'least', '4', 'years', 'after', 'being', 'switched', 'from', 'regular', 'mycophenalate.', 'Both', 'medicines', 'have', 'worked', 'well', 'for', 'me', 'for', 'years.', 'The', 'only', 'negative', 'Ive', 'had', 'is', 'periods', 'of', 'severe', 'diarrhea', 'with', 'very', 'little', 'ability', 'to', 'control', 'it.', 'Once', 'the', 'dose', 'was', 'lowered', 'this', 'symptom', 'is', 'now', 'tolerable.']),\n",
       "       list(['I', 'have', 'been', 'taking', 'Niaspan', 'ER', '2mg', 'for', 'three', 'months.', 'I', 'am', 'scheduled', 'to', 'get', 'my', 'first', 'lab', 'tests', 'to', 'determine', 'its', 'effectiveness', 'on', 'lowering', 'my', 'elevated', 'Lpa', 'level', 'and', 'whether', 'my', 'liver', 'function', 'is', 'okay.', 'I', 'have', 'noticed', 'that', 'the', 'medicine', 'needs', 'to', 'be', 'taken', 'by', 'or', '1pm.', 'If', 'I', 'take', 'the', 'medication', 'too', 'late', 'in', 'the', 'evening,', 'I', 'still', 'can', 'feel', 'the', 'effects', 'of', 'Niaspan', 'when', 'I', 'get', 'up', 'for', 'work', 'the', 'next', 'morning.', 'I', 'also', 'noticed', 'that', 'taking', 'it', 'with', 'water', 'alone,', 'causes', 'the', 'symptoms', 'to', 'be', 'much', 'worse', 'than', 'taking', 'it', 'with', 'a', 'small', 'glass', 'of', 'milk', 'or', 'snack.', 'So', 'I', 'take', 'it', 'before', '1pm', 'with', 'a', 'small', 'glass', 'of', 'milk', 'or', 'snack,', 'and', 'there', 'seems', 'to', 'be', 'very', 'little', 'symptoms.']),\n",
       "       list(['I', 'have', 'been', 'taking', 'this', 'medicine', 'for', '5', 'months', 'and', 'my', 'MRI', 'showed', 'that', 'the', 'SEGAs', 'that', 'I', 'have', 'in', 'my', 'brain', 'were', 'smaller', 'than', '6', 'months', 'previous.']),\n",
       "       list(['Over', 'the', 'last', 'few', 'weeks,', 'Ive', 'been', 'struggling', 'with', 'nasal', 'congestion', 'on', 'and', 'off', 'with', 'the', 'rapid', 'changes', 'of', 'weather', 'we', 'have', 'been', 'experiencing', 'in', 'Texas.', 'I', 'figured', 'that', 'by', 'drinking', 'plenty', 'of', 'non-caffeinated', 'fluids', '(i.e.', 'mostly', 'water,', 'herbal', 'teas,', 'etc),', 'my', 'condition', 'would', 'go', 'away', 'on', 'its', 'own.', 'I', 'do', 'not', 'believe', 'in', 'using', 'medicines', 'to', 'solve', 'small', 'problems', 'like', 'headaches', 'and', 'colds,', 'but', 'with', 'only', 'hours', 'to', 'spare', 'before', 'a', 'presentation', 'at', 'work', 'I', 'gave', 'in', 'and', 'tried', 'Sinex.', 'I', 'have', 'never', 'had', 'such', 'a', 'quick', 'turn-around', 'from', 'not', 'being', 'able', 'to', 'breathe', 'through', 'my', 'nose', 'at', 'all', 'to', 'having', 'near', 'perfect', 'breathing', 'in', 'a', 'matter', 'of', 'seconds.', 'My', 'family', 'has', 'stood', 'by', 'Vicks', 'products', 'for', 'years', 'and', 'I', 'most', 'certainly', 'can', 'and', 'will', 'recommend', 'Sinex', 'Spray', 'as', 'a', 'solution', 'to', 'nasal', 'congestion.']),\n",
       "       list(['I', 'was', 'reluctant', 'to', 'take', 'this', 'medication', 'but', 'essentially', 'had', 'no', 'choice', 'when', 'faced', 'with', 'the', 'possibility', 'of', 'losing', 'my', 'kidneys.', 'It', 'saved', 'my', 'kidneys', 'and', 'also', 'helped', 'greatly', 'with', 'my', 'other', 'SLE', 'symptoms', '(joint', 'pain,', 'neuropathy', 'and', 'lung', 'issues', 'to', 'name', 'a', 'few).', 'I', 'also', 'cant', 'tolerate', 'steroids,', 'so', 'luckily', 'CellCept', 'combined', 'with', 'Plaquenil', 'has', 'kept', 'things', 'under', 'control', 'without', 'having', 'to', 'add', 'Prednisone', 'in', 'the', 'mix.', 'I', 'did', 'experience', 'some', 'issues', 'with', 'dizziness,', 'hair', 'loss', 'and', 'insomnia,', 'but', 'they', 'have', 'tapered', 'off', 'after', 'being', 'on', 'it', 'for', 'a', 'year', 'now', 'still', 'have', 'problems', 'sleeping', 'at', 'times', 'though', 'and', 'am', 'now', 'experiencing', 'some', 'anxiety.', 'Im', 'also', 'concerned', 'about', 'the', 'long', 'term', 'effects', 'ie.', 'lymphoma', 'risks', 'and', 'its', 'very', 'expensive,', 'but', 'overall', 'it', 'saved', 'my', 'life.']),\n",
       "       list(['Absolute', 'God', 'send', 'when', 'it', 'comes', 'to', 'anything', 'cold', 'and/or', 'sinus', 'related.', 'Saves', 'me', 'from', 'having', 'to', 'go', 'to', 'the', 'doctors', 'office.']),\n",
       "       list(['Nupricainal', 'is', '1', 'in', 'our', 'first', 'aid', 'kit', 'and', 'has', 'been', 'for', 'the', 'last', '5', 'years!', 'It', 'provides', 'instant', 'relief', 'from', 'cuts,', 'scrapes,', 'bruises', 'and', 'numbs', 'the', 'pain.', 'Upon', 'discovery,', 'we', 'personally', 'named', 'it', 'quotMAGIC', 'MEDICINEquot', 'and', 'it', 'remains', 'close', 'at', 'hand', 'for', 'emergencies', 'at', 'home,', 'in', 'the', 'car', 'or', 'on', 'a', 'trip.', 'Smashed', 'my', 'finger', 'in', 'the', 'car', 'door', 'and', 'while', 'driving', 'to', 'emergency', 'for', 'stitches,', 'obtained', 'PROMPT', 'RELIEF', 'FROM', 'EXCRUCIATING', 'PAIN!', '(Same', '2%', 'benzocaine/active', 'quotnumbingquot', 'ingredient', 'prescribed', 'by', 'my', 'doctor', 'for', 'an', 'epesiotome', 'after', 'having', 'a', 'baby.', 'Kids', 'fall', 'and', 'scrape', 'their', 'knees', 'or', 'get', 'a', 'bee', 'sting', 'and', 'this', 'stops', 'the', 'pain', 'and', 'tears!', 'LOVE', 'THIS', 'numbing', 'ointment!', 'Get', 'the', 'word', 'out!', 'AWESOME', 'PRODUCT!', 'Any', 'pharmacy', 'will', 'also', 'special', 'order', 'it.']),\n",
       "       list(['This', 'is', 'the', 'first', 'birth', 'control', 'I', 'have', 'ever', 'been', 'on,', 'and', 'I', 'absolutely', 'love', 'it.', 'My', 'reason', 'for', 'taking', 'it', 'isnt', 'actually', 'for', 'birth', 'control,', 'but', 'for', 'severe', 'cramps', 'and', 'irregular', 'periods.', 'Before', 'I', 'was', 'on', 'this', 'pill,', 'my', 'cramps', 'would', 'be', 'so', 'bad', 'that', 'I', 'could', 'hardly', 'walk', 'sometimes!', 'I', 'missed', 'so', 'much', 'school', 'because', 'of', 'how', 'intense', 'my', 'pain', 'was.', 'Ive', 'been', 'on', 'the', 'pill', 'now', 'for', 'almost', '7', 'months,', 'and', 'it', 'has', 'helped', 'tremendously.', 'I', 'have', 'not', 'had', 'ANY', 'cramps', 'at', 'all.', 'My', 'period', 'was', 'also', 'very', 'irregular', 'before', 'I', 'started', 'the', 'pill,', 'and', 'since', 'Ive', 'started', 'taking', 'this,', 'I', 'do', 'not', 'even', 'have', 'a', 'period!', 'The', 'only', 'complaint', 'I', 'have', 'was', 'the', 'mild', 'nausea', 'and', 'headache', 'during', 'the', 'first', 'month', 'of', 'taking', 'it,', 'which', 'is', 'normal', 'when', 'starting', 'birth', 'control,', 'but', 'it', 'was', 'still', 'a', 'nuisance.']),\n",
       "       list(['Used', 'this', 'on', 'great', 'grandson.', 'He', 'gets', 'diaper', 'rash', 'easily,', 'this', 'protects', 'him', 'from', 'getting', 'it', 'and', 'heals', 'and', 'soothes', 'if', 'he', 'gets', 'diaper', 'rash', 'when', 'we', 'dont', 'use', 'this', 'to', 'protect.']),\n",
       "       list(['I', 'have', 'taken', 'Ursodiol', 'since', '26.', 'I', 'had', 'my', 'gall', 'bladder', 'removed', 'in', '188', 'but', 'for', 'some', 'reason', 'I', 'started', 'developing', 'gall', 'stones', 'in', 'my', 'bile', 'ducts.', 'I', 'had', 'three', 'surgeries', 'to', 'remove', 'gall', 'stones', 'before', 'I', 'started', 'taking', 'Ursodiol.', 'I', 'have', 'had', 'no', 'surgeries', 'since', '26.', 'My', 'problem', 'is', 'the', 'drug,', 'which', 'is', 'a', 'generic', 'has', 'skyrocketed', 'in', 'price.', 'I', 'use', 'to', 'pay', '$1.,', 'I', 'now', 'have', 'to', 'pay', '$18.', 'for', 'a', '1', 'month', 'supply.', 'I', 'quit', 'taking', 'the', 'drug,', 'I', 'cant', 'afford', 'it.', 'Does', 'anyone', 'know', 'of', 'any', 'discounts', 'that', 'are', 'available', 'for', 'this', 'drug?', 'I', 'have', 'insurance,', 'the', 'pharmacist', 'said', 'the', 'reason', 'the', 'drug', 'has', 'gotten', 'so', 'high', 'in', 'price', 'is', 'because', 'of', 'Obamacare.']),\n",
       "       list(['I', 'hear', 'a', 'lot', 'of', 'horror', 'stories', 'regarding', 'Movantic,', 'but', 'have', 'not', 'had', 'any', 'side', 'effects', 'except', 'for', 'flatulence', '(gas),', 'before', 'going', 'to', 'the', 'bathroom.', 'I', 'had', 'a', 'bowel', 'impaction', 'many', 'years', 'ago,', 'from', 'a', 'L4-5', 'fusion', 'and', 'was', 'never', 'told', 'that', 'the', 'Vicodin', 'could', 'back', 'my', 'bowels', 'up.', 'Long', 'and', 'short,', 'I', 'had', 'a', 'bowel', 'impaction,', 'so', 'badly', 'I', 'go', 'not', 'go', 'either', 'way', 'and', 'have', 'to', 'go', 'to', 'the', 'ER,', 'to', 'have', 'it', 'removed.', 'It', 'was', 'the', 'worse', 'pain', 'that', 'I', 'EVER', 'experienced', 'in', 'my', 'life.', 'I', 'had', 'an', 'industrial', 'accident', 'around', '6', 'years', 'ago,', 'and', 'have', 'had', 'several', 'surgeries.', 'I', 'live', 'in', 'chronic', 'pain,', 'and', 'take', 'pain', 'medicine', 'daily.', 'I', 'know', 'how', 'an', 'impaction', 'feels', 'and', 'was', 'heading', 'for', 'another', 'ER', 'visit.', 'Movantic', '25', 'mg', 'was', 'my', 'answer', 'I', 'wish', 'it', 'was', 'available', '15', 'years', 'ago!', 'A', 'bowel', 'impaction', 'is', 'a', 'serious', 'issue', 'to', 'deal', 'with.', 'When', 'yoursquore', 'constipated,', 'you', 'sit', 'a', 'lot', 'on', 'the', 'toilet', 'and', 'do', 'a', 'lot', 'of', 'pushing,', 'which', 'in', 'turn,', 'causes', 'hemorrhoids.', 'One', 'thing', 'that', 'I', 'have', 'learned', 'follows:', 'I', 'donrsquot', 'sit', 'on', 'the', 'toilet,', 'until', 'I', 'feel', 'the', 'urge', 'to', 'expel', 'my', 'bowels.', 'Sitting', 'on', 'the', 'toilet', 'causes', 'a', 'lot', 'of', 'pressure', 'on', 'the', 'anus,', 'and', 'that', 'in', 'itself', 'will', 'cause', 'hemorrhoids', 'eventually.', 'Let', 'gravity', 'do', 'its', 'job', 'as', 'it', 'was', 'intended', 'to', 'do!', 'Good', 'Luck!']),\n",
       "       list(['My', 'doc', 'started', 'me', 'on', 'Lucentis', 'after', 'I', 'had', 'a', 'reaction', 'to', 'Avastin.', 'My', 'condition', 'improved', 'after', '8', 'months.', 'I', 'also', 'began', 'taking', 'an', 'AREDS', 'vitamin', 'formula', 'in', 'the', 'last', 'two', 'months', 'of', 'treatment', 'and', 'increased', 'the', 'amount', 'of', 'green', 'leafy', 'veggies', '(Chard,', 'Spinach', 'and', 'Kale)', 'in', 'my', 'diet', 'and', 'stopped', 'my', 'daily', 'baby', 'aspirin', '(some', 'clinical', 'studies', 'indicate', 'may', 'worsen', 'the', 'condition)', 'So', 'I', 'cannot', 'attribute', 'improvement', 'solely', 'to', 'Lucentis.', 'One', 'thing', 'to', 'be', 'very', 'aware', 'of', 'is', 'the', 'cost.', 'The', 'Medicare', 'co-pay', 'per', 'treatment', '(per', 'eye)', 'is', 'about', '$5.']),\n",
       "       list(['Seems', 'to', 'lower', 'CA', 'but', 'the', 'side', 'effects', 'are', 'somewhat', 'hard', 'to', 'deal', 'with.', 'Leg', 'cramps,', 'and', 'twitching', 'seems', 'to', 'be', 'the', 'worst', 'of', 'it.', 'But', 'there', 'is', 'only', 'surgery', 'as', 'the', 'other', 'option.']),\n",
       "       list(['Im', 'now', '2', 'years', 'old.', 'I', 'have', 'been', 'taking', 'Metadate', 'for', '7', 'years.', 'I', 'love', 'everything', 'about', 'it.', 'I', 'have', 'tried', 'others', 'but', 'they', 'all', 'had', 'side', 'effects.', 'Im', 'on', '6mg', 'which', 'is', 'perfect', 'for', 'me.', 'With', 'this', 'pill', 'I', 'can', 'be', 'myself.', 'I', 'can', 'read', 'and', 'understand', 'what', 'I', 'just', 'read.', 'I', 'can', 'listen', 'to', 'one', 'person', 'and', 'control', 'my', 'thoughts.', 'I', 'dont', 'get', 'distracted', 'like', 'before.', 'This', 'has', 'change', 'my', 'life.', 'I', 'wish', 'I', 'had', 'it', 'earlier', 'in', 'school.', 'I', 'had', 'a', 'very', 'hard', 'time.', 'So', 'to', 'parents', 'who', 'are', 'stressed', 'give', 'it', 'time', 'and', 'try', 'to', 'understand', 'your', 'child.', 'They', 'learn', 'differently,', 'understand', 'differently.', 'They', 'cant', 'help', 'it.', 'I', 'couldnt.']),\n",
       "       list(['Eyelashes', 'are', 'beautiful!', 'You', 'must', 'be', 'careful', 'where', 'you', 'touch', 'the', 'brush,', 'I', 'was', 'hitting', 'outside', 'of', 'face', '(by', 'eye)', 'after', 'applying', 'and', 'I', 'grew', 'hair', 'there.', 'No', 'biggie,', 'if', 'you', 'stop', 'it', 'goes', 'away,', 'just', 'like', 'eyelashes,', 'if', 'you', 'stop,', 'they', 'go', 'back', 'to', 'how', 'they', 'were', 'pre-latisse.']),\n",
       "       list(['They', 'used', 'Pitocin', 'to', 'induce', 'all', 'of', 'my', 'three', 'labors.', 'It', 'was', 'effective', 'right', 'away...I', 'dilated', 'very', 'quickly', 'and', 'experienced', 'no', 'side', 'effects.', 'Very', 'happy', 'with', 'it!']),\n",
       "       list(['Excellent.', 'Must', 'be', 'used', 'long', 'term.', 'Got', 'my', 'son', 'well', 'in', 'months.']),\n",
       "       list(['Works', 'fairly', 'well', 'when', 'taken', 'for', '2+', 'days,', 'and', 'prescription', 'is', 'repeated', 'at', 'least', 'a', 'few', 'times', 'in', 'close', 'succession', 'to', 'reach', 'all', 'life', 'cycles', 'and', 'those', 'pockets', 'which', 'have', 'poor', 'circulation.', 'According', 'to', 'the', 'NIH', 'coinfection', 'is', 'much', 'more', 'common', 'than', 'non-coinfection,', 'perhaps', 'this', 'is', 'the', 'reason', 'such', 'a', 'broadbased', 'anthelmintic', 'has', 'so', 'many', 'success', 'stories.', 'Combined', 'with', 'praziquantel', 'is', 'best.']),\n",
       "       list(['Very', 'good.']),\n",
       "       list(['Right', 'after', 'surgery,', 'I', 'had', 'a', 'fever,', 'confusion,', 'my', 'blood', 'pressure', 'and', 'rate', 'of', 'breathing', 'went', 'very', 'low.', 'I', 'had', 'not', 'peed', 'for', 'several', 'hours,', 'I', 'had', 'an', 'oxygen', 'level', 'of', '6', 'while', 'I', 'was', 'sleepy', 'and', 'out', 'of', 'it.', 'I', 'was', 'given', '6mg', 'of', 'Lasix', 'and', 'not', 'even', '15', 'minutes', 'later', 'I', 'was', 'non', 'stop', 'peeing,', 'my', 'blood', 'pressure', 'and', 'rate', 'of', 'breathing', 'picked', 'up', 'quite', 'a', 'lot.', 'I', 'cant', 'even', 'imagine', 'that', 'the', 'pee', 'kept', 'going', 'on', 'and', 'on', 'with', 'the', 'girls', 'using', 'bedpans', 'for', 'me.', 'I', 'was', 'just', 'out', 'of', 'surgery', 'so', 'that', 'was', 'necessary.', 'Doctor', 'kept', 'the', 'oxygen', 'level', 'up', 'to', 'an', '8', 'for', 'the', 'rest', 'of', 'the', 'night.', 'I', 'believe', 'that', 'the', 'medicine', 'saved', 'my', 'life', 'even', 'though', 'I', 'threw', 'up', 'on', 'it.']),\n",
       "       list(['Terrible', 'side', 'effects', 'from', 'Ssri', 'and', 'ssnri.', 'Lexapro', 'and', 'celexa', 'kept', 'me', 'in', 'bed', 'for', 'a', 'week', 'before', 'stopping.', 'Others', 'made', 'my', 'crawl', 'out', 'of', 'my', 'skin.', 'I', 'take', '2.5', 'mg', 'at', 'bed', 'and', 'wake', 'up', 'with', 'a', 'great', 'energy', 'level!', 'I', 'have', 'terrible', 'anxiety', 'all', 'day', 'long', 'and', 'this', 'has', 'made', 'it', 'go', 'away!', 'Love', 'love', 'love', 'that', 'I', 'feel', 'back', 'to', 'my', 'old', 'self.', 'I', 'had', 'my', 'first', 'panic', 'attack', 'while', 'driving', 'and', 'so', 'although', 'I', 'force', 'myself', 'to', 'do', 'it', 'I', 'hated', 'how', 'exhausting', 'it', 'was.', 'Only', 'a', 'week', 'on', 'this', 'new', 'Med', 'has', 'been', 'a', 'game', 'changer.', 'I', 'started', 'getting', 'anxiety', 'and', 'panic', 'attacks', 'years', 'ago', 'for', 'no', 'good', 'reason.', 'I', 'love', 'life', 'and', 'was', 'not', 'stressed', 'about', 'anything.', 'Anxiety', 'turned', 'my', 'life', 'upside', 'down.', 'Only', 'a', 'week', 'on', 'this', 'I', 'will', 'update', 'in', 'a', 'month.']),\n",
       "       list(['For', 'years', 'whenever', 'I', 'had', 'surgery,', 'minor', 'or', 'major,', 'I', 'would', 'be', 'very', 'very', 'sick', 'afterwards', 'as', 'in', 'vomiting', 'for', 'hours', 'and', 'having', 'to', 'be', 'hospitalized', 'after', 'minor', 'out', 'patient', 'procedures', '.', 'An', 'anesthesiologist', 'figured', 'out', 'that', 'Dilaudid', 'might', 'be', 'the', 'answer', '.', 'Bless', 'him', 'for', 'that', 'discovery.', 'I', 'have', 'not', 'been', 'sick', 'since.']),\n",
       "       list(['Dymisia', 'is', 'literally', 'the', 'best', 'thing', 'that', 'has', 'ever', 'happened', 'to', 'me.', 'Im', 'basically', 'allergic', 'to', 'everything', '(environmental', 'factors,', 'seasonal', 'allergies,', 'dust,', 'animals,', 'literally', 'everything', 'aside', 'from', 'foods).', 'I', 'have', 'tried', 'so', 'many', 'otc', 'and', 'precription', 'pills.', 'At', 'one', 'point', 'I', 'was', 'taking', 'medications', 'by', 'mouth', 'and', 'having', 'six', 'allergy', 'shots', 'A', 'WEEK', 'and', 'if', 'I', 'missed', 'only', 'one', 'of', 'my', 'pills', 'Id', 'be', 'bed', 'ridden', 'with', 'terrible', 'symptoms.', 'I', 'tried', 'Dymista', 'last', 'year', 'And', 'it', 'works', 'wonders.', 'Highly', 'recommended.']),\n",
       "       list(['Very', 'little', 'side', 'effects.', 'Slight', 'nausea', 'for', 'one', 'day', 'during', '5', 'days', 'of', 'medication.', 'Within', 'a', 'month', 'the', 'white', 'cell', 'count', 'was', 'near', 'normal.', 'Two', 'years', 'later,', 'cell', 'counts', 'are', 'well', 'within', 'normal', 'range.']),\n",
       "       list(['I', 'was', 'diagnosed', '2', 'years', 'ago', 'with', 'thrombocythemia', '(High', 'Platelet', 'count).', 'The', 'platelet', 'count', 'dropped', 'to', 'within', 'allowable', 'limits', 'after', 'a', 'week', 'regimen.', 'During', 'the', '2', 'years,', 'I', 'was', 'required', 'to', 'repeat', 'the', 'regimen', 'twice', 'more.', 'Currently,', 'after', '2', 'years,', 'I', 'am', 'again', 'on', 'the', 'same', 'regimen.', 'I', 'experienced', 'absolutely', 'no', 'side', 'effects,', 'but', 'there', 'are', 'some', 'reported', 'by', 'the', 'company.']),\n",
       "       list(['I', 'took', 'Micardis', 'on', 'and', 'off', 'for', 'over', 'two', 'years.', 'It', 'caused', 'me', 'to', 'have', 'leg', 'cramps.', 'It', 'controlled', 'my', 'blood', 'pressure,', 'but', 'I', 'would', 'avoid', 'taking', 'it', 'at', 'times', 'because', 'of', 'the', 'leg', 'cramps.', 'I', 'developed', 'severe', 'hip', 'and', 'leg', 'pains,', 'which', 'I', 'think', 'may', 'have', 'been', 'caused', 'by', 'the', 'Micardis.', 'I', 'have', 'switched', 'to', 'another', 'blood', 'pressure', 'medicine', 'in', 'the', 'last', 'couple', 'of', 'months', 'and', 'Im', 'hoping', 'the', 'hip', 'and', 'leg', 'pains', 'will', 'continue', 'to', 'subside.']),\n",
       "       list(['Dientamoeba', 'fragilis', 'is', 'notoriously', 'difficult', 'to', 'get', 'rid', 'of.', 'Ive', 'tried', 'anti-parasite', 'herbs,', 'Flagyl,', 'Alinia,', 'Tinidazole', 'plus', 'Yodoxin,', 'and', 'most', 'recently,', 'Tinidazole', 'plus', 'Paramomycin.', 'The', 'first', 'time', 'I', 'had', 'a', 'very', 'low', 'dose', '(25mg)', 'but', 'I', 'actually', 'felt', 'much', 'better', 'while', 'taking', 'it.', 'After', 'I', 'finished,', 'though,', 'symptoms', 'worsened', 'again.', 'The', 'second', 'time', 'I', 'took', '1mg,', 'and', 'that', 'knocked', 'out', 'about', '%', 'of', 'my', 'pain', 'and', 'other', 'symptoms', 'for', 'about', '4', 'months,', 'until', 'I', 'took', 'an', 'antibiotic', 'for', 'a', 'different', 'infection.', 'Then', 'it', 'worsened', 'again.', 'But', 'overall', 'I', 'feel', 'like', 'Tinidazole', 'worked', 'far', 'better', 'than', 'any', 'of', 'the', 'other', 'remedies', '(including', 'the', 'herbs,', 'dietary', 'restrictions', 'and', 'digestive', 'enzymes).']),\n",
       "       list(['I', 'had', 'very', 'good', 'experience', 'with', 'this', 'medication.', 'Very', 'few', 'side', 'effects', 'or', 'I', 'should', 'say', 'none', 'at', 'all.']),\n",
       "       list(['This', 'is', 'awesome.']),\n",
       "       list(['I', 'had', 'this', 'injection', 'earlier', 'today', 'it', 'was', 'no', 'more', 'uncomfortable', 'than', 'the', 'annual', 'flu', 'shot', 'that', 'I', 'always', 'get', '-', 'just', 'a', 'slight', 'stick.', 'I', 'have', 'no', 'redness', 'or', 'irritation', 'at', 'the', 'injection', 'site,', 'and', 'I', 'am', 'experiencing', 'no', 'side', 'effects', 'whatsoever.', 'Ive', 'had', 'the', 'other', '(PPSV2', 'pneumonia', 'shot', 'and', 'with', 'it', 'I', 'did', 'have', 'redness', 'and', 'soreness', 'around', 'the', 'injection', 'site,', 'but', 'it', 'went', 'away', 'after', 'a', 'few', 'days.', 'Ive', 'had', 'pneumonia', 'about', '1', 'years', 'ago,', 'and', 'I', 'dont', 'ever', 'want', 'to', 'go', 'through', 'that', 'again.', 'The', 'pneumonia', 'vaccinations', 'are', 'the', 'way', 'if', 'you', 'are', 'at', 'risk,', 'as', 'I', 'am.']),\n",
       "       list(['I', 'have', 'to', 'take', 'this', 'often', 'with', 'the', 'diuretics', 'Im', 'taking.', 'So', 'far', 'no', 'major', 'side', 'effects.']),\n",
       "       list(['I', 'have', 'had', 'Juvenile', 'Rheumatoid', 'Arthritis', 'since', '5th', 'grade', 'and', 'until', 'now', '(my', 'sophomore', 'year', 'of', 'college)', 'I', 'have', 'had', 'to', 'use', 'pills', 'to', 'keep', 'it', 'under', 'control.', 'I', 'will', 'admit', 'that', 'I', 'was', 'very', 'adverse', 'to', 'the', 'idea', 'of', 'a', 'self', 'injecting', 'medication,', 'in', 'fact,', 'my', 'doctor', 'has', 'been', 'trying', 'to', 'convince', 'me', 'to', 'use', 'them', 'for', 'years', 'and', 'I', 'have', 'always', 'refused.', 'Finally', 'my', 'doctor', 'said', 'that', 'he', 'thought', 'it', 'was', 'the', 'only', 'good', 'option', 'left.', 'I', 'couldnt', 'be', 'happier.', 'The', 'injections', 'are', 'only', 'once', 'a', 'week', 'and', 'they', 'are', 'virtually', 'PAINLESS.', 'It', 'sounds', 'crazy', 'but', 'its', 'true.', 'The', 'other', 'amazing', 'thing', 'is', 'that', 'the', 'morning', 'after', 'I', 'had', 'used', 'the', 'first', 'injection,', 'I', 'was', 'PAIN', 'FREE.', 'It', 'worked', 'that', 'fast.', 'If', 'youre', 'thinking', 'about', 'Enbrel', 'you', 'should', 'really', 'give', 'it', 'a', 'try...', 'you', 'wont', 'be', 'disappointed.']),\n",
       "       list(['For', 'months', 'I', 'was', 'taking', 'Gleevac', 'for', 'ALL', '(Acute', 'Lymphoblasic', 'Leukemia)', 'and', 'it', 'was', 'causing', 'me', 'to', 'have', 'at', 'least', 'one', 'blood', 'transfusion', 'a', 'week.', 'I', 'started', 'taking', 'Sprycel', 'and', 'a', 'year', 'later', 'I', 'have', 'not', 'had', 'to', 'have', 'one', 'blood', 'transfusion.']),\n",
       "       list(['This', 'medicine', 'is', 'a', 'life', 'saver.', 'As', 'soon', 'as', 'I', 'start', 'taking', 'the', 'medicine,', 'I', 'seen', 'an', 'immediate', 'response.', 'I', 'love', 'it.']),\n",
       "       list(['This', 'medicine', 'has', 'helped', 'me', 'so', 'much', 'for', 'my', 'hereditary', 'angiodema!', 'After', 'taking', 'this', 'it', 'has', 'stopped', 'all', 'episodes.', 'I', 'can', 'live', 'a', 'normal', 'life', 'and', 'not', 'have', 'the', 'fear', 'of', 'having', 'a', 'swelling', 'attack', 'if', 'I', 'put', 'to', 'much', 'strain', 'on', 'my', 'body.', 'I', 'know', 'its', 'working,', 'because', 'if', 'I', 'miss', 'a', 'dose', 'I', 'can', 'feel', 'an', 'attack', 'coming', 'along.', 'Since', 'day', '1', 'of', 'me', 'taking', 'Danazol', 'I', 'have', 'not', 'had', 'any', 'problems.', 'I', 'must', 'warn', 'that', 'this', 'drug', 'does', 'not', 'correct', 'the', 'problem,', 'it', 'only', 'stops', 'episodes.', 'There', 'are', 'some', 'side', 'effects', 'that', 'are', 'a', 'little', 'uncomfortable.', 'It', 'has', 'caused', 'to', 'to', 'have', 'an', 'irregular', 'period.', 'Overall', 'I', 'give', 'this', 'medicine', 'a', '1', 'out', 'of', '1!', 'If', 'it', 'wasnt', 'for', 'this', 'medicine', 'I', 'would', 'be', 'fearing', 'every', 'morning', 'when', 'I', 'wake', 'up', 'if', 'I', 'am', 'going', 'to', 'have', 'an', 'episode.']),\n",
       "       list(['This', 'medicine', 'saved', 'my', 'life,', 'when', 'no', 'other', 'antibiotic', 'was', 'able', 'to', 'kill', 'the', 'severe', 'infection', 'in', 'my', 'open', 'scalp', '(due', 'to', 'brain', 'trauma).']),\n",
       "       list(['Yes,', 'it', 'does', 'burn', 'when', 'you', 'start', 'to', 'take', 'it', 'and', 'the', 'spot', 'injected', 'might', 'itch.', 'I', 'did', 'a', 'couple', 'of', 'things', 'before', 'taking', 'the', 'shot.', '1.', 'warmed', 'it', 'up', 'for', 'about', 'minutes', '2.', 'applied', 'ice', 'to', 'the', 'spot', 'I', 'planned', 'to', 'inject', '.', 'would', 'take', 'a', 'Benadryl', 'to', 'keep', 'the', 'itching', 'down.', 'Ive', 'been', 'on', 'it', 'several', 'yrs', 'now.', 'It', 'burns', 'or', 'itches...once', 'in', 'a', 'blue', 'moon.', 'It', 'has', 'helped', 'but', 'doesnt', 'keep', 'the', 'fevers', 'and', 'joint/muscle', 'pain', 'completely', 'away,', 'anymore.', 'Good', 'luck!', 'This', 'medicine', 'is', 'definitely', 'worth', 'a', 'try', 'if', 'you', 'have', 'AOSD.']),\n",
       "       list(['I', 'have', 'been', 'using', '15mg', 'of', 'aspirin', 'everyday', 'for', 'the', 'last', '4', 'years.', 'I', 'have', 'confirmed', 'Diabetes', 'and', 'borderline', 'high', 'blood', 'pressure.', 'I', 'dont', 'find', 'any', 'side', 'effects.', 'The', 'rest', 'of', 'the', 'health', 'parameters', 'are', 'okay.']),\n",
       "       list(['My', 'Granddaughter', 'all', 'of', 'a', 'sudden', 'came', 'down', 'with', 'a', 'high', 'fever', 'of', '15', 'degrees.', 'We', 'took', 'her', 'to', 'urgent', 'care', 'her', 'flu', 'test', 'came', 'up', 'positive', 'for', 'Type', 'A.', 'The', 'doctor', 'gave', 'her', 'Tamiflu', 'and', 'within', '1', 'day', 'her', 'fever', 'was', 'completely', 'gone.', 'Within', 'two', 'days', 'she', 'was', '6%', 'better.', 'Unfortunately', 'I', 'became', 'ill', 'and', 'sure', 'enough', 'tested', 'positive', 'for', 'Type', 'A', 'flu.', 'I', 'was', 'given', 'Tamiflu', 'and', 'I', 'have', 'never', 'experienced', 'such', 'quick', 'results.', 'I', 'was', 'very', 'ill', 'with', 'fever,', 'chills,', 'fatigue,', 'body', 'aches,', 'terrible', 'congestion,', 'and', 'coughing.', 'After', '1', 'day', 'on', 'Tamiflu,', 'my', 'symptoms', 'lessened.', 'I', 'was', '5%', 'better', 'within', '24', 'hours', 'and', '7%', 'better', 'within', '48', 'hours.', 'The', 'only', 'downside', 'was', 'I', 'lost', 'some', 'hearing', 'in', 'my', 'left', 'ear', 'amp', 'have', '2', 'severely', 'infected', 'ears.', 'Dr.', 'said', 'side', 'effect', 'of', 'Tamiflu', 'is', 'ear', 'infections.']),\n",
       "       list(['This', 'medicine', 'was', 'given', 'to', 'me', 'after', 'I', 'cut', 'my', 'eye', 'taking', 'my', 'contact', 'out.', 'This', 'medicine', 'burns', 'the', 'first', 'few', 'times', 'but', 'after', 'that', 'it', 'gets', 'better.']),\n",
       "       list(['Since', 'the', 'age', 'of', '11', 'I', 'suffered', 'with', 'cystic', 'acne', 'and', 'later', 'in', 'life', 'I', 'had', 'cysts', 'on', 'my', 'face,', 'chest,', 'back', 'and', 'breasts,', 'and', 'inner', 'thighs.', 'Constant', 'blood', 'and', 'drainage', 'of', 'pus', 'was', 'a', 'regular', 'everyday', 'event', 'for', 'me.', 'After', 'being', 'prescribed', 'Accutane', 'my', 'life', 'changed.', 'Nothing', 'had', 'ever', 'worked.', 'I', 'used', 'every', 'soap,', 'cream', 'and', 'antibiotic', 'known', 'to', 'man', 'with', 'no', 'results', 'whatsoever.', 'My', 'acne', 'went', 'away', 'and', 'stayed', 'away.', 'It', 'was', 'like', 'a', 'miracle!', 'Later', 'in', 'life', 'I', 'was', 'put', 'on', 'the', 'generic', 'form', 'and', 'was', 'not', 'pleased', 'at', 'all.', 'It', 'did', 'nothing.']),\n",
       "       list(['Im', '18', 'years', 'old', 'and', 'have', 'had', 'all', 'three', 'of', 'these', 'shots.', 'I', 'dont', 'understand', 'why', 'people', 'make', 'this', 'shot', 'to', 'be', 'such', 'a', 'big', 'deal.', 'It', 'barely', 'hurt', 'when', 'I', 'got', 'them.', 'Even', 'if', 'it', 'did,', 'who', 'cares?', 'If', 'the', 'shot', 'is', 'going', 'to', 'help', 'you', 'out', 'in', 'the', 'long', 'run.', 'I', 'never', 'had', 'any', 'bad', 'side', 'effects', 'I', 'recommend', 'it', 'to', 'any', 'woman', 'who', 'likes', 'to', 'be', 'proactive.']),\n",
       "       list(['Although', 'relatively', 'more', 'expensive', 'than', 'other', 'options,', 'it', 'is', 'the', 'most', 'convenient', 'alternative', 'for', 'parents', 'with', 'Turners', 'Syndrome', 'in', 'pediatric', 'use.', 'Also,', 'there', 'is', 'a', 'possibility', 'to', 'perform', 'the', 'injection', 'after', 'the', 'first', '15-2', 'mins', 'of', 'sleep', 'to', 'avoid', 'childs', 'resistance', 'of', 'treatment', '6', 'days/wk.', 'Now', 'crossing', 'treatment', 'year', ',', 'growth', 'charts', 'continue', 'demonstrating', 'significant', 'annual', 'gains.']),\n",
       "       list(['This', 'drug', 'helped', 'me', 'recover', 'from', 'my', 'subachroind', 'anuerysm.', 'It', 'is', 'a', 'miracle', 'drug.', 'No', 'other', 'on', 'the', 'market', 'does', 'this.', 'I', 'was', 'informed', 'that', 'they', 'are', 'no', 'longer', 'making', 'this', 'drug.', 'I', 'am', 'worried', 'in', 'less', 'than', 'a', 'month', 'I', 'cant', 'get', 'this', 'drug.', 'The', 'generic', 'doesnt', 'have', 'the', 'same', 'effect', 'that', 'Nimotop', 'does', 'and', 'I', 'want', 'to', 'know', 'what', 'to', 'do.']),\n",
       "       list(['It', 'was', 'really', 'early', 'in', 'the', 'morning,', 'and', 'I', 'went', 'to', 'take', 'Tylenol,', 'when', 'I', 'misread', 'the', 'directions.', 'I', 'meant', 'to', 'measure', 'out', 'two', 'tablespoons', 'of', 'the', 'drug,', 'but', 'accidentally', 'used', 'my', 'measuring', 'cup', 'instead.', 'I', 'ended', 'up', 'chugging', 'two', 'cups', 'of', 'Tylenol', 'instead!', 'I', 'was', 'rushed', 'to', 'the', 'hospital', 'and', 'given', 'Mucomyst-1', 'to', 'offset', 'the', 'effects.', 'Mucomyst-1', 'saved', 'my', 'life.', 'Thank', 'you', 'Mucomyst-1!']),\n",
       "       list(['I', 'am', 'an', 'ICU', 'nurse,', 'my', 'mother', 'has', 'endstage', 'cardiomyopathy', 'with', 'congestive', 'heart', 'failure', '(CHF).', 'Currently', 'hospitalized', 'in', 'Memphis', 'for', 'CHF,', 'she', 'was', 'being', 'treated', 'with', 'diuretics', 'but', 'sodium', 'got', 'down', 'to', '115.', 'After', 'trying', '%', 'saline,', 'causing', 'more', 'CHF,', 'her', 'cardiologist', 'decided', 'to', 'try', 'Vaprisol.', 'Doctors', 'and', 'pharmacists', 'had', 'only', 'used', 'it', 'a', 'couple', 'of', 'times.', 'Within', '2', 'days,', 'sodium', 'was', 'up', 'to', 'mid', '12s', 'and', 'they', 'were', 'able', 'to', 'aggressively', 'diurese', 'her.', 'Good', 'results.', 'She', 'probably', 'would', 'not', 'have', 'lived', 'thru', 'this', 'episode', 'if', 'not', 'for', 'this', 'drug.']),\n",
       "       list(['I', 'have', 'tried', 'about', 'a', 'dozen', 'other', 'meds', 'in', 'my', 'quest', 'to', 'replace', 'drixoral', 'without', 'success.']),\n",
       "       list(['Diagnosed', '2A/B', 'MF', '7/27/11.', 'Prescribed', '7', 'Targretin', 'as', 'initial', 'dose-', 'but', 'put', 'on', 'gemfizibrol', 'at', 'same', 'time.', 'BAD', 'MOVE.', 'Crashed', 'with', 'triglycerides', 'at', '46', 'ouch.', 'ceased', 'immediately', '-', 'but', 'without', 'stepping', 'off.', 'Developed', 'huge', 'water', 'blisters', 'on', 'every', 'patch', 'and', 'plaque-', 'clobestasol', 'for', 'healing', 'on', 'p/pl.', 'reduced', 'to', '-', 'too', 'low--', 'increased', 'to', '4.', 'Very', 'steady', 'progress', 'for', '17', 'mos', 'but', 'personal', 'stress', 'relapsed', 'to', 'more', 'patches.', 'increased', 'Targretin', 'to', '5-', 'slept', 'for', 'months', 'until', 'I', 'was', 'level', 'again.', 'All', 'patches', 'are', 'gone.', 'All', 'plaques', 'are', 'gone.', 'My', 'skin', 'looks', 'lightly', 'tanned-', 'but', 'in', 'a', 'reverse', 'pattern,', 'haaa.', 'It', 'gave', 'me', 'my', 'life', 'back', 'as', 'far', 'as', 'MF', 'can', 'let', 'it.', 'I', 'wish', 'I', 'would', 'have', 'started', 'it', 'the', 'MOMENT', 'I', 'was', 'diagnosed.']),\n",
       "       list(['Ive', 'been', 'using', 'this', 'drug', 'for', 'months', 'now', '(2', 'mg).', 'It', 'works', 'great', 'but', 'makes', 'it', 'a', 'bit', 'hard', 'to', 'fall', 'asleep.']),\n",
       "       list(['We', 'use', 'this', 'at', 'our', 'hospital', 'for', 'patients', 'who', 'are', 'still', 'awake', 'but', 'less', 'than', '5', 'blood', 'glucose', 'level.']),\n",
       "       list(['Doxycycline', 'is', 'a', 'very', 'good', 'easy', 'to', 'take', 'once', 'a', 'day', 'medicine', 'that', 'works', 'very', 'well', 'with', 'my', 'bronchiectasis', ',', 'no', 'side', 'effects', 'when', 'taken', 'with', 'food', ',', 'no', 'ill', 'feeling', 'or', 'dizziness', 'as', 'with', 'other', 'antibiotics', ',', 'overall', 'very', 'good', 'drug.']),\n",
       "       list(['This', 'seemed', 'to', 'help', 'a', 'lot', 'in', 'shrinking', 'my', 'tumor', 'in', 'my', 'throat.', 'Not', 'much', 'side', 'effects,', 'in', 'fact', 'felt', 'good.', 'But', 'the', 'doctor', 'said', 'I', 'had', 'the', 'max', 'amount,', 'went', 'off', 'of', 'it', 'and', 'the', 'tumor', 'blocked', 'my', 'throat', 'again', 'in', '2', 'months.', 'Now', 'they', 'say', 'nothing', 'more', 'can', 'be', 'done', 'for', 'me.', 'The', 'pain', 'is', 'horrible,', 'no', 'one', 'should', 'have', 'to', 'go', 'through', 'this', 'terrible', 'cancer.', 'I', 'pray', 'for', 'some', 'kind', 'of', 'help', 'again.']),\n",
       "       list(['I', 'have', 'been', 'on', 'eltrombpag', 'for', 'two', 'years.', 'I', 'have', 'had', 'no', 'side', 'effects', 'but', 'my', 'platelet', 'count', 'says', 'about', '2', 'to', ',.', 'I', 'get', 'treatment', 'through', 'the', 'VA.']),\n",
       "       list(['It', 'is', 'the', 'only', 'thing', 'that', 'works', 'for', 'my', 'chronic', 'otitis', 'externa.', 'My', 'only', 'complaint', 'is', 'the', '$2.', 'price', 'increase.', 'Yes,', 'last', 'summer', 'I', 'could', 'purchase', 'it', 'for', '$6.,', 'at', 'this', 'time', 'I', 'must', 'pay', '$228.', 'for', 'a', '1', 'ml', 'bottle.']),\n",
       "       list(['Ive', 'been', 'taking', 'Gleevec', 'since', '28.', 'Im', '24', 'now', 'in', 'February', '7', '215', 'I', 'live', 'a', 'normal', 'life.', 'Gleevec', 'and', 'Stanford', 'hospital', 'saved', 'my', 'life', 'Im', '24', 'now', 'just', 'a', 'kid', 'but', 'Ive', 'walked', 'the', 'line', 'and', 'back', 'again', 'I', 'have', '(all)', 'with', 'ph', 'chromea', 'zone', 'Ive', 'done', 'extensive', 'therapy.', 'lucky', 'to', 'be', 'here', 'Im', 'the', 'light', 'at', 'the', 'end', 'of', 'the', 'tunnel', 'dont', 'give', 'up', 'you', 'can', 'do', 'it', 'my', 'friends', 'my', 'heart', 'goes', 'out', 'to', 'all', 'of', 'my', 'fellow', 'fighters.']),\n",
       "       list(['I', 'was', 'diagnosed', 'with', 'Alpha-1', 'Antitripsin', 'Deficiency', 'in', '21.', 'I', 'currently', 'receive', 'weekly', 'infusions', 'via', 'surgically', 'implanted', 'port.', 'I', 'infuse', 'at', 'our', 'local', 'cancer', 'center.', 'I', 'have', 'attempted', 'Home', 'Health', 'and', 'was', 'horrified', 'by', 'their', 'lack', 'of', 'knowledge', 'and', 'experience', 'for', 'running', 'an', 'IV', 'and', 'none', 'of', 'the', '5', 'different', 'people', 'assigned', 'to', 'me', 'took', 'the', 'time', 'to', 'access', 'the', 'online', 'training', 'on', 'medication', 'preparation.', 'Side-Effects:', 'Extreme', 'tiredness,', 'Feel', 'drained']),\n",
       "       list(['I', 'have', 'mild', 'rosacea', 'but', 'experienced', 'ocular', 'rosacea/blepharitis', 'for', 'the', 'first', 'time', 'a', 'year', 'ago.', 'The', 'ophthalmologist', 'told', 'me', 'that', 'it', 'was', 'chronic', 'and', 'prescribed', 'all', 'sorts', 'of', 'things', 'that', 'didnt', 'work.', 'Months', 'later', 'I', 'saw', 'a', 'new', 'dermatologist.', 'She', 'prescribed', 'oracea,', 'which', 'put', 'me', 'out', 'of', 'my', 'misery.', 'The', 'skin', 'on', 'and', 'under', 'my', 'eyes', 'had', 'become', 'dry', 'and', 'sore', 'from', 'doing', 'hot', 'compresses', 'four', 'times', 'a', 'day.', 'It', 'is', 'a', 'pity', 'that', 'the', 'pharmaceutical', 'company', 'price', 'it', 'so', 'high', 'that', 'most', 'cannot', 'get', 'relief,', 'seems', 'awfully', 'greedy', 'to', 'me!']),\n",
       "       list(['Changed', 'my', 'life', 'in', 'a', 'day.', 'I', 'went', 'from', 'complete', 'misery', 'to', 'almost', 'back', 'to', 'normal', 'witin', 'eight', 'hours.', 'The', 'hour', 'it', 'began', 'to', 'wear', 'off,', 'my', 'agony', 'was', 'back', 'again.', 'For', 'me', 'it', 'really', 'workd.', 'I', 'am', 'taking', 'double', 'the', 'prescribed', 'dose', 'however.']),\n",
       "       list(['I', 'took', 'this', 'medication', 'for', 'inflammation', 'of', 'my', 'nose,', 'and', 'having', 'hard', 'time', 'to', 'breath', 'and', 'also', 'nose', 'dripping,.', 'My', 'doctor', 'said', 'I', 'will', 'see', 'the', 'result', 'in', 'one', 'month,', 'however', 'I', 'saw', 'the', 'result', 'the', 'very', 'first', 'time,', 'today', 'is', 'the', 'third', 'day', 'I', 'used', 'the', 'drop.', 'It', 'is', 'fantastic,', 'the', 'more', 'I', 'use', 'it,', 'the', 'more', 'I', 'feel', 'comfortable', 'to', 'breath.', 'I', 'loved', 'it,', 'breathing', 'is', 'much', 'easier.']),\n",
       "       list(['It', 'works', 'to', 'reduce', 'potassium', 'but', 'it', 'does', 'so', 'by', 'inducing', '6-8', 'hours', 'of', 'severe', 'diarrhea.', 'You', 'cant', 'leave', 'the', 'house,', 'cant', 'sleep,', 'and', 'are', 'lucky', 'if', 'you', 'can', 'leave', 'the', 'bathroom.']),\n",
       "       list(['Kybella', 'has', 'effectively', 'eliminated', 'the', 'appearance', 'of', 'my', 'double', 'chin.']),\n",
       "       list(['This', 'is', 'the', 'best', 'medicine', 'for', 'heartburn,', 'reflux,', 'gastritis,', 'and', 'etc.', 'I', 'had', 'stomach', 'problems', 'for', 'the', 'longest', 'until', 'I', 'took', 'Zegerid.', 'Prilosec', 'didnt', 'work', 'for', 'me,', 'neither', 'anything', 'else.', 'Im', 'finally', 'happy,', 'downside,', 'I', 'have', 'to', 'take', 'one', 'at', 'least', 'once', 'a', 'day', 'or', 'Ill', 'be', 'hurting', 'in', 'the', 'stomach.', 'After', 'I', 'got', 'a', 'endoscopy', 'on', 'me', 'and', 'the', 'biopsy', 'was', 'normal,', 'I', 'possibly', 'got', 'to', 'take', 'this', 'pill', 'for', 'the', 'rest', 'of', 'my', 'life', 'and', 'Im', 'only', '24.', 'I', 'have', 'mild', 'gastritis.']),\n",
       "       list(['I', 'was', 'placed', 'on', 'a', '-day', 'course', 'of', 'Rocephin', 'via', 'I.V.', 'infusion', '(PICC', 'line)', 'by', 'my', 'infectious', 'diseases', 'doctor', 'to', 'handle', 'a', 'persistent,', 'recurring', 'and', 'resistant', 'strain', 'of', 'E', 'coli', 'that', 'had', 'caused', 'a', 'very', 'serious', 'intestinal', 'infection.', 'The', 'infection', 'caused', 'perforation', 'and', 'led', 'to', 'an', 'emergency', 'ileocecectomy,', 'partial', 'colectomy', 'and', 'resection', 'of', 'my', 'sigmoid', 'colon.', 'Taking', 'the', 'Rocephin', 'was', 'easy', '-', 'it', 'came', 'in', 'small', 'pre-pressurized', 'quotbulbsquot', 'that', 'I', 'attached', 'to', 'the', 'PICC', 'line', 'once', 'a', 'day', 'and', 'then', 'carried', 'around', 'with', 'me', 'in', 'a', 'pocket', 'for', '-4', 'minutes', 'while', 'it', 'administered', 'the', 'proper', 'dosage.', 'Rocephin', 'worked', 'wonderfully', 'for', 'me,', 'with', 'zero', 'side', 'effects.', 'My', 'white', 'blood', 'cell', 'count', 'fell', 'back', 'to', 'normal', 'levels', 'within', 'a', 'week', 'of', 'starting', 'the', 'treatment,', 'and', 'I', 'have', 'been', 'infection-free', 'now', 'for', 'more', 'than', 'days.']),\n",
       "       list(['I', 'was', 'introduced', 'to', 'a', 'study', 'of', 'Arcalyst', 'in', 'Columbus,', 'Ga.', 'in', 'January', 'of', '27.', 'I', 'was', 'tested', 'and', 'found', 'that', 'I', 'have', 'Familial', 'Cold', 'Auto-inflammatory', 'Syndrome', 'which', 'I', 'have', 'lived', 'with', 'for', '55', 'years.', 'This', 'has', 'been', 'a', 'terrifying', 'disease', 'of', 'misery', 'and', 'pain.', 'But', 'since', 'the', 'Arcalyst', 'injections,', 'from', 'the', 'first', 'one', 'it', 'has', 'changed', 'my', 'life.', 'I', 'am', 'able', 'to', 'work', 'and', 'do', 'anything', 'I', 'desire', 'pain', 'free.', 'I', 'thank', 'God', 'everyday', 'for', 'Regeneron', 'Pharmaceutical', 'Company', 'for', 'this', 'long', 'time', 'study', 'and', 'hard', 'work', 'they', 'have', 'put', 'into', 'this', 'treatment.', 'Everyone', 'needs', 'to', 'try', 'this.', 'My', 'daughter', 'and', 'grand-daughters', 'also', 'have', 'the', 'FCAS', 'and', 'are', 'doing', 'great.', 'Thanks', 'you', 'for', 'the', 'time', 'to', 'express', 'to', 'others', 'the', 'importance', 'of', 'never', 'giving', 'up!', 'Keep', 'the', 'faith.']),\n",
       "       list(['This', 'is', 'a', 'great', 'drug', 'for', 'gout', 'flareups.', 'The', 'problem', 'is', 'that', 'the', 'cost', 'went', 'from', '5', 'cents', 'per', 'pill', 'to', '$5.', '5', 'per', 'pill']),\n",
       "       list(['I', 'am', 'a', '6', 'year', 'old', 'man', 'who', 'came', 'down', 'with', 'Conjunctivitis', 'on', 'a', 'Friday', 'afternoon.', 'I', 'spent', 'a', 'miserable', 'weekend', 'before', 'getting', 'in', 'to', 'see', 'my', 'eye', 'doctor.', 'I', 'paid', '$72', 'for', 'my', 'tiny', 'bottle', 'of', 'Zymar,', 'and', 'to', 'me,', 'it', 'was', 'worth', 'every', 'penny.', 'My', 'first', 'application', 'of', 'Zymar', 'really', 'knocked', 'it', 'down,', 'and', 'subsequent', 'applications', 'really', 'cleared', 'it', 'up.', 'I', 'was', 'so', 'miserable,', 'it', 'made', 'me', 'wonder', 'what', 'life', 'was', 'like', 'before', 'these', 'medical', 'miracles.', 'Thank', 'God', 'for', 'the', 'people', 'who', 'invent', 'these', 'wonderful', 'drugs!']),\n",
       "       list(['I', 'have', 'been', 'taking', 'this', 'on', 'a', 'weekly', 'basis', 'for', 'the', 'past', '8', 'months', 'but', 'I', 'noticed', 'that', 'in', 'the', 'last', 'three', 'weeks', 'its', 'been', 'giving', 'me', 'diarrhea', 'the', 'moment', 'I', 'take', 'it.', 'It', 'just', 'goes', 'right', 'through', 'me.', 'This', 'medication', 'is', 'effective,', 'but', 'you', 'have', 'to', 'make', 'sure', 'your', 'body', 'can', 'handle', 'it.', 'I', 'did,', 'for', 'a', 'while,', 'until', 'recently.']),\n",
       "       list(['Ive', 'been', 'taking', 'phenytoin', 'for', 'the', 'past', '8', 'months', 'now', 'as', 'I', 'had', 'a', 'bleed', 'on', 'the', 'brain', 'that', 'caused', 'me', 'to', 'fit.', 'Ive', 'noticed', 'that', 'its', 'stopped', 'me', 'from', 'having', 'a', 'seizure', 'since', 'the', 'day', 'I', 'fitted.', 'But', 'ever', 'since', 'Ive', 'been', 'feeling', 'weak', 'cant', 'remember', 'things', 'from', 'day', 'to', 'day', 'and', 'cant', 'remember', 'what', 'I', 'done', 'like', '1mins', 'ago,', 'Im', 'taking', 'mg', 'every', 'night', 'and', 'I', 'feel', 'spaced', 'out', 'every', 'day', 'and', 'cant', 'be', 'bothered', 'doing', 'anything', 'Im', 'only', '22.']),\n",
       "       list(['My', 'father', 'had', 'a', 'head', 'injury', 'weeks', 'back,', 'had', 'mild', 'sub-arachnoid', 'hemorrhage,', 'no', 'surgical', 'intervention', 'was', 'required,', 'was', 'being', 'treated', 'conservatively.', 'But', 'he', 'developed', 'persistent', 'hyponatremia,', 'his', 'serum', 'sodium', 'level', 'gradually', 'went', 'down', 'to', '14', 'mEq/L.', 'After', 'a', 'battery', 'of', 'investigations,', 'it', 'was', 'diagnosed', 'as', 'SIADH.', 'Despite', 'all', 'efforts', 'to', 'correct', 'his', 'serum', 'sodium', 'level,', 'it', 'was', 'seesawing', 'between', '14', 'and', '18.', 'Strident', 'fluid', 'restriction', 'and', 'aggressive', 'hypertonic', 'saline', 'therapy', 'even', 'baffled.', 'Then', 'we', 'started', 'Tab', 'Demeclocycline', 'mg', 'thrice', 'daily', 'and', 'it', 'magically', 'started', 'causing', 'its', 'much', 'desired', 'adverse', 'effect', 'of', 'producing', 'more', 'watery', 'and', 'less', 'saline', 'urine', 'on', 'its', 'second', 'day!', 'Kudos', 'to', 'this', 'wonderful', 'gut-sterilizer!', 'My', 'father', 'is', 'getting', 'improved.']),\n",
       "       list(['I', 'started', 'taken', 'testo', 'gel', '1', 'months', 'ago.', 'Im', 'a', '1', 'year', 'old', 'male,', 'I', 'had', 'a', 'noticeable', 'difference', 'in', 'the', 'first', 'months,', 'I', 'felt', 'more', 'energetic,', 'happier,', 'less', 'inclined', 'to', 'sit', 'about,', 'morning', 'wood', 'amp', 'got', 'bigger,', 'started', 'losing', 'weight,', 'now', 'its', 'been', '1', 'months', 'and', 'things', 'couldnt', 'be', 'better,', 'really', 'love', 'this', 'stuff.', 'Im', 'on', 'two', 'sachets', 'a', 'day,', 'rub', 'them', 'on', 'my', 'abdomen', 'amp', 'is', 'its', 'free', 'in', 'the', 'uk.', 'Cant', 'believe', 'how', 'much', 'u', 'have', 'to', 'pay!', 'No', 'issues', 'with', 'pain', 'whatsoever']),\n",
       "       list(['I', 'dont', 'get', 'headaches', 'very', 'often,', 'but', 'when', 'I', 'do', 'they', 'are', 'bad.', 'I', 'take', 'Excedrin,', 'and', 'it', 'is', 'gone', 'in', '2', 'minutes.']),\n",
       "       list(['Works', 'well', 'at', 'keeping', 'my', 'phosphorus', 'down.', 'I', 'take', 'two', 'tablets', 'with', 'my', 'average', 'meals,', 'I', 'take', 'three', 'tablets', 'if', 'I', 'eat', 'an', 'usually', 'large', 'meal.', 'I', 'also', 'take', 'one', 'or', 'two', 'tablets', 'with', 'snacks.', 'The', 'only', 'side', 'affect', 'Ive', 'experienced', 'is', 'constipation,', 'I', 'sometimes', 'take', 'a', 'mild', 'stool', 'softener,', 'not', 'a', 'big', 'problem.', 'All', 'medications', 'only', 'work', 'if', 'taken', 'as', 'prescribed', 'on', 'a', 'consistent', 'basis.', 'Its', 'such', 'a', 'small', 'thing', 'to', 'do', 'for', 'your', 'health.']),\n",
       "       list(['The', 'pressure', 'in', 'my', 'left', 'eye', 'was', '28,', 'right', 'eye', '24,', 'after', '1', 'month', 'on', 'zioptan', 'L21,', 'R21.', 'I', 'get', 'blurry', 'vision,', 'but', 'it', 'passes.', 'But', 'my', 'insurance', 'does', 'not', 'want', 'to', 'pay', 'for', 'this', 'medicine.']),\n",
       "       list(['I', 'was', 'in', 'severe', 'pain', 'and', 'had', 'nausea', 'when', 'I', 'was', 'prescribed', 'this', 'medication.', 'I', 'still', 'have', 'the', 'pain', 'and', 'nausea,', 'but', 'they', 'are', 'more', 'tolerable', 'now.']),\n",
       "       list(['works', 'very', 'well', 'to', 'treat', 'dry', 'eyes.', 'The', 'out', 'of', 'pocket', '(and', 'list-)', 'price', 'for', '5', 'ml,', '.5%', 'is', 'outrageous', '$5/24.', 'In', 'Canada', 'you', 'get', 'a', 'list', 'price', 'for', 'that', 'same', 'medicine', '(Lotemax', '.5%)', 'of', '$', '1', 'for', '15', 'ml', '(1/6', 'th)!', 'Whos', 'pocketing', 'the', 'difference?']),\n",
       "       list(['This', 'has', 'been', 'a', 'great', 'medication', 'and', 'has', 'made', 'me', 'feel', 'much', 'better.', 'If', 'you', 'take', 'too', 'much', 'at', 'one', 'time', 'it', 'can', 'upset', 'your', 'stomach.']),\n",
       "       list(['This', 'is', 'a', 'great', 'drug', 'for', 'anybody', 'that', 'has', 'gastrointestinal', 'issues', 'when', 'taking', 'metformin.', 'It', 'is', 'a', 'mix', 'of', 'metformin', 'and', 'avandia.', 'For', 'some', 'reason', 'the', 'avandia', 'lessens', 'those', 'side', 'effects.', 'For', 'me', 'the', 'side', 'effects', 'disappeared', 'completely.', 'For', 'my', 'wife', 'the', 'side', 'effects', 'were', 'only', 'lessened.']),\n",
       "       list(['The', 'only', 'downside', 'of', 'this', 'drug', 'is', 'that', 'it', 'is', 'quite', 'often', 'administered', 'over', 'a', 'significant', 'number', 'of', 'days', '-', 'so', 'be', 'prepared', 'to', 'visit', 'the', 'outpatients', 'dept', 'for', 'maybe', '5', 'consecutive', 'days.', 'Have', 'had', 'no', 'side', 'effects', '-', 'bears', 'no', 'comparison', 'with', 'traditional', 'chemotherapy', 'drugs.', 'No', 'sickness', '-', 'no', 'hair', 'loss', '-', 'no', 'mouth', 'sores', '-', 'no', 'neutropenia!']),\n",
       "       list(['I', 'am', '78', 'and', 'have', 'experienced', 'problems', 'with', 'open', 'wounds', '(the', 'usual', 'kitchen', 'accidents', 'and', 'one', 'bang', 'on', 'my', 'shin', 'from', 'the', 'corner', 'of', 'my', 'car', 'door).', 'My', 'Doctor', 'recommended', 'Altabax', 'to', 'clean', 'up', 'the', 'bacterial', 'infections.', 'The', 'positive', 'results', 'were', 'immediate', 'and', 'the', 'sores', 'healed', 'within', 'a', 'week', 'to', 'ten', 'days', 'always', 'showing', 'improvement', 'each', 'day', 'when', 'the', 'dressings', 'were', 'removed.', 'Altabax', 'was', 'used', 'up', 'until', 'a', 'thin', 'layer', 'of', 'tissue', 'formed', 'over', 'the', 'wound.', 'I', 'was', 'told', 'not', 'to', 'get', 'it', 'wet', 'during', 'the', 'healing', 'process,', 'so', 'waterproof', 'coverings', 'are', 'essential.', 'I', 'was', 'told', 'by', 'the', 'physician', 'it', 'is', 'better', 'for', 'slow', 'healing', 'so', 'the', 'wound', 'can', 'heal', 'from', 'the', 'bottom', 'up.', 'Use', 'it', 'sparingly,', 'a', 'drop', 'the', 'size', 'of', 'this', 'O', 'will', 'go', 'a', 'long', 'way.']),\n",
       "       list(['I', 'decided', 'to', 'use', 'this', 'birth', 'control', 'after', 'constantly', 'changing', 'oral', 'contraceptives', 'because', 'they', 'were', 'just', 'awful,', 'mood', 'swings', 'and', 'gained', 'pounds', 'in', '2', 'months.', 'This', 'has', 'been', 'the', 'best', 'birth', 'control', 'Irsquove', 'been', 'on.', 'No', 'weight', 'gain.', 'No', 'periods.', 'No', 'mood', 'swings.', 'I', 'get', 'acne', 'around', 'the', 'time', 'I', 'should', 'have', 'a', 'period', 'each', 'month.', 'Also', 'no', 'pregnancy', 'so', 'thatrsquos', 'good.', 'I', 'was', 'skeptical', 'to', 'use', 'this', 'birth', 'control', 'after', 'reading', 'reviews.', 'But', 'itrsquos', 'been', 'the', 'best', 'thing', 'for', 'me.', 'I', 'recommend', 'this', 'to', 'anyone', 'of', 'my', 'girl', 'friends.']),\n",
       "       list(['Worked', 'great.', 'It', 'improved', 'my', 'vision.']),\n",
       "       list(['Almost', 'immediately', 'reduced', 'pressure', 'on', 'the', 'brain', 'thereby', 'stopping', 'severe', 'headaches', 'as', 'well', 'as', 'confusion.', 'No', 'side', 'effects', 'yet', 'although', 'constipated', 'but', 'dont', 'know', 'which', 'medicine', 'is', 'causing', 'this.']),\n",
       "       list(['My', 'friend', 'age', '5', 'began', 'taking', 'Lisinopril', 'after', 'a', 'double', 'coronary', 'bypass', 'June', 'this', 'year.', 'We', 'asked', 'for', 'the', 'Lisinopril', 'prescription', 'from', 'the', 'doctor', 'because', 'it', 'was', 'cheap', 'and', 'he', 'was', 'going', 'to', 'need', 'a', 'long', 'term', 'ACE', 'inhibitor.', 'He', 'had', 'a', 'history', 'of', 'bronchitis', 'in', 'the', 'past.', 'As', 'time', 'rocked', 'on', 'the', 'cough', 'became', 'worse', 'eventually', 'being', 'put', 'on', 'a', 'home', 'nebulizer.', 'The', 'Physician', 'Assistant', 'changed', 'him', 'from', 'Lisinopril', 'to', 'Diovan.', 'Within', '2', 'weeks', 'the', 'cough', 'had', 'gone', 'away,', 'as', 'well', 'as', 'the', 'wheezing', 'and', 'no', 'longer', 'needed', 'the', 'resp', 'treatments.', 'Personally', 'I', 'feel', 'that', 'Lisinopril', 'is', 'a', 'good', 'medicine', 'if', 'one', 'has', 'no', 'other', 'medical', 'issues.', 'In', 'this', 'case', 'I', 'think', 'it', 'was', 'not', 'a', 'good', 'choice.']),\n",
       "       list(['Haloperidol', 'is', 'not', 'for', 'use', 'in', 'psychotic', 'conditions', 'related', 'to', 'dementia.', 'Haloperidol', 'may', 'cause', 'heart', 'failure,', 'sudden', 'death,', 'or', 'pneumonia', 'in', 'older', 'adults', 'with', 'dementia-related', 'conditions.', '(taken', 'from', 'this', 'website)']),\n",
       "       list(['Hi', ',', 'just', 'wanted', 'to', 'share', 'my', 'melatonin', 'experience', 'after', 'my', 'travel', 'to', 'thailand.', 'My', 'jetlag', 'has', 'been', 'really', 'bad', 'for', 'days', 'and', 'of', 'my', 'friends', 'had', 'melatonin', 'pills', 'with', 'him.', 'The', 'effect', 'is', 'fast', 'and', 'stronger', 'then', 'a', 'sleeping', 'pill.', 'How', 'can', 'that', 'be', 'possible', '?', 'It', 'could', 'be', 'a', 'dangerous', 'thing', 'and', 'becoming', 'a', 'addiction', 'on', 'people.', 'I', 'did', 'it', 'times.', 'And', 'I', 'felt', 'super', 'depressed', 'the', 'next', 'mornings.', 'So', 'I', 'guess', 'something', 'is', 'not', 'right', 'when', 'people', 'are', 'saying....', 'OH', 'NO', 'WORRIES', 'MELATONIN', 'IS', 'IN', 'YOUR', 'BODY', 'ALREADY.', 'IT', 'IS', 'NOT', 'DANGEROUS.']),\n",
       "       list(['My', 'daughter', 'is', '16', 'and', 'was', 'diagnosed', 'with', 'Von', 'Willebrands', 'when', 'she', 'was', '1.', 'I', 'have', 'found', 'that', 'it', 'is', 'the', 'only', 'thing', 'that', 'stops', 'her', 'menstrual', 'bleeding.', 'We', 'have', 'tried', 'birth', 'control', 'pills', 'to', 'prevent', 'her', 'from', 'having', 'menstruation,', 'but', 'that', 'didnt', 'work.', 'Without', 'Stimate,', 'she', 'had', 'bled', 'for', '7', 'weeks', 'straight.', 'She', 'reports', 'no', 'side', 'effects', 'to', 'me.']),\n",
       "       list(['Wonderful', 'antibiotic', 'for', 'Bartonellosis!', 'Few', 'side', 'effects', 'compared', 'to', 'some', 'other', 'antibiotics.', 'High', 'bilirubin', 'levels', 'is', 'usually', 'transient', 'and', 'just', 'needs', 'to', 'be', 'monitored.', 'Has', 'a', 'very', 'short', 'half-life', 'compared', 'to', 'Mycobutin', 'but', 'far', 'less', 'chance', 'of', 'getting', 'a', 'serious', 'side', 'effect.', 'Much', 'easier', 'and', 'less', 'serious', 'side', 'effects', 'than', 'Bactrim.']),\n",
       "       list(['As', 'soon', 'as', 'this', 'medicine', 'was', 'put', 'into', 'my', 'eyes', 'I', 'felt', 'an', 'intense', 'burning', 'sensation', 'in', 'my', 'eyes.', 'Approximately', '5', 'minutes', 'after', 'the', 'drops', 'had', 'been', 'put', 'in', 'I', 'began', 'feeling', 'jittery,', 'uneasy,', 'and', 'my', 'head', 'felt', 'very', 'strange.', 'I', 'couldnt', 'see', 'up', 'close', 'at', 'all', 'for', 'over', '4', 'hours,', 'but', 'thats', 'a', 'given', 'whenever', 'having', 'your', 'eyes', 'dilated.', 'I', 'dont', 'know', 'if', 'this', 'was', 'a', 'psychosomatic', 'effect', 'or', 'not,', 'but', 'I', 'felt', 'very', 'out', 'of', 'it', 'and', 'my', 'hearing', 'was', 'affected', 'as', 'well.', 'I', 'remember', 'when', 'the', 'doctor', 'was', 'speaking', 'to', 'me', 'after', 'the', 'exam', 'had', 'been', 'completed', 'my', 'hearing', 'was', 'going', 'in', 'and', 'out,', 'kind', 'of', 'like', 'I', 'was', 'in', 'a', 'long', 'tunnel.', 'Overall,', 'this', 'experience', 'scared', 'me,', 'and', 'Im', 'not', 'sure', 'if', 'I', 'would', 'want', 'to', 'have', 'this', 'done', 'again.', 'Although,', 'I', 'am', 'glad', 'that', 'by', 'doing', 'this', 'I', 'now', 'know', 'my', 'eyes', 'are', 'healthy.']),\n",
       "       list(['Ive', 'had', 'taken', 'Advair', 'for', 'asthma.', 'I', 'have', 'to', 'say', 'it', 'has', 'been', 'a', 'blessing.', 'You', 'must', 'drink', 'a', 'glass', 'of', 'water', 'when', 'taking', 'your', 'dosage', 'quotnot', 'Juicequot', 'juice', 'will', 'upset', 'your', 'stomach', '.', 'plus', 'the', 'nasty', 'feeling', 'in', 'your', 'mouth', 'will', 'go', 'away', 'and', 'it', 'will', 'do', 'the', 'job', 'even', 'quicker.', 'So', 'I', 'give', 'Advair', '5', 'stars,', 'just', 'remember', 'to', 'follow', 'your', 'dosage', 'with', 'water', 'otherwise', 'yucky', 'yucky', 'taste', 'and', 'upset', 'stomach.']),\n",
       "       list(['I', 'had', 'this', 'with', 'my', 'first', 'child.', 'It', 'was', 'awesome!', 'I', 'had', 'been', 'up', 'a', 'lot', 'of', 'the', 'night', 'with', 'contractions', 'and', 'was', 'exhausted', 'that', 'afternoon.', 'I', 'knew', 'I', 'didnt', 'want', 'an', 'epidural', 'so', 'they', 'gave', 'me', 'Stadol.', 'It', 'put', 'me', 'to', 'sleep', 'from', '5-1', 'centimeters', 'and', 'they', 'woke', 'me', 'up', 'when', 'it', 'was', 'time', 'to', 'push!']),\n",
       "       list(['ACT', 'was', 'recommended', 'by', 'my', 'dentist.', 'I', 'have', 'had', 'no', 'cavities', 'or', 'softening', 'of', 'the', 'enamel', 'on', 'my', 'teeth', 'since', 'I', 'started', 'using', 'ACT.', 'I', 'think', 'it', 'is', 'one', 'of', 'the', 'best', 'products', 'of', 'any', 'kind', 'I', 'have', 'used,', 'and', 'there', 'have', 'been', 'no', 'side', 'effects.']),\n",
       "       list(['I', 'wake', 'with', 'a', 'squeezing', 'sensation', 'that', 'develops', 'into', 'nausea', 'every', 'morning', 'around', '4:.', 'I', 'get', 'up', 'take', 'a', 'half', 'a', '15,', 'Zantac', 'and', 'half', 'an', 'anti', 'motion', 'sickness', 'pill', 'and', 'have', 'a', 'large', 'mug', 'of', 'tea', 'with', 'milk.', 'I', 'lie', 'there', 'awake', 'for', 'nearly', '2', 'hours', 'until', 'I', 'fall', 'back', 'to', 'sleep.', 'When', 'I', 'wake', 'again', 'around', '8:', 'Inhave', 'a', 'bowl,', '6,', 'of', 'Frosted', 'Mini', 'Wheats', 'and', 'some', 'half', 'and', 'half.', 'I', 'try', 'to', 'go', 'back', 'to', 'sleep', 'again', 'and', 'wake', 'at', 'varying', 'times', 'or', 'I', 'dont', 'get', 'back', 'to', 'sleep', 'at', 'all.', 'The', 'pain', 'and', 'nausea', 'start', 'up', 'again', 'early', 'afternoon', 'so', 'I', 'take', 'the', 'other', 'half', 'a', 'Zantac.', 'I', 'am', 'in', 'bed', 'off', 'and', 'on', 'til', 'suppertime.', 'Sometimes', 'I', 'have', 'to', 'take', 'another', 'half', 'and', 'a', 'half', 'anti-motion', 'sickness', 'pill', 'in', 'the', 'evening.', 'This', 'is', 'my', 'usual', 'day.']),\n",
       "       list(['This', 'medicine', 'caused', 'me', 'to', 'have', 'frequent', 'bowel', 'movements,', 'a', 'little', 'fatigued,', 'but', 'overall', 'it', 'did', 'not', 'seem', 'as', 'harsh', 'as', 'some', 'antibiotics', 'I', 'have', 'experienced.']),\n",
       "       list(['Im', 'a', 'Canadian', 'living', 'in', 'Mexico.', 'After', 'picking', 'mangoes,', 'I', 'contracted', 'a', 'fungal', 'skin', 'infection', 'called', 'sporotrichosis.', 'Got', 'it', 'diagnosed', 'about', 'a', 'week', 'after', 'the', 'symptoms', 'started.', 'I', 'now', 'have', 'been', 'taking', 'itraconazole', 'for', 'just', 'over', 'a', 'week.', 'My', 'dose', 'is', '4', 'mg', 'a', 'day,', 'or', 'two', 'capsules', 'twice', 'a', 'day.', 'Im', 'happy', 'with', 'the', 'results', 'so', 'far.', 'Its', 'a', 'little', 'slow', 'to', 'work,', 'but', 'it', 'is', 'definitely', 'working.', 'The', 'skin', 'lesions', 'are', 'healing', 'and', 'its', 'not', 'spreading', 'to', 'any', 'more', 'areas', 'of', 'the', 'body.', 'I', 'know', 'Im', 'gonna', 'have', 'to', 'stick', 'it', 'out', 'for', 'a', 'while', 'with', 'this', 'medicine,', 'but', 'it', 'is', 'effective.', 'The', 'only', 'thing', 'is', 'Ive', 'missed', 'my', 'period', 'this', 'week.', 'I', 'read', 'another', 'comment', 'of', 'a', 'woman', 'who', 'said', 'she', 'didnt', 'get', 'hers', 'for', 'three', 'months,', 'so', 'I', 'imagine', 'Im', 'gonna', 'be', 'in', 'the', 'same', 'boat.']),\n",
       "       list(['My', 'son', 'got', 'the', 'Flumist', 'and', 'was', 'a', 'little', 'tired', 'for', 'a', 'couple', 'of', 'days', 'and', 'loss', 'of', 'appetite.', 'Its', 'now', 'day', '4', 'and', 'he', 'has', 'a', 'fever', 'of', '1.5,', 'not', 'too', 'high.', 'We', 'will', 'see', 'how', 'long', 'it', 'takes', 'for', 'it', 'to', 'go', 'away.', 'My', '6', 'year', 'old', 'had', 'tiredness,', 'sneezing', 'and', 'stuffiness', 'and', 'keeps', 'taking', 'her', 'temperature', 'but', 'seems', 'to', 'be', 'okay.', 'My', 'year', 'old', 'just', 'has', 'some', 'stuffiness.', 'I', 'wonder', 'if', 'body', 'weight', 'has', 'anything', 'to', 'do', 'with', 'it', 'since', 'they', 'all', 'received', 'the', 'same', 'dose.', 'Maybe', 'the', 'dosage', 'should', 'be', 'tailored', 'to', 'body', 'weight.']),\n",
       "       list(['I', 'have', 'always', 'had', 'painful', 'and', 'heavy', 'periods,', 'I', 'mean', 'soaking', 'through', '8', 'super', 'tampons', 'AND', '8', 'super', 'pads', 'a', 'day,', 'I', 'was', 'often', 'dizzy', 'from', 'the', 'pain.', 'I', 'have', 'had', 'cysts', 'on', 'my', 'ovaries', 'and', 'my', 'uterus', 'for', 'as', 'long', 'as', 'I', 'can', 'remember.', 'About', 'a', 'year', 'ago', 'my', 'breasts', 'became', 'extremely', 'painful,', 'there', 'were', 'really', 'large', 'masses', 'that', 'would', 'hurt', 'so', 'much', 'that', 'nothing', 'could', 'make', 'the', 'pain', 'stop.', 'In', '2', 'years', 'I', 'had', 'mammograms.', 'I', 'figured', 'it', 'was', 'just', 'something', 'I', 'would', 'have', 'to', 'deal', 'with', 'the', 'rest', 'of', 'my', 'life.', 'I', 'got', 'a', 'new', 'Dr', 'who', 'diagnosed', 'me', 'with', 'Fibrocystic', 'Breast', 'Disease', 'and', 'started', 'me', 'on', 'this', 'medicine', '4', 'months', 'ago.', 'It', 'has', 'helped', 'me', 'SO', 'much!', 'I', 'have', 'lost', 'my', 'insurance', 'and', 'cant', 'seem', 'to', 'find', 'anywhere', 'that', 'assists', 'with', 'the', 'cost', 'of', 'this', 'medicine.', 'Its', 'expensive.']),\n",
       "       list(['I', 'was', 'on', 'the', 'Nuvaring', 'and', 'the', 'Patch', 'before', 'that.', 'I', 'had', 'terrible', 'moodswings,', 'irregular', 'bleeding', 'and', 'weight', 'gain.', 'I', 'have', 'none', 'of', 'that', 'with', 'this', 'pill.', 'I', 'am', '45', 'years', 'old', 'and', 'having', 'been', 'using', 'for', 'over', 'two', 'years.']),\n",
       "       list(['For', 'the', 'first', 'few', 'months,', 'I', 'experienced', 'some', 'diarrhea.', 'Then', 'this', 'condition', 'subsided.', 'For', 'about', 'a', 'year,', 'I', 'experienced', 'tingling', 'in', 'my', 'hands', 'and', 'feet.', 'Now,', 'after', 'about', '15', 'months,', 'this', 'feeling', 'is', 'almost', 'gone.', 'Lymphoma', 'had', 'been', 'found', 'in', 'my', 'small', 'intestine.', 'After', '15', 'months', 'of', 'imbruvica', 'use,', 'I', 'have', 'gained', 'weight', 'to', 'a', 'healthy', 'level']),\n",
       "       list(['Im', 'healed!']),\n",
       "       list(['We', 'have', 'noticed', 'that', 'when', 'our', 'mom', 'decided', 'to', 'stop', 'taking', 'this', 'medicine', 'she', 'became', 'weak', 'and', 'tired.', 'She', 'has', 'only', 'been', 'taking', 'the', 'it', 'for', 'weeks.', 'Was', 'told', 'she', 'has', 'Amyotrophic', 'Lateral', 'Sclerosis', 'in', 'March', '214.', 'Wish', 'we', 'didnt', 'have', 'to', 'jump', 'over', 'so', 'many', 'walls', 'to', 'get', 'answers.', 'Got', 'to', 'love', 'Medicare!']),\n",
       "       list(['Helps', 'tame', 'the', 'nerve', 'pain', 'associated', 'with', 'syringomyelia,', 'a', 'chronic', 'spinal', 'cord', 'condition', 'that', 'is', 'very', 'painful']),\n",
       "       list(['Painless,', 'no', 'side', 'effects,', 'assume', 'it', 'is', 'doing', 'its', 'thing.']),\n",
       "       list(['this', 'med.', 'works', 'great!!!!']),\n",
       "       list(['When', 'my', 'son', 'has', 'difficulty', 'breathing', 'from', 'stridor', 'associated', 'with', 'croup,', 'this', 'drug', 'works', 'wonders.', 'He', 'starts', 'to', 'feel', 'relief', 'immediately', 'and', 'doesnt', 'get', 'these', 'symptoms', 'for', 'a', 'couple', 'of', 'months', 'afterwards.']),\n",
       "       list(['I', 'have', 'chronic', 'bronchitis', 'and', 'the', 'beginnings', 'of', 'emphysema', 'and', 'am', 'a', 'smoker.', 'Im', 'also', 'prone', 'to', 'ulcers.', 'Since', 'I', 'started', 'taking', 'NAC,', 'I', 'breathe', 'easier', 'and', 'my', 'bronchitis', 'seems', 'to', 'be', 'less', 'quotphlemmyquot.', 'Ive', 'had', 'no', 'ulcer', 'attacks.', 'Ive', 'been', 'taking', 'it', 'for', 'a', 'bit', 'more', 'than', 'a', 'year.']),\n",
       "       list(['I', 'will', 'personally', 'attest', 'to', 'this,,,', 'years', 'ago,', 'as', 'a', 'teenager,', 'I', 'came', 'home', 'from', 'school', 'one', 'day', 'with', 'a', 'terrible', 'sore', 'throat', '-', 'I', 'squirted', 'quite', 'a', 'bit', 'of', 'Chloraseptic', 'into', 'my', 'throat', 'and', 'swallowed', 'more', 'than', 'I', 'should', 'have.', 'Within', 'hours,', 'I', 'fell', 'into,', 'what', 'I', 'have', 'described', 'all', 'these', 'years', 'later,', 'as', 'a', 'coma-like', 'state', 'of', 'awareness', 'for', 'a', 'good', 'majority', 'of', 'the', 'rest', 'of', 'that', 'week.', 'I', 'finally', 'began', 'to', 'come', 'out', 'of', 'that', 'state', '5', 'days', 'later.', 'It', 'was', 'never', 'discussed', 'with', 'any', 'doctor,', 'so', 'I', 'just', 'chalked', 'it', 'up', 'to', 'some', 'freak', 'of', 'nature.', 'I', 'am,', 'without', 'a', 'doubt,', 'now', 'assured', 'the', 'phenol', 'ingredient', 'was', 'the', 'cause', 'to', 'my', 'negative', 'reaction', 'to', 'swallowing', 'the', 'Chloraseptic!']),\n",
       "       list(['Worked', 'okay.']),\n",
       "       list(['Just', 'finishing', '2nd', 'pack.', 'I', 'have', 'never', 'taken', 'birth', 'control', 'before.', 'I', 'wanted', 'to', 'try', 'it', 'because', 'I', 'have', 'super', 'super', 'heavy', 'painful', 'long', 'periods.', 'The', 'first', 'month', 'I', 'had', 'break', 'through', 'bleeding', 'then', 'it', 'stopped.', 'I', 'have', 'a', 'much', 'better', 'mood', 'now,', 'skin', 'is', 'clearing', 'up.', 'It', 'also', 'helps', 'with', 'cramps,', 'bloating', 'and', 'much', 'more.', 'Hopefully', 'it', 'will', 'continue', 'to', 'be', 'a', 'great', 'thing,', 'only', 'time', 'will', 'tell.']),\n",
       "       list(['It', 'is', 'so', 'effective', 'that', 'I', 'have', 'no', 'more', 'gaps', 'in', 'my', 'gums-', 'but', 'I', 'have', 'been', 'using', 'it', 'in', 'combination', 'with', 'other', 'oils-', 'thus', 'it', 'is', 'a', 'combined', 'effort.', 'Thieves', 'Toothpaste', 'and', 'Mouthwash.', 'It', 'has', 'kept', 'me', 'free', 'of', 'gingivitis', 'for', 'over', 'ten', 'years.', 'I', 'drink', 'clove', 'oil', 'in', 'my', 'water', 'regularly', 'and', 'it', 'is', 'not', 'toxic.', 'It', 'keeps', 'me', 'from', 'getting', 'Flus', 'and', 'it', 'is', 'a', 'natural', 'blood', 'thinner,', 'not', 'to', 'mention', 'a', 'tonne', 'other', 'fabulous', 'things', 'it', 'does.']),\n",
       "       list(['Recently', 'diagnosed', 'with', 'D', 'Fragilis,', 'had', 'IBS-like', 'symptoms', 'for', '2', 'years.', 'Took', 'medication', 'twice,', '6', 'months', 'apart.', 'First', 'time', 'did', 'not', 'clear', 'parasite', 'and', 'symptoms', 'returned', 'a', 'week', 'after', 'finishing', 'medication.', 'Second', 'time,', 'now', 'free', 'of', 'IBS-like', 'symptoms', '2', 'weeks', 'after', 'finishing', 'medication.']),\n",
       "       list(['I', 'have', 'used', 'Nupercainal,', 'Preparation', 'H', 'and', 'Tronolane.', 'Nupercainal', 'is', 'effective,', 'Prep.', 'H', 'smells', 'and', 'is', 'greasy,', 'Tronolane', 'is', 'outstanding.', 'I', 'have', 'now', 'been', 'using', 'it', 'for', 'at', 'least', '1', 'years,', 'as', 'required,', 'and', 'it', 'always', 'relieves', 'pain', 'and', 'soothes', 'the', 'area.', 'Tronolane', 'is', 'a', 'wonderful', 'product.']),\n",
       "       list(['I', 'am', 'back', 'to', 'talk', 'about', 'my', '16', 'month', 'son.', 'Actually', 'this', 'medication', 'seens', 'to', 'work', 'really', 'well.', 'After', 'the', 'first', 'day', 'using', '5', 'drops', 'daily', 'I', 'already', 'notice', 'the', 'improvement.', 'Now', 'its', 'been', 'a', 'week', 'since', 'we', 'started', 'him', 'on', 'Zirgan', 'I', 'took', 'him', 'to', 'the', 'doctor', 'yesterday', 'and', 'the', 'lesions', 'on', 'his', 'eye', 'are', 'healed.', 'He', 'still', 'has', 'some', 'sensitivity', 'to', 'light', 'but', 'Im', 'really', 'happy', 'with', 'the', 'results.', 'Now', 'were', 'going', 'to', 'start', 'him', 'on', 'prolensa', 'x2', 'daily.', 'Hopefully', 'by', 'the', 'end', 'of', 'the', 'week', 'hell', 'be', 'a', '1%', 'again.']),\n",
       "       list(['Easy.', 'Fast.', 'No', 'problems.']),\n",
       "       list(['Out', 'of', 'nowhere', 'I', 'started', 'having', 'premature', 'ejaculation', 'problems', 'so', 'a', 'doctor', 'prescribed', 'anafranil.', 'The', 'drug', 'definitely', 'worked', 'and', 'after', 'I', 'stopped', 'taking', 'it', 'after', 'a', 'couple', 'of', 'months', 'my', 'problems', 'were', 'gone.', 'The', 'drug', 'did', 'make', 'me', 'feel', 'pretty', 'queasy', 'and', 'out', 'of', 'it', '(I', 'threw', 'up', 'once)', 'but', 'it', 'was', 'as', 'if', 'my', 'sex', 'life', 'was', 'rebooted', 'and', 'my', 'body', 'trained', 'to', 'orgasm', 'later.', 'I', 'recommend', 'but', 'dont', 'drive', 'or', 'do', 'anything', 'important', 'while', 'on', 'the', 'drug.']),\n",
       "       list(['Just', 'finding', 'out', 'that', 'this', 'medication', 'may', 'be', 'a', 'factor', 'in', 'causing', 'insomnia.', 'This', 'is', 'something', 'I', 'am', 'fighting', 'tooth', 'and', 'nail.']),\n",
       "       list(['I', 'was', 'diagnosed', 'in', '27', 'with', 'Lewis-Sumner', 'disorder', 'a', 'branch', 'of', 'Chronic', 'Inflammatory', 'Demyelination', 'Polyradiculoneuropathy.', 'I', 'received', 'a', 'week', 'of', 'loaded', 'doses', 'of', 'Gammagard', 'then', 'maintenance', 'dose', 'of', '1', 'g', 'and', 'has', 'been', 'at', 'g', 'for', 'a', 'few', 'years', 'now.', 'This', 'medicine', 'is', 'a', 'great', 'help', 'for', 'the', 'atrophy', 'in', 'my', 'legs', 'but', 'I', 'do', 'get', 'side', 'effects...moderate', 'to', 'severe', 'back', 'and', 'muscle', 'pain,', 'cramping', 'in', 'my', 'upper', 'front', 'main', 'thigh', 'muscle,', 'foot', 'and', 'toes.', 'Also', 'a', 'lot', 'of', 'hair', 'loss', 'and', 'women', 'should', 'not', 'get', 'IVIG', 'infusion', 'when', 'on', 'their', 'menstrual', 'cycle.', 'It', 'causes', 'more', 'clots', 'and', 'a', 'lot', 'of', 'increased', 'flow', 'than', 'normally', 'happens.', 'Double', 'up', 'on', 'your', 'monthly', 'femine', 'products', 'and', 'be', 'prepared', 'to', 'change', 'them', 'every', 'minutes.', 'I', 'also', 'experience', 'fatigue', 'and', 'frequent', 'urination', 'and', 'headaches.', 'Drink', 'lots', 'of', 'water!', 'I', 'take', 'Excedrine', 'migraine.']),\n",
       "       list(['Clear,', 'good', 'and', 'useful', 'information', 'about', 'usage', 'and', 'side', 'effects.']),\n",
       "       list(['I', 'had', 'used', 'this', 'product', 'for', 'several', 'years', 'when', 'ever', 'I', 'experienced', 'yeast', 'infections', 'from', 'the', 'medication', 'I', 'was', 'taken.', 'I', 'found', 'it', 'to', 'be', 'very', 'helpful', 'in', 'lessening', 'the', 'irritation.', 'Is', 'it', 'still', 'being', 'sold?', 'I', 'have', 'a', 'need', 'for', 'it', 'again']),\n",
       "       list(['Well', 'just', 'wanted', 'to', 'add', 'Im', '45', 'years', 'old', 'and', 'have', 'been', 'on', 'birth', 'control', 'since', '1.', 'Im', 'healthy', 'for', 'my', 'age,', 'see', 'my', 'gynecologist', 'and', 'never', 'smoked.', 'I', 'stumbled', 'on', 'Jolessa', 'by', 'accident.', 'My', 'chemist', 'gave', 'me', 'Jolessa', 'because', 'they', 'ran', 'out', 'of', 'my', 'usual', 'brand.', 'After', 'the', 'first', 'months', 'what', 'a', 'difference', 'it', 'weight', 'loss.', 'I', 'lost', '7', 'pounds', 'and', 'have', 'been', 'on', 'it', '1', 'year', 'and', 'lost', '17', 'pounds.', 'I', 'chew', 'the', 'pill', 'with', 'food', 'at', 'dinner', 'time', 'because', 'I', 'have', 'trouble', 'taking', 'pills.', 'Also', 'I', 'take', 'the', 'pill', 'straight', 'through.', 'I', 'dont', 'stop', 'after', 'the', 'inactive', 'pills,', 'I', 'continue', 'with', 'the', 'active', 'pills', 'and', 'never', 'have', 'my', 'menstrual', 'cycle', 'at', 'all.', 'My', 'doctor', 'suggested', 'it.']),\n",
       "       list(['This', 'breakthrough', 'medication', 'is', 'what', 'kept', 'me', 'alive', 'for', '27', 'years', 'living', 'with', 'chronic', 'Acute', 'Intermittent', 'Porphyria.', 'During', 'the', 'course', 'of', 'treatments', 'the', 'adverse', 'effect', 'was', 'the', 'effect', 'it', 'had', 'on', 'my', 'peripheral', 'veins.', 'I', 'had', 'a', 'negligent', 'doctor', 'insist', 'that', 'it', 'was', 'administered', 'through', 'my', 'vein', 'access', 'in', 'my', 'arms.', 'Leaving', 'me', 'with', 'continual', 'painful', 'thrombosis', 'from', 'the', 'IVs', 'that', 'blew', 'because', 'it', 'is', 'very', 'caustic', 'and', 'harmful', 'to', 'the', 'small', 'vein', 'access.', 'After', 'many', 'years', 'and', 'my', 'attacks', 'that', 'required', 'hospitalization', 'became', 'more', 'frequent,', 'other', 'ER', 'doctors', 'needed', 'to', 'put', 'in', 'emergency', 'Central', 'Venous', 'lines', 'and', 'were', 'angry', 'with', 'me', 'while', 'doing', 'it.', 'It', 'took', 'many', 'years', 'to', 'find', 'a', 'doctor', 'finally', 'who', 'ordered', 'the', 'Port', 'a', 'catheter', 'placement', 'and', 'I', 'have', 'received', '1', 'of', 'those.']),\n",
       "       list(['I', 'have', 'Pityriasis', 'Rubra', 'Pilarius,', 'or', 'PRP.', 'My', 'feet', 'developed', 'a', 'horrible', 'thick', 'peeling', 'layer', 'that', 'cracked', 'and', 'bled', 'continuously.', 'Topical', 'ointments', 'such', 'as', 'Clobetasol', 'did', 'not', 'help', 'relieve', 'my', 'symptoms.', 'Kenalog-1', 'injections', 'over', 'the', 'bottoms', 'of', 'my', 'feet', 'cleared', 'them', 'up', 'within', 'weeks.']),\n",
       "       list(['Taking', '5', 'mg', 'twice', 'a', 'day', 'for', 'pertussis(whooping', 'cough).', 'While', 'I', 'do', 'feel', 'some', 'relief', 'from', 'the', 'pertussis,', 'there', 'are', 'some', 'nasty', 'side', 'effects', 'to', 'it.', 'Firstly.', 'Horrible', 'GI', 'symptoms.', 'The', 'medication', 'causes', 'a', 'horrible', 'taste', 'for', 'several', 'hours', 'after', 'taking', 'it,', 'and', 'it', 'was', 'causing', 'abdominal', 'pain', 'and', 'a', 'feeling', 'of', 'too', 'much', 'acid', 'in', 'my', 'stomache', 'and', 'an', 'uncomfortable', 'pressure', 'only', 'relieved', 'by', 'vomitting.', 'The', 'GI', 'symptoms', 'were', 'unbearable,', 'but', 'I', 'found', 'eating', 'cheese', 'immediately', 'before', 'swallowing', 'the', 'pill', 'helpped', 'immensly.', 'I', 'also', 'started', 'a', 'probiotic', 'and', 'prilosec', 'for', 'the', 'stomache', 'acid.', 'Another', 'issue', 'was', 'extreme', 'muscle', 'weakness', '(knees', 'buckling)', 'and', 'loss', 'of', 'balance', 'and', 'coordination.', 'Im', '21', 'with', 'an', 'athletic', 'build', 'and', 'never', 'had', 'this', 'issue', 'before.']),\n",
       "       list(['I', 'am', 'terrified', 'of', 'needles', 'and', 'was', 'very', 'upset', 'when', 'I', 'found', 'out', 'that', 'I', 'would', 'have', 'to', 'give', 'myself', 'daily', 'injections.', 'This', 'pen', 'is', 'so', 'easy', 'to', 'use.', 'I', 'didnt', 'even', 'feel', 'the', 'needle.', 'I', 'feel', 'much', 'better', 'about', 'the', 'last', 'ten', 'weeks', 'of', 'my', 'pregnancy.']),\n",
       "       list(['I', 'love', 'these', 'because', 'my', 'nails', 'grow', 'and', 'are', 'strong.', 'The', 'other', 'forms', 'of', 'calcium', 'dont', 'do', 'that.']),\n",
       "       list(['Ive', 'been', 'taking', 'Sotalol', 'for', 'almost', '2', 'years', 'and', 'this', 'pill', 'has', 'drained', 'my', 'energy', 'and', 'Ive', 'gained', '2', 'lbs.', 'I', 'quit', 'taking', 'the', 'medicine', 'days', 'ago', 'as', 'the', 'side', 'effects', 'are', 'horrible.']),\n",
       "       list(['I', 'have', 'been', 'using', 'this', 'for', 'a', 'couple', 'of', 'months', 'and', 'have', 'been', 'able', 'to', 'start', 'a', 'wave', 'of', 'exercise', 'that', 'I', 'have', 'never', 'been', 'able', 'to', 'before.', 'I', 'can', 'run', 'without', 'my', 'body', 'seizing', 'up', 'and', 'punishing', 'me.', 'As', 'this', 'is', 'relatively', 'new', 'as', 'an', 'option', 'for', 'me,', 'I', 'will', 'continue', 'to', 'use', 'it', 'although', 'I', 'have', 'found', 'that', 'my', 'ankles', 'are', 'regularly', 'puffy', 'and', 'i', 'get', 'more', 'visual', 'migraines.', 'Still', 'do', 'not', 'know', 'if', 'this', 'is', 'actually', 'connected', 'to', 'the', 'use', 'of', 'Mexiletine', 'though.']),\n",
       "       list(['Severe', 'nausea,', 'headaches,', 'weight', 'loss,', 'depression']),\n",
       "       list(['SMALL', 'BOWEL', 'FISTULA.', 'Had', 'a', 'hysterectomy', 'and', 'my', 'bowel', 'was', 'cut.', 'Developed', 'fistula.', 'Had', '2nd', 'surgery', 'by', 'general', 'surgeon', 'and', 'was', 'developed', 'a', 'fistula', 'of', 'the', 'small', 'bowel', 'after', '4', 'resections', 'of', 'the', 'small', 'bowel.', 'Has', 'been', 'a', 'high', 'output', 'fistula', 'through', 'the', 'incision', 'site,', 'at', 'the', 'belly', 'button', 'level.', 'Octreotide', 'did', 'slow', 'down', 'the', 'fistula', 'output', 'from', '15ml/24', 'hour', 'period', 'to', 'now', 'just', 'a', 'trickle', '(a', 'ml', 'or', 'so', 'per', 'day).', 'On', 'some', 'days', 'the', 'output', 'is', 'zero.', 'SIDE', 'EFFECTS', 'have', 'been', 'many...burning', 'of', 'the', 'throat,', 'much', 'hair', 'loss,', 'whole', 'body', 'rash', 'including', 'my', 'face', 'and', 'in', 'my', 'hair,', 'nausea', 'and', 'dry', 'heaves.', 'I', 'was', 'first', 'on', '5mcg', 'times', 'per', 'day', 'and', 'that', 'was', 'increased', 'to', '1mcg', 'three', 'times', 'per', 'day.', 'Thats', 'when', 'the', 'hair', 'loss', 'and', 'rash', 'started.']),\n",
       "       list(['I', 'got', 'some', 'because', 'I', 'was', 'taking', 'a', 'vacation', 'in', 'the', 'German/Austrian', 'Alps', 'and', 'needed', 'something', 'to', 'keep', 'me', 'from', 'being', 'nauseated.', 'Got', 'the', '1.5', 'milligram', 'patch,', 'put', 'it', 'behind', 'my', 'ear,', 'and', 'was', 'amazed', 'at', 'how', 'it', 'changed', 'my', 'Parkinson', 'symptoms.', 'Before', 'the', 'patch', 'I', 'had', 'to', 'use', 'a', 'walker', '(rollator)', 'and', 'a', 'cane', 'and', 'I', 'noticed', 'I', 'was', 'not', 'as', 'off', 'balance', 'as', 'I', 'usually', 'am', 'and', 'attributed', 'it', 'to', 'the', 'patch.', 'Came', 'home', 'and', 'talked', 'to', 'my', 'doctor', 'about', 'how', 'I', 'felt', 'and', 'he', 'decided', 'to', 'put', 'me', 'on', 'it', 'long', 'term,', 'but', 'to', 'watch', 'carefullly', 'for', 'side', 'effects.', 'I', 'am', 'walking', 'thru', 'my', 'house', 'now', 'without', 'any', 'assistance', 'but', 'do', 'take', 'the', 'rollator', 'outside', 'because', 'I', 'have', '2', 'very', 'energetic', 'dogs', 'and', 'am', 'afraid', 'they', 'may', 'knock', 'me', 'over.']),\n",
       "       list(['My', 'eyes', 'stayed', 'dry,', 'red', 'and', 'irritated.', 'After', 'only', '5', 'days,', 'my', 'eyes', 'begin', 'to', 'clear', 'up.', 'Used', 'it', 'twice', 'daily', '2', 'drops', 'each', 'time.', 'The', 'only', 'downside,', 'was', 'the', 'stinging', 'burning', 'for', 'the', 'first', '5-1', 'seconds,', 'after', 'putting', 'drops', 'in.']),\n",
       "       list(['I', 'have', 'been', 'on', 'Trisprintec', 'for', 'three', 'years.', 'I', 'loved', 'this', 'birth', 'control.', 'I', 'had', 'no', 'side', 'effects', 'and', 'liked', 'that', 'the', 'hormones', 'followed', 'my', 'natural', 'cycle', '(increasing', 'amount', 'for', 'weeks', 'then', 'a', 'period).', 'My', 'periods', 'were', 'always', 'right', 'on', 'time', 'and', 'only', 'lasted', '-4', 'days.', 'After', 'one', 'month', 'of', 'not', 'using', 'the', 'pill,', 'I', 'was', 'able', 'to', 'quickly', 'get', 'pregnant', 'with', 'my', 'daughter.', 'I', 'dont', 'think', 'you', 'can', 'take', 'the', 'pill', 'while', 'breast', 'feeding', 'but', 'as', 'soon', 'as', 'I', 'am', 'done', 'I', 'will', 'continue', 'the', 'pill', 'again.']),\n",
       "       list(['My', 'mother', 'recieved', 'this', 'treatment', 'as', 'part', 'of', 'a', 'clinical', 'trial', 'for', 'advanced', 'stage', '4', 'melanoma.', 'She', 'was', 'given', 'months', 'to', 'live.', 'As', 'a', 'reality', 'of', 'taking', 'this', 'quotmiraclequot', 'drug', 'for', 'Melanoma,', 'she', 'ended', 'up', 'with', 'Adrenal', 'failure', 'and', 'Advanced', 'Diabetes.', 'She', 'died', 'within', '7', 'months.', 'This', 'is', 'not', 'a', 'cure', 'or', 'a', 'means', 'of', 'quotliving', 'longerquot.', 'Drug', 'companies', 'need', 'to', 'stop', 'feeding', 'on', 'the', 'time', 'patients', 'have', 'left', 'and', 'leave', 'them', 'be.', 'Honestly...do', 'you', 'want', 'to', 'sit', 'with', 'your', 'loved', 'one', 'during', 'their', 'last', 'days', 'and', 'talk', 'and', 'laugh', 'and', 'enjoy', 'your', 'time?', 'Or', 'watch', 'them', 'receive', 'a', 'multitude', 'of', 'medications', 'in', 'a', 'coma', 'state', 'and', 'die?']),\n",
       "       list(['I', 'believe', 'this', 'is', 'the', 'safest', 'MRI', 'contrast', 'currently', 'marketed.', 'It', 'is', 'a', '4th', 'generation', 'contrast', 'with', 'a', 'dual', 'excretion', 'pathway', 'and', 'as', 'far', 'as', 'I', 'know', 'there', 'are', 'no', 'know', 'cases', 'of', 'NSF', 'associated', 'with', 'this.', 'The', 'few', 'minor', 'side', 'effects', 'I', 'have', 'seen', 'are', 'similar', 'to', 'placebo.', 'The', 'key', 'is', 'the', 'low', 'dose', 'of', 'gadolinium', 'and', 'the', '4th', 'generation', 'liver', 'excretion', 'which', 'makes', 'this', 'safe', 'in', 'patients', 'with', 'renal', 'compromise', 'and', 'still', 'have', 'normal', 'liver', 'function.']),\n",
       "       list(['Took', 'care', 'of', 'it', 'after', 'a', 'couple', 'days.']),\n",
       "       list(['I', 'had', 'a', 'hysterectomy', 'in', 'December', 'of', '215', 'amp', 'was', 'diagnosed', 'at', 'a', 'stage', '1a', 'with', 'Leiomyosarcoma', '(rare', 'form', 'of', 'uterine', 'cancer)', '.', 'I', 'was', 'also', 'given', 'gemzar', 'at', 'the', 'same', 'time', 'as', 'taxotere.', '4', 'cycles', 'altogether.', '(every', 'weeks)', 'My', 'side', 'effects', 'were', 'hair', 'loss', '(yes', '-', 'eyelashes', 'amp', 'brows),', 'some', 'nausea,', 'skin', 'peeling', 'of', 'hands', 'and', 'feet,', 'severe', 'edema', 'and', 'shortness', 'of', 'breath,', 'fevers,', 'bone', 'pain', 'and', 'muscle', 'aches.', 'It', 'has', 'now', 'been', '4', 'months', 'since', 'that', 'drug', 'was', 'given', 'to', 'me.', 'I', 'had', 'to', 'follow', 'those', '2', 'drugs', 'with', '4', 'cycles', 'of', 'Adriamycin', '(which', 'was', 'like', 'taking', 'a', 'baby', 'aspirin', 'compared', 'to', 'taxotere).', 'I', 'completed', 'my', 'chemo', 'on', 'July', '28th,', 'I', 'have', 'had', '1', 'cat', 'scan', 'come', 'back', 'clear,', 'so', 'I', 'get', 'checked', 'every', 'months', 'for', '2', 'years.', 'I', 'was', 'scared', 'at', 'first,', 'but', 'now', 'that', 'I', 'made', 'it', 'through,', 'I', 'am', 'thankful', 'I', 'chose', 'treatment.']),\n",
       "       list(['I', 'have', 'used', 'this', 'in', 'wound', 'care', 'for', '1', 'yrs', 'it', 'is', 'to', 'flush', 'the', 'wound', 'if', 'the', 'infection', 'gets', 'nasty', 'smelling', 'and', 'or', 'thick', 'drainage.', 'But', 'do', 'consult', 'a', 'doctor.']),\n",
       "       list(['Upon', 'starting', 'Sustiva,', 'I', 'noticed', 'that', 'I', 'felt', 'very', 'dizzy', 'and', 'somewhat', 'drowsy,', 'as', 'if', 'I', 'had', 'just', 'drank', '2', 'or', 'glasses', 'of', 'wine', 'within', 'about', 'minutess', 'of', 'taking', 'the', 'medication.', 'Also,', 'it', 'gave', 'a', 'similar', 'confusion', 'feeling.', 'After', 'going', 'to', 'sleep', '-', 'it', 'is', 'recommended', 'that', 'you', 'take', 'the', 'medication', 'on', 'an', 'empty', 'stomach', 'and', 'just', 'before', 'going', 'to', 'bed,', 'I', 'woke', 'up', 'without', 'any', 'hangover,', 'drowsiness,', 'or', 'dizziness', 'the', 'next', 'morning', 'about', 'hours', 'later.', 'I', 'did', 'have', 'a', 'little', 'bit', 'of', 'nausea,', 'but', 'nothing', 'that', 'eating', 'didnt', 'resolve.']),\n",
       "       list(['This', 'Vitamin', 'gives', 'me', 'stomach', 'upset,', 'unwell', 'feeling,', 'fast', 'heartbeat,']),\n",
       "       list(['I', 'am', 'gaining', 'weight.']),\n",
       "       list(['Was', 'prescribed', 'to', 'treat', 'leg', 'spasm', 'due', 'to', 'back', 'injury.', 'Spasms', 'are', 'less', 'severe', 'but', 'I', 'am', 'concerned', 'about', 'the', 'side', 'effects']),\n",
       "       list(['W/in', '2', 'hours', 'of', 'application', 'I', 'was', 'cramping.', 'Proceeded', 'by', '16', 'hours', 'of', 'vomiting.', 'Thought', 'it', 'was', 'food', 'poisoning,', 'except', 'for', 'the', 'chemical', 'taste', '(matched', 'the', 'smell', 'of', 'the', 'foam).', 'I', 'explained', 'it', 'was', 'like', 'poisoning/chemical', 'issue.', 'My', 'husband', 'researched', 'and', 'found', 'that', 'this', 'is', 'supposedly', 'a', 'rare', 'side', 'effect', 'that', 'they', 'do', 'not', 'put', 'on', 'any', 'of', 'the', 'info', 'when', 'you', 'purchase.', 'I', 'have', 'never', 'been', 'this', 'sick', 'in', '4', 'years.', 'Please', 'be', 'careful', 'and', 'know', 'they', 'do', 'not', 'include', '5%', 'of', 'the', 'side', 'effects', 'anywhere', 'on/in', 'the', 'packaging.']),\n",
       "       list(['This', 'patient', 'in', 'our', 'clinic', 'was', 'diagnosed', 'by', 'our', 'lab', 'technicians', 'of', 'S.', 'haematobium', 'and', 'paragonimus', 'westermani', 'in', 'his', 'urine.', 'When', 'he', 'was', 'given', 'Praziquantel,', 'he', 'said', 'he', 'realized', 'some', 'greenish', 'substance', 'coming', 'out', 'when', 'he', 'was', 'urinating', 'after', 'drug', 'administration.', 'This', 'however,', 'disappeared', 'in', 'days.', 'This', 'could', 'be', 'the', 'result', 'of', 'the', 'disruptive', 'effect', 'of', 'the', 'drug', 'on', 'the', 'calcium', 'homeostasis', 'of', 'the', 'parasite.', 'Specialists,', 'am', 'I', 'right?']),\n",
       "       list(['T.D.', 'reared', 'its', 'ugly', 'head', 'on', 'approx.', '7', 'weeks', 'ago...at', 'one', 'time,', 'in', 'addition', 'to', 'antidepressants,', 'I', 'was', 'taking', 'either', 'Reglan', 'or', 'Metoclopine...over', 'the', 'years', 'I', 'had', 'some', 'tell-tail', 'signs', 'that', 'were', 'either', 'dismissed', 'or', 'thought', 'to', 'be', 'something', 'else...I', 'have', 'a', 'particular', 'difficult', 'and', 'severe', 'case', 'of', 'T.D.', 'and', 'it', 'effected', 'me', 'and', 'the', 'people', 'around', 'me', 'so', 'much', 'that', 'the', 'personal', 'devastation', 'is', 'incomprehensible...given', 'the', 'rarity', 'of', 'this', 'disease,', 'I', 'find', 'and', 'have', 'resigned', 'myself', 'treatment', 'can', 'be', 'difficult', 'and', 'realistically', 'I', 'most', 'likely', 'will', 'never', 'regain', 'my', 'life', 'as', 'it', 'was...additionally,', 'when', 'I', 'first', 'show', 'the', 'symptoms,', 'I', 'ended', 'up', 'in', 'the', 'back', 'of', 'an', 'ambulance', 'with', 'was', 'thought', 'to', 'be', 'stroke...the', 'symptoms', 'I', 'had', 'at', 'the', 'time', 'mimicked', 'a', 'stroke...']),\n",
       "       list(['I', 'used', 'Compound', 'W', 'for', 'a', 'week', ',', 'and', 'it', 'works', 'great', ',', 'use', 'Duct', 'tape']),\n",
       "       list(['had', 'stent', '7', 'days', 'ago', 'getting', 'breathless', 'after', 'taking', 'this', 'drug']),\n",
       "       list(['Could', 'be', 'made', 'easier', 'to', 'swallow', 'as', 'they', 'are', 'large.']),\n",
       "       list(['If', 'your', 'living', 'in', 'the', 'USA', 'you', 'have', 'three', 'options', 'with', 'this', 'medication.', 'Go', 'bankrupt,', 'spent', 'weeks', 'in', 'the', 'hospital,', 'or', 'die.', 'It', 'cost', 'me', 'over', '$16,', 'a', 'year', 'between', 'paying', 'for', 'two', 'insurance', 'policies', 'and', 'a', 'drug', 'program.', 'Now', 'its', 'listed', 'as', 'a', 'vitamin', 'so', 'my', 'insurance', 'will', 'not', 'cover', 'it.', 'Cost', 'per', 'pill', '$65+,', 'I', 'have', 'to', 'take', 'a', 'week.', 'Now', 'my', 'insurance', 'will', 'pay', 'the', '$1K', 'it', 'cost', 'per', 'hospital', 'stay.', 'Makes', 'no', 'sense?', 'So', 'far', 'I', 'have', 'chosen', 'not', 'to', 'bleed', 'out.', 'If', 'I', 'dont', 'buy', 'the', 'pills', 'Im', 'considered', 'suicidal.', 'They', 'dont', 'seem', 'to', 'care', 'that', 'I', 'cant', 'afford', 'to', 'eat,']),\n",
       "       list(['I', 'found', 'this', 'medicine', 'very', 'hard', 'to', 'withstand.', 'Side', 'effects', 'were', 'bad.', 'I', 'hope', 'others', 'will', 'benefit.']),\n",
       "       list(['A', 'very', 'positive', 'experience', 'without', 'noside', 'effects.']),\n",
       "       list(['I', 'have', 'aniexty', 'really', 'bad', 'and', 'feared', 'a', 'bad', 'side', 'effect.', 'After', 'days', 'of', 'worry', 'I', 'took', 'the', 'shot.', 'Nothing', 'happens', 'just', 'a', 'pain', 'in', 'butt.', 'Its', 'fast.', 'Just', 'do', 'it']),\n",
       "       list(['When', 'you', 'use', 'it', 'it', 'may', 'still', 'hurt.', 'For', 'me,', 'I', 'put', 'it', 'on', 'before', 'bed', 'and', 'leave', 'until', 'morning.', 'By', 'the', 'morning', 'it', 'is', 'an', 'improvement.', 'Every', 'time', 'it', 'has', 'taken', 'the', 'sunburn', 'off', 'almost', 'completely', 'or', 'fully', 'complete.']),\n",
       "       list(['hooray']),\n",
       "       list(['I', 'was', 'diagnosed', 'with', 'ANMDARE', 'early', '21', 'I', 'had', 'a', 'reasonably', 'quick', 'diagnosis', 'and', 'was', 'started', 'on', 'a', 'course', 'of', 'octagam', 'and', 'prednisone', 'and', 'had', 'a', 'very', 'fast', 'recovery', 'I', 'cant', 'tell', 'doses', 'etc', 'because', 'I', 'dont', 'remember', 'much', 'from', 'that', 'time,', 'Im', 'currently', 'laying', 'in', 'hospital', 'being', 'treated', 'for', 'a', 'relapse', 'on', 'a', 'dosage', 'of', 'g', 'per', 'day', 'over', '5', 'days', 'and', '1g', 'per', 'day', 'prednisone', 'for', 'days', 'Im', 'in', 'day', '2', 'and', 'already', 'feel', 'much', 'better']),\n",
       "       list(['I', 'had', 'yellow', 'fever', 'vaccination', 'three', 'weeks', 'ago', 'I', 'am', 'now', 'concerned', 'that', 'my', 'muscle', 'aches', 'and', 'pains', 'and', 'lack', 'of', 'power', 'in', 'my', 'legs', 'arms', 'and', 'shoulders', 'are', 'marginally', 'getting', 'worse.', 'It', 'appears', 'that', 'when', 'I', 'rest', 'for', 'five', 'hours', 'sleeping', 'or', 'sit', 'down', 'in', 'the', 'afternoon', 'for', 'two', 'hours', 'it', 'is', 'extremely', 'hard', 'to', 'get', 'out', 'of', 'bed', 'in', 'the', 'morning', 'and', 'out', 'of', 'the', 'chair', 'in', 'the', 'afternoon.', 'It', 'gets', 'slightly', 'better', 'as', 'the', 'day', 'goes', 'on', 'but', 'if', 'I', 'sit', 'in', 'the', 'chair', 'at', 'night', 'or', 'two', 'hours', 'tends', 'to', 'come', 'back', 'but', 'not', 'so', 'bad', 'as', 'the', 'morning.', 'I', 'have', 'decided', 'to', 'go', 'back', 'to', 'the', 'doctor', 'for', 'some', 'more', 'advice.', 'I', 'have', 'had', 'three', 'professionals', 'give', 'me', 'advice', 'over', 'the', 'last', 'three', 'weeks,', 'they', 'tend', 'to', 'say', 'just', 'sit', 'it', 'out.', 'I', 'am', 'on', 'heart', 'medication', 'for', 'a', 'stent', 'but', 'I', 'dont', 'think', 'this', 'has', 'any', 'concern.']),\n",
       "       list(['Im', '6yr', 'old', 'woman', 'who', 'has', 'polymyostsis', 'it', 'been', 'a', 'struggle', 'for', 'the', 'last', '7', 'years', 'ups', 'and', 'downs.', 'I', 'have', 'relapsed', 'very', 'often.', 'The', 'acthar', 'treatment', 'seems', 'to', 'work', 'I', 'guess', 'once', 'it', 'gets', 'to', 'your', 'system.', 'Side', 'effects', 'are', 'kind', 'of', 'unbearable.', 'I', 'live', 'everyday', 'grateful', 'but', 'hoping', 'it', 'will', 'go', 'into', 'remission.', 'But', 'from', 'what', 'my', 'doctor', 'says', 'the', 'acthar', 'treatment', 'help', 'get', 'my', 'CPK', 'levels', 'under', 'control.']),\n",
       "       list(['Mild', 'Hemophiliac,', 'use', 'Advate', 'for', 'injuries', 'or', 'surgeries.', 'It', 'has', 'proven', 'effective', 'for', 'me', 'for', 'surgery', 'including', 'total', 'hip', 'replacement', 'with', 'no', 'bleeding', 'or', 'other', 'side', 'effects.']),\n",
       "       list(['Had', 'a', 'precautionary', 'CT', 'scan', 'on', 'my', 'chest', 'several', 'days', 'after', 'hip', 'surgery', 'and', 'after', 'experiencing', 'some', 'pain', 'in', 'my', 'chest.', 'The', 'contrast', 'agent', 'used', 'was', 'Omnipaque', '5.', 'About', '8', 'hours', 'later', 'when', 'lying', 'down', 'in', 'bed', 'I', 'felt', 'itching', 'on', 'my', 'back', 'which', 'persisted', 'into', 'the', 'night.', 'On', 'inspection', 'I', 'could', 'see', 'that', 'a', 'hives', 'type', 'rash', 'had', 'formed', 'between', 'my', 'shoulder', 'blades.', 'This', 'gradually', 'subsided', 'over', 'about', '1', 'days.', 'Note', 'that', 'the', 'scan', 'showed', 'up', 'a', 'small', 'infection', 'for', 'which', 'I', 'was', 'prescribed', 'a', 'penicillin', 'antibiotic.', 'I', 'took', 'this', 'about', 'hours', 'before', 'the', 'rash', 'appeared', 'so', 'my', 'doctor', 'changed', 'the', 'antibiotic', 'as', 'a', 'precaution', 'in', 'case', 'that', 'caused', 'the', 'rash.', 'I', 'have', 'never', 'been', 'allergic', 'to', 'penicillin', 'so', 'in', 'my', 'mind', 'the', 'Omnipaque', 'remains', 'the', 'culprit']),\n",
       "       list(['I', 'have', 'had', 'mild', 'IBS', 'for', 'seven-eight', 'months,', 'and', 'sometimes', 'suffer', 'mild', 'to', 'medium', 'lower', 'gut', 'pain,', 'kind', 'of', 'a', 'gas', 'bloating.', 'Someone', 'recommended', 'trying', 'this', 'out.', 'I', 'take', 'a', 'Gas-X', 'extra', 'strength', 'whenever', 'I', 'feel', 'gut', 'pain,', 'and', 'it', 'helps', 'a', 'fair', 'bit.']),\n",
       "       list(['I', 'had', 'an', 'anaphylactic', 'reaction.', 'Within', 'sec', 'of', 'the', 'drug', 'being', 'injected,', 'my', 'chest', 'began', 'to', 'tighten', 'and', 'I', 'could', 'not', 'feel', 'my', 'feet.', 'The', 'numbness', 'continued', 'to', 'spread', 'upward', 'until', 'I', 'could', 'feel', 'nothing', 'from', 'my', 'chest', 'down', 'with', 'continuing', 'increased', 'chest', 'pain', 'and', 'wheezing.', 'They', 'placed', 'me', 'in', 'reverse', 'trendelenburg', 'position', 'and', 'called', 'for', 'a', 'cardiologist.', 'I', 'became', 'increasingly', 'diaphoretic,increasing', 'chest', 'pressure,', 'still', 'unable', 'to', 'feel', 'anything', 'below', 'my', 'neck', 'and', 'I', 'could', 'not', 'move', 'my', 'head.', 'I', 'received', 'several', 'IV', 'pushes.', 'It', 'took', 'them', 'over', 'mins', 'to', 'stabilize', 'me', 'and', 'return', 'me', 'to', 'baseline-', 'able', 'to', 'move', 'all', '4', 'limbs', 'with', 'normal', 'vital', 'signs.', 'This', 'occurred', 'within', 'a', 'hospital', 'setting,', 'but', 'they', 'proceeded', 'with', 'the', 'test', 'anyway.', 'I', 'am', 'asthmatic', 'on', 'meds.']),\n",
       "       list(['After', 'years', 'of', 'searching', 'these', 'posts', 'for', 'user', 'reviews', 'of', 'treatments', 'for', 'Tinea', 'Barbae,', 'I', 'have', 'yet', 'to', 'find', 'one.', 'There', 'HAS', 'to', 'be', 'others', 'like', 'me', 'out', 'there.', 'It', 'is', 'not', 'easy', 'having', 'your', 'face', 'look', 'this', 'way.', 'Let', 'me', 'start', 'by', 'saying', 'that', 'I', 'have', 'had', 'this', 'quotconditionquot', 'of', 'what', 'was', 'most', 'recently', 'diagnosed', 'as', 'Tinea', 'Barbae', 'for', 'YEARS.', 'I', 'am', '2', 'now', 'and', 'can', 'remember', 'the', 'origins', 'of', 'it', 'in', 'high', 'school.', 'My', 'case', 'has', 'been', 'treated', 'as', 'acne', 'in', 'a', 'thousand', 'different', 'ways', 'and', 'only', 'recently', 'did', 'my', 'dermatologist', 'do', 'a', 'fungal', 'test', 'that', 'came', 'out', 'positive.', 'I', 'was', 'originally', 'prescribed', 'a', 'topical', 'anti-fungal', 'cream', '(Lamisil)', 'and', 'oral', 'terbinafine', 'for', '2', 'weeks.', 'No', 'improvement.', 'Went', 'back,', 'dermatologist,', 'switched', 'me', 'to', 'Griseofulvin', 'for', '4', 'weeks.', 'I', 'just', 'completed', 'week', '2', 'yesterday', '(4/12)', 'and', 'have', 'seen', 'NO', 'improvement.']),\n",
       "       list(['I', 'had', 'a', 'bad', 'reaction', 'to', 'this', 'dye!', 'I', 'have', 'had', '5', 'previous', 'MRI', 's', 'with', 'no', 'problems', 'at', 'all', 'to', 'previously', 'used', 'dyes.', 'It', 'burned', 'and', 'made', 'my', 'arm', 'ache', 'on', 'injection', 'and', '6', 'min', 'later', 'when', 'done', 'and', 'I', 'tried', 'to', 'get', 'up', 'I', 'passed', 'out', 'and', 'my', 'blood', 'pressure', 'dropped.', 'They', 'watched', 'me', 'for', 'almost', 'an', 'hour', 'after', 'and', 'I', 'stabilized.', 'After', 'going', 'home', 'my', 'heartbeat', 'was', 'irregular', 'and', 'I', 'was', 'very', 'tired.', 'I', 'am', 'a', '56', 'yr', 'old', 'female', 'with', 'high', 'blood', 'pressure', 'controlled', 'by', 'Micardis', '4', 'mg.']),\n",
       "       list(['Took', '4', 'pills', 'in', 'one', 'go.', 'oops.', 'dont', 'take', 'them', 'all', 'in', 'one', 'go.', 'It', 'ruins', 'you.', 'I', 'chundered', 'at', 'work.', 'In', 'the', 'first', 'aid', 'room', 'sink.', 'Hello', 'again', 'nandos', 'sunset', 'burger.', 'I', 'only', 'saw', 'you', '2', 'hours', 'ago.', 'This', 'medication', 'is', 'tough.', 'only', 'if', 'youre', 'ard.', 'I', 'am', 'not', 'that.']),\n",
       "       list(['I', 'was', 'stuck', 'with', 'a', 'patients', 'bloody', 'needle', 'when', 'he', 'passed', 'out', 'unexpectedly', 'and', 'had', 'to', 'start', 'Combivir', 'for', 'HIV', 'prevention', 'given', 'that', 'said', 'patient', 'is', 'active', 'duty', 'military', '(I', 'am', 'too),', 'the', 'chances', 'of', 'him', 'having', 'anything', 'were', 'minimal,', 'but', 'I', 'chose', 'to', 'take', 'it', 'as', 'a', 'precaution', 'anyway.', 'The', 'side', 'effects', 'were', 'horrible:', 'extreme', 'fatigue,', 'unrelenting', 'daily', 'nausea', 'that', 'I', 'had', 'to', 'go', 'and', 'beg', 'the', 'doc', 'to', 'prescribe', 'me', 'zofran', 'for,', 'joint', 'pain,', 'cant', 'eat', 'more', 'than', 'a', 'few', 'bites', 'of', 'anything', 'because', 'I', 'feel', 'full,', 'dizziness,', 'and', 'just', 'general', 'malaise', 'almost', 'like', 'when', 'you', 'have', 'the', 'flu.', 'Still', 'got', 'about', 'two', 'weeks', 'to', 'go', 'on', 'this', 'stuff,', 'hoping', 'for', 'the', 'best,']),\n",
       "       list(['While', 'on', 'Mepron,', 'I', 'noticed', 'a', 'gradual', 'intensification', 'of', 'depression', 'and', 'psychological', 'manifestations.', 'At', 'first', 'I', 'was', 'not', 'concerned', 'and', 'just', 'attributed', 'it', 'to', 'temporary', 'hormonal', 'fluctuations', 'or', 'whatever.', 'As', 'the', 'fourth', 'month', 'approached,', 'it', 'had', 'became', 'much', 'more', 'intense', 'and', 'consistent.', 'I', 'was', 'not', 'making', 'any', 'progress', 'in', 'any', 'other', 'area', 'and', 'I', 'could', 'no', 'longer', 'deny', 'the', 'effect', 'the', 'Mepron', 'was', 'having', 'on', 'me.', 'Did', 'not', 'help', 'me', 'at', 'all!']),\n",
       "       list(['Within', '4', 'hours', 'my', 'eyes', '..lips', 'were', 'swelling', '...headache....agitation...aches', 'in', 'joints', 'which', 'I', 'Never', 'have....fatigue', '.....']),\n",
       "       list(['I', 'am', '2', 'years', 'old', 'and', 'have', 'been', 'on', 'this', 'medication', 'for', 'about', '18', 'months', 'and', 'I', 'have', 'to', 'say', 'that', 'I', 'absolutely', 'love', 'it!', 'I', 'had', 'unbearable', 'cramps', 'and', 'hot', 'flashes,', 'as', 'well', 'as', 'severe', 'acne', 'before', 'I', 'started.', 'The', 'first', 'month', 'I', 'did', 'bloat,', 'but', 'it', 'quickly', 'disappeared,', 'along', 'with', 'my', 'acne,', 'hot', 'flashes,', 'and', 'cramps.', 'My', 'only', 'complaint', 'is', 'that', 'it', 'also', 'took', 'away', 'my', 'period', 'and', 'I', 'could', 'do', 'without', 'the', 'monthly', 'pregnancy', 'panic.', 'That', 'would', 'be', 'my', 'only', 'reason', 'for', 'switching.']),\n",
       "       list(['I', 'had', 'very', 'good', 'results', 'using', 'Cerezyme.', 'I', 'was', 'on', 'it', 'for', '2', '1/2', 'years', 'and', 'had', 'the', 'results', 'of', 'diminished', 'bone', 'pain,', 'increased', 'platelet', 'count,', 'and', 'slight', 'diminished', 'spleen', 'size.', 'I', 'did', 'not', 'experience', 'any', 'side', 'effects.', 'My', 'only', 'dislike', 'about', 'the', 'treatment', 'is', 'that', 'it', 'has', 'to', 'be', 'infused.', 'The', 'Mediport', 'does', 'make', 'this', 'much', 'more', 'easy', 'and', 'tolerable.']),\n",
       "       list(['Works', 'well', 'for', 'me...does', 'not', 'consipate', 'me.', 'Does', 'a', 'good', 'job', 'lowering', 'my', 'phosphorus']),\n",
       "       list(['-']),\n",
       "       list(['This', 'medicine', 'is', 'way', 'outdated.', 'There', 'are', 'a', 'lot', 'of', 'newer', 'treatments', 'on', 'the', 'prevention', 'of', 'asthma,', 'without', 'all', 'the', 'side', 'effects', 'that', 'asthmanefrin', 'had.']),\n",
       "       list(['Prescribing', 'ear,', 'nose,', 'and', 'throat', 'doctor', 'did', 'not', 'tell', 'me', 'the', 'name', 'of', 'the', 'disorder', 'for', 'which', 'he', 'prescribed', 'it', 'but', 'after', 'researching', 'it,', 'reached', 'the', 'conclusion', 'of', 'CVI.', 'Anyway,', 'he', 'prescribed', 'it', 'along', 'with', 'Motrin.', 'When', 'I', 'take', 'both', 'together,', 'chronic', 'pain', 'lessens', 'but', 'it', 'is', 'the', 'Isoxsuprine', 'that', 'made', 'the', 'most', 'difference', 'for', 'me.', 'I', 'felt', 'the', 'best', 'that', 'I', 'had', 'felt', 'in', 'YEARS!', 'Was', 'suffering', 'from', 'chronic', 'vertigo/dizziness,', 'had', 'been', 'to', 'many', 'doctors,', 'and', 'tried', 'many', 'things', 'and', 'some', 'relief', 'was', 'achieved', 'some', 'times', 'but', 'not', 'consistently', 'over', 'the', 'long', 'term', 'and', 'sometimes', 'not', 'over', 'the', 'short', 'term!', 'I', 'also', 'had', 'been', 'diagnosed', 'with', 'Chronic', 'Fatigue', 'Syndrome.', 'After', 'taking', 'the', 'Isoxsuprine,', 'I', 'had', 'much', 'more', 'energy', 'and', 'much', 'less', 'dizziness.', 'VERY', 'SATISFIED', 'WITH', 'THIS', 'MEDICINE!']),\n",
       "       list(['This', 'medication', 'was', 'literally', 'a', 'life', 'saver', 'for', 'me.', 'I', 'have', 'had', 'severe', 'allergies', 'to', 'peanuts', 'since', 'I', 'was', 'a', 'child.', 'I', 'mean,', 'where', 'I', 'couldnt', 'even', 'touch', 'peanut', 'mampms', 'because', 'they', 'had', 'peanuts', 'inside', 'the', 'chocolate', 'shells', 'or', 'sit', 'in', 'a', 'seat', 'at', 'one', 'of', 'those', 'places', 'where', 'you', 'throw', 'peanut', 'shells', 'on', 'the', 'floor', 'or', 'whatever', 'as', 'you', 'eat', 'them.', 'I', 'have', 'had', 'to', 'use', 'my', 'epipen', 'in', 'that', 'situation', 'once', '(because', 'I', 'didnt', 'want', 'to', 'seem', 'different', 'and', 'I', 'didnt', 'think', 'that', 'just', 'sitting', 'in', 'a', 'seat,', 'which', 'I', 'assumed', 'had', 'been', 'wiped', 'off)', 'would', 'affect', 'me.', 'I', 'have', 'also', 'had', 'to', 'use', 'it', 'visiting', 'my', 'parents', 'when', 'my', 'grandfather', 'was', 'alive', 'because', 'he', 'loved', 'peanuts', 'and', 'Id', 'sit', 'where', 'hes', 'sat', 'and', 'had', 'to', 'use', 'it', 'again.', 'I', 'always', 'carry', 'two', 'on', 'me', 'at', 'all', 'times.']),\n",
       "       list(['The', 'very', 'first', 'time', 'Ive', 'seen', 'this', 'product,', 'I', 'was', 'at', 'my', 'aunts', 'house', 'who', 'had', 'passed', 'away,', 'but', 'Anyhoo,', 'I', 'read', 'what', 'its', 'used', 'for,', 'didnt', 'think', 'much', 'of', 'it', 'at', 'first,', 'left', 'it', 'alone,', 'knowing', 'that', 'I', 'do', 'get', 'easily', 'nauseated', 'due', 'to', 'stressful', 'situations.', 'And', 'also', 'too', 'from', 'eating', 'something', 'that', 'my', 'stomach', 'doesnt', 'agree', 'with', 'as', 'well!!', 'So', 'when', 'I', 'did', 'became', 'nauseous', 'during', 'the', 'funeral,', 'I', 'was', 'looking', 'for', 'quick', 'relief,', 'so', 'I', 'remembered', 'the', 'emetrol', 'she', 'had', 'in', 'her', 'medicine', 'cabinet,', 'I', 'went', 'to', 'get', 'it,', 'plus', 'it', 'was', 'brand', 'new,', 'so', 'I', 'took', 'some,', 'and', 'I', 'tell', 'you', 'it', 'helped', 'me', 'so', 'much.', 'This', 'was', 'back', 'in', 'August', '2!', 'So', 'from', 'then', 'on', 'I', 'buy', 'this', 'product', 'just', 'to', 'gave', 'it', 'on', 'those', 'quotJust', 'In', 'Casequot', 'Situations!!!!', 'Everyone', 'Should', 'Have', 'This', 'Product!']),\n",
       "       list(['Did', 'not', 'help', 'at', 'all.']),\n",
       "       list(['Standard', 'Postoperative', 'Organ', 'Anti', 'Rejection', '/', 'immune', 'system', 'suppressant', 'treatment']),\n",
       "       list(['Significant', 'skin', 'rash', 'all', 'over', 'body', 'with', 'severe', 'itching', 'and', 'swelling', 'in', 'ankles', 'and', 'calves.']),\n",
       "       list(['Never', 'had', 'it,', 'but', 'need', 'it.']),\n",
       "       list(['I', 'have', 'been', 'on', 'Alpha-nine', 'SD', 'for', '1', 'years', '.', 'Its', 'been', 'good', 'for', 'preventing', 'bleeds', 'and', 'excellent', 'for', 'stopping', 'initial', 'or', 'on', 'going', 'bleeds.']),\n",
       "       list(['Wonderful', 'product!', 'But', 'it', 'is', 'so', 'expensive.']),\n",
       "       list(['I', 'thought', 'I', 'had', 'too', 'much', 'wine', 'or', 'was', 'losing', 'it', 'I', 'am', 'so', 'glad', 'to', 'know', 'Im', 'apparently', 'not', 'the', 'only', 'who', 'has', 'tasted', 'my', 'eye', 'drops.', 'Thats', 'the', 'only', 'disadvantage', 'to', 'this', 'medicine', '--', 'but', 'nothing', 'is', 'perfect,', 'right?', 'The', 'drops', 'work', 'wonderfully,', 'and', 'my', 'eyes', 'feel', 'great', 'after', 'I', 'use', 'the', 'medication.']),\n",
       "       list(['excellent', 'my', 'stomach', 'was', 'a', 'mess', 'pains', 'tightness', 'bloated', 'did', 'a', 'colonoscopy', 'which', 'cleared', 'a', 'few', 'problems', 'but', 'still', 'had', 'problems', 'and', 'potty', '6', 'times', 'a', 'day', 'in', 'pain', 'and', 'took', 'for', 'ever.', 'Doctor', 'tried', 'other', 'meds,', 'expensive', 'and', 'not', 'cured.', 'He', 'tried', 'this', 'and', 'I', 'almost', 'gave', 'up', '-', 'it', 'takes', 'a', 'while.', 'The', 'doctor', 'said', 'nothing', 'to', 'lose,', 'stick', 'with', 'it', 'to', 'really', 'get', 'going.', 'It', 'is', 'three', 'months', 'now', 'and', 'its', 'really', 'helped', 'my', 'stomach.', 'I', 'move', 'my', 'bowels', 'twice', 'a', 'day,', 'with', 'ease', 'and', 'no', 'cramps,', 'or', 'pain', 'at', 'all.']),\n",
       "       list(['I', 'had', 'very', 'negative', 'experience', 'with', 'this', 'medicine', 'started', 'in', 'the', 'year', 'of', '2', 'with', 'severe', 'side', 'effects.', 'I', 'was', 'diagnosis', 'with', 'Linear', 'IGA.', 'It', 'been', 'over', '1', 'years:', 'Now', 'my', 'Doctors', 'came', 'up', 'put', 'on', 'IVIG', 'infusion', 'with', 'Gamunex-C', 'trying', 'to', 'help', 'me', 'get', 'off', 'of', 'the', 'Prednisone.']),\n",
       "       list(['Lots', 'of', 'itching', 'all', 'over', 'the', 'body', 'sometimes', 'severe']),\n",
       "       list(['Was', 'bitten', 'by', 'a', 'raccoon', 'four', 'days', 'ago.', 'We', 'dispatched', 'the', 'animal,', 'compromising', 'the', 'brain', 'which', 'was', 'needed', 'for', 'testing.', 'Rabies', 'has', 'still', 'not', 'been', 'verified.', 'Needless', 'to', 'say', 'I', 'received', 'my', 'second', 'dosage', 'of', 'Rabavert', 'today.', 'First', 'shots', 'were', 'difficult,', 'being', 'injected', 'directly', 'into', 'each', 'and', 'every', 'puncture', 'wound.', 'Second', 'dose', 'was', 'completely', 'painless', 'tiny', 'shot', 'in', 'upper', 'arm.', 'Am', 'experiencing', 'muscle', 'pain', 'at', 'site', 'but', 'nothing', 'major.', 'I', 'admit', 'to', 'being', 'tired,', 'achy,', 'and', 'my', 'thinking', 'is', 'not', 'very', 'clear.', 'However,', 'I', 'wouldnt', 'miss', 'next', 'two', 'doses', 'if', 'my', 'life', 'depended', 'on', 'it,', 'which', 'in', 'my', 'case', 'could', 'very', 'well', 'be.', 'Grateful', 'to', 'be', 'fortunate', 'enough', 'to', 'have', 'medicine', 'that', 'may', 'save', 'me', 'from', 'certain', 'death.']),\n",
       "       list(['My', 'child', 'get', 'headache,', 'fever', 'for', 'two', 'days', 'after', 'had', 'the', 'Bexsero', 'vaccine.', 'It', 'may', 'me', 'worry', 'about', 'if', 'she', 'will', 'get', 'meningitis', 'disease.'])],\n",
       "      dtype=object)"
      ]
     },
     "execution_count": 11,
     "metadata": {},
     "output_type": "execute_result"
    }
   ],
   "source": [
    "#Removing unwanted characters and splitting in words the string value of 'Review' column\n",
    "df['review'] = df['review'].map(lambda x: re.sub(r'[\"&#039;\"]','', x))\n",
    "df['review'] = df['review'].apply(lambda x: x.split())\n",
    "df['review'].values"
   ]
  },
  {
   "cell_type": "code",
   "execution_count": 12,
   "id": "e237c8cc",
   "metadata": {
    "ExecuteTime": {
     "end_time": "2021-12-15T22:39:45.945345Z",
     "start_time": "2021-12-15T22:39:45.924916Z"
    }
   },
   "outputs": [],
   "source": [
    "# Now Concatnating Drugs and Condition values with Reviews to build metadata of drugs\n",
    "df['condition_list'] = df['condition'].apply(lambda x: x.split())\n",
    "df['condition_list'] = df['condition'].apply(lambda x: \"\".join(x))\n",
    "df['drugName_list'] = df['drugName'].apply(lambda x: x.split())\n",
    "df['drugName_list'] = df['drugName'].apply(lambda x: \"\".join(x))"
   ]
  },
  {
   "cell_type": "code",
   "execution_count": 13,
   "id": "4cf0fb33",
   "metadata": {
    "ExecuteTime": {
     "end_time": "2021-12-15T22:39:54.022873Z",
     "start_time": "2021-12-15T22:39:54.013952Z"
    }
   },
   "outputs": [],
   "source": [
    "df['condition_list'] = df['condition'].apply(lambda x: x.split())\n",
    "df['drugName_list'] = df['drugName'].apply(lambda x: x.split())"
   ]
  },
  {
   "cell_type": "code",
   "execution_count": 14,
   "id": "6adf289a",
   "metadata": {
    "ExecuteTime": {
     "end_time": "2021-12-15T22:40:09.018282Z",
     "start_time": "2021-12-15T22:40:09.005092Z"
    }
   },
   "outputs": [],
   "source": [
    "df['tags'] = df['drugName_list'] + df['condition_list'] + df['review']"
   ]
  },
  {
   "cell_type": "code",
   "execution_count": 15,
   "id": "79be9ddd",
   "metadata": {
    "ExecuteTime": {
     "end_time": "2021-12-15T22:40:15.460313Z",
     "start_time": "2021-12-15T22:40:15.424005Z"
    }
   },
   "outputs": [
    {
     "data": {
      "text/html": [
       "<div>\n",
       "<style scoped>\n",
       "    .dataframe tbody tr th:only-of-type {\n",
       "        vertical-align: middle;\n",
       "    }\n",
       "\n",
       "    .dataframe tbody tr th {\n",
       "        vertical-align: top;\n",
       "    }\n",
       "\n",
       "    .dataframe thead th {\n",
       "        text-align: right;\n",
       "    }\n",
       "</style>\n",
       "<table border=\"1\" class=\"dataframe\">\n",
       "  <thead>\n",
       "    <tr style=\"text-align: right;\">\n",
       "      <th></th>\n",
       "      <th>uniqueID</th>\n",
       "      <th>drugName</th>\n",
       "      <th>condition</th>\n",
       "      <th>review</th>\n",
       "      <th>most_reviewed</th>\n",
       "      <th>condition_list</th>\n",
       "      <th>drugName_list</th>\n",
       "      <th>tags</th>\n",
       "    </tr>\n",
       "  </thead>\n",
       "  <tbody>\n",
       "    <tr>\n",
       "      <th>0</th>\n",
       "      <td>119152</td>\n",
       "      <td>Zoloft</td>\n",
       "      <td>Depression</td>\n",
       "      <td>[I, remember, reading, peoples, opinions,, onl...</td>\n",
       "      <td>12910</td>\n",
       "      <td>[Depression]</td>\n",
       "      <td>[Zoloft]</td>\n",
       "      <td>[Zoloft, Depression, I, remember, reading, peo...</td>\n",
       "    </tr>\n",
       "    <tr>\n",
       "      <th>1</th>\n",
       "      <td>182560</td>\n",
       "      <td>Mirena</td>\n",
       "      <td>Birth Control</td>\n",
       "      <td>[I, have, had, my, IUD, for, over, a, year, no...</td>\n",
       "      <td>12470</td>\n",
       "      <td>[Birth, Control]</td>\n",
       "      <td>[Mirena]</td>\n",
       "      <td>[Mirena, Birth, Control, I, have, had, my, IUD...</td>\n",
       "    </tr>\n",
       "    <tr>\n",
       "      <th>2</th>\n",
       "      <td>139141</td>\n",
       "      <td>Phentermine</td>\n",
       "      <td>Weight Loss</td>\n",
       "      <td>[I, have, used, this, pill, off, and, on, for,...</td>\n",
       "      <td>7960</td>\n",
       "      <td>[Weight, Loss]</td>\n",
       "      <td>[Phentermine]</td>\n",
       "      <td>[Phentermine, Weight, Loss, I, have, used, thi...</td>\n",
       "    </tr>\n",
       "    <tr>\n",
       "      <th>3</th>\n",
       "      <td>151366</td>\n",
       "      <td>OxyContin</td>\n",
       "      <td>Pain</td>\n",
       "      <td>[Ahhhh,, the, dreaded, drug...no, matter, what...</td>\n",
       "      <td>6255</td>\n",
       "      <td>[Pain]</td>\n",
       "      <td>[OxyContin]</td>\n",
       "      <td>[OxyContin, Pain, Ahhhh,, the, dreaded, drug.....</td>\n",
       "    </tr>\n",
       "    <tr>\n",
       "      <th>4</th>\n",
       "      <td>62688</td>\n",
       "      <td>Citalopram</td>\n",
       "      <td>Anxiety and Stress</td>\n",
       "      <td>[I, work, for, a, large, Fire, Department., I,...</td>\n",
       "      <td>5544</td>\n",
       "      <td>[Anxiety, and, Stress]</td>\n",
       "      <td>[Citalopram]</td>\n",
       "      <td>[Citalopram, Anxiety, and, Stress, I, work, fo...</td>\n",
       "    </tr>\n",
       "  </tbody>\n",
       "</table>\n",
       "</div>"
      ],
      "text/plain": [
       "   uniqueID     drugName           condition  \\\n",
       "0    119152       Zoloft          Depression   \n",
       "1    182560       Mirena       Birth Control   \n",
       "2    139141  Phentermine         Weight Loss   \n",
       "3    151366    OxyContin                Pain   \n",
       "4     62688   Citalopram  Anxiety and Stress   \n",
       "\n",
       "                                              review  most_reviewed  \\\n",
       "0  [I, remember, reading, peoples, opinions,, onl...          12910   \n",
       "1  [I, have, had, my, IUD, for, over, a, year, no...          12470   \n",
       "2  [I, have, used, this, pill, off, and, on, for,...           7960   \n",
       "3  [Ahhhh,, the, dreaded, drug...no, matter, what...           6255   \n",
       "4  [I, work, for, a, large, Fire, Department., I,...           5544   \n",
       "\n",
       "           condition_list  drugName_list  \\\n",
       "0            [Depression]       [Zoloft]   \n",
       "1        [Birth, Control]       [Mirena]   \n",
       "2          [Weight, Loss]  [Phentermine]   \n",
       "3                  [Pain]    [OxyContin]   \n",
       "4  [Anxiety, and, Stress]   [Citalopram]   \n",
       "\n",
       "                                                tags  \n",
       "0  [Zoloft, Depression, I, remember, reading, peo...  \n",
       "1  [Mirena, Birth, Control, I, have, had, my, IUD...  \n",
       "2  [Phentermine, Weight, Loss, I, have, used, thi...  \n",
       "3  [OxyContin, Pain, Ahhhh,, the, dreaded, drug.....  \n",
       "4  [Citalopram, Anxiety, and, Stress, I, work, fo...  "
      ]
     },
     "execution_count": 15,
     "metadata": {},
     "output_type": "execute_result"
    }
   ],
   "source": [
    "df.head()"
   ]
  },
  {
   "cell_type": "code",
   "execution_count": 16,
   "id": "4917ce1c",
   "metadata": {
    "ExecuteTime": {
     "end_time": "2021-12-15T23:42:35.418833Z",
     "start_time": "2021-12-15T23:42:35.363224Z"
    }
   },
   "outputs": [
    {
     "data": {
      "text/html": [
       "<div>\n",
       "<style scoped>\n",
       "    .dataframe tbody tr th:only-of-type {\n",
       "        vertical-align: middle;\n",
       "    }\n",
       "\n",
       "    .dataframe tbody tr th {\n",
       "        vertical-align: top;\n",
       "    }\n",
       "\n",
       "    .dataframe thead th {\n",
       "        text-align: right;\n",
       "    }\n",
       "</style>\n",
       "<table border=\"1\" class=\"dataframe\">\n",
       "  <thead>\n",
       "    <tr style=\"text-align: right;\">\n",
       "      <th></th>\n",
       "      <th>uniqueID</th>\n",
       "      <th>drugName</th>\n",
       "      <th>condition</th>\n",
       "      <th>tags</th>\n",
       "    </tr>\n",
       "  </thead>\n",
       "  <tbody>\n",
       "    <tr>\n",
       "      <th>0</th>\n",
       "      <td>119152</td>\n",
       "      <td>Zoloft</td>\n",
       "      <td>Depression</td>\n",
       "      <td>[Zoloft, Depression, I, remember, reading, peo...</td>\n",
       "    </tr>\n",
       "    <tr>\n",
       "      <th>1</th>\n",
       "      <td>182560</td>\n",
       "      <td>Mirena</td>\n",
       "      <td>Birth Control</td>\n",
       "      <td>[Mirena, Birth, Control, I, have, had, my, IUD...</td>\n",
       "    </tr>\n",
       "    <tr>\n",
       "      <th>2</th>\n",
       "      <td>139141</td>\n",
       "      <td>Phentermine</td>\n",
       "      <td>Weight Loss</td>\n",
       "      <td>[Phentermine, Weight, Loss, I, have, used, thi...</td>\n",
       "    </tr>\n",
       "    <tr>\n",
       "      <th>3</th>\n",
       "      <td>151366</td>\n",
       "      <td>OxyContin</td>\n",
       "      <td>Pain</td>\n",
       "      <td>[OxyContin, Pain, Ahhhh,, the, dreaded, drug.....</td>\n",
       "    </tr>\n",
       "    <tr>\n",
       "      <th>4</th>\n",
       "      <td>62688</td>\n",
       "      <td>Citalopram</td>\n",
       "      <td>Anxiety and Stress</td>\n",
       "      <td>[Citalopram, Anxiety, and, Stress, I, work, fo...</td>\n",
       "    </tr>\n",
       "    <tr>\n",
       "      <th>...</th>\n",
       "      <td>...</td>\n",
       "      <td>...</td>\n",
       "      <td>...</td>\n",
       "      <td>...</td>\n",
       "    </tr>\n",
       "    <tr>\n",
       "      <th>605</th>\n",
       "      <td>67246</td>\n",
       "      <td>Omeprazole</td>\n",
       "      <td>Multiple Endocrine Adenomas</td>\n",
       "      <td>[Omeprazole, Multiple, Endocrine, Adenomas, ex...</td>\n",
       "    </tr>\n",
       "    <tr>\n",
       "      <th>606</th>\n",
       "      <td>131191</td>\n",
       "      <td>Hepatitis b adult vaccine</td>\n",
       "      <td>Hepatitis B Prevention</td>\n",
       "      <td>[Hepatitis, b, adult, vaccine, Hepatitis, B, P...</td>\n",
       "    </tr>\n",
       "    <tr>\n",
       "      <th>607</th>\n",
       "      <td>88838</td>\n",
       "      <td>Mumps virus vaccine</td>\n",
       "      <td>Mumps Prophylaxis</td>\n",
       "      <td>[Mumps, virus, vaccine, Mumps, Prophylaxis, Lo...</td>\n",
       "    </tr>\n",
       "    <tr>\n",
       "      <th>608</th>\n",
       "      <td>41891</td>\n",
       "      <td>Rabies vaccine, human diploid cell</td>\n",
       "      <td>Rabies Prophylaxis</td>\n",
       "      <td>[Rabies, vaccine,, human, diploid, cell, Rabie...</td>\n",
       "    </tr>\n",
       "    <tr>\n",
       "      <th>609</th>\n",
       "      <td>230081</td>\n",
       "      <td>Meningococcal group B vaccine</td>\n",
       "      <td>Meningitis, Meningococcal</td>\n",
       "      <td>[Meningococcal, group, B, vaccine, Meningitis,...</td>\n",
       "    </tr>\n",
       "  </tbody>\n",
       "</table>\n",
       "<p>610 rows × 4 columns</p>\n",
       "</div>"
      ],
      "text/plain": [
       "     uniqueID                            drugName  \\\n",
       "0      119152                              Zoloft   \n",
       "1      182560                              Mirena   \n",
       "2      139141                         Phentermine   \n",
       "3      151366                           OxyContin   \n",
       "4       62688                          Citalopram   \n",
       "..        ...                                 ...   \n",
       "605     67246                          Omeprazole   \n",
       "606    131191           Hepatitis b adult vaccine   \n",
       "607     88838                 Mumps virus vaccine   \n",
       "608     41891  Rabies vaccine, human diploid cell   \n",
       "609    230081       Meningococcal group B vaccine   \n",
       "\n",
       "                       condition  \\\n",
       "0                     Depression   \n",
       "1                  Birth Control   \n",
       "2                    Weight Loss   \n",
       "3                           Pain   \n",
       "4             Anxiety and Stress   \n",
       "..                           ...   \n",
       "605  Multiple Endocrine Adenomas   \n",
       "606       Hepatitis B Prevention   \n",
       "607            Mumps Prophylaxis   \n",
       "608           Rabies Prophylaxis   \n",
       "609    Meningitis, Meningococcal   \n",
       "\n",
       "                                                  tags  \n",
       "0    [Zoloft, Depression, I, remember, reading, peo...  \n",
       "1    [Mirena, Birth, Control, I, have, had, my, IUD...  \n",
       "2    [Phentermine, Weight, Loss, I, have, used, thi...  \n",
       "3    [OxyContin, Pain, Ahhhh,, the, dreaded, drug.....  \n",
       "4    [Citalopram, Anxiety, and, Stress, I, work, fo...  \n",
       "..                                                 ...  \n",
       "605  [Omeprazole, Multiple, Endocrine, Adenomas, ex...  \n",
       "606  [Hepatitis, b, adult, vaccine, Hepatitis, B, P...  \n",
       "607  [Mumps, virus, vaccine, Mumps, Prophylaxis, Lo...  \n",
       "608  [Rabies, vaccine,, human, diploid, cell, Rabie...  \n",
       "609  [Meningococcal, group, B, vaccine, Meningitis,...  \n",
       "\n",
       "[610 rows x 4 columns]"
      ]
     },
     "execution_count": 16,
     "metadata": {},
     "output_type": "execute_result"
    }
   ],
   "source": [
    "#Creating New Dataframe with relevant columns for further analysis\n",
    "new_df = df[['uniqueID','drugName','condition','tags']]\n",
    "new_df"
   ]
  },
  {
   "cell_type": "code",
   "execution_count": 17,
   "id": "1dfdbee4",
   "metadata": {
    "ExecuteTime": {
     "end_time": "2021-12-15T23:42:38.089678Z",
     "start_time": "2021-12-15T23:42:38.055055Z"
    }
   },
   "outputs": [
    {
     "name": "stderr",
     "output_type": "stream",
     "text": [
      "C:\\Users\\Subash Palvel\\AppData\\Local\\Temp\\ipykernel_5672\\711323875.py:1: SettingWithCopyWarning: \n",
      "A value is trying to be set on a copy of a slice from a DataFrame.\n",
      "Try using .loc[row_indexer,col_indexer] = value instead\n",
      "\n",
      "See the caveats in the documentation: https://pandas.pydata.org/pandas-docs/stable/user_guide/indexing.html#returning-a-view-versus-a-copy\n",
      "  new_df['tags'] = new_df['tags'].apply(lambda x:\" \".join(x))\n",
      "C:\\Users\\Subash Palvel\\AppData\\Local\\Temp\\ipykernel_5672\\711323875.py:2: SettingWithCopyWarning: \n",
      "A value is trying to be set on a copy of a slice from a DataFrame.\n",
      "Try using .loc[row_indexer,col_indexer] = value instead\n",
      "\n",
      "See the caveats in the documentation: https://pandas.pydata.org/pandas-docs/stable/user_guide/indexing.html#returning-a-view-versus-a-copy\n",
      "  new_df['tags'] = new_df['tags'].apply(lambda x: x.lower())\n"
     ]
    }
   ],
   "source": [
    "new_df['tags'] = new_df['tags'].apply(lambda x:\" \".join(x))\n",
    "new_df['tags'] = new_df['tags'].apply(lambda x: x.lower())"
   ]
  },
  {
   "cell_type": "code",
   "execution_count": 18,
   "id": "364963a8",
   "metadata": {
    "ExecuteTime": {
     "end_time": "2021-12-15T23:42:43.151319Z",
     "start_time": "2021-12-15T23:42:43.129375Z"
    }
   },
   "outputs": [
    {
     "data": {
      "text/plain": [
       "'zoloft depression i remember reading peoples opinions, online, of the drug before i took it and it scared me away from it. then i finally decided to give it a try and it has been the best choice i have made. i have been on it for over 4 months and i feel great. im on 1mg and i dont have any side effects. when i first started i did notice that my hands would tremble but then it subsided. so honestly, dont listen to all the negativity because what doesnt work for some works amazing for others. so go based on youself and not everyone else. it may be a blessing in diguise. the pill is not meant to make you be all happy go lucky and see quotbutterflies and rosesquot, its meant to help put the chemicals in your mind in balance so you can just be who you are and not overly depressed. i still get sad some times, but that is normal, that is life, and its up to people to take control to make a change. i did so by getting on this pill.'"
      ]
     },
     "execution_count": 18,
     "metadata": {},
     "output_type": "execute_result"
    }
   ],
   "source": [
    "new_df['tags'][0]"
   ]
  },
  {
   "cell_type": "markdown",
   "id": "7a987c33",
   "metadata": {
    "ExecuteTime": {
     "end_time": "2021-12-15T17:28:37.602453Z",
     "start_time": "2021-12-15T17:28:37.573583Z"
    }
   },
   "source": [
    "# Stemming using NLTK Library and comparing results "
   ]
  },
  {
   "cell_type": "code",
   "execution_count": 19,
   "id": "af73e396",
   "metadata": {
    "ExecuteTime": {
     "end_time": "2021-12-15T23:42:47.176453Z",
     "start_time": "2021-12-15T23:42:47.162389Z"
    }
   },
   "outputs": [],
   "source": [
    "# PorterStemmer is applied to check root words\n",
    "ps = PorterStemmer()\n",
    "def stem(text):\n",
    "    y = []\n",
    "    for i in text.split():\n",
    "        y.append(ps.stem(i))\n",
    "        \n",
    "    return \" \".join(y)"
   ]
  },
  {
   "cell_type": "code",
   "execution_count": 20,
   "id": "efddc868",
   "metadata": {
    "ExecuteTime": {
     "end_time": "2021-12-15T23:42:52.685136Z",
     "start_time": "2021-12-15T23:42:50.659266Z"
    }
   },
   "outputs": [
    {
     "data": {
      "text/plain": [
       "'zoloft depress i rememb read peopl opinions, online, of the drug befor i took it and it scare me away from it. then i final decid to give it a tri and it ha been the best choic i have made. i have been on it for over 4 month and i feel great. im on 1mg and i dont have ani side effects. when i first start i did notic that my hand would trembl but then it subsided. so honestly, dont listen to all the neg becaus what doesnt work for some work amaz for others. so go base on youself and not everyon else. it may be a bless in diguise. the pill is not meant to make you be all happi go lucki and see quotbutterfli and rosesquot, it meant to help put the chemic in your mind in balanc so you can just be who you are and not overli depressed. i still get sad some times, but that is normal, that is life, and it up to peopl to take control to make a change. i did so by get on thi pill.'"
      ]
     },
     "execution_count": 20,
     "metadata": {},
     "output_type": "execute_result"
    }
   ],
   "source": [
    "new_df_ps = new_df[['uniqueID','drugName','condition','tags']]\n",
    "new_df_ps['tags'] = new_df_ps['tags'].apply(stem)\n",
    "new_df_ps['tags'][0]"
   ]
  },
  {
   "cell_type": "code",
   "execution_count": 21,
   "id": "06bbd1aa",
   "metadata": {
    "ExecuteTime": {
     "end_time": "2021-12-15T23:42:57.205960Z",
     "start_time": "2021-12-15T23:42:57.188728Z"
    }
   },
   "outputs": [],
   "source": [
    "# WordNetLemmatizer is also deployed to check root words and meaning consistency\n",
    "from nltk.stem import WordNetLemmatizer\n",
    "wordnet_lemmatizer = WordNetLemmatizer()\n",
    "\n",
    "def lemma(text):\n",
    "    y = []\n",
    "    for i in text.split():\n",
    "        y.append(wordnet_lemmatizer.lemmatize(i, pos=\"v\"))\n",
    "        \n",
    "    return \" \".join(y)"
   ]
  },
  {
   "cell_type": "markdown",
   "id": "af6664c0",
   "metadata": {
    "ExecuteTime": {
     "end_time": "2021-12-15T19:51:21.371542Z",
     "start_time": "2021-12-15T19:51:21.359394Z"
    }
   },
   "source": [
    "#  Implementing Count Vectorizer to make words in vector form"
   ]
  },
  {
   "cell_type": "code",
   "execution_count": 27,
   "id": "c0cbba99",
   "metadata": {
    "ExecuteTime": {
     "end_time": "2021-12-15T23:43:08.187681Z",
     "start_time": "2021-12-15T23:43:08.173611Z"
    }
   },
   "outputs": [],
   "source": [
    "# Max Features is set to 500 a d stop words are removed from string\n",
    "from sklearn.feature_extraction.text import CountVectorizer\n",
    "def preprocess_text(text):\n",
    "    text = text.lower()\n",
    "    text = re.sub(r'\\d+', '', text)\n",
    "    return text\n",
    "cv = CountVectorizer(max_features=500, stop_words='english', analyzer='word', preprocessor=preprocess_text)"
   ]
  },
  {
   "cell_type": "code",
   "execution_count": 28,
   "id": "8b61830a",
   "metadata": {
    "ExecuteTime": {
     "end_time": "2021-12-15T23:43:11.794411Z",
     "start_time": "2021-12-15T23:43:11.656052Z"
    }
   },
   "outputs": [
    {
     "data": {
      "text/plain": [
       "array([0, 0, 0, 0, 0, 0, 0, 0, 0, 0, 0, 0, 0, 0, 0, 1, 0, 0, 0, 0, 0, 0,\n",
       "       0, 0, 0, 0, 0, 1, 0, 0, 0, 0, 0, 0, 0, 0, 0, 1, 0, 0, 0, 0, 0, 0,\n",
       "       0, 0, 0, 0, 0, 0, 0, 0, 0, 0, 0, 0, 0, 0, 0, 0, 0, 0, 1, 0, 0, 0,\n",
       "       0, 0, 0, 0, 0, 0, 0, 0, 0, 0, 0, 0, 0, 0, 0, 0, 1, 0, 0, 0, 0, 0,\n",
       "       0, 0, 0, 0, 0, 0, 0, 0, 0, 0, 1, 0, 0, 1, 1, 0, 0, 0, 0, 2, 0, 0,\n",
       "       0, 0, 0, 0, 0, 0, 0, 0, 0, 1, 0, 2, 0, 0, 0, 0, 0, 0, 0, 1, 0, 0,\n",
       "       0, 0, 0, 0, 0, 0, 0, 0, 1, 0, 0, 0, 0, 0, 0, 0, 0, 0, 0, 0, 0, 0,\n",
       "       0, 0, 0, 0, 0, 0, 0, 0, 0, 1, 0, 0, 0, 0, 1, 0, 0, 0, 0, 0, 0, 0,\n",
       "       0, 0, 0, 0, 0, 0, 1, 0, 0, 0, 0, 0, 0, 0, 0, 1, 0, 0, 0, 1, 0, 0,\n",
       "       0, 0, 0, 0, 0, 0, 0, 0, 1, 0, 0, 0, 0, 0, 0, 1, 0, 0, 0, 0, 0, 0,\n",
       "       0, 0, 0, 1, 0, 0, 0, 0, 0, 0, 0, 0, 0, 0, 0, 0, 0, 0, 0, 0, 0, 1,\n",
       "       0, 0, 0, 0, 0, 0, 0, 0, 0, 0, 0, 0, 0, 0, 0, 0, 0, 0, 0, 1, 0, 0,\n",
       "       0, 0, 0, 0, 0, 0, 0, 0, 0, 0, 0, 0, 0, 0, 0, 0, 0, 2, 0, 0, 0, 0,\n",
       "       0, 0, 0, 0, 0, 0, 1, 0, 1, 0, 0, 0, 1, 0, 0, 0, 0, 0, 0, 0, 0, 0,\n",
       "       0, 0, 0, 0, 0, 0, 0, 1, 0, 0, 0, 0, 0, 0, 0, 0, 0, 0, 0, 0, 0, 0,\n",
       "       1, 0, 0, 0, 2, 0, 0, 0, 0, 0, 0, 0, 0, 0, 0, 0, 0, 0, 0, 0, 0, 0,\n",
       "       0, 0, 0, 0, 0, 0, 0, 0, 0, 0, 0, 1, 0, 0, 0, 0, 0, 0, 0, 0, 0, 0,\n",
       "       0, 1, 0, 0, 0, 0, 0, 0, 0, 0, 0, 0, 0, 0, 0, 0, 0, 0, 0, 0, 0, 0,\n",
       "       0, 0, 0, 0, 0, 0, 0, 0, 0, 0, 0, 0, 0, 0, 0, 0, 0, 1, 0, 0, 0, 0,\n",
       "       0, 0, 0, 0, 0, 0, 0, 0, 0, 0, 0, 0, 0, 0, 0, 0, 0, 0, 0, 0, 0, 0,\n",
       "       0, 0, 0, 0, 0, 0, 0, 0, 0, 1, 0, 0, 0, 1, 0, 0, 0, 0, 0, 0, 0, 0,\n",
       "       1, 0, 0, 0, 0, 0, 0, 0, 0, 0, 0, 0, 0, 0, 0, 0, 0, 0, 0, 0, 0, 0,\n",
       "       0, 0, 0, 0, 0, 1, 0, 0, 1, 0, 0, 0, 0, 0, 0, 0], dtype=int64)"
      ]
     },
     "execution_count": 28,
     "metadata": {},
     "output_type": "execute_result"
    }
   ],
   "source": [
    "# Applying Fit Transform to Lemma processed vector as it give more relevant meaning\n",
    "vectors = cv.fit_transform(new_df_lemma['tags']).toarray()\n",
    "vectors[0]"
   ]
  },
  {
   "cell_type": "code",
   "execution_count": 29,
   "id": "c5f7cd26",
   "metadata": {
    "ExecuteTime": {
     "end_time": "2021-12-15T23:43:17.229900Z",
     "start_time": "2021-12-15T23:43:17.214900Z"
    }
   },
   "outputs": [
    {
     "data": {
      "text/plain": [
       "array(['able', 'absolutely', 'aches', 'acid', 'acne', 'active',\n",
       "       'actually', 'acute', 'affect', 'afternoon', 'age', 'ago', 'alive',\n",
       "       'allergic', 'allergies', 'amazing', 'amp', 'anti', 'antibiotic',\n",
       "       'anxiety', 'anymore', 'appetite', 'area', 'arthritis',\n",
       "       'associated', 'attack', 'attacks', 'away', 'awesome', 'baby',\n",
       "       'bacterial', 'bad', 'barely', 'bathroom', 'bed', 'began',\n",
       "       'believe', 'best', 'better', 'big', 'birth', 'bit', 'bladder',\n",
       "       'bleeding', 'blood', 'body', 'bone', 'bowel', 'brain', 'breast',\n",
       "       'breath', 'breathing', 'burning', 'came', 'cance', 'cancer',\n",
       "       'care', 'case', 'cause', 'caused', 'causes', 'cell', 'change',\n",
       "       'changed', 'chest', 'chronic', 'clear', 'cleared', 'close', 'cold',\n",
       "       'combination', 'come', 'comment', 'completely', 'condition',\n",
       "       'conditions', 'congestion', 'constant', 'constantly',\n",
       "       'constipation', 'continue', 'continued', 'control', 'cost',\n",
       "       'cough', 'count', 'couple', 'course', 'cramps', 'cream', 'cure',\n",
       "       'cut', 'cycle', 'daily', 'daughter', 'day', 'days', 'deal',\n",
       "       'decided', 'deficiency', 'definitely', 'depressed', 'depression',\n",
       "       'developed', 'diabetes', 'diagnosed', 'diarrhea', 'did', 'didnt',\n",
       "       'diet', 'difference', 'different', 'disappeared', 'disease',\n",
       "       'disorde', 'dizziness', 'doctor', 'doctors', 'does', 'doesnt',\n",
       "       'doing', 'dont', 'dosage', 'dose', 'doses', 'double', 'dr',\n",
       "       'drink', 'drops', 'drug', 'drugs', 'dry', 'ear', 'early', 'easier',\n",
       "       'easy', 'eat', 'eating', 'effect', 'effective', 'effects',\n",
       "       'energy', 'er', 'especially', 'everyday', 'excellent', 'exercise',\n",
       "       'expensive', 'experience', 'experienced', 'experiencing',\n",
       "       'extreme', 'extremely', 'eye', 'eyes', 'face', 'fact', 'failure',\n",
       "       'fall', 'family', 'far', 'fast', 'fatigue', 'feel', 'feeling',\n",
       "       'feet', 'felt', 'fever', 'finally', 'fine', 'flashes', 'fluid',\n",
       "       'food', 'foot', 'free', 'frequent', 'function', 'gain', 'gained',\n",
       "       'gas', 'gave', 'gets', 'getting', 'given', 'god', 'goes', 'going',\n",
       "       'gone', 'good', 'got', 'gout', 'great', 'growth', 'hair', 'half',\n",
       "       'happy', 'hard', 'havent', 'having', 'head', 'headache',\n",
       "       'headaches', 'healing', 'health', 'healthy', 'heart', 'help',\n",
       "       'helped', 'helpful', 'helps', 'high', 'highly', 'home', 'honestly',\n",
       "       'hope', 'horrible', 'hospital', 'hot', 'hour', 'hours', 'husband',\n",
       "       'id', 'ill', 'im', 'immediately', 'improved', 'improvement',\n",
       "       'increase', 'increased', 'infection', 'infections', 'injection',\n",
       "       'injections', 'insomnia', 'insurance', 'iron', 'issues', 'itching',\n",
       "       'iv', 'ive', 'job', 'just', 'keeps', 'kept', 'kidney', 'knee',\n",
       "       'knees', 'knew', 'know', 'lack', 'large', 'later', 'lbs', 'leave',\n",
       "       'left', 'leg', 'legs', 'let', 'leukemia', 'level', 'levels',\n",
       "       'life', 'light', 'like', 'literally', 'little', 'live', 'liver',\n",
       "       'living', 'long', 'longer', 'looking', 'loss', 'lost', 'lot',\n",
       "       'love', 'low', 'lower', 'lymphoma', 'maintenance', 'major', 'make',\n",
       "       'makes', 'making', 'market', 'medical', 'medication',\n",
       "       'medications', 'medicine', 'medicines', 'meds', 'metformin', 'mg',\n",
       "       'mild', 'mind', 'minutes', 'miracle', 'month', 'months', 'mood',\n",
       "       'morning', 'mouth', 'multiple', 'muscle', 'nasal', 'nasty',\n",
       "       'nausea', 'nearly', 'need', 'needed', 'needs', 'negative', 'new',\n",
       "       'night', 'non', 'normal', 'normally', 'nose', 'noticed', 'old',\n",
       "       'oral', 'overall', 'pain', 'painful', 'pains', 'passed', 'past',\n",
       "       'patch', 'patient', 'pay', 'people', 'period', 'periods', 'person',\n",
       "       'pill', 'pills', 'plus', 'pm', 'point', 'positive', 'possible',\n",
       "       'post', 'pounds', 'prednisone', 'pregnancy', 'prescribed',\n",
       "       'prescription', 'pressure', 'prevention', 'price', 'prior',\n",
       "       'probably', 'problem', 'problems', 'product', 'prophylaxis',\n",
       "       'quickly', 'quit', 'quite', 'quot', 'rash', 'reaction', 'read',\n",
       "       'reading', 'real', 'really', 'reason', 'recently', 'recommend',\n",
       "       'recommended', 'red', 'reduced', 'reflux', 'regular', 'relief',\n",
       "       'remember', 'rest', 'result', 'results', 'reviews', 'rid', 'right',\n",
       "       'said', 'saved', 'say', 'scan', 'school', 'second', 'seen', 'self',\n",
       "       'severe', 'sex', 'short', 'shot', 'shots', 'sick', 'sinus', 'sit',\n",
       "       'site', 'skin', 'sleep', 'sleeping', 'sleepy', 'slept', 'slight',\n",
       "       'small', 'sodium', 'son', 'sore', 'span', 'spent', 'stage',\n",
       "       'start', 'started', 'starting', 'stomach', 'stop', 'stopped',\n",
       "       'stopping', 'stress', 'stroke', 'strong', 'suffered', 'suffering',\n",
       "       'sure', 'surgery', 'swelling', 'switched', 'symptoms', 'syndrome',\n",
       "       'tablets', 'taken', 'takes', 'taking', 'taste', 'tell', 'term',\n",
       "       'terrible', 'th', 'thank', 'therapy', 'thing', 'things', 'think',\n",
       "       'thinking', 'thought', 'throat', 'thyroid', 'time', 'times',\n",
       "       'tired', 'today', 'told', 'took', 'total', 'totally', 'treat',\n",
       "       'treated', 'treatment', 'treatments', 'tried', 'trouble', 'try',\n",
       "       'trying', 'tumor', 'twice', 'type', 'upset', 'urinary', 'use',\n",
       "       'used', 'users', 'using', 'usually', 'vitamin', 'vomiting', 'wake',\n",
       "       'walk', 'want', 'wanted', 'wasnt', 'water', 'way', 'week', 'weeks',\n",
       "       'weight', 'went', 'wish', 'wonderful', 'work', 'worked', 'working',\n",
       "       'works', 'worse', 'worst', 'worth', 'year', 'years', 'yes', 'yrs'],\n",
       "      dtype=object)"
      ]
     },
     "execution_count": 29,
     "metadata": {},
     "output_type": "execute_result"
    }
   ],
   "source": [
    "# Getting Top 500 most used words from bag of words of 'Tags' column values\n",
    "cv.get_feature_names_out()"
   ]
  },
  {
   "cell_type": "markdown",
   "id": "ecbcbef4",
   "metadata": {
    "ExecuteTime": {
     "end_time": "2021-12-15T17:28:38.514288Z",
     "start_time": "2021-12-15T17:28:37.729970Z"
    }
   },
   "source": [
    "# Evaluating Model with Various Similarity and Distances Metrices"
   ]
  },
  {
   "cell_type": "code",
   "execution_count": 30,
   "id": "f31ec2b4",
   "metadata": {
    "ExecuteTime": {
     "end_time": "2021-12-15T23:33:22.204774Z",
     "start_time": "2021-12-15T23:33:22.175958Z"
    }
   },
   "outputs": [
    {
     "name": "stdout",
     "output_type": "stream",
     "text": [
      "Pearsons correlation: 0.021\n",
      "Pearsons correlation: 0.044\n",
      "Pearsons correlation: 0.065\n",
      "Pearsons correlation: 0.093\n",
      "Pearsons correlation: 0.165\n",
      "Pearsons correlation: 0.117\n",
      "Pearsons correlation: 0.060\n",
      "Pearsons correlation: 0.118\n",
      "Pearsons correlation: 0.017\n",
      "Pearsons correlation: 0.041\n",
      "Pearsons correlation average: 0.074\n"
     ]
    }
   ],
   "source": [
    "# Pearson Correlation with first drug and random drugs\n",
    "l=[]\n",
    "for i in random.sample(range(1, 600), 10):\n",
    "    corr, _ = pearsonr(vectors[0],vectors[i])\n",
    "    l.append(corr)\n",
    "    print('Pearsons correlation: %.3f' % corr)\n",
    "avg=np.mean(l)\n",
    "print('Pearsons correlation average: %.3f' % avg)"
   ]
  },
  {
   "cell_type": "code",
   "execution_count": 31,
   "id": "149f8f93",
   "metadata": {
    "ExecuteTime": {
     "end_time": "2021-12-15T23:34:19.527053Z",
     "start_time": "2021-12-15T23:34:19.502435Z"
    }
   },
   "outputs": [
    {
     "name": "stdout",
     "output_type": "stream",
     "text": [
      "Cosine similarity: 0.163\n",
      "Cosine similarity: 0.140\n",
      "Cosine similarity: 0.171\n",
      "Cosine similarity: 0.043\n",
      "Cosine similarity: 0.000\n",
      "Cosine similarity: 0.065\n",
      "Cosine similarity: 0.154\n",
      "Cosine similarity: 0.000\n",
      "Cosine similarity: 0.106\n",
      "Cosine similarity: 0.071\n",
      "Cosine similarity average: 0.091\n"
     ]
    }
   ],
   "source": [
    "# Cosine Similarity with first drug and random drugs\n",
    "l=[]\n",
    "for i in random.sample(range(1, 600), 10):\n",
    "    cos_sim = cosine_similarity(vectors[0].reshape(1,-1),vectors[i].reshape(1,-1))\n",
    "    l.append(cos_sim)\n",
    "    print('Cosine similarity: %.3f' % cos_sim)\n",
    "avg=np.mean(l)\n",
    "print('Cosine similarity average: %.3f' % avg)"
   ]
  },
  {
   "cell_type": "code",
   "execution_count": 32,
   "id": "18903c05",
   "metadata": {
    "ExecuteTime": {
     "end_time": "2021-12-15T23:34:28.030714Z",
     "start_time": "2021-12-15T23:34:27.981186Z"
    }
   },
   "outputs": [
    {
     "name": "stdout",
     "output_type": "stream",
     "text": [
      "Jaccard similarity: 0.314\n",
      "Jaccard similarity: 0.244\n",
      "Jaccard similarity: 0.302\n",
      "Jaccard similarity: 0.228\n",
      "Jaccard similarity: 0.326\n",
      "Jaccard similarity: 0.311\n",
      "Jaccard similarity: 0.246\n",
      "Jaccard similarity: 0.196\n",
      "Jaccard similarity: 0.310\n",
      "Jaccard similarity: 0.311\n",
      "Jaccard similarity average: 0.279\n"
     ]
    }
   ],
   "source": [
    "# Jaccard's similarity among two first drug and random drugs\n",
    "l=[]\n",
    "for i in random.sample(range(1, 600), 10):\n",
    "    jacc = jaccard_score(vectors[0],vectors[i], average='macro')\n",
    "    l.append(jacc)\n",
    "    print('Jaccard similarity: %.3f' % jacc)\n",
    "avg=np.mean(l)\n",
    "print('Jaccard similarity average: %.3f' % avg)"
   ]
  },
  {
   "cell_type": "code",
   "execution_count": 33,
   "id": "8931e2c2",
   "metadata": {
    "ExecuteTime": {
     "end_time": "2021-12-15T23:34:39.196054Z",
     "start_time": "2021-12-15T23:34:39.184286Z"
    }
   },
   "outputs": [
    {
     "name": "stdout",
     "output_type": "stream",
     "text": [
      "Euclidean distance: 8.944\n",
      "Euclidean distance: 8.124\n",
      "Euclidean distance: 6.928\n",
      "Euclidean distance: 8.775\n",
      "Euclidean distance: 8.367\n",
      "Euclidean distance: 7.937\n",
      "Euclidean distance: 7.483\n",
      "Euclidean distance: 8.775\n",
      "Euclidean distance: 7.280\n",
      "Euclidean distance: 8.367\n"
     ]
    }
   ],
   "source": [
    "#Euclidean Distance between two first drug and random drugs\n",
    "for i in random.sample(range(1, 600), 10):\n",
    "    dst = distance.euclidean(vectors[0],vectors[i])\n",
    "    print('Euclidean distance: %.3f' % dst)"
   ]
  },
  {
   "cell_type": "code",
   "execution_count": 34,
   "id": "3de512d0",
   "metadata": {
    "ExecuteTime": {
     "end_time": "2021-12-15T23:34:43.948025Z",
     "start_time": "2021-12-15T23:34:43.935145Z"
    }
   },
   "outputs": [
    {
     "name": "stdout",
     "output_type": "stream",
     "text": [
      "Manhattan distance: 62.000\n",
      "Manhattan distance: 54.000\n",
      "Manhattan distance: 75.000\n",
      "Manhattan distance: 48.000\n",
      "Manhattan distance: 47.000\n",
      "Manhattan distance: 57.000\n",
      "Manhattan distance: 51.000\n",
      "Manhattan distance: 48.000\n",
      "Manhattan distance: 70.000\n",
      "Manhattan distance: 55.000\n"
     ]
    }
   ],
   "source": [
    "#Manhattan Distance between two first drug and random drugs\n",
    "for i in random.sample(range(1, 600), 10):\n",
    "    dst = distance.cityblock(vectors[0],vectors[i])\n",
    "    print('Manhattan distance: %.3f' % dst)"
   ]
  },
  {
   "cell_type": "markdown",
   "id": "8abd13c3",
   "metadata": {},
   "source": [
    "# Building Recommender system"
   ]
  },
  {
   "cell_type": "code",
   "execution_count": 35,
   "id": "db06cb6d",
   "metadata": {
    "ExecuteTime": {
     "end_time": "2021-12-15T23:12:15.446485Z",
     "start_time": "2021-12-15T23:12:15.407565Z"
    },
    "scrolled": false
   },
   "outputs": [
    {
     "data": {
      "text/plain": [
       "array([1.        , 0.13949717, 0.18731716, 0.17149859, 0.18116433,\n",
       "       0.12126781, 0.21009029, 0.07559289, 0.19051587, 0.12060454,\n",
       "       0.15960478, 0.09701425, 0.16858545, 0.31703757, 0.05547002,\n",
       "       0.06488857, 0.1069045 , 0.16865481, 0.09486833, 0.13333333,\n",
       "       0.10101525, 0.31622777, 0.21213203, 0.10606602, 0.0792118 ,\n",
       "       0.        , 0.08944272, 0.02324953, 0.12      , 0.08488747,\n",
       "       0.13471506, 0.        , 0.        , 0.        , 0.24748737,\n",
       "       0.10886621, 0.2       , 0.06324555, 0.        , 0.06666667,\n",
       "       0.20655911, 0.05080005, 0.02886751, 0.13598002, 0.07878386,\n",
       "       0.13764944, 0.11795356, 0.10886621, 0.12792043, 0.0942809 ,\n",
       "       0.10606602, 0.26222491, 0.05773503, 0.13363062, 0.04685213,\n",
       "       0.09258201, 0.30508511, 0.1       , 0.06469966, 0.15396007,\n",
       "       0.11094004, 0.12060454, 0.15491933, 0.125     , 0.07302967,\n",
       "       0.14729194, 0.16329932, 0.03922323, 0.05345225, 0.20252642,\n",
       "       0.12792043, 0.10327956, 0.0792118 , 0.1767767 , 0.17056057,\n",
       "       0.21213203, 0.        , 0.17780018, 0.1428869 , 0.13608276,\n",
       "       0.11547005, 0.14142136, 0.05773503, 0.08846517, 0.18371173,\n",
       "       0.1428869 , 0.11043153, 0.08626622, 0.15756772, 0.18411492,\n",
       "       0.17149859, 0.0792118 , 0.08164966, 0.25298221, 0.09176629,\n",
       "       0.04850713, 0.08164966, 0.06793662, 0.04264014, 0.17650452,\n",
       "       0.04472136, 0.21105794, 0.17669044, 0.07071068, 0.        ,\n",
       "       0.12344268, 0.12977714, 0.25144742, 0.05      , 0.18856181,\n",
       "       0.06666667, 0.06488857, 0.15430335, 0.11952286, 0.09258201,\n",
       "       0.05897678, 0.06708204, 0.10215078, 0.1016001 , 0.04850713,\n",
       "       0.18593394, 0.16733201, 0.11785113, 0.21572775, 0.14433757,\n",
       "       0.24494897, 0.08485281, 0.17056057, 0.16035675, 0.17056057,\n",
       "       0.04529108, 0.13241694, 0.03162278, 0.26263966, 0.12      ,\n",
       "       0.08660254, 0.10954451, 0.0522233 , 0.07745967, 0.1       ,\n",
       "       0.08320503, 0.15075567, 0.02886751, 0.06324555, 0.1       ,\n",
       "       0.05547002, 0.24019223, 0.11795356, 0.232379  , 0.        ,\n",
       "       0.02156655, 0.04417261, 0.12649111, 0.10504515, 0.03086067,\n",
       "       0.05252257, 0.17669044, 0.10206207, 0.14142136, 0.18353259,\n",
       "       0.08944272, 0.10954451, 0.        , 0.16499158, 0.08219949,\n",
       "       0.13867505, 0.12247449, 0.10886621, 0.18353259, 0.03162278,\n",
       "       0.18182746, 0.        , 0.06324555, 0.        , 0.03779645,\n",
       "       0.12126781, 0.06666667, 0.1016001 , 0.10954451, 0.14      ,\n",
       "       0.03162278, 0.07071068, 0.04714045, 0.20124612, 0.        ,\n",
       "       0.0942809 , 0.08528029, 0.07302967, 0.06666667, 0.18708287,\n",
       "       0.05      , 0.04714045, 0.15075567, 0.15689291, 0.08320503,\n",
       "       0.10289915, 0.07302967, 0.13333333, 0.1       , 0.10289915,\n",
       "       0.10954451, 0.        , 0.0492366 , 0.14605935, 0.10910895,\n",
       "       0.0942809 , 0.14368424, 0.        , 0.08528029, 0.17253244,\n",
       "       0.18      , 0.09805807, 0.11338934, 0.11338934, 0.17056057,\n",
       "       0.10606602, 0.10954451, 0.14433757, 0.05443311, 0.07745967,\n",
       "       0.14729194, 0.19694639, 0.04264014, 0.        , 0.08834522,\n",
       "       0.19694639, 0.08728716, 0.16666667, 0.14      , 0.07745967,\n",
       "       0.11766968, 0.03713907, 0.1       , 0.09847319, 0.03535534,\n",
       "       0.        , 0.03429972, 0.07559289, 0.16329932, 0.04714045,\n",
       "       0.07071068, 0.11547005, 0.1016001 , 0.16162441, 0.04714045,\n",
       "       0.20684489, 0.06172134, 0.        , 0.08164966, 0.12510865,\n",
       "       0.03535534, 0.12909944, 0.        , 0.07071068, 0.03651484,\n",
       "       0.11785113, 0.07071068, 0.1754116 , 0.03779645, 0.05      ,\n",
       "       0.        , 0.18898224, 0.13333333, 0.08164966, 0.1       ,\n",
       "       0.        , 0.09486833, 0.13130643, 0.        , 0.09733285,\n",
       "       0.03682298, 0.15      , 0.        , 0.04082483, 0.        ,\n",
       "       0.13251783, 0.09258201, 0.        , 0.07071068, 0.1016001 ,\n",
       "       0.1       , 0.06859943, 0.20124612, 0.07844645, 0.        ,\n",
       "       0.14      , 0.16035675, 0.18856181, 0.        , 0.        ,\n",
       "       0.13363062, 0.        , 0.09570203, 0.        , 0.08320503,\n",
       "       0.        , 0.07071068, 0.04242641, 0.11313708, 0.1132277 ,\n",
       "       0.1       , 0.075     , 0.11547005, 0.11547005, 0.05773503,\n",
       "       0.03086067, 0.11795356, 0.        , 0.11338934, 0.05827715,\n",
       "       0.11795356, 0.04850713, 0.02948839, 0.10314212, 0.075     ,\n",
       "       0.1754116 , 0.13333333, 0.12977714, 0.07071068, 0.05      ,\n",
       "       0.13130643, 0.09258201, 0.02108185, 0.06172134, 0.08485281,\n",
       "       0.08944272, 0.03244428, 0.04082483, 0.19917864, 0.0942809 ,\n",
       "       0.17320508, 0.08164966, 0.04472136, 0.04364358, 0.1       ,\n",
       "       0.        , 0.14605935, 0.06625892, 0.05      , 0.17780018,\n",
       "       0.2236068 , 0.04714045, 0.04082483, 0.        , 0.13416408,\n",
       "       0.08017837, 0.16666667, 0.06324555, 0.        , 0.1767767 ,\n",
       "       0.06546537, 0.08660254, 0.05      , 0.04850713, 0.03651484,\n",
       "       0.        , 0.06488857, 0.        , 0.15460414, 0.15118579,\n",
       "       0.11547005, 0.08485281, 0.02626129, 0.22      , 0.16035675,\n",
       "       0.04472136, 0.18973666, 0.08638684, 0.        , 0.        ,\n",
       "       0.09733285, 0.18856181, 0.06469966, 0.        , 0.19466571,\n",
       "       0.02581989, 0.13130643, 0.07071068, 0.1       , 0.        ,\n",
       "       0.15      , 0.10783277, 0.14770979, 0.04264014, 0.03202563,\n",
       "       0.06030227, 0.        , 0.02672612, 0.06708204, 0.07071068,\n",
       "       0.14605935, 0.16329932, 0.1227144 , 0.075     , 0.08164966,\n",
       "       0.        , 0.0904534 , 0.07276069, 0.        , 0.02182179,\n",
       "       0.05345225, 0.        , 0.25819889, 0.01740777, 0.1016001 ,\n",
       "       0.10606602, 0.12792043, 0.12909944, 0.07071068, 0.08944272,\n",
       "       0.15756772, 0.        , 0.07559289, 0.17008401, 0.12649111,\n",
       "       0.        , 0.05144958, 0.07878386, 0.05773503, 0.13333333,\n",
       "       0.17056057, 0.        , 0.12792043, 0.03244428, 0.03535534,\n",
       "       0.03015113, 0.10540926, 0.08944272, 0.0492366 , 0.16059101,\n",
       "       0.        , 0.        , 0.20684489, 0.13333333, 0.12247449,\n",
       "       0.05929995, 0.08017837, 0.05      , 0.31703757, 0.08528029,\n",
       "       0.15      , 0.05      , 0.17888544, 0.        , 0.06123724,\n",
       "       0.15105264, 0.        , 0.07071068, 0.08485281, 0.03086067,\n",
       "       0.07770287, 0.12649111, 0.06324555, 0.        , 0.16274669,\n",
       "       0.11547005, 0.08944272, 0.06666667, 0.04714045, 0.10783277,\n",
       "       0.05      , 0.14142136, 0.15118579, 0.01678363, 0.04264014,\n",
       "       0.1492405 , 0.29488391, 0.        , 0.12909944, 0.12247449,\n",
       "       0.12344268, 0.        , 0.07071068, 0.20412415, 0.        ,\n",
       "       0.10606602, 0.10886621, 0.07071068, 0.04714045, 0.21514115,\n",
       "       0.12977714, 0.08017837, 0.07559289, 0.04850713, 0.04082483,\n",
       "       0.        , 0.275     , 0.04264014, 0.11470787, 0.22677868,\n",
       "       0.0904534 , 0.2057983 , 0.13728129, 0.10504515, 0.15460414,\n",
       "       0.11547005, 0.05345225, 0.        , 0.        , 0.04264014,\n",
       "       0.1069045 , 0.14142136, 0.07844645, 0.        , 0.17320508,\n",
       "       0.08164966, 0.12247449, 0.04649906, 0.        , 0.26539552,\n",
       "       0.11338934, 0.16666667, 0.07698004, 0.07276069, 0.        ,\n",
       "       0.15      , 0.11669199, 0.0942809 , 0.1767767 , 0.04714045,\n",
       "       0.14      , 0.06859943, 0.07745967, 0.14142136, 0.03651484,\n",
       "       0.        , 0.06324555, 0.2       , 0.20412415, 0.07302967,\n",
       "       0.04313311, 0.        , 0.11094004, 0.03651484, 0.09176629,\n",
       "       0.        , 0.12700013, 0.        , 0.32003788, 0.07071068,\n",
       "       0.08834522, 0.07071068, 0.        , 0.21368289, 0.04780914,\n",
       "       0.12247449, 0.15652476, 0.07559289, 0.16329932, 0.09733285,\n",
       "       0.03333333, 0.05773503, 0.10210549, 0.05252257, 0.        ,\n",
       "       0.24618298, 0.13130643, 0.05443311, 0.07071068, 0.08834522,\n",
       "       0.        , 0.1       , 0.        , 0.        , 0.05773503,\n",
       "       0.03651484, 0.07844645, 0.05163978, 0.12649111, 0.11547005,\n",
       "       0.        , 0.16681153, 0.05773503, 0.08164966, 0.10606602,\n",
       "       0.        , 0.        , 0.16274669, 0.08574929, 0.1767767 ,\n",
       "       0.05345225, 0.04      , 0.06324555, 0.13416408, 0.0843274 ,\n",
       "       0.02948839, 0.21380899, 0.11795356, 0.21320072, 0.        ,\n",
       "       0.13764944, 0.15811388, 0.05345225, 0.        , 0.05345225,\n",
       "       0.0808122 , 0.07620008, 0.14342743, 0.21213203, 0.        ,\n",
       "       0.        , 0.        , 0.        , 0.        , 0.13719887,\n",
       "       0.10540926, 0.11338934, 0.        , 0.02626129, 0.        ])"
      ]
     },
     "execution_count": 35,
     "metadata": {},
     "output_type": "execute_result"
    }
   ],
   "source": [
    "# Choosing Cosine Similarity for recommender system building\n",
    "similarity = cosine_similarity(vectors)\n",
    "similarity[0]"
   ]
  },
  {
   "cell_type": "code",
   "execution_count": 36,
   "id": "c9b96bbc",
   "metadata": {
    "ExecuteTime": {
     "end_time": "2021-12-15T23:38:46.443286Z",
     "start_time": "2021-12-15T23:38:46.429115Z"
    },
    "scrolled": true
   },
   "outputs": [
    {
     "data": {
      "text/plain": [
       "[(2, 1.0),\n",
       " (543, 0.3456831719160075),\n",
       " (380, 0.32780503405359285),\n",
       " (555, 0.3228000831375015),\n",
       " (521, 0.32124628310161774),\n",
       " (12, 0.2982456140350877),\n",
       " (135, 0.29740593873973137),\n",
       " (247, 0.29388734334825806),\n",
       " (563, 0.28097574347450816),\n",
       " (347, 0.2665569949915916),\n",
       " (375, 0.2660079583736709)]"
      ]
     },
     "execution_count": 36,
     "metadata": {},
     "output_type": "execute_result"
    }
   ],
   "source": [
    "# Sorting similarity in descending orders to make more similar drugs on top.\n",
    "sorted((list(enumerate(similarity[2]))), reverse=True, key=lambda x:x[1])[0:11]"
   ]
  },
  {
   "cell_type": "code",
   "execution_count": 37,
   "id": "79234e6b",
   "metadata": {
    "ExecuteTime": {
     "end_time": "2021-12-15T23:45:22.410265Z",
     "start_time": "2021-12-15T23:45:22.398219Z"
    }
   },
   "outputs": [],
   "source": [
    "#Defing a function to recommend drug based on condition selected\n",
    "def recommend(condition):\n",
    "    drug_index = new_df_lemma[new_df_lemma['condition'] == condition].index[0]\n",
    "    distances = similarity[drug_index]\n",
    "    drug_list = sorted((list(enumerate(distances))), reverse=True, key=lambda x:x[1])[0:5]\n",
    "    for i in drug_list:\n",
    "        print(new_df_lemma.iloc[i[0]].drugName)"
   ]
  },
  {
   "cell_type": "code",
   "execution_count": 38,
   "id": "c194b41c",
   "metadata": {
    "ExecuteTime": {
     "end_time": "2021-12-15T23:45:24.520844Z",
     "start_time": "2021-12-15T23:45:24.506672Z"
    },
    "scrolled": true
   },
   "outputs": [
    {
     "name": "stdout",
     "output_type": "stream",
     "text": [
      "Horse chestnut\n",
      "Multivitamin\n",
      "Turmeric\n",
      "Mobic\n",
      "Lactulose\n"
     ]
    }
   ],
   "source": [
    "# Testing the Recommender system\n",
    "recommend('Varicose Veins')"
   ]
  },
  {
   "cell_type": "code",
   "execution_count": null,
   "id": "eb1c64ed",
   "metadata": {},
   "outputs": [],
   "source": []
  }
 ],
 "metadata": {
  "kernelspec": {
   "display_name": "Python 3 (ipykernel)",
   "language": "python",
   "name": "python3"
  },
  "language_info": {
   "codemirror_mode": {
    "name": "ipython",
    "version": 3
   },
   "file_extension": ".py",
   "mimetype": "text/x-python",
   "name": "python",
   "nbconvert_exporter": "python",
   "pygments_lexer": "ipython3",
   "version": "3.10.5"
  },
  "latex_envs": {
   "LaTeX_envs_menu_present": true,
   "autoclose": false,
   "autocomplete": true,
   "bibliofile": "biblio.bib",
   "cite_by": "apalike",
   "current_citInitial": 1,
   "eqLabelWithNumbers": true,
   "eqNumInitial": 1,
   "hotkeys": {
    "equation": "Ctrl-E",
    "itemize": "Ctrl-I"
   },
   "labels_anchors": false,
   "latex_user_defs": false,
   "report_style_numbering": false,
   "user_envs_cfg": false
  }
 },
 "nbformat": 4,
 "nbformat_minor": 5
}
